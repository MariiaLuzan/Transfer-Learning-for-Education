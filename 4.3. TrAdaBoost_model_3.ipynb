{
 "cells": [
  {
   "cell_type": "markdown",
   "id": "24ff1bc5-ef7f-4051-9eb4-f99af7d60635",
   "metadata": {},
   "source": [
    "# TrAdaBoost Transfer Learning ULSA -> UENG\n",
    "# Model 3"
   ]
  },
  {
   "cell_type": "code",
   "execution_count": 1,
   "id": "f23aedb5-a95a-4503-b6a7-5f92989b49dc",
   "metadata": {
    "tags": []
   },
   "outputs": [],
   "source": [
    "import pandas as pd\n",
    "import numpy as np\n",
    "import matplotlib.pyplot as plt\n",
    "from sklearn.linear_model import LogisticRegression\n",
    "from sklearn.metrics import roc_auc_score\n",
    "from scipy.stats import kstest\n",
    "from statsmodels.distributions.empirical_distribution import ECDF\n",
    "from sklearn.model_selection import StratifiedKFold\n",
    "from sklearn.base import clone"
   ]
  },
  {
   "cell_type": "code",
   "execution_count": 2,
   "id": "bb5c11e6-43fa-4755-82d8-d44b4a2c6f63",
   "metadata": {
    "tags": []
   },
   "outputs": [],
   "source": [
    "from transformers.features_missing_vals import imputation_pipeline\n",
    "from transformers.ethnic_groups import CombineEthnicGroups"
   ]
  },
  {
   "cell_type": "code",
   "execution_count": 3,
   "id": "3a135db1-a4a2-4788-8da2-d58a6d144fa7",
   "metadata": {
    "tags": []
   },
   "outputs": [],
   "source": [
    "from transfer_learning.TrAdaBoost import TrAdaBoost"
   ]
  },
  {
   "cell_type": "code",
   "execution_count": 38,
   "id": "f64ca069-5211-44cc-a4a3-2bbee6a4b28b",
   "metadata": {
    "tags": []
   },
   "outputs": [],
   "source": [
    "from model_evaluation.cross_val import direct_transfer_cv, TrAdaBoost_transfer_cv"
   ]
  },
  {
   "cell_type": "markdown",
   "id": "b7d63147-d694-4e34-872d-b3faa8ca164b",
   "metadata": {},
   "source": [
    "# Params"
   ]
  },
  {
   "cell_type": "code",
   "execution_count": 5,
   "id": "e5961a46-a9ab-43d2-bf23-bc7ba9f0e14d",
   "metadata": {
    "tags": []
   },
   "outputs": [],
   "source": [
    "source_school = 'ULSA'\n",
    "target_school = 'UENG'"
   ]
  },
  {
   "cell_type": "code",
   "execution_count": 6,
   "id": "4b717da7-6505-4010-b0a8-b8aebb2c6ce8",
   "metadata": {},
   "outputs": [],
   "source": [
    "# Model features\n",
    "cols = ['STDNT_FEMALE',\n",
    "        'STDNT_AGE_BIN',\n",
    "        'HS_GPA_Imp_Interp',\n",
    "        'CURR_GPA',\n",
    "        'HS_CALC_IND',\n",
    "        'GROSS_FAM_INC',\n",
    "        'SNGL_PRNT_IND',\n",
    "        'STDNT_ETHNC_GRP_CD',\n",
    "        'SAT_ACT_TOTAL_BIN',\n",
    "        'PRNT_ED_LVL',\n",
    "        'No_grades_at_all',\n",
    "        'Grade_Overall_I_for_1_and_more_courses',\n",
    "        'Grade_W_for_1_course',\n",
    "        'Grade_W_for_2_courses',\n",
    "        'Grade_W_for_3_and_more_courses',\n",
    "        'Grade_NR_for_1_and_more_courses']"
   ]
  },
  {
   "cell_type": "code",
   "execution_count": 7,
   "id": "20102eb5-c3cc-4974-8602-99bc908c4130",
   "metadata": {
    "tags": []
   },
   "outputs": [],
   "source": [
    "random_state = 1"
   ]
  },
  {
   "cell_type": "code",
   "execution_count": 8,
   "id": "61247f0a-89ba-4113-b2ba-d6086dee3c7d",
   "metadata": {
    "tags": []
   },
   "outputs": [],
   "source": [
    "clf = LogisticRegression(penalty=None, random_state=random_state, max_iter=10000)"
   ]
  },
  {
   "cell_type": "code",
   "execution_count": 9,
   "id": "57e8d93e-278f-4b04-997f-1fc1d5772a54",
   "metadata": {
    "tags": []
   },
   "outputs": [],
   "source": [
    "# Parameters for fairness metrics\n",
    "\n",
    "# Priviledged values of attributes\n",
    "attribites_dic = {\n",
    "    'STDNT_ETHNC_grouped': 0, # white\n",
    "    'STDNT_FEMALE': 0 # male\n",
    "    }\n",
    "\n",
    "# The threshold for intervention is based on the percentile of predicted dropout probabilities, \n",
    "# specifically targeting the top 10% of students with the highest dropout probabilities\n",
    "treshold=[10]\n",
    "\n",
    "# Percentile values of predicted dropout probabilities that determine the risk ranking of a student\n",
    "rank_thresholds = [90, 95, 97, 99, 99.5]"
   ]
  },
  {
   "cell_type": "markdown",
   "id": "f8fd56b4-cbe9-4b1c-9e77-ceb237538959",
   "metadata": {},
   "source": [
    "# Data"
   ]
  },
  {
   "cell_type": "code",
   "execution_count": 10,
   "id": "d07635e5-d3da-4118-b2ac-9c6300122479",
   "metadata": {
    "tags": []
   },
   "outputs": [],
   "source": [
    "features_df = pd.read_csv('features_df.csv', low_memory=False)\n",
    "source_df = features_df[features_df['PRMRY_CRER_CD']==source_school].copy()\n",
    "target_df = features_df[features_df['PRMRY_CRER_CD']==target_school].copy()\n",
    "\n",
    "# Reset target index to ensure that cross-validation indices will be accurately applied\n",
    "target_df.reset_index(drop=True, inplace=True)"
   ]
  },
  {
   "cell_type": "code",
   "execution_count": null,
   "id": "597a3aa2-3474-44e7-9415-2cd77261809c",
   "metadata": {},
   "outputs": [],
   "source": [
    "# Group together all ethnic groups, excluding white and asian populations, as they lack a sufficient \n",
    "# number of dropouts for a meaningful fairness analysis\n",
    "\n",
    "# Add new column 'STDNT_ETHNC_grouped' with the following values: 0 for white, 1 for asian, and 2 for other\n",
    "combine_transformer = CombineEthnicGroups()\n",
    "target_df = combine_transformer.fit_transform(target_df)\n",
    "\n",
    "target_df.groupby('STDNT_ETHNC_grouped')[['y_ENROLLED_1_YEAR_LATER']].agg(['count', 'sum'])"
   ]
  },
  {
   "cell_type": "code",
   "execution_count": 12,
   "id": "28455078-a021-43a5-ac95-c4f7c02e745b",
   "metadata": {
    "tags": []
   },
   "outputs": [],
   "source": [
    "# Impute missing values and apply WoE transformation for the direct transfer\n",
    "source_df = combine_transformer.fit_transform(source_df)\n",
    "source_imp = imputation_pipeline.fit_transform(source_df, source_df['y_ENROLLED_1_YEAR_LATER'])\n",
    "target_imp = imputation_pipeline.transform(target_df)"
   ]
  },
  {
   "cell_type": "markdown",
   "id": "b4a3d011-6485-4fc4-8920-960422f48910",
   "metadata": {},
   "source": [
    "# Train and test data sets in cross-validation\n",
    "The target dataset will be partitioned into a training set comprising 33.3% of the data and a testing set comprising 66.6%.\n",
    "For TrAdaBoost, the training set will encompass the source dataset and 33.3% of the target dataset, while the testing set for TrAdaBoost will consist of the remaining 66.6% from the target dataset. This specific partition is chosen because the testing set needs to contain a sufficient number of dropouts for the evaluation of AUC and other metrics. In cases with a low dropout count, the confidence interval of AUC tends to be broad, making the AUC estimate less reliable. Specifically, 66.6% of the target sample includes 84-85 instances of student dropouts."
   ]
  },
  {
   "cell_type": "code",
   "execution_count": 13,
   "id": "a8a53b15-6150-43b6-a52e-2433569bc7b7",
   "metadata": {
    "tags": []
   },
   "outputs": [],
   "source": [
    "stratified_split = StratifiedKFold(n_splits=3, shuffle=True, random_state=random_state)\n",
    "splits = stratified_split.split(target_df, target_df['y_ENROLLED_1_YEAR_LATER'])"
   ]
  },
  {
   "cell_type": "code",
   "execution_count": 14,
   "id": "ef9bb0dd-132a-4acd-98f1-a5a51426e54d",
   "metadata": {
    "tags": []
   },
   "outputs": [],
   "source": [
    "# Generate indices for the training and testing datasets for every split in the cross-validation\n",
    "train_target_indx = []\n",
    "test_target_indx = []\n",
    "\n",
    "for i, (test_index, train_index) in enumerate(splits):\n",
    "    train_target_indx.append(train_index)\n",
    "    test_target_indx.append(test_index)"
   ]
  },
  {
   "cell_type": "code",
   "execution_count": null,
   "id": "fdc9c294-dea8-46a4-b6aa-d627d752f6c6",
   "metadata": {
    "tags": []
   },
   "outputs": [],
   "source": [
    "# Check the cross-validation splits\n",
    "for i in range(stratified_split.get_n_splits()):\n",
    "    train_size = len(train_target_indx[i])\n",
    "    test_size = len(test_target_indx[i])\n",
    "    train_dropout = target_df.loc[train_target_indx[i], 'y_ENROLLED_1_YEAR_LATER'].mean()\n",
    "    test_dropout = target_df.loc[test_target_indx[i], 'y_ENROLLED_1_YEAR_LATER'].mean()\n",
    "    test_dropout_num = target_df.loc[test_target_indx[i], 'y_ENROLLED_1_YEAR_LATER'].sum()\n",
    "    print(f\"Split {i}: Training set size={train_size}, testing set size={test_size}\")\n",
    "    print(f\"Split {i}: Training dropout rate={train_dropout:.2%}, testing dropout rate={test_dropout:.2%},\", \n",
    "          f\"testing number of dropouts={test_dropout_num:.0f}\")"
   ]
  },
  {
   "cell_type": "markdown",
   "id": "40cea0cb-184f-4443-8714-17f56a3ab96d",
   "metadata": {},
   "source": [
    "# Direct transfer\n",
    "To ensure comparability between direct transfer and TrAdaBoost, the evaluation of direct transfer will be conducted using identical cross-validation test sets as for TrAdaBoost. Using different samples to compare these methods may result in variations in model evaluation metrics, which could be attributed to sample differences rather than indicating the superiority of one model over the other."
   ]
  },
  {
   "cell_type": "markdown",
   "id": "33dedebf-5ddd-4d2e-9c00-01a5eebaba52",
   "metadata": {},
   "source": [
    "## Source model"
   ]
  },
  {
   "cell_type": "code",
   "execution_count": 16,
   "id": "d2fe3e52-cf60-4e30-a187-67772e1c2d82",
   "metadata": {
    "tags": []
   },
   "outputs": [
    {
     "data": {
      "text/html": [
       "<style>#sk-container-id-1 {color: black;background-color: white;}#sk-container-id-1 pre{padding: 0;}#sk-container-id-1 div.sk-toggleable {background-color: white;}#sk-container-id-1 label.sk-toggleable__label {cursor: pointer;display: block;width: 100%;margin-bottom: 0;padding: 0.3em;box-sizing: border-box;text-align: center;}#sk-container-id-1 label.sk-toggleable__label-arrow:before {content: \"▸\";float: left;margin-right: 0.25em;color: #696969;}#sk-container-id-1 label.sk-toggleable__label-arrow:hover:before {color: black;}#sk-container-id-1 div.sk-estimator:hover label.sk-toggleable__label-arrow:before {color: black;}#sk-container-id-1 div.sk-toggleable__content {max-height: 0;max-width: 0;overflow: hidden;text-align: left;background-color: #f0f8ff;}#sk-container-id-1 div.sk-toggleable__content pre {margin: 0.2em;color: black;border-radius: 0.25em;background-color: #f0f8ff;}#sk-container-id-1 input.sk-toggleable__control:checked~div.sk-toggleable__content {max-height: 200px;max-width: 100%;overflow: auto;}#sk-container-id-1 input.sk-toggleable__control:checked~label.sk-toggleable__label-arrow:before {content: \"▾\";}#sk-container-id-1 div.sk-estimator input.sk-toggleable__control:checked~label.sk-toggleable__label {background-color: #d4ebff;}#sk-container-id-1 div.sk-label input.sk-toggleable__control:checked~label.sk-toggleable__label {background-color: #d4ebff;}#sk-container-id-1 input.sk-hidden--visually {border: 0;clip: rect(1px 1px 1px 1px);clip: rect(1px, 1px, 1px, 1px);height: 1px;margin: -1px;overflow: hidden;padding: 0;position: absolute;width: 1px;}#sk-container-id-1 div.sk-estimator {font-family: monospace;background-color: #f0f8ff;border: 1px dotted black;border-radius: 0.25em;box-sizing: border-box;margin-bottom: 0.5em;}#sk-container-id-1 div.sk-estimator:hover {background-color: #d4ebff;}#sk-container-id-1 div.sk-parallel-item::after {content: \"\";width: 100%;border-bottom: 1px solid gray;flex-grow: 1;}#sk-container-id-1 div.sk-label:hover label.sk-toggleable__label {background-color: #d4ebff;}#sk-container-id-1 div.sk-serial::before {content: \"\";position: absolute;border-left: 1px solid gray;box-sizing: border-box;top: 0;bottom: 0;left: 50%;z-index: 0;}#sk-container-id-1 div.sk-serial {display: flex;flex-direction: column;align-items: center;background-color: white;padding-right: 0.2em;padding-left: 0.2em;position: relative;}#sk-container-id-1 div.sk-item {position: relative;z-index: 1;}#sk-container-id-1 div.sk-parallel {display: flex;align-items: stretch;justify-content: center;background-color: white;position: relative;}#sk-container-id-1 div.sk-item::before, #sk-container-id-1 div.sk-parallel-item::before {content: \"\";position: absolute;border-left: 1px solid gray;box-sizing: border-box;top: 0;bottom: 0;left: 50%;z-index: -1;}#sk-container-id-1 div.sk-parallel-item {display: flex;flex-direction: column;z-index: 1;position: relative;background-color: white;}#sk-container-id-1 div.sk-parallel-item:first-child::after {align-self: flex-end;width: 50%;}#sk-container-id-1 div.sk-parallel-item:last-child::after {align-self: flex-start;width: 50%;}#sk-container-id-1 div.sk-parallel-item:only-child::after {width: 0;}#sk-container-id-1 div.sk-dashed-wrapped {border: 1px dashed gray;margin: 0 0.4em 0.5em 0.4em;box-sizing: border-box;padding-bottom: 0.4em;background-color: white;}#sk-container-id-1 div.sk-label label {font-family: monospace;font-weight: bold;display: inline-block;line-height: 1.2em;}#sk-container-id-1 div.sk-label-container {text-align: center;}#sk-container-id-1 div.sk-container {/* jupyter's `normalize.less` sets `[hidden] { display: none; }` but bootstrap.min.css set `[hidden] { display: none !important; }` so we also need the `!important` here to be able to override the default hidden behavior on the sphinx rendered scikit-learn.org. See: https://github.com/scikit-learn/scikit-learn/issues/21755 */display: inline-block !important;position: relative;}#sk-container-id-1 div.sk-text-repr-fallback {display: none;}</style><div id=\"sk-container-id-1\" class=\"sk-top-container\"><div class=\"sk-text-repr-fallback\"><pre>LogisticRegression(max_iter=10000, penalty=None, random_state=1)</pre><b>In a Jupyter environment, please rerun this cell to show the HTML representation or trust the notebook. <br />On GitHub, the HTML representation is unable to render, please try loading this page with nbviewer.org.</b></div><div class=\"sk-container\" hidden><div class=\"sk-item\"><div class=\"sk-estimator sk-toggleable\"><input class=\"sk-toggleable__control sk-hidden--visually\" id=\"sk-estimator-id-1\" type=\"checkbox\" checked><label for=\"sk-estimator-id-1\" class=\"sk-toggleable__label sk-toggleable__label-arrow\">LogisticRegression</label><div class=\"sk-toggleable__content\"><pre>LogisticRegression(max_iter=10000, penalty=None, random_state=1)</pre></div></div></div></div></div>"
      ],
      "text/plain": [
       "LogisticRegression(max_iter=10000, penalty=None, random_state=1)"
      ]
     },
     "execution_count": 16,
     "metadata": {},
     "output_type": "execute_result"
    }
   ],
   "source": [
    "# Fit the source model\n",
    "clf_source = clone(clf)\n",
    "clf_source.fit(source_imp[cols], source_imp['y_ENROLLED_1_YEAR_LATER'])"
   ]
  },
  {
   "cell_type": "markdown",
   "id": "a78f803f-c244-48f0-aca8-4bbcc7233dbe",
   "metadata": {},
   "source": [
    "## Cross-validating the direct transfer of the source model\n",
    "The performance of the source model 'clf_source' trained on the source dataset (refer to the cell above), is evaluated on three  target test sets, specified by the indices 'test_target_indx'. The evaluation includes classification accuracy and fairness metrics."
   ]
  },
  {
   "cell_type": "code",
   "execution_count": 17,
   "id": "e43e96e2-9495-4d8e-b87f-7d76593b1166",
   "metadata": {
    "tags": []
   },
   "outputs": [],
   "source": [
    "cv_res_direct = direct_transfer_cv(\n",
    "    target_imp, # Target data set with imputed missing values\n",
    "    test_target_indx, # Indices of the training sets for each cross-validation splits\n",
    "    clf_source, cols, # Fitted source model and its features\n",
    "    'Direct transfer', \n",
    "    attribites_dic, treshold, rank_thresholds) # Fairness metrics' parameters "
   ]
  },
  {
   "cell_type": "markdown",
   "id": "3e42341f-bcce-44fe-9aca-bc72acd39ea1",
   "metadata": {},
   "source": [
    "## Classification accuracy"
   ]
  },
  {
   "cell_type": "markdown",
   "id": "0be5ae93-3972-4ee1-9bf6-e27e379d5362",
   "metadata": {},
   "source": [
    "### AUC"
   ]
  },
  {
   "cell_type": "code",
   "execution_count": 18,
   "id": "f7d8ce1c-a2bd-4870-9dad-bd0a72ccddaf",
   "metadata": {
    "tags": []
   },
   "outputs": [
    {
     "data": {
      "text/html": [
       "<div>\n",
       "<style scoped>\n",
       "    .dataframe tbody tr th:only-of-type {\n",
       "        vertical-align: middle;\n",
       "    }\n",
       "\n",
       "    .dataframe tbody tr th {\n",
       "        vertical-align: top;\n",
       "    }\n",
       "\n",
       "    .dataframe thead th {\n",
       "        text-align: right;\n",
       "    }\n",
       "</style>\n",
       "<table border=\"1\" class=\"dataframe\">\n",
       "  <thead>\n",
       "    <tr style=\"text-align: right;\">\n",
       "      <th></th>\n",
       "      <th>split_0</th>\n",
       "      <th>split_1</th>\n",
       "      <th>split_2</th>\n",
       "      <th>mean</th>\n",
       "      <th>se</th>\n",
       "    </tr>\n",
       "  </thead>\n",
       "  <tbody>\n",
       "    <tr>\n",
       "      <th>Direct transfer</th>\n",
       "      <td>0.798675</td>\n",
       "      <td>0.811847</td>\n",
       "      <td>0.777766</td>\n",
       "      <td>0.796096</td>\n",
       "      <td>0.009923</td>\n",
       "    </tr>\n",
       "  </tbody>\n",
       "</table>\n",
       "</div>"
      ],
      "text/plain": [
       "                  split_0   split_1   split_2      mean        se\n",
       "Direct transfer  0.798675  0.811847  0.777766  0.796096  0.009923"
      ]
     },
     "execution_count": 18,
     "metadata": {},
     "output_type": "execute_result"
    }
   ],
   "source": [
    "cv_res_direct['AUC']"
   ]
  },
  {
   "cell_type": "markdown",
   "id": "6bf91e51-4261-4893-b9e8-49691bce9577",
   "metadata": {},
   "source": [
    "### Pietra Index and Kolmogorov-Smirnov test"
   ]
  },
  {
   "cell_type": "code",
   "execution_count": 19,
   "id": "f3db3af8-2551-41de-a5c1-08c1d912a81e",
   "metadata": {
    "tags": []
   },
   "outputs": [
    {
     "data": {
      "text/html": [
       "<div>\n",
       "<style scoped>\n",
       "    .dataframe tbody tr th:only-of-type {\n",
       "        vertical-align: middle;\n",
       "    }\n",
       "\n",
       "    .dataframe tbody tr th {\n",
       "        vertical-align: top;\n",
       "    }\n",
       "\n",
       "    .dataframe thead th {\n",
       "        text-align: right;\n",
       "    }\n",
       "</style>\n",
       "<table border=\"1\" class=\"dataframe\">\n",
       "  <thead>\n",
       "    <tr style=\"text-align: right;\">\n",
       "      <th></th>\n",
       "      <th>split_0</th>\n",
       "      <th>split_1</th>\n",
       "      <th>split_2</th>\n",
       "      <th>mean</th>\n",
       "      <th>se</th>\n",
       "    </tr>\n",
       "  </thead>\n",
       "  <tbody>\n",
       "    <tr>\n",
       "      <th>Direct transfer</th>\n",
       "      <td>0.48257</td>\n",
       "      <td>0.536203</td>\n",
       "      <td>0.465117</td>\n",
       "      <td>0.49463</td>\n",
       "      <td>0.021388</td>\n",
       "    </tr>\n",
       "  </tbody>\n",
       "</table>\n",
       "</div>"
      ],
      "text/plain": [
       "                 split_0   split_1   split_2     mean        se\n",
       "Direct transfer  0.48257  0.536203  0.465117  0.49463  0.021388"
      ]
     },
     "execution_count": 19,
     "metadata": {},
     "output_type": "execute_result"
    }
   ],
   "source": [
    "# Pietra index\n",
    "cv_res_direct['pietra_index']"
   ]
  },
  {
   "cell_type": "code",
   "execution_count": 20,
   "id": "f6c935d8-8e16-4612-bed0-cacd0e3c6886",
   "metadata": {
    "tags": []
   },
   "outputs": [
    {
     "data": {
      "text/html": [
       "<div>\n",
       "<style scoped>\n",
       "    .dataframe tbody tr th:only-of-type {\n",
       "        vertical-align: middle;\n",
       "    }\n",
       "\n",
       "    .dataframe tbody tr th {\n",
       "        vertical-align: top;\n",
       "    }\n",
       "\n",
       "    .dataframe thead th {\n",
       "        text-align: right;\n",
       "    }\n",
       "</style>\n",
       "<table border=\"1\" class=\"dataframe\">\n",
       "  <thead>\n",
       "    <tr style=\"text-align: right;\">\n",
       "      <th></th>\n",
       "      <th>split_0</th>\n",
       "      <th>split_1</th>\n",
       "      <th>split_2</th>\n",
       "    </tr>\n",
       "  </thead>\n",
       "  <tbody>\n",
       "    <tr>\n",
       "      <th>Direct transfer</th>\n",
       "      <td>1.719591e-18</td>\n",
       "      <td>8.510172e-23</td>\n",
       "      <td>3.873600e-17</td>\n",
       "    </tr>\n",
       "  </tbody>\n",
       "</table>\n",
       "</div>"
      ],
      "text/plain": [
       "                      split_0       split_1       split_2\n",
       "Direct transfer  1.719591e-18  8.510172e-23  3.873600e-17"
      ]
     },
     "execution_count": 20,
     "metadata": {},
     "output_type": "execute_result"
    }
   ],
   "source": [
    "# KS p-value\n",
    "cv_res_direct['KS_pvalue'].iloc[:, :3]"
   ]
  },
  {
   "cell_type": "markdown",
   "id": "6cfadd81-b720-4ec2-90a4-56ee932f1f7d",
   "metadata": {
    "tags": []
   },
   "source": [
    "## Fairness metrics"
   ]
  },
  {
   "cell_type": "markdown",
   "id": "4e1552cb-8cb7-4587-85ef-08c7c8a0fd6d",
   "metadata": {},
   "source": [
    "### Sliced AUCs"
   ]
  },
  {
   "cell_type": "code",
   "execution_count": 21,
   "id": "d486225e-4aff-4e5a-91ef-32f7d6ce680e",
   "metadata": {
    "tags": []
   },
   "outputs": [
    {
     "data": {
      "text/html": [
       "<div>\n",
       "<style scoped>\n",
       "    .dataframe tbody tr th:only-of-type {\n",
       "        vertical-align: middle;\n",
       "    }\n",
       "\n",
       "    .dataframe tbody tr th {\n",
       "        vertical-align: top;\n",
       "    }\n",
       "\n",
       "    .dataframe thead th {\n",
       "        text-align: right;\n",
       "    }\n",
       "</style>\n",
       "<table border=\"1\" class=\"dataframe\">\n",
       "  <thead>\n",
       "    <tr style=\"text-align: right;\">\n",
       "      <th></th>\n",
       "      <th>Attribute</th>\n",
       "      <th>Value</th>\n",
       "      <th>split_0</th>\n",
       "      <th>split_1</th>\n",
       "      <th>split_2</th>\n",
       "      <th>mean</th>\n",
       "      <th>se</th>\n",
       "    </tr>\n",
       "  </thead>\n",
       "  <tbody>\n",
       "    <tr>\n",
       "      <th>0</th>\n",
       "      <td>STDNT_ETHNC_grouped</td>\n",
       "      <td>1</td>\n",
       "      <td>0.732277</td>\n",
       "      <td>0.744254</td>\n",
       "      <td>0.742032</td>\n",
       "      <td>0.739521</td>\n",
       "      <td>0.003678</td>\n",
       "    </tr>\n",
       "    <tr>\n",
       "      <th>1</th>\n",
       "      <td>STDNT_ETHNC_grouped</td>\n",
       "      <td>0</td>\n",
       "      <td>0.873095</td>\n",
       "      <td>0.851929</td>\n",
       "      <td>0.83124</td>\n",
       "      <td>0.852088</td>\n",
       "      <td>0.012083</td>\n",
       "    </tr>\n",
       "    <tr>\n",
       "      <th>2</th>\n",
       "      <td>STDNT_ETHNC_grouped</td>\n",
       "      <td>2</td>\n",
       "      <td>0.763595</td>\n",
       "      <td>0.821409</td>\n",
       "      <td>0.757019</td>\n",
       "      <td>0.780674</td>\n",
       "      <td>0.020456</td>\n",
       "    </tr>\n",
       "    <tr>\n",
       "      <th>3</th>\n",
       "      <td>STDNT_FEMALE</td>\n",
       "      <td>0</td>\n",
       "      <td>0.797804</td>\n",
       "      <td>0.794522</td>\n",
       "      <td>0.785411</td>\n",
       "      <td>0.792579</td>\n",
       "      <td>0.003707</td>\n",
       "    </tr>\n",
       "    <tr>\n",
       "      <th>4</th>\n",
       "      <td>STDNT_FEMALE</td>\n",
       "      <td>1</td>\n",
       "      <td>0.795982</td>\n",
       "      <td>0.871113</td>\n",
       "      <td>0.754783</td>\n",
       "      <td>0.807293</td>\n",
       "      <td>0.034054</td>\n",
       "    </tr>\n",
       "  </tbody>\n",
       "</table>\n",
       "</div>"
      ],
      "text/plain": [
       "             Attribute Value   split_0   split_1   split_2      mean        se\n",
       "0  STDNT_ETHNC_grouped     1  0.732277  0.744254  0.742032  0.739521  0.003678\n",
       "1  STDNT_ETHNC_grouped     0  0.873095  0.851929   0.83124  0.852088  0.012083\n",
       "2  STDNT_ETHNC_grouped     2  0.763595  0.821409  0.757019  0.780674  0.020456\n",
       "3         STDNT_FEMALE     0  0.797804  0.794522  0.785411  0.792579  0.003707\n",
       "4         STDNT_FEMALE     1  0.795982  0.871113  0.754783  0.807293  0.034054"
      ]
     },
     "execution_count": 21,
     "metadata": {},
     "output_type": "execute_result"
    }
   ],
   "source": [
    "cv_res_direct['sliced_AUCs']"
   ]
  },
  {
   "cell_type": "markdown",
   "id": "43d2079c-bc1c-4ca4-a566-c72818a3f711",
   "metadata": {},
   "source": [
    "### Equal opportunity difference"
   ]
  },
  {
   "cell_type": "code",
   "execution_count": 22,
   "id": "a64d9ec1-504e-46c9-9a8d-93a8fb99a589",
   "metadata": {
    "tags": []
   },
   "outputs": [
    {
     "data": {
      "text/html": [
       "<div>\n",
       "<style scoped>\n",
       "    .dataframe tbody tr th:only-of-type {\n",
       "        vertical-align: middle;\n",
       "    }\n",
       "\n",
       "    .dataframe tbody tr th {\n",
       "        vertical-align: top;\n",
       "    }\n",
       "\n",
       "    .dataframe thead th {\n",
       "        text-align: right;\n",
       "    }\n",
       "</style>\n",
       "<table border=\"1\" class=\"dataframe\">\n",
       "  <thead>\n",
       "    <tr style=\"text-align: right;\">\n",
       "      <th></th>\n",
       "      <th>Attribute</th>\n",
       "      <th>Value</th>\n",
       "      <th>split_0</th>\n",
       "      <th>split_1</th>\n",
       "      <th>split_2</th>\n",
       "      <th>mean</th>\n",
       "      <th>se</th>\n",
       "    </tr>\n",
       "  </thead>\n",
       "  <tbody>\n",
       "    <tr>\n",
       "      <th>0</th>\n",
       "      <td>STDNT_ETHNC_grouped</td>\n",
       "      <td>1</td>\n",
       "      <td>-0.324675</td>\n",
       "      <td>-0.332927</td>\n",
       "      <td>-0.298701</td>\n",
       "      <td>-0.318768</td>\n",
       "      <td>0.010312</td>\n",
       "    </tr>\n",
       "    <tr>\n",
       "      <th>1</th>\n",
       "      <td>STDNT_ETHNC_grouped</td>\n",
       "      <td>0</td>\n",
       "      <td>0</td>\n",
       "      <td>0</td>\n",
       "      <td>0</td>\n",
       "      <td>0.000000</td>\n",
       "      <td>0.000000</td>\n",
       "    </tr>\n",
       "    <tr>\n",
       "      <th>2</th>\n",
       "      <td>STDNT_ETHNC_grouped</td>\n",
       "      <td>2</td>\n",
       "      <td>0.02381</td>\n",
       "      <td>0.012725</td>\n",
       "      <td>0.071429</td>\n",
       "      <td>0.035988</td>\n",
       "      <td>0.018007</td>\n",
       "    </tr>\n",
       "    <tr>\n",
       "      <th>3</th>\n",
       "      <td>STDNT_FEMALE</td>\n",
       "      <td>0</td>\n",
       "      <td>0</td>\n",
       "      <td>0</td>\n",
       "      <td>0</td>\n",
       "      <td>0.000000</td>\n",
       "      <td>0.000000</td>\n",
       "    </tr>\n",
       "    <tr>\n",
       "      <th>4</th>\n",
       "      <td>STDNT_FEMALE</td>\n",
       "      <td>1</td>\n",
       "      <td>0.111538</td>\n",
       "      <td>0.123793</td>\n",
       "      <td>0.008185</td>\n",
       "      <td>0.081172</td>\n",
       "      <td>0.036665</td>\n",
       "    </tr>\n",
       "  </tbody>\n",
       "</table>\n",
       "</div>"
      ],
      "text/plain": [
       "             Attribute Value   split_0   split_1   split_2      mean        se\n",
       "0  STDNT_ETHNC_grouped     1 -0.324675 -0.332927 -0.298701 -0.318768  0.010312\n",
       "1  STDNT_ETHNC_grouped     0         0         0         0  0.000000  0.000000\n",
       "2  STDNT_ETHNC_grouped     2   0.02381  0.012725  0.071429  0.035988  0.018007\n",
       "3         STDNT_FEMALE     0         0         0         0  0.000000  0.000000\n",
       "4         STDNT_FEMALE     1  0.111538  0.123793  0.008185  0.081172  0.036665"
      ]
     },
     "execution_count": 22,
     "metadata": {},
     "output_type": "execute_result"
    }
   ],
   "source": [
    "cv_res_direct['equal_opportunity_diff']"
   ]
  },
  {
   "cell_type": "markdown",
   "id": "336c12bf-9525-4dc6-a78f-872a6fd908e7",
   "metadata": {},
   "source": [
    "### Generalized entropy index"
   ]
  },
  {
   "cell_type": "code",
   "execution_count": 23,
   "id": "eb068381-a0f4-4160-81fb-f16d3a2f3430",
   "metadata": {
    "tags": []
   },
   "outputs": [
    {
     "data": {
      "text/html": [
       "<div>\n",
       "<style scoped>\n",
       "    .dataframe tbody tr th:only-of-type {\n",
       "        vertical-align: middle;\n",
       "    }\n",
       "\n",
       "    .dataframe tbody tr th {\n",
       "        vertical-align: top;\n",
       "    }\n",
       "\n",
       "    .dataframe thead th {\n",
       "        text-align: right;\n",
       "    }\n",
       "</style>\n",
       "<table border=\"1\" class=\"dataframe\">\n",
       "  <thead>\n",
       "    <tr style=\"text-align: right;\">\n",
       "      <th></th>\n",
       "      <th>split_0</th>\n",
       "      <th>split_1</th>\n",
       "      <th>split_2</th>\n",
       "      <th>mean</th>\n",
       "      <th>se</th>\n",
       "    </tr>\n",
       "  </thead>\n",
       "  <tbody>\n",
       "    <tr>\n",
       "      <th>generalized_entropy</th>\n",
       "      <td>0.385417</td>\n",
       "      <td>0.323529</td>\n",
       "      <td>0.465909</td>\n",
       "      <td>0.391618</td>\n",
       "      <td>0.041218</td>\n",
       "    </tr>\n",
       "    <tr>\n",
       "      <th>between_groups</th>\n",
       "      <td>0.033422</td>\n",
       "      <td>0.028066</td>\n",
       "      <td>0.040829</td>\n",
       "      <td>0.034106</td>\n",
       "      <td>0.003700</td>\n",
       "    </tr>\n",
       "  </tbody>\n",
       "</table>\n",
       "</div>"
      ],
      "text/plain": [
       "                      split_0   split_1   split_2      mean        se\n",
       "generalized_entropy  0.385417  0.323529  0.465909  0.391618  0.041218\n",
       "between_groups       0.033422  0.028066  0.040829  0.034106  0.003700"
      ]
     },
     "execution_count": 23,
     "metadata": {},
     "output_type": "execute_result"
    }
   ],
   "source": [
    "cv_res_direct['gen_entropy']"
   ]
  },
  {
   "cell_type": "markdown",
   "id": "e4c59619-260c-4194-bc15-9740766a7508",
   "metadata": {},
   "source": [
    "### Generalized entropy index that takes into account the risk ranks of students"
   ]
  },
  {
   "cell_type": "code",
   "execution_count": 24,
   "id": "076c9a77-50a4-4402-8b27-59b9b42ab47b",
   "metadata": {
    "tags": []
   },
   "outputs": [
    {
     "data": {
      "text/html": [
       "<div>\n",
       "<style scoped>\n",
       "    .dataframe tbody tr th:only-of-type {\n",
       "        vertical-align: middle;\n",
       "    }\n",
       "\n",
       "    .dataframe tbody tr th {\n",
       "        vertical-align: top;\n",
       "    }\n",
       "\n",
       "    .dataframe thead th {\n",
       "        text-align: right;\n",
       "    }\n",
       "</style>\n",
       "<table border=\"1\" class=\"dataframe\">\n",
       "  <thead>\n",
       "    <tr style=\"text-align: right;\">\n",
       "      <th></th>\n",
       "      <th>split_0</th>\n",
       "      <th>split_1</th>\n",
       "      <th>split_2</th>\n",
       "      <th>mean</th>\n",
       "      <th>se</th>\n",
       "    </tr>\n",
       "  </thead>\n",
       "  <tbody>\n",
       "    <tr>\n",
       "      <th>generalized_entropy_ranks</th>\n",
       "      <td>0.547744</td>\n",
       "      <td>0.457076</td>\n",
       "      <td>0.623618</td>\n",
       "      <td>0.542813</td>\n",
       "      <td>0.048140</td>\n",
       "    </tr>\n",
       "    <tr>\n",
       "      <th>between_groups_ranks</th>\n",
       "      <td>0.031853</td>\n",
       "      <td>0.023615</td>\n",
       "      <td>0.055756</td>\n",
       "      <td>0.037075</td>\n",
       "      <td>0.009639</td>\n",
       "    </tr>\n",
       "  </tbody>\n",
       "</table>\n",
       "</div>"
      ],
      "text/plain": [
       "                            split_0   split_1   split_2      mean        se\n",
       "generalized_entropy_ranks  0.547744  0.457076  0.623618  0.542813  0.048140\n",
       "between_groups_ranks       0.031853  0.023615  0.055756  0.037075  0.009639"
      ]
     },
     "execution_count": 24,
     "metadata": {},
     "output_type": "execute_result"
    }
   ],
   "source": [
    "cv_res_direct['gen_entropy_ranks']"
   ]
  },
  {
   "cell_type": "markdown",
   "id": "4cf75791-d620-4710-a446-d2b7cdb50a6f",
   "metadata": {},
   "source": [
    "# TrAdaBoost"
   ]
  },
  {
   "cell_type": "code",
   "execution_count": 25,
   "id": "76fed546-4449-4aa3-bf27-43280bf93cdd",
   "metadata": {
    "tags": []
   },
   "outputs": [],
   "source": [
    "TrAdaBoost_model = TrAdaBoost(estimator=clone(clf), max_num_iterations=10)"
   ]
  },
  {
   "cell_type": "markdown",
   "id": "49261e34-a1a3-41b8-9bea-26fbbfd29ca8",
   "metadata": {},
   "source": [
    "## Cross-validating the TrAdaBoost\n",
    "In every cross-validation split, the TrAdaBoost model is trained using the source dataset combined with 33.3% of the target dataset. Subsequently, the model is evaluated on the remaining 66.6% of the target dataset. The evaluation includes classification accuracy and fairness metrics."
   ]
  },
  {
   "cell_type": "code",
   "execution_count": 26,
   "id": "6a214108-62f1-4390-bc36-5330a9ce851c",
   "metadata": {
    "tags": []
   },
   "outputs": [],
   "source": [
    "cv_res_TrAdaBoost = TrAdaBoost_transfer_cv(\n",
    "    source_df, target_df, # Source and target data sets\n",
    "    train_target_indx, # Indices of the training sets for cross-validation splits\n",
    "    test_target_indx, # Indices of the testing sets for cross-validation splits\n",
    "    imputation_pipeline, # Pipeline to impute missing values and apply WoE transformation\n",
    "    TrAdaBoost_model, \n",
    "    cols, # Model features\n",
    "    'TrAdaBoost', \n",
    "    attribites_dic, treshold, rank_thresholds) # Fairness metrics' parameters "
   ]
  },
  {
   "cell_type": "markdown",
   "id": "b923c4b5-2885-44d0-b768-3a893005f27c",
   "metadata": {},
   "source": [
    "## Classification accuracy"
   ]
  },
  {
   "cell_type": "markdown",
   "id": "502f49ac-1d6e-404e-ab8c-05650a04052b",
   "metadata": {},
   "source": [
    "### AUC"
   ]
  },
  {
   "cell_type": "code",
   "execution_count": 27,
   "id": "57117185-3981-49a2-9015-e98af5ebeaf6",
   "metadata": {
    "tags": []
   },
   "outputs": [
    {
     "data": {
      "text/html": [
       "<div>\n",
       "<style scoped>\n",
       "    .dataframe tbody tr th:only-of-type {\n",
       "        vertical-align: middle;\n",
       "    }\n",
       "\n",
       "    .dataframe tbody tr th {\n",
       "        vertical-align: top;\n",
       "    }\n",
       "\n",
       "    .dataframe thead th {\n",
       "        text-align: right;\n",
       "    }\n",
       "</style>\n",
       "<table border=\"1\" class=\"dataframe\">\n",
       "  <thead>\n",
       "    <tr style=\"text-align: right;\">\n",
       "      <th></th>\n",
       "      <th>split_0</th>\n",
       "      <th>split_1</th>\n",
       "      <th>split_2</th>\n",
       "      <th>mean</th>\n",
       "      <th>se</th>\n",
       "    </tr>\n",
       "  </thead>\n",
       "  <tbody>\n",
       "    <tr>\n",
       "      <th>TrAdaBoost</th>\n",
       "      <td>0.80235</td>\n",
       "      <td>0.820896</td>\n",
       "      <td>0.775099</td>\n",
       "      <td>0.799448</td>\n",
       "      <td>0.013300</td>\n",
       "    </tr>\n",
       "    <tr>\n",
       "      <th>Direct transfer</th>\n",
       "      <td>0.798675</td>\n",
       "      <td>0.811847</td>\n",
       "      <td>0.777766</td>\n",
       "      <td>0.796096</td>\n",
       "      <td>0.009923</td>\n",
       "    </tr>\n",
       "  </tbody>\n",
       "</table>\n",
       "</div>"
      ],
      "text/plain": [
       "                  split_0   split_1   split_2      mean        se\n",
       "TrAdaBoost        0.80235  0.820896  0.775099  0.799448  0.013300\n",
       "Direct transfer  0.798675  0.811847  0.777766  0.796096  0.009923"
      ]
     },
     "execution_count": 27,
     "metadata": {},
     "output_type": "execute_result"
    }
   ],
   "source": [
    "pd.concat([cv_res_TrAdaBoost['AUC'], cv_res_direct['AUC']])"
   ]
  },
  {
   "cell_type": "markdown",
   "id": "a83e3215-af18-4f07-bedb-0b846d9aca4e",
   "metadata": {
    "tags": []
   },
   "source": [
    "### Pietra index and Kolmogorov-Smirnov test"
   ]
  },
  {
   "cell_type": "code",
   "execution_count": 28,
   "id": "e6ebaed9-0e4f-475e-9eb5-27f9a3e3aeff",
   "metadata": {
    "tags": []
   },
   "outputs": [
    {
     "data": {
      "text/html": [
       "<div>\n",
       "<style scoped>\n",
       "    .dataframe tbody tr th:only-of-type {\n",
       "        vertical-align: middle;\n",
       "    }\n",
       "\n",
       "    .dataframe tbody tr th {\n",
       "        vertical-align: top;\n",
       "    }\n",
       "\n",
       "    .dataframe thead th {\n",
       "        text-align: right;\n",
       "    }\n",
       "</style>\n",
       "<table border=\"1\" class=\"dataframe\">\n",
       "  <thead>\n",
       "    <tr style=\"text-align: right;\">\n",
       "      <th></th>\n",
       "      <th>split_0</th>\n",
       "      <th>split_1</th>\n",
       "      <th>split_2</th>\n",
       "      <th>mean</th>\n",
       "      <th>se</th>\n",
       "    </tr>\n",
       "  </thead>\n",
       "  <tbody>\n",
       "    <tr>\n",
       "      <th>TrAdaBoost</th>\n",
       "      <td>0.507105</td>\n",
       "      <td>0.549266</td>\n",
       "      <td>0.472291</td>\n",
       "      <td>0.509554</td>\n",
       "      <td>0.022254</td>\n",
       "    </tr>\n",
       "    <tr>\n",
       "      <th>Direct transfer</th>\n",
       "      <td>0.48257</td>\n",
       "      <td>0.536203</td>\n",
       "      <td>0.465117</td>\n",
       "      <td>0.494630</td>\n",
       "      <td>0.021388</td>\n",
       "    </tr>\n",
       "  </tbody>\n",
       "</table>\n",
       "</div>"
      ],
      "text/plain": [
       "                  split_0   split_1   split_2      mean        se\n",
       "TrAdaBoost       0.507105  0.549266  0.472291  0.509554  0.022254\n",
       "Direct transfer   0.48257  0.536203  0.465117  0.494630  0.021388"
      ]
     },
     "execution_count": 28,
     "metadata": {},
     "output_type": "execute_result"
    }
   ],
   "source": [
    "# Pietra index\n",
    "pd.concat([cv_res_TrAdaBoost['pietra_index'], cv_res_direct['pietra_index']])"
   ]
  },
  {
   "cell_type": "code",
   "execution_count": 29,
   "id": "e71d2da4-2579-4716-9a86-28277878dc9a",
   "metadata": {
    "tags": []
   },
   "outputs": [
    {
     "data": {
      "text/html": [
       "<div>\n",
       "<style scoped>\n",
       "    .dataframe tbody tr th:only-of-type {\n",
       "        vertical-align: middle;\n",
       "    }\n",
       "\n",
       "    .dataframe tbody tr th {\n",
       "        vertical-align: top;\n",
       "    }\n",
       "\n",
       "    .dataframe thead th {\n",
       "        text-align: right;\n",
       "    }\n",
       "</style>\n",
       "<table border=\"1\" class=\"dataframe\">\n",
       "  <thead>\n",
       "    <tr style=\"text-align: right;\">\n",
       "      <th></th>\n",
       "      <th>split_0</th>\n",
       "      <th>split_1</th>\n",
       "      <th>split_2</th>\n",
       "    </tr>\n",
       "  </thead>\n",
       "  <tbody>\n",
       "    <tr>\n",
       "      <th>TrAdaBoost</th>\n",
       "      <td>1.680900e-20</td>\n",
       "      <td>5.406350e-24</td>\n",
       "      <td>1.095784e-17</td>\n",
       "    </tr>\n",
       "    <tr>\n",
       "      <th>Direct transfer</th>\n",
       "      <td>1.719591e-18</td>\n",
       "      <td>8.510172e-23</td>\n",
       "      <td>3.873600e-17</td>\n",
       "    </tr>\n",
       "  </tbody>\n",
       "</table>\n",
       "</div>"
      ],
      "text/plain": [
       "                      split_0       split_1       split_2\n",
       "TrAdaBoost       1.680900e-20  5.406350e-24  1.095784e-17\n",
       "Direct transfer  1.719591e-18  8.510172e-23  3.873600e-17"
      ]
     },
     "execution_count": 29,
     "metadata": {},
     "output_type": "execute_result"
    }
   ],
   "source": [
    "# KS p-value\n",
    "pd.concat([cv_res_TrAdaBoost['KS_pvalue'].iloc[:,:3], \n",
    "           cv_res_direct['KS_pvalue'].iloc[:,:3]])"
   ]
  },
  {
   "cell_type": "markdown",
   "id": "996555ae-4cd1-4c0e-94fe-1b0738483546",
   "metadata": {},
   "source": [
    "## Fairness metrics"
   ]
  },
  {
   "cell_type": "markdown",
   "id": "636a570c-f929-4282-a34f-e5d33c9b89b0",
   "metadata": {},
   "source": [
    "### Sliced AUCs"
   ]
  },
  {
   "cell_type": "code",
   "execution_count": 30,
   "id": "5a87ea6e-bd61-41ff-8b35-c3ab07368709",
   "metadata": {
    "tags": []
   },
   "outputs": [
    {
     "data": {
      "text/html": [
       "<div>\n",
       "<style scoped>\n",
       "    .dataframe tbody tr th:only-of-type {\n",
       "        vertical-align: middle;\n",
       "    }\n",
       "\n",
       "    .dataframe tbody tr th {\n",
       "        vertical-align: top;\n",
       "    }\n",
       "\n",
       "    .dataframe thead th {\n",
       "        text-align: right;\n",
       "    }\n",
       "</style>\n",
       "<table border=\"1\" class=\"dataframe\">\n",
       "  <thead>\n",
       "    <tr style=\"text-align: right;\">\n",
       "      <th></th>\n",
       "      <th>Attribute</th>\n",
       "      <th>Value</th>\n",
       "      <th>split_0</th>\n",
       "      <th>split_1</th>\n",
       "      <th>split_2</th>\n",
       "      <th>mean</th>\n",
       "      <th>se</th>\n",
       "    </tr>\n",
       "  </thead>\n",
       "  <tbody>\n",
       "    <tr>\n",
       "      <th>0</th>\n",
       "      <td>STDNT_ETHNC_grouped</td>\n",
       "      <td>1</td>\n",
       "      <td>0.71717</td>\n",
       "      <td>0.791138</td>\n",
       "      <td>0.722858</td>\n",
       "      <td>0.743722</td>\n",
       "      <td>0.023765</td>\n",
       "    </tr>\n",
       "    <tr>\n",
       "      <th>1</th>\n",
       "      <td>STDNT_ETHNC_grouped</td>\n",
       "      <td>0</td>\n",
       "      <td>0.880152</td>\n",
       "      <td>0.854177</td>\n",
       "      <td>0.830707</td>\n",
       "      <td>0.855012</td>\n",
       "      <td>0.014279</td>\n",
       "    </tr>\n",
       "    <tr>\n",
       "      <th>2</th>\n",
       "      <td>STDNT_ETHNC_grouped</td>\n",
       "      <td>2</td>\n",
       "      <td>0.769356</td>\n",
       "      <td>0.807347</td>\n",
       "      <td>0.754226</td>\n",
       "      <td>0.776976</td>\n",
       "      <td>0.015801</td>\n",
       "    </tr>\n",
       "    <tr>\n",
       "      <th>3</th>\n",
       "      <td>STDNT_FEMALE</td>\n",
       "      <td>0</td>\n",
       "      <td>0.796315</td>\n",
       "      <td>0.795524</td>\n",
       "      <td>0.781653</td>\n",
       "      <td>0.791164</td>\n",
       "      <td>0.004761</td>\n",
       "    </tr>\n",
       "    <tr>\n",
       "      <th>4</th>\n",
       "      <td>STDNT_FEMALE</td>\n",
       "      <td>1</td>\n",
       "      <td>0.796569</td>\n",
       "      <td>0.880099</td>\n",
       "      <td>0.753136</td>\n",
       "      <td>0.809935</td>\n",
       "      <td>0.037255</td>\n",
       "    </tr>\n",
       "  </tbody>\n",
       "</table>\n",
       "</div>"
      ],
      "text/plain": [
       "             Attribute Value   split_0   split_1   split_2      mean        se\n",
       "0  STDNT_ETHNC_grouped     1   0.71717  0.791138  0.722858  0.743722  0.023765\n",
       "1  STDNT_ETHNC_grouped     0  0.880152  0.854177  0.830707  0.855012  0.014279\n",
       "2  STDNT_ETHNC_grouped     2  0.769356  0.807347  0.754226  0.776976  0.015801\n",
       "3         STDNT_FEMALE     0  0.796315  0.795524  0.781653  0.791164  0.004761\n",
       "4         STDNT_FEMALE     1  0.796569  0.880099  0.753136  0.809935  0.037255"
      ]
     },
     "execution_count": 30,
     "metadata": {},
     "output_type": "execute_result"
    }
   ],
   "source": [
    "cv_res_TrAdaBoost['sliced_AUCs']"
   ]
  },
  {
   "cell_type": "code",
   "execution_count": 31,
   "id": "d22cf218-5352-4475-8aae-36a36a108690",
   "metadata": {
    "tags": []
   },
   "outputs": [
    {
     "data": {
      "text/html": [
       "<div>\n",
       "<style scoped>\n",
       "    .dataframe tbody tr th:only-of-type {\n",
       "        vertical-align: middle;\n",
       "    }\n",
       "\n",
       "    .dataframe tbody tr th {\n",
       "        vertical-align: top;\n",
       "    }\n",
       "\n",
       "    .dataframe thead th {\n",
       "        text-align: right;\n",
       "    }\n",
       "</style>\n",
       "<table border=\"1\" class=\"dataframe\">\n",
       "  <thead>\n",
       "    <tr style=\"text-align: right;\">\n",
       "      <th></th>\n",
       "      <th>Attribute</th>\n",
       "      <th>Value</th>\n",
       "      <th>mean_TrAdaBoost</th>\n",
       "      <th>mean_direct</th>\n",
       "      <th>se_TrAdaBoost</th>\n",
       "      <th>se_direct</th>\n",
       "    </tr>\n",
       "  </thead>\n",
       "  <tbody>\n",
       "    <tr>\n",
       "      <th>0</th>\n",
       "      <td>STDNT_ETHNC_grouped</td>\n",
       "      <td>1</td>\n",
       "      <td>0.743722</td>\n",
       "      <td>0.739521</td>\n",
       "      <td>0.023765</td>\n",
       "      <td>0.003678</td>\n",
       "    </tr>\n",
       "    <tr>\n",
       "      <th>1</th>\n",
       "      <td>STDNT_ETHNC_grouped</td>\n",
       "      <td>0</td>\n",
       "      <td>0.855012</td>\n",
       "      <td>0.852088</td>\n",
       "      <td>0.014279</td>\n",
       "      <td>0.012083</td>\n",
       "    </tr>\n",
       "    <tr>\n",
       "      <th>2</th>\n",
       "      <td>STDNT_ETHNC_grouped</td>\n",
       "      <td>2</td>\n",
       "      <td>0.776976</td>\n",
       "      <td>0.780674</td>\n",
       "      <td>0.015801</td>\n",
       "      <td>0.020456</td>\n",
       "    </tr>\n",
       "    <tr>\n",
       "      <th>3</th>\n",
       "      <td>STDNT_FEMALE</td>\n",
       "      <td>0</td>\n",
       "      <td>0.791164</td>\n",
       "      <td>0.792579</td>\n",
       "      <td>0.004761</td>\n",
       "      <td>0.003707</td>\n",
       "    </tr>\n",
       "    <tr>\n",
       "      <th>4</th>\n",
       "      <td>STDNT_FEMALE</td>\n",
       "      <td>1</td>\n",
       "      <td>0.809935</td>\n",
       "      <td>0.807293</td>\n",
       "      <td>0.037255</td>\n",
       "      <td>0.034054</td>\n",
       "    </tr>\n",
       "  </tbody>\n",
       "</table>\n",
       "</div>"
      ],
      "text/plain": [
       "             Attribute Value  mean_TrAdaBoost  mean_direct  se_TrAdaBoost  \\\n",
       "0  STDNT_ETHNC_grouped     1         0.743722     0.739521       0.023765   \n",
       "1  STDNT_ETHNC_grouped     0         0.855012     0.852088       0.014279   \n",
       "2  STDNT_ETHNC_grouped     2         0.776976     0.780674       0.015801   \n",
       "3         STDNT_FEMALE     0         0.791164     0.792579       0.004761   \n",
       "4         STDNT_FEMALE     1         0.809935     0.807293       0.037255   \n",
       "\n",
       "   se_direct  \n",
       "0   0.003678  \n",
       "1   0.012083  \n",
       "2   0.020456  \n",
       "3   0.003707  \n",
       "4   0.034054  "
      ]
     },
     "execution_count": 31,
     "metadata": {},
     "output_type": "execute_result"
    }
   ],
   "source": [
    "cv_res_TrAdaBoost['sliced_AUCs'][['Attribute', 'Value', 'mean', 'se']].merge(\n",
    "    cv_res_direct['sliced_AUCs'][['Attribute', 'Value', 'mean', 'se']], \n",
    "    on=['Attribute', 'Value'],\n",
    "    suffixes=('_TrAdaBoost', '_direct')\n",
    "    )[['Attribute', 'Value', 'mean_TrAdaBoost', 'mean_direct', 'se_TrAdaBoost', 'se_direct']]"
   ]
  },
  {
   "cell_type": "markdown",
   "id": "66114b72-780e-4141-b367-12ee6e4a8f28",
   "metadata": {},
   "source": [
    "### Equal opportunity difference"
   ]
  },
  {
   "cell_type": "code",
   "execution_count": 32,
   "id": "bc65f05e-1727-4b8d-999e-fb27f32f145b",
   "metadata": {
    "tags": []
   },
   "outputs": [
    {
     "data": {
      "text/html": [
       "<div>\n",
       "<style scoped>\n",
       "    .dataframe tbody tr th:only-of-type {\n",
       "        vertical-align: middle;\n",
       "    }\n",
       "\n",
       "    .dataframe tbody tr th {\n",
       "        vertical-align: top;\n",
       "    }\n",
       "\n",
       "    .dataframe thead th {\n",
       "        text-align: right;\n",
       "    }\n",
       "</style>\n",
       "<table border=\"1\" class=\"dataframe\">\n",
       "  <thead>\n",
       "    <tr style=\"text-align: right;\">\n",
       "      <th></th>\n",
       "      <th>Attribute</th>\n",
       "      <th>Value</th>\n",
       "      <th>split_0</th>\n",
       "      <th>split_1</th>\n",
       "      <th>split_2</th>\n",
       "      <th>mean</th>\n",
       "      <th>se</th>\n",
       "    </tr>\n",
       "  </thead>\n",
       "  <tbody>\n",
       "    <tr>\n",
       "      <th>0</th>\n",
       "      <td>STDNT_ETHNC_grouped</td>\n",
       "      <td>1</td>\n",
       "      <td>-0.279221</td>\n",
       "      <td>-0.158537</td>\n",
       "      <td>-0.088312</td>\n",
       "      <td>-0.175356</td>\n",
       "      <td>0.055749</td>\n",
       "    </tr>\n",
       "    <tr>\n",
       "      <th>1</th>\n",
       "      <td>STDNT_ETHNC_grouped</td>\n",
       "      <td>0</td>\n",
       "      <td>0</td>\n",
       "      <td>0</td>\n",
       "      <td>0</td>\n",
       "      <td>0.000000</td>\n",
       "      <td>0.000000</td>\n",
       "    </tr>\n",
       "    <tr>\n",
       "      <th>2</th>\n",
       "      <td>STDNT_ETHNC_grouped</td>\n",
       "      <td>2</td>\n",
       "      <td>0.02381</td>\n",
       "      <td>0.037116</td>\n",
       "      <td>0.064286</td>\n",
       "      <td>0.041737</td>\n",
       "      <td>0.011911</td>\n",
       "    </tr>\n",
       "    <tr>\n",
       "      <th>3</th>\n",
       "      <td>STDNT_FEMALE</td>\n",
       "      <td>0</td>\n",
       "      <td>0</td>\n",
       "      <td>0</td>\n",
       "      <td>0</td>\n",
       "      <td>0.000000</td>\n",
       "      <td>0.000000</td>\n",
       "    </tr>\n",
       "    <tr>\n",
       "      <th>4</th>\n",
       "      <td>STDNT_FEMALE</td>\n",
       "      <td>1</td>\n",
       "      <td>0.030769</td>\n",
       "      <td>0.020193</td>\n",
       "      <td>-0.08631</td>\n",
       "      <td>-0.011782</td>\n",
       "      <td>0.037388</td>\n",
       "    </tr>\n",
       "  </tbody>\n",
       "</table>\n",
       "</div>"
      ],
      "text/plain": [
       "             Attribute Value   split_0   split_1   split_2      mean        se\n",
       "0  STDNT_ETHNC_grouped     1 -0.279221 -0.158537 -0.088312 -0.175356  0.055749\n",
       "1  STDNT_ETHNC_grouped     0         0         0         0  0.000000  0.000000\n",
       "2  STDNT_ETHNC_grouped     2   0.02381  0.037116  0.064286  0.041737  0.011911\n",
       "3         STDNT_FEMALE     0         0         0         0  0.000000  0.000000\n",
       "4         STDNT_FEMALE     1  0.030769  0.020193  -0.08631 -0.011782  0.037388"
      ]
     },
     "execution_count": 32,
     "metadata": {},
     "output_type": "execute_result"
    }
   ],
   "source": [
    "cv_res_TrAdaBoost['equal_opportunity_diff']"
   ]
  },
  {
   "cell_type": "code",
   "execution_count": 33,
   "id": "ccb0c0ea-846e-4a1a-aba7-eba0edee86cb",
   "metadata": {
    "tags": []
   },
   "outputs": [
    {
     "data": {
      "text/html": [
       "<div>\n",
       "<style scoped>\n",
       "    .dataframe tbody tr th:only-of-type {\n",
       "        vertical-align: middle;\n",
       "    }\n",
       "\n",
       "    .dataframe tbody tr th {\n",
       "        vertical-align: top;\n",
       "    }\n",
       "\n",
       "    .dataframe thead th {\n",
       "        text-align: right;\n",
       "    }\n",
       "</style>\n",
       "<table border=\"1\" class=\"dataframe\">\n",
       "  <thead>\n",
       "    <tr style=\"text-align: right;\">\n",
       "      <th></th>\n",
       "      <th>Attribute</th>\n",
       "      <th>Value</th>\n",
       "      <th>mean_TrAdaBoost</th>\n",
       "      <th>mean_direct</th>\n",
       "      <th>se_TrAdaBoost</th>\n",
       "      <th>se_direct</th>\n",
       "    </tr>\n",
       "  </thead>\n",
       "  <tbody>\n",
       "    <tr>\n",
       "      <th>0</th>\n",
       "      <td>STDNT_ETHNC_grouped</td>\n",
       "      <td>1</td>\n",
       "      <td>-0.175356</td>\n",
       "      <td>-0.318768</td>\n",
       "      <td>0.055749</td>\n",
       "      <td>0.010312</td>\n",
       "    </tr>\n",
       "    <tr>\n",
       "      <th>1</th>\n",
       "      <td>STDNT_ETHNC_grouped</td>\n",
       "      <td>0</td>\n",
       "      <td>0.000000</td>\n",
       "      <td>0.000000</td>\n",
       "      <td>0.000000</td>\n",
       "      <td>0.000000</td>\n",
       "    </tr>\n",
       "    <tr>\n",
       "      <th>2</th>\n",
       "      <td>STDNT_ETHNC_grouped</td>\n",
       "      <td>2</td>\n",
       "      <td>0.041737</td>\n",
       "      <td>0.035988</td>\n",
       "      <td>0.011911</td>\n",
       "      <td>0.018007</td>\n",
       "    </tr>\n",
       "    <tr>\n",
       "      <th>3</th>\n",
       "      <td>STDNT_FEMALE</td>\n",
       "      <td>0</td>\n",
       "      <td>0.000000</td>\n",
       "      <td>0.000000</td>\n",
       "      <td>0.000000</td>\n",
       "      <td>0.000000</td>\n",
       "    </tr>\n",
       "    <tr>\n",
       "      <th>4</th>\n",
       "      <td>STDNT_FEMALE</td>\n",
       "      <td>1</td>\n",
       "      <td>-0.011782</td>\n",
       "      <td>0.081172</td>\n",
       "      <td>0.037388</td>\n",
       "      <td>0.036665</td>\n",
       "    </tr>\n",
       "  </tbody>\n",
       "</table>\n",
       "</div>"
      ],
      "text/plain": [
       "             Attribute Value  mean_TrAdaBoost  mean_direct  se_TrAdaBoost  \\\n",
       "0  STDNT_ETHNC_grouped     1        -0.175356    -0.318768       0.055749   \n",
       "1  STDNT_ETHNC_grouped     0         0.000000     0.000000       0.000000   \n",
       "2  STDNT_ETHNC_grouped     2         0.041737     0.035988       0.011911   \n",
       "3         STDNT_FEMALE     0         0.000000     0.000000       0.000000   \n",
       "4         STDNT_FEMALE     1        -0.011782     0.081172       0.037388   \n",
       "\n",
       "   se_direct  \n",
       "0   0.010312  \n",
       "1   0.000000  \n",
       "2   0.018007  \n",
       "3   0.000000  \n",
       "4   0.036665  "
      ]
     },
     "execution_count": 33,
     "metadata": {},
     "output_type": "execute_result"
    }
   ],
   "source": [
    "cv_res_TrAdaBoost['equal_opportunity_diff'][['Attribute', 'Value', 'mean', 'se']].merge(\n",
    "    cv_res_direct['equal_opportunity_diff'][['Attribute', 'Value', 'mean', 'se']], \n",
    "    on=['Attribute', 'Value'],\n",
    "    suffixes=('_TrAdaBoost', '_direct')\n",
    "    )[['Attribute', 'Value', 'mean_TrAdaBoost', 'mean_direct', 'se_TrAdaBoost', 'se_direct']]"
   ]
  },
  {
   "cell_type": "markdown",
   "id": "72f671a3-27d8-4c56-8e97-d3fe520eb771",
   "metadata": {},
   "source": [
    "### Generalized entropy index"
   ]
  },
  {
   "cell_type": "code",
   "execution_count": 34,
   "id": "d898963f-74e3-4901-9f75-86fb9b6d735a",
   "metadata": {
    "tags": []
   },
   "outputs": [
    {
     "data": {
      "text/html": [
       "<div>\n",
       "<style scoped>\n",
       "    .dataframe tbody tr th:only-of-type {\n",
       "        vertical-align: middle;\n",
       "    }\n",
       "\n",
       "    .dataframe tbody tr th {\n",
       "        vertical-align: top;\n",
       "    }\n",
       "\n",
       "    .dataframe thead th {\n",
       "        text-align: right;\n",
       "    }\n",
       "</style>\n",
       "<table border=\"1\" class=\"dataframe\">\n",
       "  <thead>\n",
       "    <tr style=\"text-align: right;\">\n",
       "      <th></th>\n",
       "      <th>split_0</th>\n",
       "      <th>split_1</th>\n",
       "      <th>split_2</th>\n",
       "      <th>mean</th>\n",
       "      <th>se</th>\n",
       "    </tr>\n",
       "  </thead>\n",
       "  <tbody>\n",
       "    <tr>\n",
       "      <th>generalized_entropy</th>\n",
       "      <td>0.367347</td>\n",
       "      <td>0.292453</td>\n",
       "      <td>0.423913</td>\n",
       "      <td>0.361238</td>\n",
       "      <td>0.038072</td>\n",
       "    </tr>\n",
       "    <tr>\n",
       "      <th>between_groups</th>\n",
       "      <td>0.023941</td>\n",
       "      <td>0.007034</td>\n",
       "      <td>0.005765</td>\n",
       "      <td>0.012247</td>\n",
       "      <td>0.005858</td>\n",
       "    </tr>\n",
       "  </tbody>\n",
       "</table>\n",
       "</div>"
      ],
      "text/plain": [
       "                      split_0   split_1   split_2      mean        se\n",
       "generalized_entropy  0.367347  0.292453  0.423913  0.361238  0.038072\n",
       "between_groups       0.023941  0.007034  0.005765  0.012247  0.005858"
      ]
     },
     "execution_count": 34,
     "metadata": {},
     "output_type": "execute_result"
    }
   ],
   "source": [
    "cv_res_TrAdaBoost['gen_entropy']"
   ]
  },
  {
   "cell_type": "code",
   "execution_count": 35,
   "id": "abeb62d1-448b-4e03-a512-836def897cc2",
   "metadata": {
    "tags": []
   },
   "outputs": [
    {
     "data": {
      "text/html": [
       "<div>\n",
       "<style scoped>\n",
       "    .dataframe tbody tr th:only-of-type {\n",
       "        vertical-align: middle;\n",
       "    }\n",
       "\n",
       "    .dataframe tbody tr th {\n",
       "        vertical-align: top;\n",
       "    }\n",
       "\n",
       "    .dataframe thead th {\n",
       "        text-align: right;\n",
       "    }\n",
       "</style>\n",
       "<table border=\"1\" class=\"dataframe\">\n",
       "  <thead>\n",
       "    <tr style=\"text-align: right;\">\n",
       "      <th></th>\n",
       "      <th>mean_TrAdaBoost</th>\n",
       "      <th>mean_direct</th>\n",
       "      <th>se_TrAdaBoost</th>\n",
       "      <th>se_direct</th>\n",
       "    </tr>\n",
       "  </thead>\n",
       "  <tbody>\n",
       "    <tr>\n",
       "      <th>generalized_entropy</th>\n",
       "      <td>0.361238</td>\n",
       "      <td>0.391618</td>\n",
       "      <td>0.038072</td>\n",
       "      <td>0.041218</td>\n",
       "    </tr>\n",
       "    <tr>\n",
       "      <th>between_groups</th>\n",
       "      <td>0.012247</td>\n",
       "      <td>0.034106</td>\n",
       "      <td>0.005858</td>\n",
       "      <td>0.003700</td>\n",
       "    </tr>\n",
       "  </tbody>\n",
       "</table>\n",
       "</div>"
      ],
      "text/plain": [
       "                     mean_TrAdaBoost  mean_direct  se_TrAdaBoost  se_direct\n",
       "generalized_entropy         0.361238     0.391618       0.038072   0.041218\n",
       "between_groups              0.012247     0.034106       0.005858   0.003700"
      ]
     },
     "execution_count": 35,
     "metadata": {},
     "output_type": "execute_result"
    }
   ],
   "source": [
    "cv_res_TrAdaBoost['gen_entropy'][['mean', 'se']].merge(\n",
    "    cv_res_direct['gen_entropy'][['mean', 'se']], \n",
    "    left_index=True, right_index=True,\n",
    "    suffixes=('_TrAdaBoost', '_direct')\n",
    "    )[['mean_TrAdaBoost', 'mean_direct', 'se_TrAdaBoost', 'se_direct']]"
   ]
  },
  {
   "cell_type": "markdown",
   "id": "5524129d-8173-49b7-9f2a-0ba2a9c7021a",
   "metadata": {},
   "source": [
    "### Generalized entropy index that takes into account the risk ranks of students"
   ]
  },
  {
   "cell_type": "code",
   "execution_count": 36,
   "id": "c680a632-11f6-4047-884c-6b9169ea1d84",
   "metadata": {
    "tags": []
   },
   "outputs": [
    {
     "data": {
      "text/html": [
       "<div>\n",
       "<style scoped>\n",
       "    .dataframe tbody tr th:only-of-type {\n",
       "        vertical-align: middle;\n",
       "    }\n",
       "\n",
       "    .dataframe tbody tr th {\n",
       "        vertical-align: top;\n",
       "    }\n",
       "\n",
       "    .dataframe thead th {\n",
       "        text-align: right;\n",
       "    }\n",
       "</style>\n",
       "<table border=\"1\" class=\"dataframe\">\n",
       "  <thead>\n",
       "    <tr style=\"text-align: right;\">\n",
       "      <th></th>\n",
       "      <th>split_0</th>\n",
       "      <th>split_1</th>\n",
       "      <th>split_2</th>\n",
       "      <th>mean</th>\n",
       "      <th>se</th>\n",
       "    </tr>\n",
       "  </thead>\n",
       "  <tbody>\n",
       "    <tr>\n",
       "      <th>generalized_entropy_ranks</th>\n",
       "      <td>0.542604</td>\n",
       "      <td>0.434615</td>\n",
       "      <td>0.594399</td>\n",
       "      <td>0.523873</td>\n",
       "      <td>0.047067</td>\n",
       "    </tr>\n",
       "    <tr>\n",
       "      <th>between_groups_ranks</th>\n",
       "      <td>0.027645</td>\n",
       "      <td>0.010681</td>\n",
       "      <td>0.040143</td>\n",
       "      <td>0.026156</td>\n",
       "      <td>0.008537</td>\n",
       "    </tr>\n",
       "  </tbody>\n",
       "</table>\n",
       "</div>"
      ],
      "text/plain": [
       "                            split_0   split_1   split_2      mean        se\n",
       "generalized_entropy_ranks  0.542604  0.434615  0.594399  0.523873  0.047067\n",
       "between_groups_ranks       0.027645  0.010681  0.040143  0.026156  0.008537"
      ]
     },
     "execution_count": 36,
     "metadata": {},
     "output_type": "execute_result"
    }
   ],
   "source": [
    "cv_res_TrAdaBoost['gen_entropy_ranks']"
   ]
  },
  {
   "cell_type": "code",
   "execution_count": 37,
   "id": "dc2d30f0-f595-4827-ab61-96a04f8de558",
   "metadata": {
    "tags": []
   },
   "outputs": [
    {
     "data": {
      "text/html": [
       "<div>\n",
       "<style scoped>\n",
       "    .dataframe tbody tr th:only-of-type {\n",
       "        vertical-align: middle;\n",
       "    }\n",
       "\n",
       "    .dataframe tbody tr th {\n",
       "        vertical-align: top;\n",
       "    }\n",
       "\n",
       "    .dataframe thead th {\n",
       "        text-align: right;\n",
       "    }\n",
       "</style>\n",
       "<table border=\"1\" class=\"dataframe\">\n",
       "  <thead>\n",
       "    <tr style=\"text-align: right;\">\n",
       "      <th></th>\n",
       "      <th>mean_TrAdaBoost</th>\n",
       "      <th>mean_direct</th>\n",
       "      <th>se_TrAdaBoost</th>\n",
       "      <th>se_direct</th>\n",
       "    </tr>\n",
       "  </thead>\n",
       "  <tbody>\n",
       "    <tr>\n",
       "      <th>generalized_entropy_ranks</th>\n",
       "      <td>0.523873</td>\n",
       "      <td>0.542813</td>\n",
       "      <td>0.047067</td>\n",
       "      <td>0.048140</td>\n",
       "    </tr>\n",
       "    <tr>\n",
       "      <th>between_groups_ranks</th>\n",
       "      <td>0.026156</td>\n",
       "      <td>0.037075</td>\n",
       "      <td>0.008537</td>\n",
       "      <td>0.009639</td>\n",
       "    </tr>\n",
       "  </tbody>\n",
       "</table>\n",
       "</div>"
      ],
      "text/plain": [
       "                           mean_TrAdaBoost  mean_direct  se_TrAdaBoost  \\\n",
       "generalized_entropy_ranks         0.523873     0.542813       0.047067   \n",
       "between_groups_ranks              0.026156     0.037075       0.008537   \n",
       "\n",
       "                           se_direct  \n",
       "generalized_entropy_ranks   0.048140  \n",
       "between_groups_ranks        0.009639  "
      ]
     },
     "execution_count": 37,
     "metadata": {},
     "output_type": "execute_result"
    }
   ],
   "source": [
    "cv_res_TrAdaBoost['gen_entropy_ranks'][['mean', 'se']].merge(\n",
    "    cv_res_direct['gen_entropy_ranks'][['mean', 'se']], \n",
    "    left_index=True, right_index=True,\n",
    "    suffixes=('_TrAdaBoost', '_direct')\n",
    "    )[['mean_TrAdaBoost', 'mean_direct', 'se_TrAdaBoost', 'se_direct']]"
   ]
  }
 ],
 "metadata": {
  "kernelspec": {
   "display_name": "sklearn-env",
   "language": "python",
   "name": "sklearn-env"
  },
  "language_info": {
   "codemirror_mode": {
    "name": "ipython",
    "version": 3
   },
   "file_extension": ".py",
   "mimetype": "text/x-python",
   "name": "python",
   "nbconvert_exporter": "python",
   "pygments_lexer": "ipython3",
   "version": "3.11.0"
  }
 },
 "nbformat": 4,
 "nbformat_minor": 5
}

{
 "cells": [
  {
   "cell_type": "markdown",
   "id": "3d5f35fe-7880-46ec-8959-a759cab12012",
   "metadata": {},
   "source": [
    "# Source Model"
   ]
  },
  {
   "cell_type": "code",
   "execution_count": 1,
   "id": "3f642cc3-6108-4f4f-925b-6aa3f7bc7830",
   "metadata": {
    "tags": []
   },
   "outputs": [],
   "source": [
    "import pandas as pd\n",
    "import numpy as np\n",
    "import ast\n",
    "import time\n",
    "import matplotlib.pyplot as plt\n",
    "import seaborn as sns\n",
    "from sklearn.pipeline import Pipeline\n",
    "from sklearn.model_selection import train_test_split\n",
    "from sklearn.model_selection import cross_validate\n",
    "from sklearn.linear_model import LogisticRegression\n",
    "from sklearn.metrics import roc_auc_score\n",
    "from sklearn.base import clone"
   ]
  },
  {
   "cell_type": "code",
   "execution_count": 2,
   "id": "1337a168-b811-461b-b09a-c316e0afaeb2",
   "metadata": {
    "tags": []
   },
   "outputs": [],
   "source": [
    "# Imputation\n",
    "from transformers.features_missing_vals import imputation_pipeline\n",
    "from transformers.filter_columns import FilterColumns"
   ]
  },
  {
   "cell_type": "code",
   "execution_count": 3,
   "id": "613e76d1-aedc-41a3-9999-4026ccc5fd0b",
   "metadata": {
    "tags": []
   },
   "outputs": [],
   "source": [
    "# Univariate analysis\n",
    "from univariate.vis_relationships_with_y import plot_dropout_rate\n",
    "from univariate.calc_univariate_AUC import univariate_auc"
   ]
  },
  {
   "cell_type": "code",
   "execution_count": 4,
   "id": "95d3e35f-cff3-44e1-aebd-27bc3c3a2621",
   "metadata": {
    "tags": []
   },
   "outputs": [],
   "source": [
    "# Multivariate Analysis\n",
    "from multivariate.models_list import create_list_of_models\n",
    "from multivariate.model_selection import cross_validate_AUC_entropy\n",
    "from multivariate.model_selection import check_model_signs\n",
    "from multivariate.model_selection import plot_cv_selected_models\n",
    "\n",
    "from model_evaluation.metrics import fit_test_model\n",
    "\n",
    "from fairness.customized_entropy import calc_educ_rank_benefits"
   ]
  },
  {
   "cell_type": "markdown",
   "id": "40ab10a9-2f64-4f36-877d-a361218804e3",
   "metadata": {},
   "source": [
    "# Params"
   ]
  },
  {
   "cell_type": "code",
   "execution_count": 5,
   "id": "ab3970c3-4426-4670-b31d-c2dc576af188",
   "metadata": {
    "tags": []
   },
   "outputs": [],
   "source": [
    "source_school = 'ULSA'"
   ]
  },
  {
   "cell_type": "code",
   "execution_count": 6,
   "id": "fd655bdf-3f01-46d3-a371-e151fe5071f8",
   "metadata": {
    "tags": []
   },
   "outputs": [],
   "source": [
    "random_state = 1"
   ]
  },
  {
   "cell_type": "code",
   "execution_count": 7,
   "id": "13ec8f36-cae0-4454-badc-22d8998ac3b0",
   "metadata": {
    "tags": []
   },
   "outputs": [],
   "source": [
    "clf_model = LogisticRegression(penalty=None, random_state=random_state, max_iter=10000)"
   ]
  },
  {
   "cell_type": "markdown",
   "id": "0cdcc76e-d967-4f38-8d4e-dfc5dcb36784",
   "metadata": {},
   "source": [
    "# Data Loading"
   ]
  },
  {
   "cell_type": "code",
   "execution_count": 8,
   "id": "8170564e-8ca4-4775-b539-7a5e751bc0b5",
   "metadata": {
    "tags": []
   },
   "outputs": [],
   "source": [
    "features_df = pd.read_csv('features_df.csv', low_memory=False)\n",
    "source_df = features_df[features_df['PRMRY_CRER_CD']==source_school].copy()"
   ]
  },
  {
   "cell_type": "markdown",
   "id": "21e3f019-abcf-42e1-b1c9-282ee17afed8",
   "metadata": {},
   "source": [
    "# Train Test samples"
   ]
  },
  {
   "cell_type": "code",
   "execution_count": 9,
   "id": "905ff089-6393-44ce-9e34-eec161bcc540",
   "metadata": {
    "tags": []
   },
   "outputs": [],
   "source": [
    "sample_train, sample_test = train_test_split(source_df, test_size=0.3, random_state=random_state)"
   ]
  },
  {
   "cell_type": "code",
   "execution_count": null,
   "id": "cc977814-1b5c-4a1e-89c9-e408d2b2ab26",
   "metadata": {
    "tags": []
   },
   "outputs": [],
   "source": [
    "# Dropout rate train sample\n",
    "# Cell outputs are cleared to prevent information disclosure\n",
    "sample_train['y_ENROLLED_1_YEAR_LATER'].mean()"
   ]
  },
  {
   "cell_type": "code",
   "execution_count": null,
   "id": "eb967913-c5fc-4e20-b29f-8c216d830a70",
   "metadata": {
    "tags": []
   },
   "outputs": [],
   "source": [
    "# Dropout rate test sample\n",
    "# Cell outputs are cleared to prevent information disclosure\n",
    "sample_test['y_ENROLLED_1_YEAR_LATER'].mean()"
   ]
  },
  {
   "cell_type": "code",
   "execution_count": 12,
   "id": "6d1a59e6-1b19-4fa6-89df-f021822b9137",
   "metadata": {
    "tags": []
   },
   "outputs": [],
   "source": [
    "# Impute missing values and WoE for categorical features\n",
    "sample_train_imp = imputation_pipeline.fit_transform(sample_train, sample_train['y_ENROLLED_1_YEAR_LATER'])"
   ]
  },
  {
   "cell_type": "markdown",
   "id": "cc165663-5ef3-4e54-a2bc-22982e88789b",
   "metadata": {
    "tags": []
   },
   "source": [
    "# Univariate Analysis for the Source School"
   ]
  },
  {
   "cell_type": "markdown",
   "id": "35c31ff5-e1e6-4487-ac7c-88881440ae08",
   "metadata": {},
   "source": [
    "### Exploring relationships between response and independent variables\n",
    "Cell outputs are cleared to prevent information disclosure"
   ]
  },
  {
   "cell_type": "code",
   "execution_count": null,
   "id": "4f9bb448",
   "metadata": {
    "tags": []
   },
   "outputs": [],
   "source": [
    "plot_dropout_rate(sample_train, 'STDNT_AGE_BIN', 'Student Age')"
   ]
  },
  {
   "cell_type": "code",
   "execution_count": null,
   "id": "f6f093a5-c4ba-4bc8-a089-9469060d631c",
   "metadata": {
    "tags": []
   },
   "outputs": [],
   "source": [
    "plot_dropout_rate(sample_train, 'HS_GPA_BIN', 'High school GPA', rotate=True)"
   ]
  },
  {
   "cell_type": "code",
   "execution_count": null,
   "id": "1b19a890-022a-4904-a922-db87cfed4a86",
   "metadata": {
    "tags": []
   },
   "outputs": [],
   "source": [
    "plot_dropout_rate(sample_train, 'CURR_GPA_BIN', 'Current GPA', rotate=True)"
   ]
  },
  {
   "cell_type": "code",
   "execution_count": null,
   "id": "cf32c9f1-9b80-442b-9428-a5297fec1064",
   "metadata": {
    "tags": []
   },
   "outputs": [],
   "source": [
    "plot_dropout_rate(sample_train, 'HS_CALC_IND', 'High School Calculus')\n",
    "# 1 - Student completed High School Calculus"
   ]
  },
  {
   "cell_type": "code",
   "execution_count": null,
   "id": "0654301a-bd65-46e3-8293-890d1b684162",
   "metadata": {
    "tags": []
   },
   "outputs": [],
   "source": [
    "plot_dropout_rate(sample_train, 'GROSS_FAM_INC', 'Gross Family income', sort=True, rotate=True)"
   ]
  },
  {
   "cell_type": "code",
   "execution_count": null,
   "id": "2fc787a8-2dbe-42f1-bda1-ed22f42f1f65",
   "metadata": {
    "tags": []
   },
   "outputs": [],
   "source": [
    "plot_dropout_rate(sample_train, 'SNGL_PRNT_IND', 'Single parent')"
   ]
  },
  {
   "cell_type": "code",
   "execution_count": null,
   "id": "4a48798e-021d-4543-a388-0a40722c01e0",
   "metadata": {
    "tags": []
   },
   "outputs": [],
   "source": [
    "dic = {1: 'White', 2: 'Black', 3: 'Hispanic', \n",
    "       4: 'Asian', 5: 'Native Amr\\nHawaiian', 6: 'Not Indic', \n",
    "       7: 'Hawaiian', 0: '2 or More'}\n",
    "plot_dropout_rate(sample_train, 'STDNT_ETHNC_GRP_CD', 'Ethnicity', sort=True, rotate=True, dic=dic)"
   ]
  },
  {
   "cell_type": "code",
   "execution_count": null,
   "id": "4e685a6f-2188-4e95-8db6-b79552082f67",
   "metadata": {
    "tags": []
   },
   "outputs": [],
   "source": [
    "plot_dropout_rate(sample_train, 'SAT_TOTAL_BIN', 'SAT', rotate=True)"
   ]
  },
  {
   "cell_type": "code",
   "execution_count": null,
   "id": "3e2b7416-6f18-4d4b-bc84-56c1766ceab7",
   "metadata": {
    "tags": []
   },
   "outputs": [],
   "source": [
    "plot_dropout_rate(sample_train, 'SAT_ACT_TOTAL_BIN', 'SAT, imputing missing values with ACT', rotate=True)"
   ]
  },
  {
   "cell_type": "code",
   "execution_count": null,
   "id": "adcc2cbc-3c97-4401-b40e-977ef1a5a10f",
   "metadata": {
    "tags": []
   },
   "outputs": [],
   "source": [
    "plot_dropout_rate(sample_train, 'PRNT_ED_LVL', 'Parent Education Level', sort=True, rotate=True)"
   ]
  },
  {
   "cell_type": "code",
   "execution_count": null,
   "id": "fadd2f34-76be-499b-b91d-6514a897db27",
   "metadata": {
    "tags": []
   },
   "outputs": [],
   "source": [
    "plot_dropout_rate(sample_train, 'ACAD_LOAD', 'Academic Load', sort=True)"
   ]
  },
  {
   "cell_type": "code",
   "execution_count": null,
   "id": "16f1499c-e651-4b3c-9bff-14f49a82c39b",
   "metadata": {
    "tags": []
   },
   "outputs": [],
   "source": [
    "plot_dropout_rate(sample_train, 'No_grades_at_all', 'Absence of course grade data')"
   ]
  },
  {
   "cell_type": "code",
   "execution_count": null,
   "id": "dfc65c4b-e0fd-40f1-aefc-5a18262d6699",
   "metadata": {
    "tags": []
   },
   "outputs": [],
   "source": [
    "plot_dropout_rate(sample_train, 'Grade_I_num_of_courses', 'Grade Incomplete')"
   ]
  },
  {
   "cell_type": "code",
   "execution_count": null,
   "id": "2aa171de-5fff-4e52-954b-3cd3ff889ee0",
   "metadata": {
    "tags": []
   },
   "outputs": [],
   "source": [
    "plot_dropout_rate(sample_train, 'Grade_II_num_of_courses', 'Incomplete courses that were finished')"
   ]
  },
  {
   "cell_type": "code",
   "execution_count": null,
   "id": "ce4b7a79-bc3f-4994-92e8-8dd287331e2b",
   "metadata": {
    "tags": []
   },
   "outputs": [],
   "source": [
    "plot_dropout_rate(sample_train, 'Grade_Overall_I_num_of_courses', 'All incomplete courses finished/unfinished')"
   ]
  },
  {
   "cell_type": "code",
   "execution_count": null,
   "id": "e39176f6-a635-4f16-9e21-c81ec266a860",
   "metadata": {
    "tags": []
   },
   "outputs": [],
   "source": [
    "plot_dropout_rate(sample_train, 'Grade_W_num_of_courses', 'Official Withdrawals')"
   ]
  },
  {
   "cell_type": "code",
   "execution_count": null,
   "id": "bfea2c70-55be-4bda-b61c-a118078ea4e7",
   "metadata": {
    "tags": []
   },
   "outputs": [],
   "source": [
    "plot_dropout_rate(sample_train, 'Grade_Y_num_of_courses', \"Grade 'Y' (work in progress)\")"
   ]
  },
  {
   "cell_type": "code",
   "execution_count": null,
   "id": "c9bdcbcb-f8f1-4019-9e27-82ee82c99d9c",
   "metadata": {
    "tags": []
   },
   "outputs": [],
   "source": [
    "plot_dropout_rate(sample_train, 'Grade_NR_num_of_courses', \"Grade 'NR' (student stops attending)\")"
   ]
  },
  {
   "cell_type": "markdown",
   "id": "5c33e642-65a0-4d22-8e62-d4da2987c307",
   "metadata": {},
   "source": [
    "## Univariate AUC"
   ]
  },
  {
   "cell_type": "markdown",
   "id": "c0f60597-e86d-46ce-9371-ad1c74ee41de",
   "metadata": {},
   "source": [
    "### Group of factors"
   ]
  },
  {
   "cell_type": "code",
   "execution_count": 31,
   "id": "a044c077-1acc-418b-9c85-aebe242fedf6",
   "metadata": {
    "tags": []
   },
   "outputs": [],
   "source": [
    "# Factors\n",
    "factors = ['STDNT_FEMALE', \n",
    "           'STDNT_AGE_BIN',\n",
    "           'HS_GPA_BIN', ['HS_GPA_IsMissing', 'HS_GPA_Imp'], 'HS_GPA_Imp_Interp',\n",
    "           'CURR_GPA', 'CURR_GPA_BIN',\n",
    "           'HS_CALC_IND',\n",
    "           'GROSS_FAM_INC','SNGL_PRNT_IND',\n",
    "           'STDNT_ETHNC_GRP_CD', ['STDNT_ASIAN_IND', 'STDNT_BLACK_IND', 'STDNT_HSPNC_IND', \n",
    "                                  'STDNT_NTV_AMRCN_HWIAN_IND', 'STDNT_MULTI_ETHNC_IND', 'STDNT_ETHNC_NAN'],\n",
    "           'SAT_ACT_TOTAL_BIN', \n",
    "           ['SAT_ACT_TOTAL_SCR_IsMissing', 'SAT_ACT_TOTAL_SCR_Imp'], 'SAT_ACT_TOTAL_SCR_Imp_Interp', \n",
    "           ['ACT_SAT_TOTAL_SCR_IsMissing', 'ACT_SAT_TOTAL_SCR_Imp'], \n",
    "           ['ACT_SAT_MATH_PCTL_IsMissing', 'ACT_SAT_MATH_PCTL_Imp'],  \n",
    "           ['SAT_ACT_MATH_PCTL_IsMissing', 'SAT_ACT_MATH_PCTL_Imp'], \n",
    "           'PRNT_ED_LVL', 'ACAD_LOAD',\n",
    "           'No_grades_at_all', \n",
    "           'Grade_Overall_I_for_1_and_more_courses',\n",
    "           ['Grade_W_for_1_course', 'Grade_W_for_2_courses', 'Grade_W_for_3_and_more_courses'],\n",
    "           'Grade_NR_for_1_and_more_courses'\n",
    "           ]\n",
    "\n",
    "# Corresponding groups\n",
    "factors_group = ['GENDER', 'AGE', 'HS_GPA', 'HS_GPA', 'HS_GPA', 'CURR_GPA', 'CURR_GPA',\n",
    "                 'HS_CALCULUS', 'FAMILY_INCOME', 'SINGLE_PARENT', 'ETHNICITY', 'ETHNICITY',\n",
    "                 'SAT', 'SAT', 'SAT', 'SAT', \n",
    "                 'SAT_MATH', 'SAT_MATH', \n",
    "                 'PARENT_EDUCATION', 'ACAD_LOAD',\n",
    "                 'WARNING_SIGNALS', 'WARNING_SIGNALS', 'WARNING_SIGNALS', 'WARNING_SIGNALS']"
   ]
  },
  {
   "cell_type": "code",
   "execution_count": 32,
   "id": "001a740b-a35e-4bca-83f0-4d41c6d2e218",
   "metadata": {
    "tags": []
   },
   "outputs": [],
   "source": [
    "d = {'Group': factors_group, 'Factor': factors}\n",
    "factors_df = pd.DataFrame(data=d)"
   ]
  },
  {
   "cell_type": "code",
   "execution_count": 33,
   "id": "0af888b9-41fb-491a-91b8-521c92fcdc5d",
   "metadata": {
    "tags": []
   },
   "outputs": [
    {
     "data": {
      "text/html": [
       "<div>\n",
       "<style scoped>\n",
       "    .dataframe tbody tr th:only-of-type {\n",
       "        vertical-align: middle;\n",
       "    }\n",
       "\n",
       "    .dataframe tbody tr th {\n",
       "        vertical-align: top;\n",
       "    }\n",
       "\n",
       "    .dataframe thead th {\n",
       "        text-align: right;\n",
       "    }\n",
       "</style>\n",
       "<table border=\"1\" class=\"dataframe\">\n",
       "  <thead>\n",
       "    <tr style=\"text-align: right;\">\n",
       "      <th></th>\n",
       "      <th>Group</th>\n",
       "      <th>Factor</th>\n",
       "    </tr>\n",
       "  </thead>\n",
       "  <tbody>\n",
       "    <tr>\n",
       "      <th>0</th>\n",
       "      <td>GENDER</td>\n",
       "      <td>STDNT_FEMALE</td>\n",
       "    </tr>\n",
       "    <tr>\n",
       "      <th>1</th>\n",
       "      <td>AGE</td>\n",
       "      <td>STDNT_AGE_BIN</td>\n",
       "    </tr>\n",
       "    <tr>\n",
       "      <th>2</th>\n",
       "      <td>HS_GPA</td>\n",
       "      <td>HS_GPA_BIN</td>\n",
       "    </tr>\n",
       "    <tr>\n",
       "      <th>3</th>\n",
       "      <td>HS_GPA</td>\n",
       "      <td>[HS_GPA_IsMissing, HS_GPA_Imp]</td>\n",
       "    </tr>\n",
       "    <tr>\n",
       "      <th>4</th>\n",
       "      <td>HS_GPA</td>\n",
       "      <td>HS_GPA_Imp_Interp</td>\n",
       "    </tr>\n",
       "    <tr>\n",
       "      <th>5</th>\n",
       "      <td>CURR_GPA</td>\n",
       "      <td>CURR_GPA</td>\n",
       "    </tr>\n",
       "    <tr>\n",
       "      <th>6</th>\n",
       "      <td>CURR_GPA</td>\n",
       "      <td>CURR_GPA_BIN</td>\n",
       "    </tr>\n",
       "    <tr>\n",
       "      <th>7</th>\n",
       "      <td>HS_CALCULUS</td>\n",
       "      <td>HS_CALC_IND</td>\n",
       "    </tr>\n",
       "    <tr>\n",
       "      <th>8</th>\n",
       "      <td>FAMILY_INCOME</td>\n",
       "      <td>GROSS_FAM_INC</td>\n",
       "    </tr>\n",
       "    <tr>\n",
       "      <th>9</th>\n",
       "      <td>SINGLE_PARENT</td>\n",
       "      <td>SNGL_PRNT_IND</td>\n",
       "    </tr>\n",
       "    <tr>\n",
       "      <th>10</th>\n",
       "      <td>ETHNICITY</td>\n",
       "      <td>STDNT_ETHNC_GRP_CD</td>\n",
       "    </tr>\n",
       "    <tr>\n",
       "      <th>11</th>\n",
       "      <td>ETHNICITY</td>\n",
       "      <td>[STDNT_ASIAN_IND, STDNT_BLACK_IND, STDNT_HSPNC...</td>\n",
       "    </tr>\n",
       "    <tr>\n",
       "      <th>12</th>\n",
       "      <td>SAT</td>\n",
       "      <td>SAT_ACT_TOTAL_BIN</td>\n",
       "    </tr>\n",
       "    <tr>\n",
       "      <th>13</th>\n",
       "      <td>SAT</td>\n",
       "      <td>[SAT_ACT_TOTAL_SCR_IsMissing, SAT_ACT_TOTAL_SC...</td>\n",
       "    </tr>\n",
       "    <tr>\n",
       "      <th>14</th>\n",
       "      <td>SAT</td>\n",
       "      <td>SAT_ACT_TOTAL_SCR_Imp_Interp</td>\n",
       "    </tr>\n",
       "    <tr>\n",
       "      <th>15</th>\n",
       "      <td>SAT</td>\n",
       "      <td>[ACT_SAT_TOTAL_SCR_IsMissing, ACT_SAT_TOTAL_SC...</td>\n",
       "    </tr>\n",
       "    <tr>\n",
       "      <th>16</th>\n",
       "      <td>SAT_MATH</td>\n",
       "      <td>[ACT_SAT_MATH_PCTL_IsMissing, ACT_SAT_MATH_PCT...</td>\n",
       "    </tr>\n",
       "    <tr>\n",
       "      <th>17</th>\n",
       "      <td>SAT_MATH</td>\n",
       "      <td>[SAT_ACT_MATH_PCTL_IsMissing, SAT_ACT_MATH_PCT...</td>\n",
       "    </tr>\n",
       "    <tr>\n",
       "      <th>18</th>\n",
       "      <td>PARENT_EDUCATION</td>\n",
       "      <td>PRNT_ED_LVL</td>\n",
       "    </tr>\n",
       "    <tr>\n",
       "      <th>19</th>\n",
       "      <td>ACAD_LOAD</td>\n",
       "      <td>ACAD_LOAD</td>\n",
       "    </tr>\n",
       "    <tr>\n",
       "      <th>20</th>\n",
       "      <td>WARNING_SIGNALS</td>\n",
       "      <td>No_grades_at_all</td>\n",
       "    </tr>\n",
       "    <tr>\n",
       "      <th>21</th>\n",
       "      <td>WARNING_SIGNALS</td>\n",
       "      <td>Grade_Overall_I_for_1_and_more_courses</td>\n",
       "    </tr>\n",
       "    <tr>\n",
       "      <th>22</th>\n",
       "      <td>WARNING_SIGNALS</td>\n",
       "      <td>[Grade_W_for_1_course, Grade_W_for_2_courses, ...</td>\n",
       "    </tr>\n",
       "    <tr>\n",
       "      <th>23</th>\n",
       "      <td>WARNING_SIGNALS</td>\n",
       "      <td>Grade_NR_for_1_and_more_courses</td>\n",
       "    </tr>\n",
       "  </tbody>\n",
       "</table>\n",
       "</div>"
      ],
      "text/plain": [
       "               Group                                             Factor\n",
       "0             GENDER                                       STDNT_FEMALE\n",
       "1                AGE                                      STDNT_AGE_BIN\n",
       "2             HS_GPA                                         HS_GPA_BIN\n",
       "3             HS_GPA                     [HS_GPA_IsMissing, HS_GPA_Imp]\n",
       "4             HS_GPA                                  HS_GPA_Imp_Interp\n",
       "5           CURR_GPA                                           CURR_GPA\n",
       "6           CURR_GPA                                       CURR_GPA_BIN\n",
       "7        HS_CALCULUS                                        HS_CALC_IND\n",
       "8      FAMILY_INCOME                                      GROSS_FAM_INC\n",
       "9      SINGLE_PARENT                                      SNGL_PRNT_IND\n",
       "10         ETHNICITY                                 STDNT_ETHNC_GRP_CD\n",
       "11         ETHNICITY  [STDNT_ASIAN_IND, STDNT_BLACK_IND, STDNT_HSPNC...\n",
       "12               SAT                                  SAT_ACT_TOTAL_BIN\n",
       "13               SAT  [SAT_ACT_TOTAL_SCR_IsMissing, SAT_ACT_TOTAL_SC...\n",
       "14               SAT                       SAT_ACT_TOTAL_SCR_Imp_Interp\n",
       "15               SAT  [ACT_SAT_TOTAL_SCR_IsMissing, ACT_SAT_TOTAL_SC...\n",
       "16          SAT_MATH  [ACT_SAT_MATH_PCTL_IsMissing, ACT_SAT_MATH_PCT...\n",
       "17          SAT_MATH  [SAT_ACT_MATH_PCTL_IsMissing, SAT_ACT_MATH_PCT...\n",
       "18  PARENT_EDUCATION                                        PRNT_ED_LVL\n",
       "19         ACAD_LOAD                                          ACAD_LOAD\n",
       "20   WARNING_SIGNALS                                   No_grades_at_all\n",
       "21   WARNING_SIGNALS             Grade_Overall_I_for_1_and_more_courses\n",
       "22   WARNING_SIGNALS  [Grade_W_for_1_course, Grade_W_for_2_courses, ...\n",
       "23   WARNING_SIGNALS                    Grade_NR_for_1_and_more_courses"
      ]
     },
     "execution_count": 33,
     "metadata": {},
     "output_type": "execute_result"
    }
   ],
   "source": [
    "factors_df"
   ]
  },
  {
   "cell_type": "markdown",
   "id": "ff2fc3d7-d812-48ff-874d-d44497fbd8f2",
   "metadata": {},
   "source": [
    "### Signs of factors"
   ]
  },
  {
   "cell_type": "code",
   "execution_count": 34,
   "id": "a4b2ff81-af38-433d-a80d-0fae24475f01",
   "metadata": {
    "tags": []
   },
   "outputs": [],
   "source": [
    "def flatten_list(factors_list):\n",
    "    \"\"\"\n",
    "    Flattens a list that may contain other nested lists.\n",
    "    E.g., a list [a, [b, c], d] will be flattened to [a, b, c, d].\n",
    "    \n",
    "    Args:\n",
    "    factors_list (List) - List that requires flattening\n",
    "    \n",
    "    Returns:\n",
    "    flattened_list (List) - Flattened list\n",
    "    \"\"\"\n",
    "    flattened_list = []\n",
    "    \n",
    "    for factor in factors_list:\n",
    "        if type(factor)==list:\n",
    "            for subfactor in factor:\n",
    "                flattened_list.append(subfactor)\n",
    "        else:\n",
    "            flattened_list.append(factor)\n",
    "            \n",
    "            \n",
    "    return flattened_list"
   ]
  },
  {
   "cell_type": "code",
   "execution_count": 35,
   "id": "ca7b6f1c-7525-4267-b1b8-a0810076da9f",
   "metadata": {
    "tags": []
   },
   "outputs": [],
   "source": [
    "# Define the correct signs of factors' coefficients.\n",
    "# 1 indicates that a higher value of the factor corresponds to a higher dropout probability\n",
    "# -1 indicates that a higher value of the factor corresponds to a lower dropout probability\n",
    "# NaN denotes that the sign of the relationship cannot be determined based on general logic\n",
    "\n",
    "signs = [np.NaN, 1, 1, np.NaN, -1, -1, -1, 1, -1, 1, 1, 1, -1, 1, 1, 1, np.NaN, np.NaN, \n",
    "         1, np.NaN, -1, -1, np.NaN, -1, np.NaN, -1, np.NaN, -1, 1, 1, 1, 1, 1, 1, 1, 1]"
   ]
  },
  {
   "cell_type": "code",
   "execution_count": 36,
   "id": "22eb8c2c-b856-4e25-9374-7ecdc195a932",
   "metadata": {
    "tags": []
   },
   "outputs": [],
   "source": [
    "# DataFrame that specifies the correct sign for each factor\n",
    "d = {'Factor': flatten_list(factors), 'Coef_sign': signs}\n",
    "factors_sign_df = pd.DataFrame(data=d)"
   ]
  },
  {
   "cell_type": "code",
   "execution_count": 37,
   "id": "69424f00-892f-43b3-8383-a69cb7ca6791",
   "metadata": {
    "tags": []
   },
   "outputs": [
    {
     "data": {
      "text/html": [
       "<div>\n",
       "<style scoped>\n",
       "    .dataframe tbody tr th:only-of-type {\n",
       "        vertical-align: middle;\n",
       "    }\n",
       "\n",
       "    .dataframe tbody tr th {\n",
       "        vertical-align: top;\n",
       "    }\n",
       "\n",
       "    .dataframe thead th {\n",
       "        text-align: right;\n",
       "    }\n",
       "</style>\n",
       "<table border=\"1\" class=\"dataframe\">\n",
       "  <thead>\n",
       "    <tr style=\"text-align: right;\">\n",
       "      <th></th>\n",
       "      <th>Factor</th>\n",
       "      <th>Coef_sign</th>\n",
       "    </tr>\n",
       "  </thead>\n",
       "  <tbody>\n",
       "    <tr>\n",
       "      <th>0</th>\n",
       "      <td>STDNT_FEMALE</td>\n",
       "      <td>NaN</td>\n",
       "    </tr>\n",
       "    <tr>\n",
       "      <th>1</th>\n",
       "      <td>STDNT_AGE_BIN</td>\n",
       "      <td>1.0</td>\n",
       "    </tr>\n",
       "    <tr>\n",
       "      <th>2</th>\n",
       "      <td>HS_GPA_BIN</td>\n",
       "      <td>1.0</td>\n",
       "    </tr>\n",
       "    <tr>\n",
       "      <th>3</th>\n",
       "      <td>HS_GPA_IsMissing</td>\n",
       "      <td>NaN</td>\n",
       "    </tr>\n",
       "    <tr>\n",
       "      <th>4</th>\n",
       "      <td>HS_GPA_Imp</td>\n",
       "      <td>-1.0</td>\n",
       "    </tr>\n",
       "    <tr>\n",
       "      <th>5</th>\n",
       "      <td>HS_GPA_Imp_Interp</td>\n",
       "      <td>-1.0</td>\n",
       "    </tr>\n",
       "    <tr>\n",
       "      <th>6</th>\n",
       "      <td>CURR_GPA</td>\n",
       "      <td>-1.0</td>\n",
       "    </tr>\n",
       "    <tr>\n",
       "      <th>7</th>\n",
       "      <td>CURR_GPA_BIN</td>\n",
       "      <td>1.0</td>\n",
       "    </tr>\n",
       "    <tr>\n",
       "      <th>8</th>\n",
       "      <td>HS_CALC_IND</td>\n",
       "      <td>-1.0</td>\n",
       "    </tr>\n",
       "    <tr>\n",
       "      <th>9</th>\n",
       "      <td>GROSS_FAM_INC</td>\n",
       "      <td>1.0</td>\n",
       "    </tr>\n",
       "    <tr>\n",
       "      <th>10</th>\n",
       "      <td>SNGL_PRNT_IND</td>\n",
       "      <td>1.0</td>\n",
       "    </tr>\n",
       "    <tr>\n",
       "      <th>11</th>\n",
       "      <td>STDNT_ETHNC_GRP_CD</td>\n",
       "      <td>1.0</td>\n",
       "    </tr>\n",
       "    <tr>\n",
       "      <th>12</th>\n",
       "      <td>STDNT_ASIAN_IND</td>\n",
       "      <td>-1.0</td>\n",
       "    </tr>\n",
       "    <tr>\n",
       "      <th>13</th>\n",
       "      <td>STDNT_BLACK_IND</td>\n",
       "      <td>1.0</td>\n",
       "    </tr>\n",
       "    <tr>\n",
       "      <th>14</th>\n",
       "      <td>STDNT_HSPNC_IND</td>\n",
       "      <td>1.0</td>\n",
       "    </tr>\n",
       "    <tr>\n",
       "      <th>15</th>\n",
       "      <td>STDNT_NTV_AMRCN_HWIAN_IND</td>\n",
       "      <td>1.0</td>\n",
       "    </tr>\n",
       "    <tr>\n",
       "      <th>16</th>\n",
       "      <td>STDNT_MULTI_ETHNC_IND</td>\n",
       "      <td>NaN</td>\n",
       "    </tr>\n",
       "    <tr>\n",
       "      <th>17</th>\n",
       "      <td>STDNT_ETHNC_NAN</td>\n",
       "      <td>NaN</td>\n",
       "    </tr>\n",
       "    <tr>\n",
       "      <th>18</th>\n",
       "      <td>SAT_ACT_TOTAL_BIN</td>\n",
       "      <td>1.0</td>\n",
       "    </tr>\n",
       "    <tr>\n",
       "      <th>19</th>\n",
       "      <td>SAT_ACT_TOTAL_SCR_IsMissing</td>\n",
       "      <td>NaN</td>\n",
       "    </tr>\n",
       "    <tr>\n",
       "      <th>20</th>\n",
       "      <td>SAT_ACT_TOTAL_SCR_Imp</td>\n",
       "      <td>-1.0</td>\n",
       "    </tr>\n",
       "    <tr>\n",
       "      <th>21</th>\n",
       "      <td>SAT_ACT_TOTAL_SCR_Imp_Interp</td>\n",
       "      <td>-1.0</td>\n",
       "    </tr>\n",
       "    <tr>\n",
       "      <th>22</th>\n",
       "      <td>ACT_SAT_TOTAL_SCR_IsMissing</td>\n",
       "      <td>NaN</td>\n",
       "    </tr>\n",
       "    <tr>\n",
       "      <th>23</th>\n",
       "      <td>ACT_SAT_TOTAL_SCR_Imp</td>\n",
       "      <td>-1.0</td>\n",
       "    </tr>\n",
       "    <tr>\n",
       "      <th>24</th>\n",
       "      <td>ACT_SAT_MATH_PCTL_IsMissing</td>\n",
       "      <td>NaN</td>\n",
       "    </tr>\n",
       "    <tr>\n",
       "      <th>25</th>\n",
       "      <td>ACT_SAT_MATH_PCTL_Imp</td>\n",
       "      <td>-1.0</td>\n",
       "    </tr>\n",
       "    <tr>\n",
       "      <th>26</th>\n",
       "      <td>SAT_ACT_MATH_PCTL_IsMissing</td>\n",
       "      <td>NaN</td>\n",
       "    </tr>\n",
       "    <tr>\n",
       "      <th>27</th>\n",
       "      <td>SAT_ACT_MATH_PCTL_Imp</td>\n",
       "      <td>-1.0</td>\n",
       "    </tr>\n",
       "    <tr>\n",
       "      <th>28</th>\n",
       "      <td>PRNT_ED_LVL</td>\n",
       "      <td>1.0</td>\n",
       "    </tr>\n",
       "    <tr>\n",
       "      <th>29</th>\n",
       "      <td>ACAD_LOAD</td>\n",
       "      <td>1.0</td>\n",
       "    </tr>\n",
       "    <tr>\n",
       "      <th>30</th>\n",
       "      <td>No_grades_at_all</td>\n",
       "      <td>1.0</td>\n",
       "    </tr>\n",
       "    <tr>\n",
       "      <th>31</th>\n",
       "      <td>Grade_Overall_I_for_1_and_more_courses</td>\n",
       "      <td>1.0</td>\n",
       "    </tr>\n",
       "    <tr>\n",
       "      <th>32</th>\n",
       "      <td>Grade_W_for_1_course</td>\n",
       "      <td>1.0</td>\n",
       "    </tr>\n",
       "    <tr>\n",
       "      <th>33</th>\n",
       "      <td>Grade_W_for_2_courses</td>\n",
       "      <td>1.0</td>\n",
       "    </tr>\n",
       "    <tr>\n",
       "      <th>34</th>\n",
       "      <td>Grade_W_for_3_and_more_courses</td>\n",
       "      <td>1.0</td>\n",
       "    </tr>\n",
       "    <tr>\n",
       "      <th>35</th>\n",
       "      <td>Grade_NR_for_1_and_more_courses</td>\n",
       "      <td>1.0</td>\n",
       "    </tr>\n",
       "  </tbody>\n",
       "</table>\n",
       "</div>"
      ],
      "text/plain": [
       "                                    Factor  Coef_sign\n",
       "0                             STDNT_FEMALE        NaN\n",
       "1                            STDNT_AGE_BIN        1.0\n",
       "2                               HS_GPA_BIN        1.0\n",
       "3                         HS_GPA_IsMissing        NaN\n",
       "4                               HS_GPA_Imp       -1.0\n",
       "5                        HS_GPA_Imp_Interp       -1.0\n",
       "6                                 CURR_GPA       -1.0\n",
       "7                             CURR_GPA_BIN        1.0\n",
       "8                              HS_CALC_IND       -1.0\n",
       "9                            GROSS_FAM_INC        1.0\n",
       "10                           SNGL_PRNT_IND        1.0\n",
       "11                      STDNT_ETHNC_GRP_CD        1.0\n",
       "12                         STDNT_ASIAN_IND       -1.0\n",
       "13                         STDNT_BLACK_IND        1.0\n",
       "14                         STDNT_HSPNC_IND        1.0\n",
       "15               STDNT_NTV_AMRCN_HWIAN_IND        1.0\n",
       "16                   STDNT_MULTI_ETHNC_IND        NaN\n",
       "17                         STDNT_ETHNC_NAN        NaN\n",
       "18                       SAT_ACT_TOTAL_BIN        1.0\n",
       "19             SAT_ACT_TOTAL_SCR_IsMissing        NaN\n",
       "20                   SAT_ACT_TOTAL_SCR_Imp       -1.0\n",
       "21            SAT_ACT_TOTAL_SCR_Imp_Interp       -1.0\n",
       "22             ACT_SAT_TOTAL_SCR_IsMissing        NaN\n",
       "23                   ACT_SAT_TOTAL_SCR_Imp       -1.0\n",
       "24             ACT_SAT_MATH_PCTL_IsMissing        NaN\n",
       "25                   ACT_SAT_MATH_PCTL_Imp       -1.0\n",
       "26             SAT_ACT_MATH_PCTL_IsMissing        NaN\n",
       "27                   SAT_ACT_MATH_PCTL_Imp       -1.0\n",
       "28                             PRNT_ED_LVL        1.0\n",
       "29                               ACAD_LOAD        1.0\n",
       "30                        No_grades_at_all        1.0\n",
       "31  Grade_Overall_I_for_1_and_more_courses        1.0\n",
       "32                    Grade_W_for_1_course        1.0\n",
       "33                   Grade_W_for_2_courses        1.0\n",
       "34          Grade_W_for_3_and_more_courses        1.0\n",
       "35         Grade_NR_for_1_and_more_courses        1.0"
      ]
     },
     "execution_count": 37,
     "metadata": {},
     "output_type": "execute_result"
    }
   ],
   "source": [
    "factors_sign_df"
   ]
  },
  {
   "cell_type": "markdown",
   "id": "3e64fd4c-3774-43ec-a5f7-00c5d3173896",
   "metadata": {},
   "source": [
    "### Univariate AUC"
   ]
  },
  {
   "cell_type": "code",
   "execution_count": 38,
   "id": "4292aa9b-89ad-488b-a611-f516dbcd236f",
   "metadata": {
    "tags": []
   },
   "outputs": [],
   "source": [
    "# Calculate univariate AUC for individual factors\n",
    "factors_df = univariate_auc(sample_train_imp, factors_df, clone(clf_model)) "
   ]
  },
  {
   "cell_type": "code",
   "execution_count": 39,
   "id": "9b7892ed-b466-4164-a995-9c25870b2c6e",
   "metadata": {
    "tags": []
   },
   "outputs": [
    {
     "data": {
      "text/html": [
       "<div>\n",
       "<style scoped>\n",
       "    .dataframe tbody tr th:only-of-type {\n",
       "        vertical-align: middle;\n",
       "    }\n",
       "\n",
       "    .dataframe tbody tr th {\n",
       "        vertical-align: top;\n",
       "    }\n",
       "\n",
       "    .dataframe thead th {\n",
       "        text-align: right;\n",
       "    }\n",
       "</style>\n",
       "<table border=\"1\" class=\"dataframe\">\n",
       "  <thead>\n",
       "    <tr style=\"text-align: right;\">\n",
       "      <th></th>\n",
       "      <th>Group</th>\n",
       "      <th>Factor</th>\n",
       "      <th>AUC</th>\n",
       "    </tr>\n",
       "  </thead>\n",
       "  <tbody>\n",
       "    <tr>\n",
       "      <th>0</th>\n",
       "      <td>GENDER</td>\n",
       "      <td>STDNT_FEMALE</td>\n",
       "      <td>0.525027</td>\n",
       "    </tr>\n",
       "    <tr>\n",
       "      <th>1</th>\n",
       "      <td>AGE</td>\n",
       "      <td>STDNT_AGE_BIN</td>\n",
       "      <td>0.525073</td>\n",
       "    </tr>\n",
       "    <tr>\n",
       "      <th>2</th>\n",
       "      <td>HS_GPA</td>\n",
       "      <td>HS_GPA_BIN</td>\n",
       "      <td>0.539520</td>\n",
       "    </tr>\n",
       "    <tr>\n",
       "      <th>3</th>\n",
       "      <td>HS_GPA</td>\n",
       "      <td>[HS_GPA_IsMissing, HS_GPA_Imp]</td>\n",
       "      <td>0.539367</td>\n",
       "    </tr>\n",
       "    <tr>\n",
       "      <th>4</th>\n",
       "      <td>HS_GPA</td>\n",
       "      <td>HS_GPA_Imp_Interp</td>\n",
       "      <td>0.539399</td>\n",
       "    </tr>\n",
       "    <tr>\n",
       "      <th>5</th>\n",
       "      <td>CURR_GPA</td>\n",
       "      <td>CURR_GPA</td>\n",
       "      <td>0.717204</td>\n",
       "    </tr>\n",
       "    <tr>\n",
       "      <th>6</th>\n",
       "      <td>CURR_GPA</td>\n",
       "      <td>CURR_GPA_BIN</td>\n",
       "      <td>0.716923</td>\n",
       "    </tr>\n",
       "    <tr>\n",
       "      <th>7</th>\n",
       "      <td>HS_CALCULUS</td>\n",
       "      <td>HS_CALC_IND</td>\n",
       "      <td>0.583761</td>\n",
       "    </tr>\n",
       "    <tr>\n",
       "      <th>8</th>\n",
       "      <td>FAMILY_INCOME</td>\n",
       "      <td>GROSS_FAM_INC</td>\n",
       "      <td>0.608133</td>\n",
       "    </tr>\n",
       "    <tr>\n",
       "      <th>9</th>\n",
       "      <td>SINGLE_PARENT</td>\n",
       "      <td>SNGL_PRNT_IND</td>\n",
       "      <td>0.570776</td>\n",
       "    </tr>\n",
       "    <tr>\n",
       "      <th>10</th>\n",
       "      <td>ETHNICITY</td>\n",
       "      <td>STDNT_ETHNC_GRP_CD</td>\n",
       "      <td>0.573977</td>\n",
       "    </tr>\n",
       "    <tr>\n",
       "      <th>11</th>\n",
       "      <td>ETHNICITY</td>\n",
       "      <td>[STDNT_ASIAN_IND, STDNT_BLACK_IND, STDNT_HSPNC...</td>\n",
       "      <td>0.588375</td>\n",
       "    </tr>\n",
       "    <tr>\n",
       "      <th>12</th>\n",
       "      <td>SAT</td>\n",
       "      <td>SAT_ACT_TOTAL_BIN</td>\n",
       "      <td>0.575580</td>\n",
       "    </tr>\n",
       "    <tr>\n",
       "      <th>13</th>\n",
       "      <td>SAT</td>\n",
       "      <td>[SAT_ACT_TOTAL_SCR_IsMissing, SAT_ACT_TOTAL_SC...</td>\n",
       "      <td>0.576402</td>\n",
       "    </tr>\n",
       "    <tr>\n",
       "      <th>14</th>\n",
       "      <td>SAT</td>\n",
       "      <td>SAT_ACT_TOTAL_SCR_Imp_Interp</td>\n",
       "      <td>0.576262</td>\n",
       "    </tr>\n",
       "    <tr>\n",
       "      <th>15</th>\n",
       "      <td>SAT</td>\n",
       "      <td>[ACT_SAT_TOTAL_SCR_IsMissing, ACT_SAT_TOTAL_SC...</td>\n",
       "      <td>0.579409</td>\n",
       "    </tr>\n",
       "    <tr>\n",
       "      <th>16</th>\n",
       "      <td>SAT_MATH</td>\n",
       "      <td>[ACT_SAT_MATH_PCTL_IsMissing, ACT_SAT_MATH_PCT...</td>\n",
       "      <td>0.534154</td>\n",
       "    </tr>\n",
       "    <tr>\n",
       "      <th>17</th>\n",
       "      <td>SAT_MATH</td>\n",
       "      <td>[SAT_ACT_MATH_PCTL_IsMissing, SAT_ACT_MATH_PCT...</td>\n",
       "      <td>0.538620</td>\n",
       "    </tr>\n",
       "    <tr>\n",
       "      <th>18</th>\n",
       "      <td>PARENT_EDUCATION</td>\n",
       "      <td>PRNT_ED_LVL</td>\n",
       "      <td>0.602922</td>\n",
       "    </tr>\n",
       "    <tr>\n",
       "      <th>19</th>\n",
       "      <td>ACAD_LOAD</td>\n",
       "      <td>ACAD_LOAD</td>\n",
       "      <td>0.593388</td>\n",
       "    </tr>\n",
       "    <tr>\n",
       "      <th>20</th>\n",
       "      <td>WARNING_SIGNALS</td>\n",
       "      <td>No_grades_at_all</td>\n",
       "      <td>0.561620</td>\n",
       "    </tr>\n",
       "    <tr>\n",
       "      <th>21</th>\n",
       "      <td>WARNING_SIGNALS</td>\n",
       "      <td>Grade_Overall_I_for_1_and_more_courses</td>\n",
       "      <td>0.524519</td>\n",
       "    </tr>\n",
       "    <tr>\n",
       "      <th>22</th>\n",
       "      <td>WARNING_SIGNALS</td>\n",
       "      <td>[Grade_W_for_1_course, Grade_W_for_2_courses, ...</td>\n",
       "      <td>0.557451</td>\n",
       "    </tr>\n",
       "    <tr>\n",
       "      <th>23</th>\n",
       "      <td>WARNING_SIGNALS</td>\n",
       "      <td>Grade_NR_for_1_and_more_courses</td>\n",
       "      <td>0.510053</td>\n",
       "    </tr>\n",
       "  </tbody>\n",
       "</table>\n",
       "</div>"
      ],
      "text/plain": [
       "               Group                                             Factor  \\\n",
       "0             GENDER                                       STDNT_FEMALE   \n",
       "1                AGE                                      STDNT_AGE_BIN   \n",
       "2             HS_GPA                                         HS_GPA_BIN   \n",
       "3             HS_GPA                     [HS_GPA_IsMissing, HS_GPA_Imp]   \n",
       "4             HS_GPA                                  HS_GPA_Imp_Interp   \n",
       "5           CURR_GPA                                           CURR_GPA   \n",
       "6           CURR_GPA                                       CURR_GPA_BIN   \n",
       "7        HS_CALCULUS                                        HS_CALC_IND   \n",
       "8      FAMILY_INCOME                                      GROSS_FAM_INC   \n",
       "9      SINGLE_PARENT                                      SNGL_PRNT_IND   \n",
       "10         ETHNICITY                                 STDNT_ETHNC_GRP_CD   \n",
       "11         ETHNICITY  [STDNT_ASIAN_IND, STDNT_BLACK_IND, STDNT_HSPNC...   \n",
       "12               SAT                                  SAT_ACT_TOTAL_BIN   \n",
       "13               SAT  [SAT_ACT_TOTAL_SCR_IsMissing, SAT_ACT_TOTAL_SC...   \n",
       "14               SAT                       SAT_ACT_TOTAL_SCR_Imp_Interp   \n",
       "15               SAT  [ACT_SAT_TOTAL_SCR_IsMissing, ACT_SAT_TOTAL_SC...   \n",
       "16          SAT_MATH  [ACT_SAT_MATH_PCTL_IsMissing, ACT_SAT_MATH_PCT...   \n",
       "17          SAT_MATH  [SAT_ACT_MATH_PCTL_IsMissing, SAT_ACT_MATH_PCT...   \n",
       "18  PARENT_EDUCATION                                        PRNT_ED_LVL   \n",
       "19         ACAD_LOAD                                          ACAD_LOAD   \n",
       "20   WARNING_SIGNALS                                   No_grades_at_all   \n",
       "21   WARNING_SIGNALS             Grade_Overall_I_for_1_and_more_courses   \n",
       "22   WARNING_SIGNALS  [Grade_W_for_1_course, Grade_W_for_2_courses, ...   \n",
       "23   WARNING_SIGNALS                    Grade_NR_for_1_and_more_courses   \n",
       "\n",
       "         AUC  \n",
       "0   0.525027  \n",
       "1   0.525073  \n",
       "2   0.539520  \n",
       "3   0.539367  \n",
       "4   0.539399  \n",
       "5   0.717204  \n",
       "6   0.716923  \n",
       "7   0.583761  \n",
       "8   0.608133  \n",
       "9   0.570776  \n",
       "10  0.573977  \n",
       "11  0.588375  \n",
       "12  0.575580  \n",
       "13  0.576402  \n",
       "14  0.576262  \n",
       "15  0.579409  \n",
       "16  0.534154  \n",
       "17  0.538620  \n",
       "18  0.602922  \n",
       "19  0.593388  \n",
       "20  0.561620  \n",
       "21  0.524519  \n",
       "22  0.557451  \n",
       "23  0.510053  "
      ]
     },
     "execution_count": 39,
     "metadata": {},
     "output_type": "execute_result"
    }
   ],
   "source": [
    "factors_df"
   ]
  },
  {
   "cell_type": "markdown",
   "id": "39de843b-c81e-4635-827e-b58664ea8098",
   "metadata": {},
   "source": [
    "# Multivariate Analysis for the Source School"
   ]
  },
  {
   "cell_type": "markdown",
   "id": "66ce8836-2e3f-4f7a-a743-82de84b560c1",
   "metadata": {},
   "source": [
    "## List of possible models\n",
    "\n",
    "The list of models is created by considering all possible combinations of the factors."
   ]
  },
  {
   "cell_type": "code",
   "execution_count": null,
   "id": "009cfc10-0288-4566-959d-0e8e2c16c47c",
   "metadata": {
    "tags": []
   },
   "outputs": [],
   "source": [
    "# Specify possible groups where a factor from each possible group may or may not be included in a model. \n",
    "# Models will be generated that incorporate a factor from a certain possible group, as well as \n",
    "# models that exclude a factor from this group.\n",
    "possible_groups =['GENDER', 'AGE', 'HS_GPA', 'CURR_GPA', 'HS_CALCULUS', \n",
    "                  'FAMILY_INCOME', 'SINGLE_PARENT', 'ETHNICITY', \n",
    "                  'SAT', 'SAT_MATH', 'PARENT_EDUCATION', 'ACAD_LOAD'] \n",
    "\n",
    "# Specify specific groups wherein a factor from each such group is mandatory and must be included in all the models\n",
    "groups_to_include = ['CURR_GPA']\n",
    "\n",
    "# Dataframe containing all the possible models\n",
    "models = create_list_of_models(possible_groups, groups_to_include, factors_df)"
   ]
  },
  {
   "cell_type": "code",
   "execution_count": 41,
   "id": "626900a9-178f-43bf-9c75-ac0f784cb360",
   "metadata": {
    "tags": []
   },
   "outputs": [
    {
     "data": {
      "text/plain": [
       "46080"
      ]
     },
     "execution_count": 41,
     "metadata": {},
     "output_type": "execute_result"
    }
   ],
   "source": [
    "# Number of models\n",
    "len(models)"
   ]
  },
  {
   "cell_type": "code",
   "execution_count": 42,
   "id": "279c0605-957a-4ff5-800d-08e6473d96c2",
   "metadata": {
    "tags": []
   },
   "outputs": [
    {
     "data": {
      "text/plain": [
       "['STDNT_FEMALE',\n",
       " 'STDNT_AGE_BIN',\n",
       " 'HS_GPA_BIN',\n",
       " 'CURR_GPA',\n",
       " 'HS_CALC_IND',\n",
       " 'GROSS_FAM_INC',\n",
       " 'SNGL_PRNT_IND',\n",
       " 'STDNT_ETHNC_GRP_CD',\n",
       " 'SAT_ACT_TOTAL_BIN',\n",
       " 'ACT_SAT_MATH_PCTL_IsMissing',\n",
       " 'ACT_SAT_MATH_PCTL_Imp',\n",
       " 'PRNT_ED_LVL',\n",
       " 'ACAD_LOAD',\n",
       " 'No_grades_at_all',\n",
       " 'Grade_Overall_I_for_1_and_more_courses',\n",
       " 'Grade_W_for_1_course',\n",
       " 'Grade_W_for_2_courses',\n",
       " 'Grade_W_for_3_and_more_courses',\n",
       " 'Grade_NR_for_1_and_more_courses']"
      ]
     },
     "execution_count": 42,
     "metadata": {},
     "output_type": "execute_result"
    }
   ],
   "source": [
    "# First model from the list of all possible models\n",
    "models.loc[0, 'MODEL']"
   ]
  },
  {
   "cell_type": "markdown",
   "id": "baa0da76-a0b2-4ee6-b744-b0d654541d16",
   "metadata": {},
   "source": [
    "## Examining the signs of coefficients in models"
   ]
  },
  {
   "cell_type": "code",
   "execution_count": 43,
   "id": "2ebbcb4e-26eb-42db-aa41-854381d81064",
   "metadata": {
    "tags": []
   },
   "outputs": [],
   "source": [
    "clf = clone(clf_model)"
   ]
  },
  {
   "cell_type": "code",
   "execution_count": null,
   "id": "e91aee2d-62d3-47ad-98b3-051ce8f80d08",
   "metadata": {
    "tags": []
   },
   "outputs": [],
   "source": [
    "# Check the signs of coefficients in models\n",
    "models_sign = check_model_signs(models, factors_sign_df, clf, sample_train_imp)"
   ]
  },
  {
   "cell_type": "code",
   "execution_count": 153,
   "id": "67a8bdf1-c792-4c99-a037-53b65b603188",
   "metadata": {
    "tags": []
   },
   "outputs": [],
   "source": [
    "models_sign.to_csv('models_sign.csv', index=False)"
   ]
  },
  {
   "cell_type": "code",
   "execution_count": 44,
   "id": "8d32f2b9-9f75-453d-87f2-083fe1343e2a",
   "metadata": {
    "tags": []
   },
   "outputs": [],
   "source": [
    "models_sign = pd.read_csv('models_sign.csv')"
   ]
  },
  {
   "cell_type": "code",
   "execution_count": 45,
   "id": "a6eb9ba9-9c98-4000-9ff8-c08c45e1e66b",
   "metadata": {
    "tags": []
   },
   "outputs": [
    {
     "data": {
      "text/plain": [
       "13931.0"
      ]
     },
     "execution_count": 45,
     "metadata": {},
     "output_type": "execute_result"
    }
   ],
   "source": [
    "# The number of models having correct coefficients' signs\n",
    "models_sign['Correct_signs'].sum()"
   ]
  },
  {
   "cell_type": "code",
   "execution_count": 46,
   "id": "641d934b-987a-48c9-b9cc-9441fe1ed857",
   "metadata": {
    "tags": []
   },
   "outputs": [
    {
     "data": {
      "text/html": [
       "<div>\n",
       "<style scoped>\n",
       "    .dataframe tbody tr th:only-of-type {\n",
       "        vertical-align: middle;\n",
       "    }\n",
       "\n",
       "    .dataframe tbody tr th {\n",
       "        vertical-align: top;\n",
       "    }\n",
       "\n",
       "    .dataframe thead th {\n",
       "        text-align: right;\n",
       "    }\n",
       "</style>\n",
       "<table border=\"1\" class=\"dataframe\">\n",
       "  <thead>\n",
       "    <tr style=\"text-align: right;\">\n",
       "      <th></th>\n",
       "      <th>index</th>\n",
       "      <th>MODEL</th>\n",
       "    </tr>\n",
       "  </thead>\n",
       "  <tbody>\n",
       "    <tr>\n",
       "      <th>0</th>\n",
       "      <td>8</td>\n",
       "      <td>['STDNT_FEMALE', 'STDNT_AGE_BIN', 'HS_GPA_BIN'...</td>\n",
       "    </tr>\n",
       "    <tr>\n",
       "      <th>1</th>\n",
       "      <td>9</td>\n",
       "      <td>['STDNT_FEMALE', 'STDNT_AGE_BIN', 'HS_GPA_BIN'...</td>\n",
       "    </tr>\n",
       "    <tr>\n",
       "      <th>2</th>\n",
       "      <td>10</td>\n",
       "      <td>['STDNT_FEMALE', 'STDNT_AGE_BIN', 'HS_GPA_BIN'...</td>\n",
       "    </tr>\n",
       "    <tr>\n",
       "      <th>3</th>\n",
       "      <td>11</td>\n",
       "      <td>['STDNT_FEMALE', 'STDNT_AGE_BIN', 'HS_GPA_BIN'...</td>\n",
       "    </tr>\n",
       "    <tr>\n",
       "      <th>4</th>\n",
       "      <td>20</td>\n",
       "      <td>['STDNT_FEMALE', 'STDNT_AGE_BIN', 'HS_GPA_BIN'...</td>\n",
       "    </tr>\n",
       "    <tr>\n",
       "      <th>...</th>\n",
       "      <td>...</td>\n",
       "      <td>...</td>\n",
       "    </tr>\n",
       "    <tr>\n",
       "      <th>13926</th>\n",
       "      <td>46071</td>\n",
       "      <td>['CURR_GPA_BIN', 'ACT_SAT_MATH_PCTL_IsMissing'...</td>\n",
       "    </tr>\n",
       "    <tr>\n",
       "      <th>13927</th>\n",
       "      <td>46075</td>\n",
       "      <td>['CURR_GPA_BIN', 'SAT_ACT_MATH_PCTL_IsMissing'...</td>\n",
       "    </tr>\n",
       "    <tr>\n",
       "      <th>13928</th>\n",
       "      <td>46076</td>\n",
       "      <td>['CURR_GPA_BIN', 'PRNT_ED_LVL', 'ACAD_LOAD', '...</td>\n",
       "    </tr>\n",
       "    <tr>\n",
       "      <th>13929</th>\n",
       "      <td>46077</td>\n",
       "      <td>['CURR_GPA_BIN', 'PRNT_ED_LVL', 'No_grades_at_...</td>\n",
       "    </tr>\n",
       "    <tr>\n",
       "      <th>13930</th>\n",
       "      <td>46079</td>\n",
       "      <td>['CURR_GPA_BIN', 'No_grades_at_all', 'Grade_Ov...</td>\n",
       "    </tr>\n",
       "  </tbody>\n",
       "</table>\n",
       "<p>13931 rows × 2 columns</p>\n",
       "</div>"
      ],
      "text/plain": [
       "       index                                              MODEL\n",
       "0          8  ['STDNT_FEMALE', 'STDNT_AGE_BIN', 'HS_GPA_BIN'...\n",
       "1          9  ['STDNT_FEMALE', 'STDNT_AGE_BIN', 'HS_GPA_BIN'...\n",
       "2         10  ['STDNT_FEMALE', 'STDNT_AGE_BIN', 'HS_GPA_BIN'...\n",
       "3         11  ['STDNT_FEMALE', 'STDNT_AGE_BIN', 'HS_GPA_BIN'...\n",
       "4         20  ['STDNT_FEMALE', 'STDNT_AGE_BIN', 'HS_GPA_BIN'...\n",
       "...      ...                                                ...\n",
       "13926  46071  ['CURR_GPA_BIN', 'ACT_SAT_MATH_PCTL_IsMissing'...\n",
       "13927  46075  ['CURR_GPA_BIN', 'SAT_ACT_MATH_PCTL_IsMissing'...\n",
       "13928  46076  ['CURR_GPA_BIN', 'PRNT_ED_LVL', 'ACAD_LOAD', '...\n",
       "13929  46077  ['CURR_GPA_BIN', 'PRNT_ED_LVL', 'No_grades_at_...\n",
       "13930  46079  ['CURR_GPA_BIN', 'No_grades_at_all', 'Grade_Ov...\n",
       "\n",
       "[13931 rows x 2 columns]"
      ]
     },
     "execution_count": 46,
     "metadata": {},
     "output_type": "execute_result"
    }
   ],
   "source": [
    "# Models with the correct coefficients' signs\n",
    "models_filtered = models_sign.loc[models_sign['Correct_signs']==1, 'MODEL']\n",
    "models_filtered = models_filtered.reset_index()\n",
    "models_filtered"
   ]
  },
  {
   "cell_type": "markdown",
   "id": "659abbff-16f4-4abb-93ef-d5d3ab057c31",
   "metadata": {},
   "source": [
    "## Cross-validating models that have correct coefficient signs"
   ]
  },
  {
   "cell_type": "code",
   "execution_count": 47,
   "id": "93e12b0c-24ec-47af-bb51-b284c153eb95",
   "metadata": {
    "tags": []
   },
   "outputs": [],
   "source": [
    "# The first model for cross-validation\n",
    "model = models_filtered.loc[0, 'MODEL']\n",
    "model = ast.literal_eval(model)\n",
    "\n",
    "clf = clone(clf_model)\n",
    "\n",
    "pipeline = Pipeline(steps=[(\"imputation\", imputation_pipeline), # impute missing values and apply WoE transformation\n",
    "                           (\"filter_columns\", FilterColumns(model)),\n",
    "                           (\"logistic_regression\", clf)])"
   ]
  },
  {
   "cell_type": "code",
   "execution_count": 48,
   "id": "a4fc704b-9b4f-453c-b225-fbce27614f59",
   "metadata": {
    "tags": []
   },
   "outputs": [
    {
     "data": {
      "text/html": [
       "<style>#sk-container-id-1 {color: black;background-color: white;}#sk-container-id-1 pre{padding: 0;}#sk-container-id-1 div.sk-toggleable {background-color: white;}#sk-container-id-1 label.sk-toggleable__label {cursor: pointer;display: block;width: 100%;margin-bottom: 0;padding: 0.3em;box-sizing: border-box;text-align: center;}#sk-container-id-1 label.sk-toggleable__label-arrow:before {content: \"▸\";float: left;margin-right: 0.25em;color: #696969;}#sk-container-id-1 label.sk-toggleable__label-arrow:hover:before {color: black;}#sk-container-id-1 div.sk-estimator:hover label.sk-toggleable__label-arrow:before {color: black;}#sk-container-id-1 div.sk-toggleable__content {max-height: 0;max-width: 0;overflow: hidden;text-align: left;background-color: #f0f8ff;}#sk-container-id-1 div.sk-toggleable__content pre {margin: 0.2em;color: black;border-radius: 0.25em;background-color: #f0f8ff;}#sk-container-id-1 input.sk-toggleable__control:checked~div.sk-toggleable__content {max-height: 200px;max-width: 100%;overflow: auto;}#sk-container-id-1 input.sk-toggleable__control:checked~label.sk-toggleable__label-arrow:before {content: \"▾\";}#sk-container-id-1 div.sk-estimator input.sk-toggleable__control:checked~label.sk-toggleable__label {background-color: #d4ebff;}#sk-container-id-1 div.sk-label input.sk-toggleable__control:checked~label.sk-toggleable__label {background-color: #d4ebff;}#sk-container-id-1 input.sk-hidden--visually {border: 0;clip: rect(1px 1px 1px 1px);clip: rect(1px, 1px, 1px, 1px);height: 1px;margin: -1px;overflow: hidden;padding: 0;position: absolute;width: 1px;}#sk-container-id-1 div.sk-estimator {font-family: monospace;background-color: #f0f8ff;border: 1px dotted black;border-radius: 0.25em;box-sizing: border-box;margin-bottom: 0.5em;}#sk-container-id-1 div.sk-estimator:hover {background-color: #d4ebff;}#sk-container-id-1 div.sk-parallel-item::after {content: \"\";width: 100%;border-bottom: 1px solid gray;flex-grow: 1;}#sk-container-id-1 div.sk-label:hover label.sk-toggleable__label {background-color: #d4ebff;}#sk-container-id-1 div.sk-serial::before {content: \"\";position: absolute;border-left: 1px solid gray;box-sizing: border-box;top: 0;bottom: 0;left: 50%;z-index: 0;}#sk-container-id-1 div.sk-serial {display: flex;flex-direction: column;align-items: center;background-color: white;padding-right: 0.2em;padding-left: 0.2em;position: relative;}#sk-container-id-1 div.sk-item {position: relative;z-index: 1;}#sk-container-id-1 div.sk-parallel {display: flex;align-items: stretch;justify-content: center;background-color: white;position: relative;}#sk-container-id-1 div.sk-item::before, #sk-container-id-1 div.sk-parallel-item::before {content: \"\";position: absolute;border-left: 1px solid gray;box-sizing: border-box;top: 0;bottom: 0;left: 50%;z-index: -1;}#sk-container-id-1 div.sk-parallel-item {display: flex;flex-direction: column;z-index: 1;position: relative;background-color: white;}#sk-container-id-1 div.sk-parallel-item:first-child::after {align-self: flex-end;width: 50%;}#sk-container-id-1 div.sk-parallel-item:last-child::after {align-self: flex-start;width: 50%;}#sk-container-id-1 div.sk-parallel-item:only-child::after {width: 0;}#sk-container-id-1 div.sk-dashed-wrapped {border: 1px dashed gray;margin: 0 0.4em 0.5em 0.4em;box-sizing: border-box;padding-bottom: 0.4em;background-color: white;}#sk-container-id-1 div.sk-label label {font-family: monospace;font-weight: bold;display: inline-block;line-height: 1.2em;}#sk-container-id-1 div.sk-label-container {text-align: center;}#sk-container-id-1 div.sk-container {/* jupyter's `normalize.less` sets `[hidden] { display: none; }` but bootstrap.min.css set `[hidden] { display: none !important; }` so we also need the `!important` here to be able to override the default hidden behavior on the sphinx rendered scikit-learn.org. See: https://github.com/scikit-learn/scikit-learn/issues/21755 */display: inline-block !important;position: relative;}#sk-container-id-1 div.sk-text-repr-fallback {display: none;}</style><div id=\"sk-container-id-1\" class=\"sk-top-container\"><div class=\"sk-text-repr-fallback\"><pre>Pipeline(steps=[(&#x27;imputation&#x27;,\n",
       "                 Pipeline(steps=[(&#x27;missing_values&#x27;,\n",
       "                                  ImputeMissing(cols=[&#x27;HS_GPA&#x27;,\n",
       "                                                      &#x27;SAT_ACT_TOTAL_SCR&#x27;,\n",
       "                                                      &#x27;ACT_SAT_TOTAL_SCR&#x27;,\n",
       "                                                      &#x27;ACT_SAT_MATH_PCTL&#x27;,\n",
       "                                                      &#x27;SAT_ACT_MATH_PCTL&#x27;],\n",
       "                                                dic={&#x27;HS_GPA&#x27;: &#x27;HS_GPA_BIN&#x27;,\n",
       "                                                     &#x27;SAT_ACT_TOTAL_SCR&#x27;: &#x27;SAT_ACT_TOTAL_BIN&#x27;})),\n",
       "                                 (&#x27;encoder_WoE&#x27;,\n",
       "                                  WOEEncoder(cols=[&#x27;STDNT_AGE_BIN&#x27;,\n",
       "                                                   &#x27;HS_GPA_BIN&#x27;, &#x27;CURR_GPA_BIN&#x27;,\n",
       "                                                   &#x27;STDNT_ETHNC_GRP_CD&#x27;,\n",
       "                                                   &#x27;GROSS_FA...\n",
       "                                                &#x27;HS_CALC_IND&#x27;, &#x27;GROSS_FAM_INC&#x27;,\n",
       "                                                &#x27;SNGL_PRNT_IND&#x27;,\n",
       "                                                &#x27;STDNT_ETHNC_GRP_CD&#x27;,\n",
       "                                                &#x27;SAT_ACT_TOTAL_BIN&#x27;,\n",
       "                                                &#x27;PRNT_ED_LVL&#x27;, &#x27;ACAD_LOAD&#x27;,\n",
       "                                                &#x27;No_grades_at_all&#x27;,\n",
       "                                                &#x27;Grade_Overall_I_for_1_and_more_courses&#x27;,\n",
       "                                                &#x27;Grade_W_for_1_course&#x27;,\n",
       "                                                &#x27;Grade_W_for_2_courses&#x27;,\n",
       "                                                &#x27;Grade_W_for_3_and_more_courses&#x27;,\n",
       "                                                &#x27;Grade_NR_for_1_and_more_courses&#x27;])),\n",
       "                (&#x27;logistic_regression&#x27;,\n",
       "                 LogisticRegression(max_iter=10000, penalty=None,\n",
       "                                    random_state=1))])</pre><b>In a Jupyter environment, please rerun this cell to show the HTML representation or trust the notebook. <br />On GitHub, the HTML representation is unable to render, please try loading this page with nbviewer.org.</b></div><div class=\"sk-container\" hidden><div class=\"sk-item sk-dashed-wrapped\"><div class=\"sk-label-container\"><div class=\"sk-label sk-toggleable\"><input class=\"sk-toggleable__control sk-hidden--visually\" id=\"sk-estimator-id-1\" type=\"checkbox\" ><label for=\"sk-estimator-id-1\" class=\"sk-toggleable__label sk-toggleable__label-arrow\">Pipeline</label><div class=\"sk-toggleable__content\"><pre>Pipeline(steps=[(&#x27;imputation&#x27;,\n",
       "                 Pipeline(steps=[(&#x27;missing_values&#x27;,\n",
       "                                  ImputeMissing(cols=[&#x27;HS_GPA&#x27;,\n",
       "                                                      &#x27;SAT_ACT_TOTAL_SCR&#x27;,\n",
       "                                                      &#x27;ACT_SAT_TOTAL_SCR&#x27;,\n",
       "                                                      &#x27;ACT_SAT_MATH_PCTL&#x27;,\n",
       "                                                      &#x27;SAT_ACT_MATH_PCTL&#x27;],\n",
       "                                                dic={&#x27;HS_GPA&#x27;: &#x27;HS_GPA_BIN&#x27;,\n",
       "                                                     &#x27;SAT_ACT_TOTAL_SCR&#x27;: &#x27;SAT_ACT_TOTAL_BIN&#x27;})),\n",
       "                                 (&#x27;encoder_WoE&#x27;,\n",
       "                                  WOEEncoder(cols=[&#x27;STDNT_AGE_BIN&#x27;,\n",
       "                                                   &#x27;HS_GPA_BIN&#x27;, &#x27;CURR_GPA_BIN&#x27;,\n",
       "                                                   &#x27;STDNT_ETHNC_GRP_CD&#x27;,\n",
       "                                                   &#x27;GROSS_FA...\n",
       "                                                &#x27;HS_CALC_IND&#x27;, &#x27;GROSS_FAM_INC&#x27;,\n",
       "                                                &#x27;SNGL_PRNT_IND&#x27;,\n",
       "                                                &#x27;STDNT_ETHNC_GRP_CD&#x27;,\n",
       "                                                &#x27;SAT_ACT_TOTAL_BIN&#x27;,\n",
       "                                                &#x27;PRNT_ED_LVL&#x27;, &#x27;ACAD_LOAD&#x27;,\n",
       "                                                &#x27;No_grades_at_all&#x27;,\n",
       "                                                &#x27;Grade_Overall_I_for_1_and_more_courses&#x27;,\n",
       "                                                &#x27;Grade_W_for_1_course&#x27;,\n",
       "                                                &#x27;Grade_W_for_2_courses&#x27;,\n",
       "                                                &#x27;Grade_W_for_3_and_more_courses&#x27;,\n",
       "                                                &#x27;Grade_NR_for_1_and_more_courses&#x27;])),\n",
       "                (&#x27;logistic_regression&#x27;,\n",
       "                 LogisticRegression(max_iter=10000, penalty=None,\n",
       "                                    random_state=1))])</pre></div></div></div><div class=\"sk-serial\"><div class=\"sk-item\"><div class=\"sk-label-container\"><div class=\"sk-label sk-toggleable\"><input class=\"sk-toggleable__control sk-hidden--visually\" id=\"sk-estimator-id-2\" type=\"checkbox\" ><label for=\"sk-estimator-id-2\" class=\"sk-toggleable__label sk-toggleable__label-arrow\">imputation: Pipeline</label><div class=\"sk-toggleable__content\"><pre>Pipeline(steps=[(&#x27;missing_values&#x27;,\n",
       "                 ImputeMissing(cols=[&#x27;HS_GPA&#x27;, &#x27;SAT_ACT_TOTAL_SCR&#x27;,\n",
       "                                     &#x27;ACT_SAT_TOTAL_SCR&#x27;, &#x27;ACT_SAT_MATH_PCTL&#x27;,\n",
       "                                     &#x27;SAT_ACT_MATH_PCTL&#x27;],\n",
       "                               dic={&#x27;HS_GPA&#x27;: &#x27;HS_GPA_BIN&#x27;,\n",
       "                                    &#x27;SAT_ACT_TOTAL_SCR&#x27;: &#x27;SAT_ACT_TOTAL_BIN&#x27;})),\n",
       "                (&#x27;encoder_WoE&#x27;,\n",
       "                 WOEEncoder(cols=[&#x27;STDNT_AGE_BIN&#x27;, &#x27;HS_GPA_BIN&#x27;, &#x27;CURR_GPA_BIN&#x27;,\n",
       "                                  &#x27;STDNT_ETHNC_GRP_CD&#x27;, &#x27;GROSS_FAM_INC&#x27;,\n",
       "                                  &#x27;SAT_ACT_TOTAL_BIN&#x27;, &#x27;PRNT_ED_LVL&#x27;,\n",
       "                                  &#x27;ACAD_LOAD&#x27;]))])</pre></div></div></div><div class=\"sk-serial\"><div class=\"sk-item\"><div class=\"sk-estimator sk-toggleable\"><input class=\"sk-toggleable__control sk-hidden--visually\" id=\"sk-estimator-id-3\" type=\"checkbox\" ><label for=\"sk-estimator-id-3\" class=\"sk-toggleable__label sk-toggleable__label-arrow\">ImputeMissing</label><div class=\"sk-toggleable__content\"><pre>ImputeMissing(cols=[&#x27;HS_GPA&#x27;, &#x27;SAT_ACT_TOTAL_SCR&#x27;, &#x27;ACT_SAT_TOTAL_SCR&#x27;,\n",
       "                    &#x27;ACT_SAT_MATH_PCTL&#x27;, &#x27;SAT_ACT_MATH_PCTL&#x27;],\n",
       "              dic={&#x27;HS_GPA&#x27;: &#x27;HS_GPA_BIN&#x27;,\n",
       "                   &#x27;SAT_ACT_TOTAL_SCR&#x27;: &#x27;SAT_ACT_TOTAL_BIN&#x27;})</pre></div></div></div><div class=\"sk-item\"><div class=\"sk-estimator sk-toggleable\"><input class=\"sk-toggleable__control sk-hidden--visually\" id=\"sk-estimator-id-4\" type=\"checkbox\" ><label for=\"sk-estimator-id-4\" class=\"sk-toggleable__label sk-toggleable__label-arrow\">WOEEncoder</label><div class=\"sk-toggleable__content\"><pre>WOEEncoder(cols=[&#x27;STDNT_AGE_BIN&#x27;, &#x27;HS_GPA_BIN&#x27;, &#x27;CURR_GPA_BIN&#x27;,\n",
       "                 &#x27;STDNT_ETHNC_GRP_CD&#x27;, &#x27;GROSS_FAM_INC&#x27;, &#x27;SAT_ACT_TOTAL_BIN&#x27;,\n",
       "                 &#x27;PRNT_ED_LVL&#x27;, &#x27;ACAD_LOAD&#x27;])</pre></div></div></div></div></div><div class=\"sk-item\"><div class=\"sk-estimator sk-toggleable\"><input class=\"sk-toggleable__control sk-hidden--visually\" id=\"sk-estimator-id-5\" type=\"checkbox\" ><label for=\"sk-estimator-id-5\" class=\"sk-toggleable__label sk-toggleable__label-arrow\">FilterColumns</label><div class=\"sk-toggleable__content\"><pre>FilterColumns(list_of_factors=[&#x27;STDNT_FEMALE&#x27;, &#x27;STDNT_AGE_BIN&#x27;, &#x27;HS_GPA_BIN&#x27;,\n",
       "                               &#x27;CURR_GPA&#x27;, &#x27;HS_CALC_IND&#x27;, &#x27;GROSS_FAM_INC&#x27;,\n",
       "                               &#x27;SNGL_PRNT_IND&#x27;, &#x27;STDNT_ETHNC_GRP_CD&#x27;,\n",
       "                               &#x27;SAT_ACT_TOTAL_BIN&#x27;, &#x27;PRNT_ED_LVL&#x27;, &#x27;ACAD_LOAD&#x27;,\n",
       "                               &#x27;No_grades_at_all&#x27;,\n",
       "                               &#x27;Grade_Overall_I_for_1_and_more_courses&#x27;,\n",
       "                               &#x27;Grade_W_for_1_course&#x27;, &#x27;Grade_W_for_2_courses&#x27;,\n",
       "                               &#x27;Grade_W_for_3_and_more_courses&#x27;,\n",
       "                               &#x27;Grade_NR_for_1_and_more_courses&#x27;])</pre></div></div></div><div class=\"sk-item\"><div class=\"sk-estimator sk-toggleable\"><input class=\"sk-toggleable__control sk-hidden--visually\" id=\"sk-estimator-id-6\" type=\"checkbox\" ><label for=\"sk-estimator-id-6\" class=\"sk-toggleable__label sk-toggleable__label-arrow\">LogisticRegression</label><div class=\"sk-toggleable__content\"><pre>LogisticRegression(max_iter=10000, penalty=None, random_state=1)</pre></div></div></div></div></div></div></div>"
      ],
      "text/plain": [
       "Pipeline(steps=[('imputation',\n",
       "                 Pipeline(steps=[('missing_values',\n",
       "                                  ImputeMissing(cols=['HS_GPA',\n",
       "                                                      'SAT_ACT_TOTAL_SCR',\n",
       "                                                      'ACT_SAT_TOTAL_SCR',\n",
       "                                                      'ACT_SAT_MATH_PCTL',\n",
       "                                                      'SAT_ACT_MATH_PCTL'],\n",
       "                                                dic={'HS_GPA': 'HS_GPA_BIN',\n",
       "                                                     'SAT_ACT_TOTAL_SCR': 'SAT_ACT_TOTAL_BIN'})),\n",
       "                                 ('encoder_WoE',\n",
       "                                  WOEEncoder(cols=['STDNT_AGE_BIN',\n",
       "                                                   'HS_GPA_BIN', 'CURR_GPA_BIN',\n",
       "                                                   'STDNT_ETHNC_GRP_CD',\n",
       "                                                   'GROSS_FA...\n",
       "                                                'HS_CALC_IND', 'GROSS_FAM_INC',\n",
       "                                                'SNGL_PRNT_IND',\n",
       "                                                'STDNT_ETHNC_GRP_CD',\n",
       "                                                'SAT_ACT_TOTAL_BIN',\n",
       "                                                'PRNT_ED_LVL', 'ACAD_LOAD',\n",
       "                                                'No_grades_at_all',\n",
       "                                                'Grade_Overall_I_for_1_and_more_courses',\n",
       "                                                'Grade_W_for_1_course',\n",
       "                                                'Grade_W_for_2_courses',\n",
       "                                                'Grade_W_for_3_and_more_courses',\n",
       "                                                'Grade_NR_for_1_and_more_courses'])),\n",
       "                ('logistic_regression',\n",
       "                 LogisticRegression(max_iter=10000, penalty=None,\n",
       "                                    random_state=1))])"
      ]
     },
     "execution_count": 48,
     "metadata": {},
     "output_type": "execute_result"
    }
   ],
   "source": [
    "pipeline"
   ]
  },
  {
   "cell_type": "code",
   "execution_count": null,
   "id": "8105915a-1832-41cd-b14b-7aa3060be620",
   "metadata": {
    "tags": []
   },
   "outputs": [],
   "source": [
    "# Conduct cross-validation using the pipeline defined in the cell above. \n",
    "# The resulting scores are AUC and generalized entropy index.\n",
    "\n",
    "# Splitting models into groups of 100 accelerates the calculation process \n",
    "\n",
    "i1=0\n",
    "i2=100\n",
    "num = 100\n",
    "for file_ind in range(140):\n",
    "    models_cv_res = cross_validate_AUC_entropy(sample_train, models_filtered[i1:i2], 3, pipeline,\n",
    "                                               2, calc_educ_rank_benefits, [90, 95, 97, 99, 99.5])\n",
    "    file_name = 'models/models_cv_res_' + str(i1) + \"-\" +str(i2) + \".csv\" \n",
    "    models_cv_res.to_csv(file_name)\n",
    "    i1 += num\n",
    "    i2 += num"
   ]
  },
  {
   "cell_type": "code",
   "execution_count": 49,
   "id": "61c21bcf-2d41-4aef-98ed-0984782a65a6",
   "metadata": {
    "tags": []
   },
   "outputs": [
    {
     "data": {
      "text/html": [
       "<div>\n",
       "<style scoped>\n",
       "    .dataframe tbody tr th:only-of-type {\n",
       "        vertical-align: middle;\n",
       "    }\n",
       "\n",
       "    .dataframe tbody tr th {\n",
       "        vertical-align: top;\n",
       "    }\n",
       "\n",
       "    .dataframe thead th {\n",
       "        text-align: right;\n",
       "    }\n",
       "</style>\n",
       "<table border=\"1\" class=\"dataframe\">\n",
       "  <thead>\n",
       "    <tr style=\"text-align: right;\">\n",
       "      <th></th>\n",
       "      <th>index</th>\n",
       "      <th>MODEL</th>\n",
       "      <th>test_AUC_mean</th>\n",
       "      <th>test_AUC_se</th>\n",
       "      <th>train_AUC_mean</th>\n",
       "      <th>test_Gen entropy_mean</th>\n",
       "      <th>test_Gen entropy_se</th>\n",
       "    </tr>\n",
       "  </thead>\n",
       "  <tbody>\n",
       "    <tr>\n",
       "      <th>3638</th>\n",
       "      <td>11951</td>\n",
       "      <td>['STDNT_FEMALE', 'HS_GPA_BIN', 'CURR_GPA', 'HS...</td>\n",
       "      <td>0.777052</td>\n",
       "      <td>0.004040</td>\n",
       "      <td>0.790581</td>\n",
       "      <td>0.704837</td>\n",
       "      <td>0.008658</td>\n",
       "    </tr>\n",
       "    <tr>\n",
       "      <th>3637</th>\n",
       "      <td>11950</td>\n",
       "      <td>['STDNT_FEMALE', 'HS_GPA_BIN', 'CURR_GPA', 'HS...</td>\n",
       "      <td>0.776946</td>\n",
       "      <td>0.004007</td>\n",
       "      <td>0.790672</td>\n",
       "      <td>0.702772</td>\n",
       "      <td>0.007776</td>\n",
       "    </tr>\n",
       "    <tr>\n",
       "      <th>3620</th>\n",
       "      <td>11891</td>\n",
       "      <td>['STDNT_FEMALE', 'HS_GPA_BIN', 'CURR_GPA', 'HS...</td>\n",
       "      <td>0.776623</td>\n",
       "      <td>0.005969</td>\n",
       "      <td>0.787583</td>\n",
       "      <td>0.700814</td>\n",
       "      <td>0.006185</td>\n",
       "    </tr>\n",
       "    <tr>\n",
       "      <th>6264</th>\n",
       "      <td>20590</td>\n",
       "      <td>['STDNT_FEMALE', 'CURR_GPA', 'HS_CALC_IND', 'S...</td>\n",
       "      <td>0.776619</td>\n",
       "      <td>0.004701</td>\n",
       "      <td>0.789147</td>\n",
       "      <td>0.708816</td>\n",
       "      <td>0.012702</td>\n",
       "    </tr>\n",
       "    <tr>\n",
       "      <th>6265</th>\n",
       "      <td>20591</td>\n",
       "      <td>['STDNT_FEMALE', 'CURR_GPA', 'HS_CALC_IND', 'S...</td>\n",
       "      <td>0.776616</td>\n",
       "      <td>0.004747</td>\n",
       "      <td>0.789133</td>\n",
       "      <td>0.710496</td>\n",
       "      <td>0.013209</td>\n",
       "    </tr>\n",
       "    <tr>\n",
       "      <th>...</th>\n",
       "      <td>...</td>\n",
       "      <td>...</td>\n",
       "      <td>...</td>\n",
       "      <td>...</td>\n",
       "      <td>...</td>\n",
       "      <td>...</td>\n",
       "      <td>...</td>\n",
       "    </tr>\n",
       "    <tr>\n",
       "      <th>7000</th>\n",
       "      <td>23039</td>\n",
       "      <td>['STDNT_FEMALE', 'CURR_GPA_BIN', 'No_grades_at...</td>\n",
       "      <td>0.717666</td>\n",
       "      <td>0.004425</td>\n",
       "      <td>0.731719</td>\n",
       "      <td>0.782454</td>\n",
       "      <td>0.013033</td>\n",
       "    </tr>\n",
       "    <tr>\n",
       "      <th>13926</th>\n",
       "      <td>46071</td>\n",
       "      <td>['CURR_GPA_BIN', 'ACT_SAT_MATH_PCTL_IsMissing'...</td>\n",
       "      <td>0.717092</td>\n",
       "      <td>0.014975</td>\n",
       "      <td>0.740479</td>\n",
       "      <td>0.757320</td>\n",
       "      <td>0.022796</td>\n",
       "    </tr>\n",
       "    <tr>\n",
       "      <th>10461</th>\n",
       "      <td>34551</td>\n",
       "      <td>['STDNT_AGE_BIN', 'CURR_GPA_BIN', 'ACT_SAT_MAT...</td>\n",
       "      <td>0.716128</td>\n",
       "      <td>0.019004</td>\n",
       "      <td>0.749507</td>\n",
       "      <td>0.751850</td>\n",
       "      <td>0.019208</td>\n",
       "    </tr>\n",
       "    <tr>\n",
       "      <th>10466</th>\n",
       "      <td>34559</td>\n",
       "      <td>['STDNT_AGE_BIN', 'CURR_GPA_BIN', 'No_grades_a...</td>\n",
       "      <td>0.716071</td>\n",
       "      <td>0.011205</td>\n",
       "      <td>0.740767</td>\n",
       "      <td>0.771017</td>\n",
       "      <td>0.013713</td>\n",
       "    </tr>\n",
       "    <tr>\n",
       "      <th>13930</th>\n",
       "      <td>46079</td>\n",
       "      <td>['CURR_GPA_BIN', 'No_grades_at_all', 'Grade_Ov...</td>\n",
       "      <td>0.713118</td>\n",
       "      <td>0.004279</td>\n",
       "      <td>0.729577</td>\n",
       "      <td>0.790115</td>\n",
       "      <td>0.020325</td>\n",
       "    </tr>\n",
       "  </tbody>\n",
       "</table>\n",
       "<p>13931 rows × 7 columns</p>\n",
       "</div>"
      ],
      "text/plain": [
       "       index                                              MODEL  \\\n",
       "3638   11951  ['STDNT_FEMALE', 'HS_GPA_BIN', 'CURR_GPA', 'HS...   \n",
       "3637   11950  ['STDNT_FEMALE', 'HS_GPA_BIN', 'CURR_GPA', 'HS...   \n",
       "3620   11891  ['STDNT_FEMALE', 'HS_GPA_BIN', 'CURR_GPA', 'HS...   \n",
       "6264   20590  ['STDNT_FEMALE', 'CURR_GPA', 'HS_CALC_IND', 'S...   \n",
       "6265   20591  ['STDNT_FEMALE', 'CURR_GPA', 'HS_CALC_IND', 'S...   \n",
       "...      ...                                                ...   \n",
       "7000   23039  ['STDNT_FEMALE', 'CURR_GPA_BIN', 'No_grades_at...   \n",
       "13926  46071  ['CURR_GPA_BIN', 'ACT_SAT_MATH_PCTL_IsMissing'...   \n",
       "10461  34551  ['STDNT_AGE_BIN', 'CURR_GPA_BIN', 'ACT_SAT_MAT...   \n",
       "10466  34559  ['STDNT_AGE_BIN', 'CURR_GPA_BIN', 'No_grades_a...   \n",
       "13930  46079  ['CURR_GPA_BIN', 'No_grades_at_all', 'Grade_Ov...   \n",
       "\n",
       "       test_AUC_mean  test_AUC_se  train_AUC_mean  test_Gen entropy_mean  \\\n",
       "3638        0.777052     0.004040        0.790581               0.704837   \n",
       "3637        0.776946     0.004007        0.790672               0.702772   \n",
       "3620        0.776623     0.005969        0.787583               0.700814   \n",
       "6264        0.776619     0.004701        0.789147               0.708816   \n",
       "6265        0.776616     0.004747        0.789133               0.710496   \n",
       "...              ...          ...             ...                    ...   \n",
       "7000        0.717666     0.004425        0.731719               0.782454   \n",
       "13926       0.717092     0.014975        0.740479               0.757320   \n",
       "10461       0.716128     0.019004        0.749507               0.751850   \n",
       "10466       0.716071     0.011205        0.740767               0.771017   \n",
       "13930       0.713118     0.004279        0.729577               0.790115   \n",
       "\n",
       "       test_Gen entropy_se  \n",
       "3638              0.008658  \n",
       "3637              0.007776  \n",
       "3620              0.006185  \n",
       "6264              0.012702  \n",
       "6265              0.013209  \n",
       "...                    ...  \n",
       "7000              0.013033  \n",
       "13926             0.022796  \n",
       "10461             0.019208  \n",
       "10466             0.013713  \n",
       "13930             0.020325  \n",
       "\n",
       "[13931 rows x 7 columns]"
      ]
     },
     "execution_count": 49,
     "metadata": {},
     "output_type": "execute_result"
    }
   ],
   "source": [
    "# Results of the cross-validation\n",
    "files = ! ls models/*.csv\n",
    "\n",
    "# DataFrame to concatenate coss-validation results from different files\n",
    "models_cv_res = None\n",
    "\n",
    "for file in files:\n",
    "    model_cv_res = pd.read_csv(file)\n",
    "    if type(models_cv_res)==pd.core.frame.DataFrame:\n",
    "        models_cv_res = pd.concat([models_cv_res, model_cv_res])\n",
    "    else:\n",
    "        models_cv_res = model_cv_res.copy()\n",
    "\n",
    "models_cv_res = models_cv_res.sort_values(by='Unnamed: 0')\n",
    "models_cv_res.reset_index(drop=True, inplace=True)\n",
    "models_cv_res.drop(columns=['Unnamed: 0'], inplace=True)\n",
    "models_cv_res = models_cv_res.sort_values(by='test_AUC_mean', ascending=False)\n",
    "\n",
    "models_cv_res"
   ]
  },
  {
   "cell_type": "markdown",
   "id": "389cd217-52e1-43d9-a984-ec09c73317a7",
   "metadata": {},
   "source": [
    "### Distribution of cross-validation results"
   ]
  },
  {
   "cell_type": "code",
   "execution_count": 50,
   "id": "214b38ea-5358-4a70-944d-aeffea9cbfb8",
   "metadata": {
    "tags": []
   },
   "outputs": [
    {
     "data": {
      "text/html": [
       "<div>\n",
       "<style scoped>\n",
       "    .dataframe tbody tr th:only-of-type {\n",
       "        vertical-align: middle;\n",
       "    }\n",
       "\n",
       "    .dataframe tbody tr th {\n",
       "        vertical-align: top;\n",
       "    }\n",
       "\n",
       "    .dataframe thead th {\n",
       "        text-align: right;\n",
       "    }\n",
       "</style>\n",
       "<table border=\"1\" class=\"dataframe\">\n",
       "  <thead>\n",
       "    <tr style=\"text-align: right;\">\n",
       "      <th></th>\n",
       "      <th>test_AUC_mean</th>\n",
       "      <th>test_AUC_se</th>\n",
       "      <th>train_AUC_mean</th>\n",
       "      <th>test_Gen entropy_mean</th>\n",
       "      <th>test_Gen entropy_se</th>\n",
       "    </tr>\n",
       "  </thead>\n",
       "  <tbody>\n",
       "    <tr>\n",
       "      <th>count</th>\n",
       "      <td>13931.000000</td>\n",
       "      <td>13931.000000</td>\n",
       "      <td>13931.000000</td>\n",
       "      <td>13931.000000</td>\n",
       "      <td>13931.000000</td>\n",
       "    </tr>\n",
       "    <tr>\n",
       "      <th>mean</th>\n",
       "      <td>0.760199</td>\n",
       "      <td>0.008879</td>\n",
       "      <td>0.784077</td>\n",
       "      <td>0.703034</td>\n",
       "      <td>0.027440</td>\n",
       "    </tr>\n",
       "    <tr>\n",
       "      <th>std</th>\n",
       "      <td>0.007137</td>\n",
       "      <td>0.003634</td>\n",
       "      <td>0.008441</td>\n",
       "      <td>0.021638</td>\n",
       "      <td>0.010198</td>\n",
       "    </tr>\n",
       "    <tr>\n",
       "      <th>min</th>\n",
       "      <td>0.713118</td>\n",
       "      <td>0.000086</td>\n",
       "      <td>0.727541</td>\n",
       "      <td>0.642824</td>\n",
       "      <td>0.000038</td>\n",
       "    </tr>\n",
       "    <tr>\n",
       "      <th>25%</th>\n",
       "      <td>0.756560</td>\n",
       "      <td>0.006342</td>\n",
       "      <td>0.779735</td>\n",
       "      <td>0.687617</td>\n",
       "      <td>0.020879</td>\n",
       "    </tr>\n",
       "    <tr>\n",
       "      <th>50%</th>\n",
       "      <td>0.761065</td>\n",
       "      <td>0.008954</td>\n",
       "      <td>0.785190</td>\n",
       "      <td>0.702021</td>\n",
       "      <td>0.027647</td>\n",
       "    </tr>\n",
       "    <tr>\n",
       "      <th>75%</th>\n",
       "      <td>0.764982</td>\n",
       "      <td>0.011432</td>\n",
       "      <td>0.789797</td>\n",
       "      <td>0.717668</td>\n",
       "      <td>0.034182</td>\n",
       "    </tr>\n",
       "    <tr>\n",
       "      <th>max</th>\n",
       "      <td>0.777052</td>\n",
       "      <td>0.019178</td>\n",
       "      <td>0.801691</td>\n",
       "      <td>0.792055</td>\n",
       "      <td>0.067567</td>\n",
       "    </tr>\n",
       "  </tbody>\n",
       "</table>\n",
       "</div>"
      ],
      "text/plain": [
       "       test_AUC_mean   test_AUC_se  train_AUC_mean  test_Gen entropy_mean  \\\n",
       "count   13931.000000  13931.000000    13931.000000           13931.000000   \n",
       "mean        0.760199      0.008879        0.784077               0.703034   \n",
       "std         0.007137      0.003634        0.008441               0.021638   \n",
       "min         0.713118      0.000086        0.727541               0.642824   \n",
       "25%         0.756560      0.006342        0.779735               0.687617   \n",
       "50%         0.761065      0.008954        0.785190               0.702021   \n",
       "75%         0.764982      0.011432        0.789797               0.717668   \n",
       "max         0.777052      0.019178        0.801691               0.792055   \n",
       "\n",
       "       test_Gen entropy_se  \n",
       "count         13931.000000  \n",
       "mean              0.027440  \n",
       "std               0.010198  \n",
       "min               0.000038  \n",
       "25%               0.020879  \n",
       "50%               0.027647  \n",
       "75%               0.034182  \n",
       "max               0.067567  "
      ]
     },
     "execution_count": 50,
     "metadata": {},
     "output_type": "execute_result"
    }
   ],
   "source": [
    "models_cv_res.describe().iloc[:, 1:]"
   ]
  },
  {
   "cell_type": "code",
   "execution_count": 51,
   "id": "299e999b-94e4-4b4b-9e98-d3c6bec410d9",
   "metadata": {
    "tags": []
   },
   "outputs": [
    {
     "data": {
      "image/png": "[encoded data removed]",
      "text/plain": [
       "<Figure size 640x480 with 1 Axes>"
      ]
     },
     "metadata": {},
     "output_type": "display_data"
    }
   ],
   "source": [
    "plt.hist(models_cv_res['test_AUC_mean'], bins=30, density=True)\n",
    "plt.title('Distribution of the cross-validation test AUC values\\nacross the potential models', \n",
    "          fontsize=14)\n",
    "plt.xlabel('AUC', fontsize=12)\n",
    "plt.ylabel('pdf', fontsize=12)\n",
    "plt.xticks(fontsize=11)\n",
    "plt.yticks(fontsize=11);"
   ]
  },
  {
   "cell_type": "markdown",
   "id": "abafcae4-b414-4665-b3fb-b1355b71238d",
   "metadata": {},
   "source": [
    "### The top 1000 models based on their test AUC values"
   ]
  },
  {
   "cell_type": "code",
   "execution_count": 52,
   "id": "400bc8af-430f-4745-a3c3-a0a7e6cdd512",
   "metadata": {
    "tags": []
   },
   "outputs": [],
   "source": [
    "# Define the 1000 best models\n",
    "num_best_models = 1000\n",
    "models_cv_res['best_model'] = np.NaN\n",
    "models_cv_res.head(num_best_models).index\n",
    "models_cv_res['best_model'] = np.where(models_cv_res.index.isin(models_cv_res.head(num_best_models).index), \n",
    "                                       'top '+str(num_best_models)+'\\nmodels',\n",
    "                                       'remaining\\nmodels')"
   ]
  },
  {
   "cell_type": "code",
   "execution_count": 53,
   "id": "c284c5d3-1f1c-41cd-b57f-b7f70cb5d9f1",
   "metadata": {
    "tags": []
   },
   "outputs": [
    {
     "data": {
      "image/png": "[encoded data removed]",
      "text/plain": [
       "<Figure size 1100x300 with 3 Axes>"
      ]
     },
     "metadata": {},
     "output_type": "display_data"
    }
   ],
   "source": [
    "fig, axes = plt.subplots(1, 3, figsize=(11, 3))\n",
    "sns.boxplot(data=models_cv_res, x=\"test_AUC_mean\", y=\"best_model\", ax=axes[0])\n",
    "sns.boxplot(data=models_cv_res, x=\"test_AUC_se\", y=\"best_model\", ax=axes[1])\n",
    "sns.boxplot(data=models_cv_res, x=\"test_Gen entropy_mean\", y=\"best_model\", ax=axes[2])\n",
    "plt.suptitle(f'Performance comparison: Top {num_best_models} models versus remaining models', \n",
    "             fontsize=14, y=0.99)\n",
    "\n",
    "for ind in range(3):\n",
    "    axes[ind].set(ylabel=None)\n",
    "    axes[ind].tick_params(axis='both', which='major', labelsize=11)\n",
    "    axes[ind].xaxis.get_label().set_fontsize(12)\n",
    "    \n",
    "    if ind > 0:\n",
    "        axes[ind].set(yticklabels=[])\n",
    "        \n",
    "fig.subplots_adjust(hspace=10)        "
   ]
  },
  {
   "cell_type": "code",
   "execution_count": 54,
   "id": "6d3d0545-65ef-4e6c-a24f-75ce7b66dac3",
   "metadata": {
    "tags": []
   },
   "outputs": [],
   "source": [
    "models_best = models_cv_res.head(num_best_models).copy()"
   ]
  },
  {
   "cell_type": "code",
   "execution_count": 55,
   "id": "17a41c35-ec87-4288-a160-5eb3c18e7446",
   "metadata": {
    "tags": []
   },
   "outputs": [],
   "source": [
    "models_best = models_best.merge(models, how='left', left_on='index', right_index=True)"
   ]
  },
  {
   "cell_type": "markdown",
   "id": "c4ea146b-09e0-4d88-a95e-7b3e0a0864f5",
   "metadata": {},
   "source": [
    "#### Frequency of factor groups within the top 1000 models"
   ]
  },
  {
   "cell_type": "code",
   "execution_count": 56,
   "id": "6633630a-0428-4501-8c8d-9bddec5bc64c",
   "metadata": {
    "tags": []
   },
   "outputs": [],
   "source": [
    "factor_groups = models.columns[:-2]\n",
    "bar_stats = models_best[factor_groups].count()\n",
    "bar_stats.sort_values(ascending=False, inplace=True)"
   ]
  },
  {
   "cell_type": "code",
   "execution_count": 57,
   "id": "acf471f6-eca7-4fc7-9cb6-26187253fc64",
   "metadata": {
    "tags": []
   },
   "outputs": [
    {
     "data": {
      "image/png": "[encoded data removed]",
      "text/plain": [
       "<Figure size 640x480 with 1 Axes>"
      ]
     },
     "metadata": {},
     "output_type": "display_data"
    }
   ],
   "source": [
    "xlabels = ['CURR GPA', 'HS\\nCALCULUS', 'SINGLE\\nPARENT', 'ETHNICITY', 'SAT',\n",
    "           'GENDER', 'HS GPA', 'ACAD LOAD', 'AGE', 'PARENT\\nEDUCATION',\n",
    "           'FAMILY\\nINCOME', 'SAT MATH']\n",
    "plt.bar(xlabels, bar_stats)\n",
    "plt.xlabel('Group of factors', fontsize=12)\n",
    "plt.ylabel('Number of models', fontsize=12)\n",
    "plt.title(f'Frequency of factor groups within the top {num_best_models} models', fontsize=14)\n",
    "plt.xticks(rotation=90);"
   ]
  },
  {
   "cell_type": "markdown",
   "id": "f2634f99-827c-4c4f-8121-355e701b8f5e",
   "metadata": {},
   "source": [
    "## Selecting models for subsequent analysis"
   ]
  },
  {
   "cell_type": "code",
   "execution_count": 58,
   "id": "c2f21a6b-b075-4aba-882a-5c01bf94f4e9",
   "metadata": {
    "tags": []
   },
   "outputs": [],
   "source": [
    "# List of models for further analysis\n",
    "model_indices = []"
   ]
  },
  {
   "cell_type": "code",
   "execution_count": 59,
   "id": "6a6061ed-63d2-4f0f-b742-d2c198bff509",
   "metadata": {
    "tags": []
   },
   "outputs": [],
   "source": [
    "models_cv_res_ = models_cv_res.merge(models, how='left', left_on='index', right_index=True)"
   ]
  },
  {
   "cell_type": "code",
   "execution_count": 60,
   "id": "80fdbda7-2b20-4139-abdd-725b178b67d8",
   "metadata": {
    "tags": []
   },
   "outputs": [
    {
     "data": {
      "text/html": [
       "<div>\n",
       "<style scoped>\n",
       "    .dataframe tbody tr th:only-of-type {\n",
       "        vertical-align: middle;\n",
       "    }\n",
       "\n",
       "    .dataframe tbody tr th {\n",
       "        vertical-align: top;\n",
       "    }\n",
       "\n",
       "    .dataframe thead th {\n",
       "        text-align: right;\n",
       "    }\n",
       "</style>\n",
       "<table border=\"1\" class=\"dataframe\">\n",
       "  <thead>\n",
       "    <tr style=\"text-align: right;\">\n",
       "      <th></th>\n",
       "      <th>index</th>\n",
       "      <th>MODEL_x</th>\n",
       "      <th>test_AUC_mean</th>\n",
       "      <th>test_AUC_se</th>\n",
       "      <th>train_AUC_mean</th>\n",
       "      <th>test_Gen entropy_mean</th>\n",
       "      <th>test_Gen entropy_se</th>\n",
       "      <th>best_model</th>\n",
       "      <th>GENDER</th>\n",
       "      <th>AGE</th>\n",
       "      <th>HS_GPA</th>\n",
       "      <th>CURR_GPA</th>\n",
       "      <th>HS_CALCULUS</th>\n",
       "      <th>FAMILY_INCOME</th>\n",
       "      <th>SINGLE_PARENT</th>\n",
       "      <th>ETHNICITY</th>\n",
       "      <th>SAT</th>\n",
       "      <th>SAT_MATH</th>\n",
       "      <th>PARENT_EDUCATION</th>\n",
       "      <th>ACAD_LOAD</th>\n",
       "      <th>REMAINING_FACTORS</th>\n",
       "      <th>MODEL_y</th>\n",
       "    </tr>\n",
       "  </thead>\n",
       "  <tbody>\n",
       "    <tr>\n",
       "      <th>3638</th>\n",
       "      <td>11951</td>\n",
       "      <td>['STDNT_FEMALE', 'HS_GPA_BIN', 'CURR_GPA', 'HS...</td>\n",
       "      <td>0.777052</td>\n",
       "      <td>0.004040</td>\n",
       "      <td>0.790581</td>\n",
       "      <td>0.704837</td>\n",
       "      <td>0.008658</td>\n",
       "      <td>top 1000\\nmodels</td>\n",
       "      <td>STDNT_FEMALE</td>\n",
       "      <td>NaN</td>\n",
       "      <td>HS_GPA_BIN</td>\n",
       "      <td>CURR_GPA</td>\n",
       "      <td>HS_CALC_IND</td>\n",
       "      <td>NaN</td>\n",
       "      <td>SNGL_PRNT_IND</td>\n",
       "      <td>STDNT_ASIAN_IND,STDNT_BLACK_IND,STDNT_HSPNC_IN...</td>\n",
       "      <td>SAT_ACT_TOTAL_BIN</td>\n",
       "      <td>NaN</td>\n",
       "      <td>NaN</td>\n",
       "      <td>NaN</td>\n",
       "      <td>No_grades_at_all, Grade_Overall_I_for_1_and_mo...</td>\n",
       "      <td>[STDNT_FEMALE, HS_GPA_BIN, CURR_GPA, HS_CALC_I...</td>\n",
       "    </tr>\n",
       "    <tr>\n",
       "      <th>3637</th>\n",
       "      <td>11950</td>\n",
       "      <td>['STDNT_FEMALE', 'HS_GPA_BIN', 'CURR_GPA', 'HS...</td>\n",
       "      <td>0.776946</td>\n",
       "      <td>0.004007</td>\n",
       "      <td>0.790672</td>\n",
       "      <td>0.702772</td>\n",
       "      <td>0.007776</td>\n",
       "      <td>top 1000\\nmodels</td>\n",
       "      <td>STDNT_FEMALE</td>\n",
       "      <td>NaN</td>\n",
       "      <td>HS_GPA_BIN</td>\n",
       "      <td>CURR_GPA</td>\n",
       "      <td>HS_CALC_IND</td>\n",
       "      <td>NaN</td>\n",
       "      <td>SNGL_PRNT_IND</td>\n",
       "      <td>STDNT_ASIAN_IND,STDNT_BLACK_IND,STDNT_HSPNC_IN...</td>\n",
       "      <td>SAT_ACT_TOTAL_BIN</td>\n",
       "      <td>NaN</td>\n",
       "      <td>NaN</td>\n",
       "      <td>ACAD_LOAD</td>\n",
       "      <td>No_grades_at_all, Grade_Overall_I_for_1_and_mo...</td>\n",
       "      <td>[STDNT_FEMALE, HS_GPA_BIN, CURR_GPA, HS_CALC_I...</td>\n",
       "    </tr>\n",
       "    <tr>\n",
       "      <th>3620</th>\n",
       "      <td>11891</td>\n",
       "      <td>['STDNT_FEMALE', 'HS_GPA_BIN', 'CURR_GPA', 'HS...</td>\n",
       "      <td>0.776623</td>\n",
       "      <td>0.005969</td>\n",
       "      <td>0.787583</td>\n",
       "      <td>0.700814</td>\n",
       "      <td>0.006185</td>\n",
       "      <td>top 1000\\nmodels</td>\n",
       "      <td>STDNT_FEMALE</td>\n",
       "      <td>NaN</td>\n",
       "      <td>HS_GPA_BIN</td>\n",
       "      <td>CURR_GPA</td>\n",
       "      <td>HS_CALC_IND</td>\n",
       "      <td>NaN</td>\n",
       "      <td>SNGL_PRNT_IND</td>\n",
       "      <td>STDNT_ETHNC_GRP_CD</td>\n",
       "      <td>SAT_ACT_TOTAL_BIN</td>\n",
       "      <td>NaN</td>\n",
       "      <td>NaN</td>\n",
       "      <td>NaN</td>\n",
       "      <td>No_grades_at_all, Grade_Overall_I_for_1_and_mo...</td>\n",
       "      <td>[STDNT_FEMALE, HS_GPA_BIN, CURR_GPA, HS_CALC_I...</td>\n",
       "    </tr>\n",
       "    <tr>\n",
       "      <th>6264</th>\n",
       "      <td>20590</td>\n",
       "      <td>['STDNT_FEMALE', 'CURR_GPA', 'HS_CALC_IND', 'S...</td>\n",
       "      <td>0.776619</td>\n",
       "      <td>0.004701</td>\n",
       "      <td>0.789147</td>\n",
       "      <td>0.708816</td>\n",
       "      <td>0.012702</td>\n",
       "      <td>top 1000\\nmodels</td>\n",
       "      <td>STDNT_FEMALE</td>\n",
       "      <td>NaN</td>\n",
       "      <td>NaN</td>\n",
       "      <td>CURR_GPA</td>\n",
       "      <td>HS_CALC_IND</td>\n",
       "      <td>NaN</td>\n",
       "      <td>SNGL_PRNT_IND</td>\n",
       "      <td>STDNT_ASIAN_IND,STDNT_BLACK_IND,STDNT_HSPNC_IN...</td>\n",
       "      <td>SAT_ACT_TOTAL_BIN</td>\n",
       "      <td>NaN</td>\n",
       "      <td>NaN</td>\n",
       "      <td>ACAD_LOAD</td>\n",
       "      <td>No_grades_at_all, Grade_Overall_I_for_1_and_mo...</td>\n",
       "      <td>[STDNT_FEMALE, CURR_GPA, HS_CALC_IND, SNGL_PRN...</td>\n",
       "    </tr>\n",
       "    <tr>\n",
       "      <th>6265</th>\n",
       "      <td>20591</td>\n",
       "      <td>['STDNT_FEMALE', 'CURR_GPA', 'HS_CALC_IND', 'S...</td>\n",
       "      <td>0.776616</td>\n",
       "      <td>0.004747</td>\n",
       "      <td>0.789133</td>\n",
       "      <td>0.710496</td>\n",
       "      <td>0.013209</td>\n",
       "      <td>top 1000\\nmodels</td>\n",
       "      <td>STDNT_FEMALE</td>\n",
       "      <td>NaN</td>\n",
       "      <td>NaN</td>\n",
       "      <td>CURR_GPA</td>\n",
       "      <td>HS_CALC_IND</td>\n",
       "      <td>NaN</td>\n",
       "      <td>SNGL_PRNT_IND</td>\n",
       "      <td>STDNT_ASIAN_IND,STDNT_BLACK_IND,STDNT_HSPNC_IN...</td>\n",
       "      <td>SAT_ACT_TOTAL_BIN</td>\n",
       "      <td>NaN</td>\n",
       "      <td>NaN</td>\n",
       "      <td>NaN</td>\n",
       "      <td>No_grades_at_all, Grade_Overall_I_for_1_and_mo...</td>\n",
       "      <td>[STDNT_FEMALE, CURR_GPA, HS_CALC_IND, SNGL_PRN...</td>\n",
       "    </tr>\n",
       "  </tbody>\n",
       "</table>\n",
       "</div>"
      ],
      "text/plain": [
       "      index                                            MODEL_x  test_AUC_mean  \\\n",
       "3638  11951  ['STDNT_FEMALE', 'HS_GPA_BIN', 'CURR_GPA', 'HS...       0.777052   \n",
       "3637  11950  ['STDNT_FEMALE', 'HS_GPA_BIN', 'CURR_GPA', 'HS...       0.776946   \n",
       "3620  11891  ['STDNT_FEMALE', 'HS_GPA_BIN', 'CURR_GPA', 'HS...       0.776623   \n",
       "6264  20590  ['STDNT_FEMALE', 'CURR_GPA', 'HS_CALC_IND', 'S...       0.776619   \n",
       "6265  20591  ['STDNT_FEMALE', 'CURR_GPA', 'HS_CALC_IND', 'S...       0.776616   \n",
       "\n",
       "      test_AUC_se  train_AUC_mean  test_Gen entropy_mean  test_Gen entropy_se  \\\n",
       "3638     0.004040        0.790581               0.704837             0.008658   \n",
       "3637     0.004007        0.790672               0.702772             0.007776   \n",
       "3620     0.005969        0.787583               0.700814             0.006185   \n",
       "6264     0.004701        0.789147               0.708816             0.012702   \n",
       "6265     0.004747        0.789133               0.710496             0.013209   \n",
       "\n",
       "            best_model        GENDER  AGE      HS_GPA  CURR_GPA  HS_CALCULUS  \\\n",
       "3638  top 1000\\nmodels  STDNT_FEMALE  NaN  HS_GPA_BIN  CURR_GPA  HS_CALC_IND   \n",
       "3637  top 1000\\nmodels  STDNT_FEMALE  NaN  HS_GPA_BIN  CURR_GPA  HS_CALC_IND   \n",
       "3620  top 1000\\nmodels  STDNT_FEMALE  NaN  HS_GPA_BIN  CURR_GPA  HS_CALC_IND   \n",
       "6264  top 1000\\nmodels  STDNT_FEMALE  NaN         NaN  CURR_GPA  HS_CALC_IND   \n",
       "6265  top 1000\\nmodels  STDNT_FEMALE  NaN         NaN  CURR_GPA  HS_CALC_IND   \n",
       "\n",
       "     FAMILY_INCOME  SINGLE_PARENT  \\\n",
       "3638           NaN  SNGL_PRNT_IND   \n",
       "3637           NaN  SNGL_PRNT_IND   \n",
       "3620           NaN  SNGL_PRNT_IND   \n",
       "6264           NaN  SNGL_PRNT_IND   \n",
       "6265           NaN  SNGL_PRNT_IND   \n",
       "\n",
       "                                              ETHNICITY                SAT  \\\n",
       "3638  STDNT_ASIAN_IND,STDNT_BLACK_IND,STDNT_HSPNC_IN...  SAT_ACT_TOTAL_BIN   \n",
       "3637  STDNT_ASIAN_IND,STDNT_BLACK_IND,STDNT_HSPNC_IN...  SAT_ACT_TOTAL_BIN   \n",
       "3620                                 STDNT_ETHNC_GRP_CD  SAT_ACT_TOTAL_BIN   \n",
       "6264  STDNT_ASIAN_IND,STDNT_BLACK_IND,STDNT_HSPNC_IN...  SAT_ACT_TOTAL_BIN   \n",
       "6265  STDNT_ASIAN_IND,STDNT_BLACK_IND,STDNT_HSPNC_IN...  SAT_ACT_TOTAL_BIN   \n",
       "\n",
       "     SAT_MATH PARENT_EDUCATION  ACAD_LOAD  \\\n",
       "3638      NaN              NaN        NaN   \n",
       "3637      NaN              NaN  ACAD_LOAD   \n",
       "3620      NaN              NaN        NaN   \n",
       "6264      NaN              NaN  ACAD_LOAD   \n",
       "6265      NaN              NaN        NaN   \n",
       "\n",
       "                                      REMAINING_FACTORS  \\\n",
       "3638  No_grades_at_all, Grade_Overall_I_for_1_and_mo...   \n",
       "3637  No_grades_at_all, Grade_Overall_I_for_1_and_mo...   \n",
       "3620  No_grades_at_all, Grade_Overall_I_for_1_and_mo...   \n",
       "6264  No_grades_at_all, Grade_Overall_I_for_1_and_mo...   \n",
       "6265  No_grades_at_all, Grade_Overall_I_for_1_and_mo...   \n",
       "\n",
       "                                                MODEL_y  \n",
       "3638  [STDNT_FEMALE, HS_GPA_BIN, CURR_GPA, HS_CALC_I...  \n",
       "3637  [STDNT_FEMALE, HS_GPA_BIN, CURR_GPA, HS_CALC_I...  \n",
       "3620  [STDNT_FEMALE, HS_GPA_BIN, CURR_GPA, HS_CALC_I...  \n",
       "6264  [STDNT_FEMALE, CURR_GPA, HS_CALC_IND, SNGL_PRN...  \n",
       "6265  [STDNT_FEMALE, CURR_GPA, HS_CALC_IND, SNGL_PRN...  "
      ]
     },
     "execution_count": 60,
     "metadata": {},
     "output_type": "execute_result"
    }
   ],
   "source": [
    "# The best 5 models chosen by test AUC\n",
    "pd.set_option('display.max_columns', None)\n",
    "models_cv_res_.head()"
   ]
  },
  {
   "cell_type": "markdown",
   "id": "34e480e1-3a32-4e8a-a1f6-33f3e0cf22ef",
   "metadata": {},
   "source": [
    "We will include the second best model (by test AUC) into further analysis since it has nearly identical characteristics to the top model. However, the second model includes an additional factor, 'ACAD_LOAD', which broadens its consideration of various aspects related to students."
   ]
  },
  {
   "cell_type": "code",
   "execution_count": 61,
   "id": "41c2b272-0fa1-428e-8c19-9da976e024fb",
   "metadata": {
    "tags": []
   },
   "outputs": [],
   "source": [
    "model_indices.append(11950)"
   ]
  },
  {
   "cell_type": "code",
   "execution_count": 62,
   "id": "5c7094dc-8d63-4112-b08d-0c9c5b3b48d4",
   "metadata": {
    "tags": []
   },
   "outputs": [
    {
     "data": {
      "text/plain": [
       "['STDNT_FEMALE',\n",
       " 'HS_GPA_BIN',\n",
       " 'CURR_GPA',\n",
       " 'HS_CALC_IND',\n",
       " 'SNGL_PRNT_IND',\n",
       " 'STDNT_ASIAN_IND',\n",
       " 'STDNT_BLACK_IND',\n",
       " 'STDNT_HSPNC_IND',\n",
       " 'STDNT_NTV_AMRCN_HWIAN_IND',\n",
       " 'STDNT_MULTI_ETHNC_IND',\n",
       " 'STDNT_ETHNC_NAN',\n",
       " 'SAT_ACT_TOTAL_BIN',\n",
       " 'ACAD_LOAD',\n",
       " 'No_grades_at_all',\n",
       " 'Grade_Overall_I_for_1_and_more_courses',\n",
       " 'Grade_W_for_1_course',\n",
       " 'Grade_W_for_2_courses',\n",
       " 'Grade_W_for_3_and_more_courses',\n",
       " 'Grade_NR_for_1_and_more_courses']"
      ]
     },
     "execution_count": 62,
     "metadata": {},
     "output_type": "execute_result"
    }
   ],
   "source": [
    "# The first chosen model\n",
    "models_cv_res_.loc[models_cv_res_['index']==model_indices[0], 'MODEL_y'].values[0]"
   ]
  },
  {
   "cell_type": "markdown",
   "id": "e45af73a-b325-4fda-a7b0-78424636adde",
   "metadata": {},
   "source": [
    "The model selected based on test AUC do not incorporate crucial factors such as parent education, family income, student age, and high school GPA. Let's opt for the next model that includes these important factors."
   ]
  },
  {
   "cell_type": "code",
   "execution_count": 63,
   "id": "4a48779a-aedb-4a87-b2d8-d1b2af6abb15",
   "metadata": {
    "tags": []
   },
   "outputs": [
    {
     "data": {
      "text/html": [
       "<div>\n",
       "<style scoped>\n",
       "    .dataframe tbody tr th:only-of-type {\n",
       "        vertical-align: middle;\n",
       "    }\n",
       "\n",
       "    .dataframe tbody tr th {\n",
       "        vertical-align: top;\n",
       "    }\n",
       "\n",
       "    .dataframe thead th {\n",
       "        text-align: right;\n",
       "    }\n",
       "</style>\n",
       "<table border=\"1\" class=\"dataframe\">\n",
       "  <thead>\n",
       "    <tr style=\"text-align: right;\">\n",
       "      <th></th>\n",
       "      <th>index</th>\n",
       "      <th>MODEL_x</th>\n",
       "      <th>test_AUC_mean</th>\n",
       "      <th>test_AUC_se</th>\n",
       "      <th>train_AUC_mean</th>\n",
       "      <th>test_Gen entropy_mean</th>\n",
       "      <th>test_Gen entropy_se</th>\n",
       "      <th>best_model</th>\n",
       "      <th>GENDER</th>\n",
       "      <th>AGE</th>\n",
       "      <th>HS_GPA</th>\n",
       "      <th>CURR_GPA</th>\n",
       "      <th>HS_CALCULUS</th>\n",
       "      <th>FAMILY_INCOME</th>\n",
       "      <th>SINGLE_PARENT</th>\n",
       "      <th>ETHNICITY</th>\n",
       "      <th>SAT</th>\n",
       "      <th>SAT_MATH</th>\n",
       "      <th>PARENT_EDUCATION</th>\n",
       "      <th>ACAD_LOAD</th>\n",
       "      <th>REMAINING_FACTORS</th>\n",
       "      <th>MODEL_y</th>\n",
       "    </tr>\n",
       "  </thead>\n",
       "  <tbody>\n",
       "    <tr>\n",
       "      <th>1775</th>\n",
       "      <td>5829</td>\n",
       "      <td>['STDNT_FEMALE', 'STDNT_AGE_BIN', 'HS_GPA_Imp_...</td>\n",
       "      <td>0.771219</td>\n",
       "      <td>0.008226</td>\n",
       "      <td>0.796458</td>\n",
       "      <td>0.683703</td>\n",
       "      <td>0.027188</td>\n",
       "      <td>top 1000\\nmodels</td>\n",
       "      <td>STDNT_FEMALE</td>\n",
       "      <td>STDNT_AGE_BIN</td>\n",
       "      <td>HS_GPA_Imp_Interp</td>\n",
       "      <td>CURR_GPA</td>\n",
       "      <td>HS_CALC_IND</td>\n",
       "      <td>GROSS_FAM_INC</td>\n",
       "      <td>SNGL_PRNT_IND</td>\n",
       "      <td>STDNT_ASIAN_IND,STDNT_BLACK_IND,STDNT_HSPNC_IN...</td>\n",
       "      <td>SAT_ACT_TOTAL_BIN</td>\n",
       "      <td>NaN</td>\n",
       "      <td>PRNT_ED_LVL</td>\n",
       "      <td>NaN</td>\n",
       "      <td>No_grades_at_all, Grade_Overall_I_for_1_and_mo...</td>\n",
       "      <td>[STDNT_FEMALE, STDNT_AGE_BIN, HS_GPA_Imp_Inter...</td>\n",
       "    </tr>\n",
       "    <tr>\n",
       "      <th>1774</th>\n",
       "      <td>5828</td>\n",
       "      <td>['STDNT_FEMALE', 'STDNT_AGE_BIN', 'HS_GPA_Imp_...</td>\n",
       "      <td>0.771156</td>\n",
       "      <td>0.008223</td>\n",
       "      <td>0.796496</td>\n",
       "      <td>0.681056</td>\n",
       "      <td>0.025270</td>\n",
       "      <td>top 1000\\nmodels</td>\n",
       "      <td>STDNT_FEMALE</td>\n",
       "      <td>STDNT_AGE_BIN</td>\n",
       "      <td>HS_GPA_Imp_Interp</td>\n",
       "      <td>CURR_GPA</td>\n",
       "      <td>HS_CALC_IND</td>\n",
       "      <td>GROSS_FAM_INC</td>\n",
       "      <td>SNGL_PRNT_IND</td>\n",
       "      <td>STDNT_ASIAN_IND,STDNT_BLACK_IND,STDNT_HSPNC_IN...</td>\n",
       "      <td>SAT_ACT_TOTAL_BIN</td>\n",
       "      <td>NaN</td>\n",
       "      <td>PRNT_ED_LVL</td>\n",
       "      <td>ACAD_LOAD</td>\n",
       "      <td>No_grades_at_all, Grade_Overall_I_for_1_and_mo...</td>\n",
       "      <td>[STDNT_FEMALE, STDNT_AGE_BIN, HS_GPA_Imp_Inter...</td>\n",
       "    </tr>\n",
       "    <tr>\n",
       "      <th>1755</th>\n",
       "      <td>5769</td>\n",
       "      <td>['STDNT_FEMALE', 'STDNT_AGE_BIN', 'HS_GPA_Imp_...</td>\n",
       "      <td>0.771048</td>\n",
       "      <td>0.010124</td>\n",
       "      <td>0.794200</td>\n",
       "      <td>0.701439</td>\n",
       "      <td>0.028328</td>\n",
       "      <td>top 1000\\nmodels</td>\n",
       "      <td>STDNT_FEMALE</td>\n",
       "      <td>STDNT_AGE_BIN</td>\n",
       "      <td>HS_GPA_Imp_Interp</td>\n",
       "      <td>CURR_GPA</td>\n",
       "      <td>HS_CALC_IND</td>\n",
       "      <td>GROSS_FAM_INC</td>\n",
       "      <td>SNGL_PRNT_IND</td>\n",
       "      <td>STDNT_ETHNC_GRP_CD</td>\n",
       "      <td>SAT_ACT_TOTAL_BIN</td>\n",
       "      <td>NaN</td>\n",
       "      <td>PRNT_ED_LVL</td>\n",
       "      <td>NaN</td>\n",
       "      <td>No_grades_at_all, Grade_Overall_I_for_1_and_mo...</td>\n",
       "      <td>[STDNT_FEMALE, STDNT_AGE_BIN, HS_GPA_Imp_Inter...</td>\n",
       "    </tr>\n",
       "    <tr>\n",
       "      <th>1754</th>\n",
       "      <td>5768</td>\n",
       "      <td>['STDNT_FEMALE', 'STDNT_AGE_BIN', 'HS_GPA_Imp_...</td>\n",
       "      <td>0.771021</td>\n",
       "      <td>0.010068</td>\n",
       "      <td>0.794206</td>\n",
       "      <td>0.701170</td>\n",
       "      <td>0.027557</td>\n",
       "      <td>top 1000\\nmodels</td>\n",
       "      <td>STDNT_FEMALE</td>\n",
       "      <td>STDNT_AGE_BIN</td>\n",
       "      <td>HS_GPA_Imp_Interp</td>\n",
       "      <td>CURR_GPA</td>\n",
       "      <td>HS_CALC_IND</td>\n",
       "      <td>GROSS_FAM_INC</td>\n",
       "      <td>SNGL_PRNT_IND</td>\n",
       "      <td>STDNT_ETHNC_GRP_CD</td>\n",
       "      <td>SAT_ACT_TOTAL_BIN</td>\n",
       "      <td>NaN</td>\n",
       "      <td>PRNT_ED_LVL</td>\n",
       "      <td>ACAD_LOAD</td>\n",
       "      <td>No_grades_at_all, Grade_Overall_I_for_1_and_mo...</td>\n",
       "      <td>[STDNT_FEMALE, STDNT_AGE_BIN, HS_GPA_Imp_Inter...</td>\n",
       "    </tr>\n",
       "    <tr>\n",
       "      <th>1789</th>\n",
       "      <td>5877</td>\n",
       "      <td>['STDNT_FEMALE', 'STDNT_AGE_BIN', 'HS_GPA_Imp_...</td>\n",
       "      <td>0.770988</td>\n",
       "      <td>0.008293</td>\n",
       "      <td>0.795464</td>\n",
       "      <td>0.674349</td>\n",
       "      <td>0.029284</td>\n",
       "      <td>top 1000\\nmodels</td>\n",
       "      <td>STDNT_FEMALE</td>\n",
       "      <td>STDNT_AGE_BIN</td>\n",
       "      <td>HS_GPA_Imp_Interp</td>\n",
       "      <td>CURR_GPA</td>\n",
       "      <td>HS_CALC_IND</td>\n",
       "      <td>GROSS_FAM_INC</td>\n",
       "      <td>SNGL_PRNT_IND</td>\n",
       "      <td>STDNT_ASIAN_IND,STDNT_BLACK_IND,STDNT_HSPNC_IN...</td>\n",
       "      <td>NaN</td>\n",
       "      <td>NaN</td>\n",
       "      <td>PRNT_ED_LVL</td>\n",
       "      <td>NaN</td>\n",
       "      <td>No_grades_at_all, Grade_Overall_I_for_1_and_mo...</td>\n",
       "      <td>[STDNT_FEMALE, STDNT_AGE_BIN, HS_GPA_Imp_Inter...</td>\n",
       "    </tr>\n",
       "  </tbody>\n",
       "</table>\n",
       "</div>"
      ],
      "text/plain": [
       "      index                                            MODEL_x  test_AUC_mean  \\\n",
       "1775   5829  ['STDNT_FEMALE', 'STDNT_AGE_BIN', 'HS_GPA_Imp_...       0.771219   \n",
       "1774   5828  ['STDNT_FEMALE', 'STDNT_AGE_BIN', 'HS_GPA_Imp_...       0.771156   \n",
       "1755   5769  ['STDNT_FEMALE', 'STDNT_AGE_BIN', 'HS_GPA_Imp_...       0.771048   \n",
       "1754   5768  ['STDNT_FEMALE', 'STDNT_AGE_BIN', 'HS_GPA_Imp_...       0.771021   \n",
       "1789   5877  ['STDNT_FEMALE', 'STDNT_AGE_BIN', 'HS_GPA_Imp_...       0.770988   \n",
       "\n",
       "      test_AUC_se  train_AUC_mean  test_Gen entropy_mean  test_Gen entropy_se  \\\n",
       "1775     0.008226        0.796458               0.683703             0.027188   \n",
       "1774     0.008223        0.796496               0.681056             0.025270   \n",
       "1755     0.010124        0.794200               0.701439             0.028328   \n",
       "1754     0.010068        0.794206               0.701170             0.027557   \n",
       "1789     0.008293        0.795464               0.674349             0.029284   \n",
       "\n",
       "            best_model        GENDER            AGE             HS_GPA  \\\n",
       "1775  top 1000\\nmodels  STDNT_FEMALE  STDNT_AGE_BIN  HS_GPA_Imp_Interp   \n",
       "1774  top 1000\\nmodels  STDNT_FEMALE  STDNT_AGE_BIN  HS_GPA_Imp_Interp   \n",
       "1755  top 1000\\nmodels  STDNT_FEMALE  STDNT_AGE_BIN  HS_GPA_Imp_Interp   \n",
       "1754  top 1000\\nmodels  STDNT_FEMALE  STDNT_AGE_BIN  HS_GPA_Imp_Interp   \n",
       "1789  top 1000\\nmodels  STDNT_FEMALE  STDNT_AGE_BIN  HS_GPA_Imp_Interp   \n",
       "\n",
       "      CURR_GPA  HS_CALCULUS  FAMILY_INCOME  SINGLE_PARENT  \\\n",
       "1775  CURR_GPA  HS_CALC_IND  GROSS_FAM_INC  SNGL_PRNT_IND   \n",
       "1774  CURR_GPA  HS_CALC_IND  GROSS_FAM_INC  SNGL_PRNT_IND   \n",
       "1755  CURR_GPA  HS_CALC_IND  GROSS_FAM_INC  SNGL_PRNT_IND   \n",
       "1754  CURR_GPA  HS_CALC_IND  GROSS_FAM_INC  SNGL_PRNT_IND   \n",
       "1789  CURR_GPA  HS_CALC_IND  GROSS_FAM_INC  SNGL_PRNT_IND   \n",
       "\n",
       "                                              ETHNICITY                SAT  \\\n",
       "1775  STDNT_ASIAN_IND,STDNT_BLACK_IND,STDNT_HSPNC_IN...  SAT_ACT_TOTAL_BIN   \n",
       "1774  STDNT_ASIAN_IND,STDNT_BLACK_IND,STDNT_HSPNC_IN...  SAT_ACT_TOTAL_BIN   \n",
       "1755                                 STDNT_ETHNC_GRP_CD  SAT_ACT_TOTAL_BIN   \n",
       "1754                                 STDNT_ETHNC_GRP_CD  SAT_ACT_TOTAL_BIN   \n",
       "1789  STDNT_ASIAN_IND,STDNT_BLACK_IND,STDNT_HSPNC_IN...                NaN   \n",
       "\n",
       "     SAT_MATH PARENT_EDUCATION  ACAD_LOAD  \\\n",
       "1775      NaN      PRNT_ED_LVL        NaN   \n",
       "1774      NaN      PRNT_ED_LVL  ACAD_LOAD   \n",
       "1755      NaN      PRNT_ED_LVL        NaN   \n",
       "1754      NaN      PRNT_ED_LVL  ACAD_LOAD   \n",
       "1789      NaN      PRNT_ED_LVL        NaN   \n",
       "\n",
       "                                      REMAINING_FACTORS  \\\n",
       "1775  No_grades_at_all, Grade_Overall_I_for_1_and_mo...   \n",
       "1774  No_grades_at_all, Grade_Overall_I_for_1_and_mo...   \n",
       "1755  No_grades_at_all, Grade_Overall_I_for_1_and_mo...   \n",
       "1754  No_grades_at_all, Grade_Overall_I_for_1_and_mo...   \n",
       "1789  No_grades_at_all, Grade_Overall_I_for_1_and_mo...   \n",
       "\n",
       "                                                MODEL_y  \n",
       "1775  [STDNT_FEMALE, STDNT_AGE_BIN, HS_GPA_Imp_Inter...  \n",
       "1774  [STDNT_FEMALE, STDNT_AGE_BIN, HS_GPA_Imp_Inter...  \n",
       "1755  [STDNT_FEMALE, STDNT_AGE_BIN, HS_GPA_Imp_Inter...  \n",
       "1754  [STDNT_FEMALE, STDNT_AGE_BIN, HS_GPA_Imp_Inter...  \n",
       "1789  [STDNT_FEMALE, STDNT_AGE_BIN, HS_GPA_Imp_Inter...  "
      ]
     },
     "execution_count": 63,
     "metadata": {},
     "output_type": "execute_result"
    }
   ],
   "source": [
    "models_cv_res_[(~models_cv_res_['FAMILY_INCOME'].isnull())&\\\n",
    "               (~models_cv_res_['PARENT_EDUCATION'].isnull())&\\\n",
    "               (~models_cv_res_['AGE'].isnull())&\\\n",
    "               (~models_cv_res_['HS_GPA'].isnull())].head()"
   ]
  },
  {
   "cell_type": "markdown",
   "id": "9c519756-6c80-4b9c-ac47-4b4a3b3f24cd",
   "metadata": {},
   "source": [
    "We will add to the list of models for further analysis the one that includes parent education, family income, student age, and high school GPA. Among these models, we will choose the one with the highest test AUC."
   ]
  },
  {
   "cell_type": "code",
   "execution_count": 64,
   "id": "88b0841e-5e95-4799-8b81-50fe29608d5f",
   "metadata": {
    "tags": []
   },
   "outputs": [],
   "source": [
    "model_indices.append(5829)"
   ]
  },
  {
   "cell_type": "code",
   "execution_count": 65,
   "id": "eaaddb23-608c-4056-afa8-6327bdb2cc76",
   "metadata": {
    "tags": []
   },
   "outputs": [
    {
     "data": {
      "text/plain": [
       "['STDNT_FEMALE',\n",
       " 'STDNT_AGE_BIN',\n",
       " 'HS_GPA_Imp_Interp',\n",
       " 'CURR_GPA',\n",
       " 'HS_CALC_IND',\n",
       " 'GROSS_FAM_INC',\n",
       " 'SNGL_PRNT_IND',\n",
       " 'STDNT_ASIAN_IND',\n",
       " 'STDNT_BLACK_IND',\n",
       " 'STDNT_HSPNC_IND',\n",
       " 'STDNT_NTV_AMRCN_HWIAN_IND',\n",
       " 'STDNT_MULTI_ETHNC_IND',\n",
       " 'STDNT_ETHNC_NAN',\n",
       " 'SAT_ACT_TOTAL_BIN',\n",
       " 'PRNT_ED_LVL',\n",
       " 'No_grades_at_all',\n",
       " 'Grade_Overall_I_for_1_and_more_courses',\n",
       " 'Grade_W_for_1_course',\n",
       " 'Grade_W_for_2_courses',\n",
       " 'Grade_W_for_3_and_more_courses',\n",
       " 'Grade_NR_for_1_and_more_courses']"
      ]
     },
     "execution_count": 65,
     "metadata": {},
     "output_type": "execute_result"
    }
   ],
   "source": [
    "# The second chosen model\n",
    "models_cv_res_.loc[models_cv_res_['index']==model_indices[1], 'MODEL_y'].values[0]"
   ]
  },
  {
   "cell_type": "markdown",
   "id": "4f1d302b-0277-4604-9f97-f176957662a2",
   "metadata": {},
   "source": [
    "The final model will be a modification of the second model, using an alternative representation of the ethnicity factor. Instead of employing 6 dummy variables, we will incorporate a model with a Weight of Evidence (WoE) transformation for the ethnicity categorical variable. This adjustment will reduce the number of factors by 5, which is crucial for fitting models on samples with a low number of student dropouts."
   ]
  },
  {
   "cell_type": "code",
   "execution_count": 66,
   "id": "4fbeb3dd-f79b-4d47-a7b1-5a396c5bf239",
   "metadata": {
    "tags": []
   },
   "outputs": [],
   "source": [
    "model_indices.append(5769)"
   ]
  },
  {
   "cell_type": "code",
   "execution_count": 67,
   "id": "704b49f9-c4e3-4ce6-8af4-a1ca1050afa2",
   "metadata": {
    "tags": []
   },
   "outputs": [
    {
     "data": {
      "text/plain": [
       "['STDNT_FEMALE',\n",
       " 'STDNT_AGE_BIN',\n",
       " 'HS_GPA_Imp_Interp',\n",
       " 'CURR_GPA',\n",
       " 'HS_CALC_IND',\n",
       " 'GROSS_FAM_INC',\n",
       " 'SNGL_PRNT_IND',\n",
       " 'STDNT_ETHNC_GRP_CD',\n",
       " 'SAT_ACT_TOTAL_BIN',\n",
       " 'PRNT_ED_LVL',\n",
       " 'No_grades_at_all',\n",
       " 'Grade_Overall_I_for_1_and_more_courses',\n",
       " 'Grade_W_for_1_course',\n",
       " 'Grade_W_for_2_courses',\n",
       " 'Grade_W_for_3_and_more_courses',\n",
       " 'Grade_NR_for_1_and_more_courses']"
      ]
     },
     "execution_count": 67,
     "metadata": {},
     "output_type": "execute_result"
    }
   ],
   "source": [
    "# The third chosen model\n",
    "models_cv_res_.loc[models_cv_res_['index']==model_indices[2], 'MODEL_y'].values[0]"
   ]
  },
  {
   "cell_type": "code",
   "execution_count": 68,
   "id": "8c11eefa-f87b-43a0-829a-5c29b54be3da",
   "metadata": {
    "tags": []
   },
   "outputs": [],
   "source": [
    "pd.reset_option('display.max_columns')"
   ]
  },
  {
   "cell_type": "markdown",
   "id": "7d7eab21-d856-421e-9304-786b692f01b4",
   "metadata": {},
   "source": [
    "### Three selected models"
   ]
  },
  {
   "cell_type": "code",
   "execution_count": 69,
   "id": "c7bbd8db-471d-496a-9708-b8822608c735",
   "metadata": {
    "tags": []
   },
   "outputs": [
    {
     "data": {
      "text/plain": [
       "[11950, 5829, 5769]"
      ]
     },
     "execution_count": 69,
     "metadata": {},
     "output_type": "execute_result"
    }
   ],
   "source": [
    "# Three selected models\n",
    "model_indices"
   ]
  },
  {
   "cell_type": "code",
   "execution_count": 70,
   "id": "fd8be508-8812-4962-8187-ca5252c33380",
   "metadata": {
    "tags": []
   },
   "outputs": [
    {
     "data": {
      "image/png": "[encoded data removed]",
      "text/plain": [
       "<Figure size 1200x600 with 4 Axes>"
      ]
     },
     "metadata": {},
     "output_type": "display_data"
    }
   ],
   "source": [
    "n_row = 2\n",
    "n_col = 2\n",
    "figsize = (12, 6)\n",
    "\n",
    "metrics = ['test_AUC_mean', 'test_Gen entropy_mean', \n",
    "           'test_AUC_se', 'test_Gen entropy_se']\n",
    "\n",
    "metric_names = ['AUC, mean', \n",
    "                'Generalized entropy index, mean', \n",
    "                'AUC, standard error', \n",
    "                'Generalized entropy index, standard error']\n",
    "\n",
    "bins = [20, 15, 10, 10]\n",
    "\n",
    "plot_cv_selected_models(model_indices, models_cv_res_, bins,\n",
    "                        metrics, metric_names, n_row, n_col,\n",
    "                        figsize)"
   ]
  },
  {
   "cell_type": "markdown",
   "id": "7c290238-19c1-45f4-941d-614aa2e15cc0",
   "metadata": {},
   "source": [
    "# Evaluating the performance of the chosen models"
   ]
  },
  {
   "cell_type": "code",
   "execution_count": 71,
   "id": "0d6d15aa-06ff-469c-aced-f2c64a0039e2",
   "metadata": {
    "tags": []
   },
   "outputs": [],
   "source": [
    "selected_models_dic = {\n",
    "    'Model_1': models_cv_res_.loc[models_cv_res_['index']==model_indices[0], 'MODEL_y'].values[0],\n",
    "    'Model_2': models_cv_res_.loc[models_cv_res_['index']==model_indices[1], 'MODEL_y'].values[0],\n",
    "    'Model_3': models_cv_res_.loc[models_cv_res_['index']==model_indices[2], 'MODEL_y'].values[0],\n",
    "    }"
   ]
  },
  {
   "cell_type": "code",
   "execution_count": 72,
   "id": "af9f0e54-a551-48ba-8db8-83f0b9af7431",
   "metadata": {
    "tags": []
   },
   "outputs": [
    {
     "data": {
      "text/plain": [
       "['STDNT_FEMALE',\n",
       " 'HS_GPA_BIN',\n",
       " 'CURR_GPA',\n",
       " 'HS_CALC_IND',\n",
       " 'SNGL_PRNT_IND',\n",
       " 'STDNT_ASIAN_IND',\n",
       " 'STDNT_BLACK_IND',\n",
       " 'STDNT_HSPNC_IND',\n",
       " 'STDNT_NTV_AMRCN_HWIAN_IND',\n",
       " 'STDNT_MULTI_ETHNC_IND',\n",
       " 'STDNT_ETHNC_NAN',\n",
       " 'SAT_ACT_TOTAL_BIN',\n",
       " 'ACAD_LOAD',\n",
       " 'No_grades_at_all',\n",
       " 'Grade_Overall_I_for_1_and_more_courses',\n",
       " 'Grade_W_for_1_course',\n",
       " 'Grade_W_for_2_courses',\n",
       " 'Grade_W_for_3_and_more_courses',\n",
       " 'Grade_NR_for_1_and_more_courses']"
      ]
     },
     "execution_count": 72,
     "metadata": {},
     "output_type": "execute_result"
    }
   ],
   "source": [
    "selected_models_dic['Model_1']"
   ]
  },
  {
   "cell_type": "code",
   "execution_count": 73,
   "id": "3225ee8e-9012-4bac-b500-75a149fc9fc9",
   "metadata": {
    "tags": []
   },
   "outputs": [],
   "source": [
    "# For each selected model create a pipeline\n",
    "model_pipelines = {}\n",
    "for model_name in selected_models_dic:\n",
    "    model = selected_models_dic[model_name]\n",
    "    \n",
    "    clf = clone(clf_model)\n",
    "\n",
    "    pipeline = Pipeline(steps=[(\"imputation\", imputation_pipeline), \n",
    "                               (\"filter_columns\", FilterColumns(model)),\n",
    "                               (\"logistic_regression\", clf)])\n",
    "    model_pipelines[model_name] = pipeline   "
   ]
  },
  {
   "cell_type": "markdown",
   "id": "6369b959-8066-405a-8b53-7af7559291eb",
   "metadata": {},
   "source": [
    "## Out-of-sample test"
   ]
  },
  {
   "cell_type": "code",
   "execution_count": 74,
   "id": "444e71af-b205-4866-82dd-8dfafb60e911",
   "metadata": {
    "tags": []
   },
   "outputs": [
    {
     "data": {
      "text/plain": [
       "{'auc_train': 0.7888862660031475, 'auc_test': 0.8077584652098024}"
      ]
     },
     "execution_count": 74,
     "metadata": {},
     "output_type": "execute_result"
    }
   ],
   "source": [
    "fit_test_model(model_pipelines['Model_1'], sample_train, sample_test)[0]"
   ]
  },
  {
   "cell_type": "code",
   "execution_count": 75,
   "id": "2e8e2a3b-294b-488d-93d2-dbcbfa870780",
   "metadata": {
    "tags": []
   },
   "outputs": [
    {
     "data": {
      "text/plain": [
       "{'auc_train': 0.7917783874214908, 'auc_test': 0.8134870240112804}"
      ]
     },
     "execution_count": 75,
     "metadata": {},
     "output_type": "execute_result"
    }
   ],
   "source": [
    "fit_test_model(model_pipelines['Model_2'], sample_train, sample_test)[0]"
   ]
  },
  {
   "cell_type": "code",
   "execution_count": 76,
   "id": "7c727001-723f-422d-bae3-d7d9f33d26cb",
   "metadata": {
    "tags": []
   },
   "outputs": [
    {
     "data": {
      "text/plain": [
       "{'auc_train': 0.7895326301163994, 'auc_test': 0.815782472018638}"
      ]
     },
     "execution_count": 76,
     "metadata": {},
     "output_type": "execute_result"
    }
   ],
   "source": [
    "fit_test_model(model_pipelines['Model_3'], sample_train, sample_test)[0]"
   ]
  },
  {
   "cell_type": "markdown",
   "id": "d430ff7f-4e0d-44e9-8463-02e53530c59d",
   "metadata": {},
   "source": [
    "## Out-of-time test\n",
    "The assumption is that the model will undergo annual updates, and as such, it should forecast dropout rates for the year ahead"
   ]
  },
  {
   "cell_type": "code",
   "execution_count": 77,
   "id": "a00a13ac-45af-4719-8f07-7bc96a9b90d3",
   "metadata": {
    "tags": []
   },
   "outputs": [
    {
     "data": {
      "text/plain": [
       "YEAR\n",
       "2015    4162\n",
       "2016    4576\n",
       "2017    4238\n",
       "2018    4168\n",
       "2019    4249\n",
       "2020    4234\n",
       "2021    4495\n",
       "Name: STDNT_ID, dtype: int64"
      ]
     },
     "execution_count": 77,
     "metadata": {},
     "output_type": "execute_result"
    }
   ],
   "source": [
    "# Number of data points by year\n",
    "source_df.groupby('YEAR')['STDNT_ID'].count()"
   ]
  },
  {
   "cell_type": "code",
   "execution_count": 78,
   "id": "80a26555-438d-407d-a847-ff1fc26eac24",
   "metadata": {
    "tags": []
   },
   "outputs": [],
   "source": [
    "sample_time_train = source_df[source_df['YEAR']!=2021].copy()\n",
    "sample_time_test = source_df[source_df['YEAR']==2021].copy()"
   ]
  },
  {
   "cell_type": "code",
   "execution_count": 79,
   "id": "8611e41d-25b3-4bf2-8470-ac3a864d7c91",
   "metadata": {
    "tags": []
   },
   "outputs": [
    {
     "data": {
      "text/plain": [
       "{'auc_train': 0.7765406232272389, 'auc_test': 0.8620155502392344}"
      ]
     },
     "execution_count": 79,
     "metadata": {},
     "output_type": "execute_result"
    }
   ],
   "source": [
    "fit_test_model(model_pipelines['Model_1'], sample_time_train, sample_time_test)[0]"
   ]
  },
  {
   "cell_type": "code",
   "execution_count": 80,
   "id": "105c72ca-793d-4257-9823-5d500a2c6936",
   "metadata": {
    "tags": []
   },
   "outputs": [
    {
     "data": {
      "text/plain": [
       "{'auc_train': 0.7776414615818523, 'auc_test': 0.8679688995215311}"
      ]
     },
     "execution_count": 80,
     "metadata": {},
     "output_type": "execute_result"
    }
   ],
   "source": [
    "fit_test_model(model_pipelines['Model_2'], sample_time_train, sample_time_test)[0]"
   ]
  },
  {
   "cell_type": "code",
   "execution_count": 81,
   "id": "bc692ee0-e31f-4cb4-9d55-849746f5565c",
   "metadata": {
    "tags": []
   },
   "outputs": [
    {
     "data": {
      "text/plain": [
       "{'auc_train': 0.7767117190693347, 'auc_test': 0.8742081339712918}"
      ]
     },
     "execution_count": 81,
     "metadata": {},
     "output_type": "execute_result"
    }
   ],
   "source": [
    "fit_test_model(model_pipelines['Model_3'], sample_time_train, sample_time_test)[0]"
   ]
  },
  {
   "cell_type": "markdown",
   "id": "8ac0488a-241b-451b-bea6-dfcac57b9ec7",
   "metadata": {},
   "source": [
    "### Comparison of the dropout rates in the training and test datasets"
   ]
  },
  {
   "cell_type": "code",
   "execution_count": 82,
   "id": "b3019bda-6127-462f-9258-4fcb6e0f8ae8",
   "metadata": {
    "tags": []
   },
   "outputs": [
    {
     "data": {
      "text/plain": [
       "0.021134593993325918"
      ]
     },
     "execution_count": 82,
     "metadata": {},
     "output_type": "execute_result"
    }
   ],
   "source": [
    "# Test data set\n",
    "sample_time_test['y_ENROLLED_1_YEAR_LATER'].mean()"
   ]
  },
  {
   "cell_type": "code",
   "execution_count": 83,
   "id": "5d934783-4b22-4cf4-94e0-c177979c582f",
   "metadata": {
    "tags": []
   },
   "outputs": [
    {
     "data": {
      "text/plain": [
       "0.015452452491512858"
      ]
     },
     "execution_count": 83,
     "metadata": {},
     "output_type": "execute_result"
    }
   ],
   "source": [
    "# Train data set\n",
    "sample_time_train['y_ENROLLED_1_YEAR_LATER'].mean()"
   ]
  },
  {
   "cell_type": "markdown",
   "id": "56cdcb37-213f-4575-afde-2db77353b5e3",
   "metadata": {},
   "source": [
    "### AUC comparison for the training and testing datasets"
   ]
  },
  {
   "cell_type": "code",
   "execution_count": 84,
   "id": "e4a65f49-329b-4225-96ec-c7c901f39114",
   "metadata": {
    "tags": []
   },
   "outputs": [],
   "source": [
    "sample_time_train_imp = imputation_pipeline.fit_transform(sample_time_train, \n",
    "                                                          sample_time_train['y_ENROLLED_1_YEAR_LATER'])\n",
    "sample_time_test_imp = imputation_pipeline.transform(sample_time_test)"
   ]
  },
  {
   "cell_type": "code",
   "execution_count": 85,
   "id": "f2aafe0b-6a0d-455e-a4a1-0177a5f0e66c",
   "metadata": {
    "tags": []
   },
   "outputs": [],
   "source": [
    "factors_time_train_df = univariate_auc(sample_time_train_imp, factors_df, clone(clf_model)) \n",
    "factors_time_test_df = univariate_auc(sample_time_test_imp, factors_df, clone(clf_model)) "
   ]
  },
  {
   "cell_type": "code",
   "execution_count": 86,
   "id": "562a44ef-b34a-4538-8c87-4ff7eaf3628b",
   "metadata": {
    "tags": []
   },
   "outputs": [
    {
     "data": {
      "text/html": [
       "<div>\n",
       "<style scoped>\n",
       "    .dataframe tbody tr th:only-of-type {\n",
       "        vertical-align: middle;\n",
       "    }\n",
       "\n",
       "    .dataframe tbody tr th {\n",
       "        vertical-align: top;\n",
       "    }\n",
       "\n",
       "    .dataframe thead th {\n",
       "        text-align: right;\n",
       "    }\n",
       "</style>\n",
       "<table border=\"1\" class=\"dataframe\">\n",
       "  <thead>\n",
       "    <tr style=\"text-align: right;\">\n",
       "      <th></th>\n",
       "      <th>Group</th>\n",
       "      <th>Factor</th>\n",
       "      <th>AUC_train</th>\n",
       "      <th>AUC_test</th>\n",
       "    </tr>\n",
       "  </thead>\n",
       "  <tbody>\n",
       "    <tr>\n",
       "      <th>0</th>\n",
       "      <td>GENDER</td>\n",
       "      <td>STDNT_FEMALE</td>\n",
       "      <td>0.530259</td>\n",
       "      <td>0.504886</td>\n",
       "    </tr>\n",
       "    <tr>\n",
       "      <th>1</th>\n",
       "      <td>AGE</td>\n",
       "      <td>STDNT_AGE_BIN</td>\n",
       "      <td>0.512588</td>\n",
       "      <td>0.554667</td>\n",
       "    </tr>\n",
       "    <tr>\n",
       "      <th>2</th>\n",
       "      <td>HS_GPA</td>\n",
       "      <td>HS_GPA_BIN</td>\n",
       "      <td>0.543683</td>\n",
       "      <td>0.514761</td>\n",
       "    </tr>\n",
       "    <tr>\n",
       "      <th>3</th>\n",
       "      <td>HS_GPA</td>\n",
       "      <td>[HS_GPA_IsMissing, HS_GPA_Imp]</td>\n",
       "      <td>0.539432</td>\n",
       "      <td>0.554961</td>\n",
       "    </tr>\n",
       "    <tr>\n",
       "      <th>4</th>\n",
       "      <td>HS_GPA</td>\n",
       "      <td>HS_GPA_Imp_Interp</td>\n",
       "      <td>0.538551</td>\n",
       "      <td>0.552549</td>\n",
       "    </tr>\n",
       "    <tr>\n",
       "      <th>5</th>\n",
       "      <td>CURR_GPA</td>\n",
       "      <td>CURR_GPA</td>\n",
       "      <td>0.709135</td>\n",
       "      <td>0.802720</td>\n",
       "    </tr>\n",
       "    <tr>\n",
       "      <th>6</th>\n",
       "      <td>CURR_GPA</td>\n",
       "      <td>CURR_GPA_BIN</td>\n",
       "      <td>0.705782</td>\n",
       "      <td>0.811270</td>\n",
       "    </tr>\n",
       "    <tr>\n",
       "      <th>7</th>\n",
       "      <td>HS_CALCULUS</td>\n",
       "      <td>HS_CALC_IND</td>\n",
       "      <td>0.579187</td>\n",
       "      <td>0.654994</td>\n",
       "    </tr>\n",
       "    <tr>\n",
       "      <th>8</th>\n",
       "      <td>FAMILY_INCOME</td>\n",
       "      <td>GROSS_FAM_INC</td>\n",
       "      <td>0.589103</td>\n",
       "      <td>0.682519</td>\n",
       "    </tr>\n",
       "    <tr>\n",
       "      <th>9</th>\n",
       "      <td>SINGLE_PARENT</td>\n",
       "      <td>SNGL_PRNT_IND</td>\n",
       "      <td>0.559409</td>\n",
       "      <td>0.614133</td>\n",
       "    </tr>\n",
       "    <tr>\n",
       "      <th>10</th>\n",
       "      <td>ETHNICITY</td>\n",
       "      <td>STDNT_ETHNC_GRP_CD</td>\n",
       "      <td>0.553951</td>\n",
       "      <td>0.595158</td>\n",
       "    </tr>\n",
       "    <tr>\n",
       "      <th>11</th>\n",
       "      <td>ETHNICITY</td>\n",
       "      <td>[STDNT_ASIAN_IND, STDNT_BLACK_IND, STDNT_HSPNC...</td>\n",
       "      <td>0.572543</td>\n",
       "      <td>0.626457</td>\n",
       "    </tr>\n",
       "    <tr>\n",
       "      <th>12</th>\n",
       "      <td>SAT</td>\n",
       "      <td>SAT_ACT_TOTAL_BIN</td>\n",
       "      <td>0.580397</td>\n",
       "      <td>0.644999</td>\n",
       "    </tr>\n",
       "    <tr>\n",
       "      <th>13</th>\n",
       "      <td>SAT</td>\n",
       "      <td>[SAT_ACT_TOTAL_SCR_IsMissing, SAT_ACT_TOTAL_SC...</td>\n",
       "      <td>0.585644</td>\n",
       "      <td>0.642624</td>\n",
       "    </tr>\n",
       "    <tr>\n",
       "      <th>14</th>\n",
       "      <td>SAT</td>\n",
       "      <td>SAT_ACT_TOTAL_SCR_Imp_Interp</td>\n",
       "      <td>0.585654</td>\n",
       "      <td>0.597727</td>\n",
       "    </tr>\n",
       "    <tr>\n",
       "      <th>15</th>\n",
       "      <td>SAT</td>\n",
       "      <td>[ACT_SAT_TOTAL_SCR_IsMissing, ACT_SAT_TOTAL_SC...</td>\n",
       "      <td>0.586369</td>\n",
       "      <td>0.655083</td>\n",
       "    </tr>\n",
       "    <tr>\n",
       "      <th>16</th>\n",
       "      <td>SAT_MATH</td>\n",
       "      <td>[ACT_SAT_MATH_PCTL_IsMissing, ACT_SAT_MATH_PCT...</td>\n",
       "      <td>0.528973</td>\n",
       "      <td>0.650099</td>\n",
       "    </tr>\n",
       "    <tr>\n",
       "      <th>17</th>\n",
       "      <td>SAT_MATH</td>\n",
       "      <td>[SAT_ACT_MATH_PCTL_IsMissing, SAT_ACT_MATH_PCT...</td>\n",
       "      <td>0.535254</td>\n",
       "      <td>0.653084</td>\n",
       "    </tr>\n",
       "    <tr>\n",
       "      <th>18</th>\n",
       "      <td>PARENT_EDUCATION</td>\n",
       "      <td>PRNT_ED_LVL</td>\n",
       "      <td>0.597168</td>\n",
       "      <td>0.664500</td>\n",
       "    </tr>\n",
       "    <tr>\n",
       "      <th>19</th>\n",
       "      <td>ACAD_LOAD</td>\n",
       "      <td>ACAD_LOAD</td>\n",
       "      <td>0.590011</td>\n",
       "      <td>0.619394</td>\n",
       "    </tr>\n",
       "    <tr>\n",
       "      <th>20</th>\n",
       "      <td>WARNING_SIGNALS</td>\n",
       "      <td>No_grades_at_all</td>\n",
       "      <td>0.560448</td>\n",
       "      <td>0.568421</td>\n",
       "    </tr>\n",
       "    <tr>\n",
       "      <th>21</th>\n",
       "      <td>WARNING_SIGNALS</td>\n",
       "      <td>Grade_Overall_I_for_1_and_more_courses</td>\n",
       "      <td>0.518560</td>\n",
       "      <td>0.548654</td>\n",
       "    </tr>\n",
       "    <tr>\n",
       "      <th>22</th>\n",
       "      <td>WARNING_SIGNALS</td>\n",
       "      <td>[Grade_W_for_1_course, Grade_W_for_2_courses, ...</td>\n",
       "      <td>0.559570</td>\n",
       "      <td>0.559147</td>\n",
       "    </tr>\n",
       "    <tr>\n",
       "      <th>23</th>\n",
       "      <td>WARNING_SIGNALS</td>\n",
       "      <td>Grade_NR_for_1_and_more_courses</td>\n",
       "      <td>0.508541</td>\n",
       "      <td>0.515789</td>\n",
       "    </tr>\n",
       "  </tbody>\n",
       "</table>\n",
       "</div>"
      ],
      "text/plain": [
       "               Group                                             Factor  \\\n",
       "0             GENDER                                       STDNT_FEMALE   \n",
       "1                AGE                                      STDNT_AGE_BIN   \n",
       "2             HS_GPA                                         HS_GPA_BIN   \n",
       "3             HS_GPA                     [HS_GPA_IsMissing, HS_GPA_Imp]   \n",
       "4             HS_GPA                                  HS_GPA_Imp_Interp   \n",
       "5           CURR_GPA                                           CURR_GPA   \n",
       "6           CURR_GPA                                       CURR_GPA_BIN   \n",
       "7        HS_CALCULUS                                        HS_CALC_IND   \n",
       "8      FAMILY_INCOME                                      GROSS_FAM_INC   \n",
       "9      SINGLE_PARENT                                      SNGL_PRNT_IND   \n",
       "10         ETHNICITY                                 STDNT_ETHNC_GRP_CD   \n",
       "11         ETHNICITY  [STDNT_ASIAN_IND, STDNT_BLACK_IND, STDNT_HSPNC...   \n",
       "12               SAT                                  SAT_ACT_TOTAL_BIN   \n",
       "13               SAT  [SAT_ACT_TOTAL_SCR_IsMissing, SAT_ACT_TOTAL_SC...   \n",
       "14               SAT                       SAT_ACT_TOTAL_SCR_Imp_Interp   \n",
       "15               SAT  [ACT_SAT_TOTAL_SCR_IsMissing, ACT_SAT_TOTAL_SC...   \n",
       "16          SAT_MATH  [ACT_SAT_MATH_PCTL_IsMissing, ACT_SAT_MATH_PCT...   \n",
       "17          SAT_MATH  [SAT_ACT_MATH_PCTL_IsMissing, SAT_ACT_MATH_PCT...   \n",
       "18  PARENT_EDUCATION                                        PRNT_ED_LVL   \n",
       "19         ACAD_LOAD                                          ACAD_LOAD   \n",
       "20   WARNING_SIGNALS                                   No_grades_at_all   \n",
       "21   WARNING_SIGNALS             Grade_Overall_I_for_1_and_more_courses   \n",
       "22   WARNING_SIGNALS  [Grade_W_for_1_course, Grade_W_for_2_courses, ...   \n",
       "23   WARNING_SIGNALS                    Grade_NR_for_1_and_more_courses   \n",
       "\n",
       "    AUC_train  AUC_test  \n",
       "0    0.530259  0.504886  \n",
       "1    0.512588  0.554667  \n",
       "2    0.543683  0.514761  \n",
       "3    0.539432  0.554961  \n",
       "4    0.538551  0.552549  \n",
       "5    0.709135  0.802720  \n",
       "6    0.705782  0.811270  \n",
       "7    0.579187  0.654994  \n",
       "8    0.589103  0.682519  \n",
       "9    0.559409  0.614133  \n",
       "10   0.553951  0.595158  \n",
       "11   0.572543  0.626457  \n",
       "12   0.580397  0.644999  \n",
       "13   0.585644  0.642624  \n",
       "14   0.585654  0.597727  \n",
       "15   0.586369  0.655083  \n",
       "16   0.528973  0.650099  \n",
       "17   0.535254  0.653084  \n",
       "18   0.597168  0.664500  \n",
       "19   0.590011  0.619394  \n",
       "20   0.560448  0.568421  \n",
       "21   0.518560  0.548654  \n",
       "22   0.559570  0.559147  \n",
       "23   0.508541  0.515789  "
      ]
     },
     "execution_count": 86,
     "metadata": {},
     "output_type": "execute_result"
    }
   ],
   "source": [
    "factors_time_train_df.merge(factors_time_test_df['AUC'], how='inner', \n",
    "                            left_index=True, right_index=True, \n",
    "                            suffixes=('_train', '_test'))"
   ]
  },
  {
   "cell_type": "code",
   "execution_count": null,
   "id": "d1d31ba0-bbf2-4868-9e09-684ef4160585",
   "metadata": {
    "tags": []
   },
   "outputs": [],
   "source": [
    "plot_dropout_rate(sample_time_train_imp, 'HS_CALC_IND', 'High School Calculus (train)')"
   ]
  },
  {
   "cell_type": "code",
   "execution_count": null,
   "id": "e25e7c44-e84e-4ae3-906e-caca8debe8ab",
   "metadata": {
    "tags": []
   },
   "outputs": [],
   "source": [
    "plot_dropout_rate(sample_time_test_imp, 'HS_CALC_IND', 'High School Calculus (test)')"
   ]
  },
  {
   "cell_type": "code",
   "execution_count": null,
   "id": "a7794cb5-50d7-4a10-b04d-029d398b4f29",
   "metadata": {
    "tags": []
   },
   "outputs": [],
   "source": [
    "plot_dropout_rate(source_df[source_df['YEAR']!=2021], 'SNGL_PRNT_IND', 'Single parent (train)')"
   ]
  },
  {
   "cell_type": "code",
   "execution_count": null,
   "id": "9224c446-d043-4bf5-8589-36cab8cd8ffd",
   "metadata": {
    "tags": []
   },
   "outputs": [],
   "source": [
    "plot_dropout_rate(source_df[source_df['YEAR']==2021], 'SNGL_PRNT_IND', 'Single parent (test)')"
   ]
  },
  {
   "cell_type": "code",
   "execution_count": null,
   "id": "038b3255-2b54-486d-81d4-52f980b9ef37",
   "metadata": {
    "tags": []
   },
   "outputs": [],
   "source": [
    "plot_dropout_rate(source_df[source_df['YEAR']!=2021], 'CURR_GPA_BIN', \n",
    "                  'Current GPA (train)', rotate=True, sort=True)"
   ]
  },
  {
   "cell_type": "code",
   "execution_count": null,
   "id": "8e61aecc-5052-47a3-9a1c-36f800945e2a",
   "metadata": {
    "tags": []
   },
   "outputs": [],
   "source": [
    "plot_dropout_rate(source_df[source_df['YEAR']==2021], 'CURR_GPA_BIN', \n",
    "                  'Current GPA (test)', rotate=True, sort=True)"
   ]
  },
  {
   "cell_type": "markdown",
   "id": "e5eed873-6a17-433e-9b83-7d3796010def",
   "metadata": {},
   "source": [
    "# Evaluation of selected models on the entire source school dataset"
   ]
  },
  {
   "cell_type": "markdown",
   "id": "b1616640-0c35-4475-ae9c-9fd3972ff0bd",
   "metadata": {},
   "source": [
    "## Model 1"
   ]
  },
  {
   "cell_type": "code",
   "execution_count": 93,
   "id": "157e22ec-26bc-47af-8547-9cdf7aee171b",
   "metadata": {
    "tags": []
   },
   "outputs": [
    {
     "data": {
      "text/plain": [
       "{'auc_train': 0.7933394396700598}"
      ]
     },
     "execution_count": 93,
     "metadata": {},
     "output_type": "execute_result"
    }
   ],
   "source": [
    "fit_test_model(model_pipelines['Model_1'], source_df)[0]"
   ]
  },
  {
   "cell_type": "code",
   "execution_count": 94,
   "id": "e18f37d5-40fe-457c-9a5c-f4c70420d615",
   "metadata": {
    "tags": []
   },
   "outputs": [
    {
     "data": {
      "text/html": [
       "<div>\n",
       "<style scoped>\n",
       "    .dataframe tbody tr th:only-of-type {\n",
       "        vertical-align: middle;\n",
       "    }\n",
       "\n",
       "    .dataframe tbody tr th {\n",
       "        vertical-align: top;\n",
       "    }\n",
       "\n",
       "    .dataframe thead th {\n",
       "        text-align: right;\n",
       "    }\n",
       "</style>\n",
       "<table border=\"1\" class=\"dataframe\">\n",
       "  <thead>\n",
       "    <tr style=\"text-align: right;\">\n",
       "      <th></th>\n",
       "      <th>factors</th>\n",
       "      <th>coef</th>\n",
       "    </tr>\n",
       "  </thead>\n",
       "  <tbody>\n",
       "    <tr>\n",
       "      <th>0</th>\n",
       "      <td>STDNT_FEMALE</td>\n",
       "      <td>-0.101226</td>\n",
       "    </tr>\n",
       "    <tr>\n",
       "      <th>1</th>\n",
       "      <td>HS_GPA_BIN</td>\n",
       "      <td>0.212918</td>\n",
       "    </tr>\n",
       "    <tr>\n",
       "      <th>2</th>\n",
       "      <td>CURR_GPA</td>\n",
       "      <td>-0.722814</td>\n",
       "    </tr>\n",
       "    <tr>\n",
       "      <th>3</th>\n",
       "      <td>HS_CALC_IND</td>\n",
       "      <td>-0.516096</td>\n",
       "    </tr>\n",
       "    <tr>\n",
       "      <th>4</th>\n",
       "      <td>SNGL_PRNT_IND</td>\n",
       "      <td>0.611165</td>\n",
       "    </tr>\n",
       "    <tr>\n",
       "      <th>5</th>\n",
       "      <td>STDNT_ASIAN_IND</td>\n",
       "      <td>-0.223233</td>\n",
       "    </tr>\n",
       "    <tr>\n",
       "      <th>6</th>\n",
       "      <td>STDNT_BLACK_IND</td>\n",
       "      <td>0.062336</td>\n",
       "    </tr>\n",
       "    <tr>\n",
       "      <th>7</th>\n",
       "      <td>STDNT_HSPNC_IND</td>\n",
       "      <td>0.274813</td>\n",
       "    </tr>\n",
       "    <tr>\n",
       "      <th>8</th>\n",
       "      <td>STDNT_NTV_AMRCN_HWIAN_IND</td>\n",
       "      <td>0.555371</td>\n",
       "    </tr>\n",
       "    <tr>\n",
       "      <th>9</th>\n",
       "      <td>STDNT_MULTI_ETHNC_IND</td>\n",
       "      <td>-0.131894</td>\n",
       "    </tr>\n",
       "    <tr>\n",
       "      <th>10</th>\n",
       "      <td>STDNT_ETHNC_NAN</td>\n",
       "      <td>0.071755</td>\n",
       "    </tr>\n",
       "    <tr>\n",
       "      <th>11</th>\n",
       "      <td>SAT_ACT_TOTAL_BIN</td>\n",
       "      <td>0.436449</td>\n",
       "    </tr>\n",
       "    <tr>\n",
       "      <th>12</th>\n",
       "      <td>ACAD_LOAD</td>\n",
       "      <td>0.083300</td>\n",
       "    </tr>\n",
       "    <tr>\n",
       "      <th>13</th>\n",
       "      <td>No_grades_at_all</td>\n",
       "      <td>3.747983</td>\n",
       "    </tr>\n",
       "    <tr>\n",
       "      <th>14</th>\n",
       "      <td>Grade_Overall_I_for_1_and_more_courses</td>\n",
       "      <td>1.383455</td>\n",
       "    </tr>\n",
       "    <tr>\n",
       "      <th>15</th>\n",
       "      <td>Grade_W_for_1_course</td>\n",
       "      <td>0.464450</td>\n",
       "    </tr>\n",
       "    <tr>\n",
       "      <th>16</th>\n",
       "      <td>Grade_W_for_2_courses</td>\n",
       "      <td>1.007875</td>\n",
       "    </tr>\n",
       "    <tr>\n",
       "      <th>17</th>\n",
       "      <td>Grade_W_for_3_and_more_courses</td>\n",
       "      <td>1.659837</td>\n",
       "    </tr>\n",
       "    <tr>\n",
       "      <th>18</th>\n",
       "      <td>Grade_NR_for_1_and_more_courses</td>\n",
       "      <td>2.478870</td>\n",
       "    </tr>\n",
       "  </tbody>\n",
       "</table>\n",
       "</div>"
      ],
      "text/plain": [
       "                                   factors      coef\n",
       "0                             STDNT_FEMALE -0.101226\n",
       "1                               HS_GPA_BIN  0.212918\n",
       "2                                 CURR_GPA -0.722814\n",
       "3                              HS_CALC_IND -0.516096\n",
       "4                            SNGL_PRNT_IND  0.611165\n",
       "5                          STDNT_ASIAN_IND -0.223233\n",
       "6                          STDNT_BLACK_IND  0.062336\n",
       "7                          STDNT_HSPNC_IND  0.274813\n",
       "8                STDNT_NTV_AMRCN_HWIAN_IND  0.555371\n",
       "9                    STDNT_MULTI_ETHNC_IND -0.131894\n",
       "10                         STDNT_ETHNC_NAN  0.071755\n",
       "11                       SAT_ACT_TOTAL_BIN  0.436449\n",
       "12                               ACAD_LOAD  0.083300\n",
       "13                        No_grades_at_all  3.747983\n",
       "14  Grade_Overall_I_for_1_and_more_courses  1.383455\n",
       "15                    Grade_W_for_1_course  0.464450\n",
       "16                   Grade_W_for_2_courses  1.007875\n",
       "17          Grade_W_for_3_and_more_courses  1.659837\n",
       "18         Grade_NR_for_1_and_more_courses  2.478870"
      ]
     },
     "execution_count": 94,
     "metadata": {},
     "output_type": "execute_result"
    }
   ],
   "source": [
    "# Check that all coefficients have a correct sign\n",
    "fit_test_model(model_pipelines['Model_1'], source_df)[1]"
   ]
  },
  {
   "cell_type": "markdown",
   "id": "d9c580b6-8ed0-48f5-8ac9-1beaa8b8b639",
   "metadata": {
    "tags": []
   },
   "source": [
    "## Model 2"
   ]
  },
  {
   "cell_type": "code",
   "execution_count": 95,
   "id": "6f55a8af-e2f9-413a-a9ca-8da154705923",
   "metadata": {
    "tags": []
   },
   "outputs": [
    {
     "data": {
      "text/plain": [
       "{'auc_train': 0.7976776262488898}"
      ]
     },
     "execution_count": 95,
     "metadata": {},
     "output_type": "execute_result"
    }
   ],
   "source": [
    "fit_test_model(model_pipelines['Model_2'], source_df)[0]"
   ]
  },
  {
   "cell_type": "code",
   "execution_count": 96,
   "id": "a52ec7ac-4a2e-43f6-9265-fb12f587b152",
   "metadata": {
    "tags": []
   },
   "outputs": [
    {
     "data": {
      "text/html": [
       "<div>\n",
       "<style scoped>\n",
       "    .dataframe tbody tr th:only-of-type {\n",
       "        vertical-align: middle;\n",
       "    }\n",
       "\n",
       "    .dataframe tbody tr th {\n",
       "        vertical-align: top;\n",
       "    }\n",
       "\n",
       "    .dataframe thead th {\n",
       "        text-align: right;\n",
       "    }\n",
       "</style>\n",
       "<table border=\"1\" class=\"dataframe\">\n",
       "  <thead>\n",
       "    <tr style=\"text-align: right;\">\n",
       "      <th></th>\n",
       "      <th>factors</th>\n",
       "      <th>coef</th>\n",
       "    </tr>\n",
       "  </thead>\n",
       "  <tbody>\n",
       "    <tr>\n",
       "      <th>0</th>\n",
       "      <td>STDNT_FEMALE</td>\n",
       "      <td>-0.120444</td>\n",
       "    </tr>\n",
       "    <tr>\n",
       "      <th>1</th>\n",
       "      <td>STDNT_AGE_BIN</td>\n",
       "      <td>0.686428</td>\n",
       "    </tr>\n",
       "    <tr>\n",
       "      <th>2</th>\n",
       "      <td>HS_GPA_Imp_Interp</td>\n",
       "      <td>-0.071524</td>\n",
       "    </tr>\n",
       "    <tr>\n",
       "      <th>3</th>\n",
       "      <td>CURR_GPA</td>\n",
       "      <td>-0.705806</td>\n",
       "    </tr>\n",
       "    <tr>\n",
       "      <th>4</th>\n",
       "      <td>HS_CALC_IND</td>\n",
       "      <td>-0.502273</td>\n",
       "    </tr>\n",
       "    <tr>\n",
       "      <th>5</th>\n",
       "      <td>GROSS_FAM_INC</td>\n",
       "      <td>0.181235</td>\n",
       "    </tr>\n",
       "    <tr>\n",
       "      <th>6</th>\n",
       "      <td>SNGL_PRNT_IND</td>\n",
       "      <td>0.447507</td>\n",
       "    </tr>\n",
       "    <tr>\n",
       "      <th>7</th>\n",
       "      <td>STDNT_ASIAN_IND</td>\n",
       "      <td>-0.270629</td>\n",
       "    </tr>\n",
       "    <tr>\n",
       "      <th>8</th>\n",
       "      <td>STDNT_BLACK_IND</td>\n",
       "      <td>0.053226</td>\n",
       "    </tr>\n",
       "    <tr>\n",
       "      <th>9</th>\n",
       "      <td>STDNT_HSPNC_IND</td>\n",
       "      <td>0.086620</td>\n",
       "    </tr>\n",
       "    <tr>\n",
       "      <th>10</th>\n",
       "      <td>STDNT_NTV_AMRCN_HWIAN_IND</td>\n",
       "      <td>0.489677</td>\n",
       "    </tr>\n",
       "    <tr>\n",
       "      <th>11</th>\n",
       "      <td>STDNT_MULTI_ETHNC_IND</td>\n",
       "      <td>-0.044569</td>\n",
       "    </tr>\n",
       "    <tr>\n",
       "      <th>12</th>\n",
       "      <td>STDNT_ETHNC_NAN</td>\n",
       "      <td>0.109990</td>\n",
       "    </tr>\n",
       "    <tr>\n",
       "      <th>13</th>\n",
       "      <td>SAT_ACT_TOTAL_BIN</td>\n",
       "      <td>0.296976</td>\n",
       "    </tr>\n",
       "    <tr>\n",
       "      <th>14</th>\n",
       "      <td>PRNT_ED_LVL</td>\n",
       "      <td>0.484418</td>\n",
       "    </tr>\n",
       "    <tr>\n",
       "      <th>15</th>\n",
       "      <td>No_grades_at_all</td>\n",
       "      <td>4.206670</td>\n",
       "    </tr>\n",
       "    <tr>\n",
       "      <th>16</th>\n",
       "      <td>Grade_Overall_I_for_1_and_more_courses</td>\n",
       "      <td>1.400519</td>\n",
       "    </tr>\n",
       "    <tr>\n",
       "      <th>17</th>\n",
       "      <td>Grade_W_for_1_course</td>\n",
       "      <td>0.482467</td>\n",
       "    </tr>\n",
       "    <tr>\n",
       "      <th>18</th>\n",
       "      <td>Grade_W_for_2_courses</td>\n",
       "      <td>1.072680</td>\n",
       "    </tr>\n",
       "    <tr>\n",
       "      <th>19</th>\n",
       "      <td>Grade_W_for_3_and_more_courses</td>\n",
       "      <td>1.930500</td>\n",
       "    </tr>\n",
       "    <tr>\n",
       "      <th>20</th>\n",
       "      <td>Grade_NR_for_1_and_more_courses</td>\n",
       "      <td>2.456227</td>\n",
       "    </tr>\n",
       "  </tbody>\n",
       "</table>\n",
       "</div>"
      ],
      "text/plain": [
       "                                   factors      coef\n",
       "0                             STDNT_FEMALE -0.120444\n",
       "1                            STDNT_AGE_BIN  0.686428\n",
       "2                        HS_GPA_Imp_Interp -0.071524\n",
       "3                                 CURR_GPA -0.705806\n",
       "4                              HS_CALC_IND -0.502273\n",
       "5                            GROSS_FAM_INC  0.181235\n",
       "6                            SNGL_PRNT_IND  0.447507\n",
       "7                          STDNT_ASIAN_IND -0.270629\n",
       "8                          STDNT_BLACK_IND  0.053226\n",
       "9                          STDNT_HSPNC_IND  0.086620\n",
       "10               STDNT_NTV_AMRCN_HWIAN_IND  0.489677\n",
       "11                   STDNT_MULTI_ETHNC_IND -0.044569\n",
       "12                         STDNT_ETHNC_NAN  0.109990\n",
       "13                       SAT_ACT_TOTAL_BIN  0.296976\n",
       "14                             PRNT_ED_LVL  0.484418\n",
       "15                        No_grades_at_all  4.206670\n",
       "16  Grade_Overall_I_for_1_and_more_courses  1.400519\n",
       "17                    Grade_W_for_1_course  0.482467\n",
       "18                   Grade_W_for_2_courses  1.072680\n",
       "19          Grade_W_for_3_and_more_courses  1.930500\n",
       "20         Grade_NR_for_1_and_more_courses  2.456227"
      ]
     },
     "execution_count": 96,
     "metadata": {},
     "output_type": "execute_result"
    }
   ],
   "source": [
    "# Check that all coefficients have a correct sign\n",
    "fit_test_model(model_pipelines['Model_2'], source_df)[1]"
   ]
  },
  {
   "cell_type": "markdown",
   "id": "272813c5-4ea0-4198-a597-e4e2f72baa39",
   "metadata": {},
   "source": [
    "## Model 3"
   ]
  },
  {
   "cell_type": "code",
   "execution_count": 97,
   "id": "69297a73-10f8-4c92-8aea-556cb3a18366",
   "metadata": {
    "tags": []
   },
   "outputs": [
    {
     "data": {
      "text/plain": [
       "{'auc_train': 0.7972637095473235}"
      ]
     },
     "execution_count": 97,
     "metadata": {},
     "output_type": "execute_result"
    }
   ],
   "source": [
    "fit_test_model(model_pipelines['Model_3'], source_df)[0]"
   ]
  },
  {
   "cell_type": "code",
   "execution_count": 98,
   "id": "de3ceefb-fef6-4e04-b2af-cf1ac35f9aa8",
   "metadata": {
    "tags": []
   },
   "outputs": [
    {
     "data": {
      "text/html": [
       "<div>\n",
       "<style scoped>\n",
       "    .dataframe tbody tr th:only-of-type {\n",
       "        vertical-align: middle;\n",
       "    }\n",
       "\n",
       "    .dataframe tbody tr th {\n",
       "        vertical-align: top;\n",
       "    }\n",
       "\n",
       "    .dataframe thead th {\n",
       "        text-align: right;\n",
       "    }\n",
       "</style>\n",
       "<table border=\"1\" class=\"dataframe\">\n",
       "  <thead>\n",
       "    <tr style=\"text-align: right;\">\n",
       "      <th></th>\n",
       "      <th>factors</th>\n",
       "      <th>coef</th>\n",
       "    </tr>\n",
       "  </thead>\n",
       "  <tbody>\n",
       "    <tr>\n",
       "      <th>0</th>\n",
       "      <td>STDNT_FEMALE</td>\n",
       "      <td>-0.116688</td>\n",
       "    </tr>\n",
       "    <tr>\n",
       "      <th>1</th>\n",
       "      <td>STDNT_AGE_BIN</td>\n",
       "      <td>0.668658</td>\n",
       "    </tr>\n",
       "    <tr>\n",
       "      <th>2</th>\n",
       "      <td>HS_GPA_Imp_Interp</td>\n",
       "      <td>-0.082373</td>\n",
       "    </tr>\n",
       "    <tr>\n",
       "      <th>3</th>\n",
       "      <td>CURR_GPA</td>\n",
       "      <td>-0.710126</td>\n",
       "    </tr>\n",
       "    <tr>\n",
       "      <th>4</th>\n",
       "      <td>HS_CALC_IND</td>\n",
       "      <td>-0.519853</td>\n",
       "    </tr>\n",
       "    <tr>\n",
       "      <th>5</th>\n",
       "      <td>GROSS_FAM_INC</td>\n",
       "      <td>0.166424</td>\n",
       "    </tr>\n",
       "    <tr>\n",
       "      <th>6</th>\n",
       "      <td>SNGL_PRNT_IND</td>\n",
       "      <td>0.469632</td>\n",
       "    </tr>\n",
       "    <tr>\n",
       "      <th>7</th>\n",
       "      <td>STDNT_ETHNC_GRP_CD</td>\n",
       "      <td>0.092652</td>\n",
       "    </tr>\n",
       "    <tr>\n",
       "      <th>8</th>\n",
       "      <td>SAT_ACT_TOTAL_BIN</td>\n",
       "      <td>0.332861</td>\n",
       "    </tr>\n",
       "    <tr>\n",
       "      <th>9</th>\n",
       "      <td>PRNT_ED_LVL</td>\n",
       "      <td>0.491149</td>\n",
       "    </tr>\n",
       "    <tr>\n",
       "      <th>10</th>\n",
       "      <td>No_grades_at_all</td>\n",
       "      <td>4.201796</td>\n",
       "    </tr>\n",
       "    <tr>\n",
       "      <th>11</th>\n",
       "      <td>Grade_Overall_I_for_1_and_more_courses</td>\n",
       "      <td>1.398989</td>\n",
       "    </tr>\n",
       "    <tr>\n",
       "      <th>12</th>\n",
       "      <td>Grade_W_for_1_course</td>\n",
       "      <td>0.469207</td>\n",
       "    </tr>\n",
       "    <tr>\n",
       "      <th>13</th>\n",
       "      <td>Grade_W_for_2_courses</td>\n",
       "      <td>1.042265</td>\n",
       "    </tr>\n",
       "    <tr>\n",
       "      <th>14</th>\n",
       "      <td>Grade_W_for_3_and_more_courses</td>\n",
       "      <td>1.928719</td>\n",
       "    </tr>\n",
       "    <tr>\n",
       "      <th>15</th>\n",
       "      <td>Grade_NR_for_1_and_more_courses</td>\n",
       "      <td>2.381724</td>\n",
       "    </tr>\n",
       "  </tbody>\n",
       "</table>\n",
       "</div>"
      ],
      "text/plain": [
       "                                   factors      coef\n",
       "0                             STDNT_FEMALE -0.116688\n",
       "1                            STDNT_AGE_BIN  0.668658\n",
       "2                        HS_GPA_Imp_Interp -0.082373\n",
       "3                                 CURR_GPA -0.710126\n",
       "4                              HS_CALC_IND -0.519853\n",
       "5                            GROSS_FAM_INC  0.166424\n",
       "6                            SNGL_PRNT_IND  0.469632\n",
       "7                       STDNT_ETHNC_GRP_CD  0.092652\n",
       "8                        SAT_ACT_TOTAL_BIN  0.332861\n",
       "9                              PRNT_ED_LVL  0.491149\n",
       "10                        No_grades_at_all  4.201796\n",
       "11  Grade_Overall_I_for_1_and_more_courses  1.398989\n",
       "12                    Grade_W_for_1_course  0.469207\n",
       "13                   Grade_W_for_2_courses  1.042265\n",
       "14          Grade_W_for_3_and_more_courses  1.928719\n",
       "15         Grade_NR_for_1_and_more_courses  2.381724"
      ]
     },
     "execution_count": 98,
     "metadata": {},
     "output_type": "execute_result"
    }
   ],
   "source": [
    "fit_test_model(model_pipelines['Model_3'], source_df)[1]"
   ]
  },
  {
   "cell_type": "markdown",
   "id": "367fda7e-0f65-419c-a44f-4fec5f5e0a38",
   "metadata": {},
   "source": [
    "# Data distribution"
   ]
  },
  {
   "cell_type": "code",
   "execution_count": null,
   "id": "b1717f29-80f8-427b-80da-c00fbc6a37f7",
   "metadata": {
    "tags": []
   },
   "outputs": [],
   "source": [
    "# Female\n",
    "source_df.groupby('STDNT_FEMALE')[['y_ENROLLED_1_YEAR_LATER']].agg(['count', 'sum'])"
   ]
  },
  {
   "cell_type": "code",
   "execution_count": null,
   "id": "3c1642a3-27e7-4943-bff7-2f9653b00c28",
   "metadata": {
    "tags": []
   },
   "outputs": [],
   "source": [
    "# Race\n",
    "dic = {1: 'White', 2: 'Black', 3: 'Hispanic', \n",
    "       4: 'Asian', 5: 'Native Amr', 6: 'Not Indic', \n",
    "       7: 'Hawaiian', 0: '2 or More'}\n",
    "\n",
    "source_df.groupby('STDNT_ETHNC_GRP_CD')[['y_ENROLLED_1_YEAR_LATER']].agg(['count', 'sum'])"
   ]
  }
 ],
 "metadata": {
  "kernelspec": {
   "display_name": "sklearn-env",
   "language": "python",
   "name": "sklearn-env"
  },
  "language_info": {
   "codemirror_mode": {
    "name": "ipython",
    "version": 3
   },
   "file_extension": ".py",
   "mimetype": "text/x-python",
   "name": "python",
   "nbconvert_exporter": "python",
   "pygments_lexer": "ipython3",
   "version": "3.11.0"
  }
 },
 "nbformat": 4,
 "nbformat_minor": 5
}

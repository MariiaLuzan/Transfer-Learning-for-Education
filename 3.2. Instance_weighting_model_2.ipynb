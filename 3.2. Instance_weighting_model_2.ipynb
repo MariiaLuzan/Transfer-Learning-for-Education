{
 "cells": [
  {
   "cell_type": "markdown",
   "id": "1dca047e-9cc0-4ebb-b62e-39e2dc3d9391",
   "metadata": {},
   "source": [
    "# Instance Weighting Transfer Learning ULSA -> UENG\n",
    "# Model 2"
   ]
  },
  {
   "cell_type": "code",
   "execution_count": 1,
   "id": "3f642cc3-6108-4f4f-925b-6aa3f7bc7830",
   "metadata": {
    "tags": []
   },
   "outputs": [],
   "source": [
    "import time\n",
    "import pandas as pd\n",
    "import numpy as np\n",
    "import matplotlib.pyplot as plt\n",
    "from sklearn.preprocessing import StandardScaler\n",
    "from sklearn.linear_model import LogisticRegression\n",
    "from sklearn.metrics import roc_auc_score\n",
    "from sklearn.metrics import roc_curve\n",
    "from sklearn.base import clone\n",
    "from scipy.stats import bootstrap\n",
    "from scipy.stats import kstest"
   ]
  },
  {
   "cell_type": "code",
   "execution_count": 2,
   "id": "07901337-1e7e-4ab0-b3a6-4f5d6f9d0a06",
   "metadata": {
    "tags": []
   },
   "outputs": [],
   "source": [
    "from cvxopt import matrix\n",
    "from cvxopt import solvers"
   ]
  },
  {
   "cell_type": "code",
   "execution_count": 3,
   "id": "1337a168-b811-461b-b09a-c316e0afaeb2",
   "metadata": {
    "tags": []
   },
   "outputs": [],
   "source": [
    "from transformers.features_missing_vals import imputation_pipeline\n",
    "from transformers.ethnic_groups import CombineEthnicGroups"
   ]
  },
  {
   "cell_type": "code",
   "execution_count": 4,
   "id": "613e76d1-aedc-41a3-9999-4026ccc5fd0b",
   "metadata": {
    "tags": []
   },
   "outputs": [],
   "source": [
    "# CVXOPT\n",
    "from transfer_learning.cvxopt_input import get_cvxopt_input\n",
    "from transfer_learning.transfer_learning import transfer_learning\n",
    "from transfer_learning.length_scale import calc_kernels_for_l"
   ]
  },
  {
   "cell_type": "code",
   "execution_count": 6,
   "id": "310f3ea7-7c4c-49a6-b8df-7cb94428b6a1",
   "metadata": {
    "tags": []
   },
   "outputs": [],
   "source": [
    "from model_evaluation.metrics import calc_y_mean\n",
    "from model_evaluation.metrics import plot_roc_curves\n",
    "from model_evaluation.metrics import KS_test_comparison, plot_KS_CDF\n",
    "from model_evaluation.metrics import plot_dropout_rate, plot_dropout_rate_two_models\n",
    "from model_evaluation.metrics import gen_entropy_comparison\n",
    "from fairness.fairness_metrics import sliced_auc, fairn_metrics\n",
    "from fairness.customized_entropy import calc_educ_benefits\n",
    "from fairness.customized_entropy import calc_educ_rank_benefits\n",
    "from fairness.customized_entropy import gen_entropy_index"
   ]
  },
  {
   "cell_type": "markdown",
   "id": "40ab10a9-2f64-4f36-877d-a361218804e3",
   "metadata": {},
   "source": [
    "# Params"
   ]
  },
  {
   "cell_type": "code",
   "execution_count": 7,
   "id": "51fee72b-d1f2-4ccf-a8f1-916b63038f3a",
   "metadata": {
    "tags": []
   },
   "outputs": [],
   "source": [
    "source_school = 'ULSA'\n",
    "target_school = 'UENG'"
   ]
  },
  {
   "cell_type": "code",
   "execution_count": 8,
   "id": "fd1b946c-bc47-4ea4-8d81-016da3c20f76",
   "metadata": {
    "tags": []
   },
   "outputs": [],
   "source": [
    "# Models features\n",
    "cols = ['STDNT_FEMALE',\n",
    "        'STDNT_AGE_BIN',\n",
    "        'HS_GPA_Imp_Interp',\n",
    "        'CURR_GPA',\n",
    "        'HS_CALC_IND',\n",
    "        'GROSS_FAM_INC',\n",
    "        'SNGL_PRNT_IND',\n",
    "        'STDNT_ASIAN_IND',\n",
    "        'STDNT_BLACK_IND',\n",
    "        'STDNT_HSPNC_IND',\n",
    "        'STDNT_NTV_AMRCN_HWIAN_IND',\n",
    "        'STDNT_MULTI_ETHNC_IND',\n",
    "        'STDNT_ETHNC_NAN',\n",
    "        'SAT_ACT_TOTAL_BIN',\n",
    "        'PRNT_ED_LVL',\n",
    "        'No_grades_at_all',\n",
    "        'Grade_Overall_I_for_1_and_more_courses',\n",
    "        'Grade_W_for_1_course',\n",
    "        'Grade_W_for_2_courses',\n",
    "        'Grade_W_for_3_and_more_courses',\n",
    "        'Grade_NR_for_1_and_more_courses']"
   ]
  },
  {
   "cell_type": "code",
   "execution_count": 9,
   "id": "18fc93dc-7ac1-4820-8238-305d96c68aec",
   "metadata": {
    "tags": []
   },
   "outputs": [],
   "source": [
    "random_state = 1"
   ]
  },
  {
   "cell_type": "code",
   "execution_count": 10,
   "id": "e820e98a-f18b-44dc-8198-f7434083d18b",
   "metadata": {
    "tags": []
   },
   "outputs": [],
   "source": [
    "clf = LogisticRegression(penalty=None, random_state=random_state, max_iter=10000)"
   ]
  },
  {
   "cell_type": "code",
   "execution_count": 11,
   "id": "e3c065d3-d147-4d21-af05-25080ee413cc",
   "metadata": {
    "tags": []
   },
   "outputs": [],
   "source": [
    "# Parameters for fairness metrics\n",
    "\n",
    "# Priviledged values of attributes\n",
    "attribites_dic = {\n",
    "    'STDNT_ETHNC_grouped': 0, # white\n",
    "    'STDNT_FEMALE': 0 # male\n",
    "    }\n",
    "\n",
    "# The threshold for intervention is based on the percentile of predicted dropout probabilities, \n",
    "# specifically targeting the top 10% of students with the highest dropout probabilities\n",
    "threshold=[10]\n",
    "\n",
    "# Percentile values of predicted dropout probabilities that determine the risk ranking of a student\n",
    "rank_thresholds = [90, 95, 97, 99, 99.5]"
   ]
  },
  {
   "cell_type": "markdown",
   "id": "0c11bdde-29a4-4450-9887-d0c487b4de44",
   "metadata": {},
   "source": [
    "# Data"
   ]
  },
  {
   "cell_type": "code",
   "execution_count": 12,
   "id": "ddd36fdf-f143-4d4f-aab0-8f5f1516592e",
   "metadata": {
    "tags": []
   },
   "outputs": [],
   "source": [
    "features_df = pd.read_csv('features_df.csv', low_memory=False)\n",
    "source_df = features_df[features_df['PRMRY_CRER_CD']==source_school].copy()\n",
    "target_df = features_df[features_df['PRMRY_CRER_CD']==target_school].copy()"
   ]
  },
  {
   "cell_type": "code",
   "execution_count": null,
   "id": "11f72471-b1f3-48f5-b91e-36e99cdbd097",
   "metadata": {
    "tags": []
   },
   "outputs": [],
   "source": [
    "# Group together all ethnic groups, excluding white and asian populations, as they lack a sufficient \n",
    "# number of dropouts for a meaningful fairness analysis\n",
    "\n",
    "# Add new column 'STDNT_ETHNC_grouped' with the following values: 0 for white, 1 for asian, and 2 for other\n",
    "combine_transformer = CombineEthnicGroups()\n",
    "target_df = combine_transformer.fit_transform(target_df)\n",
    "\n",
    "target_df.groupby('STDNT_ETHNC_grouped')[['y_ENROLLED_1_YEAR_LATER']].agg(['count', 'sum'])"
   ]
  },
  {
   "cell_type": "code",
   "execution_count": 14,
   "id": "6c3d4aa7-720b-423c-97b6-4499531a551b",
   "metadata": {
    "tags": []
   },
   "outputs": [],
   "source": [
    "# Imputation of missing values and applying WoE transformation\n",
    "source_df = combine_transformer.fit_transform(source_df)\n",
    "source_imp = imputation_pipeline.fit_transform(source_df, source_df['y_ENROLLED_1_YEAR_LATER'])\n",
    "target_imp = imputation_pipeline.transform(target_df)"
   ]
  },
  {
   "cell_type": "code",
   "execution_count": 15,
   "id": "26c009ec-6cf5-4463-90c0-939bc7803173",
   "metadata": {
    "tags": []
   },
   "outputs": [
    {
     "data": {
      "text/html": [
       "<style>#sk-container-id-1 {color: black;background-color: white;}#sk-container-id-1 pre{padding: 0;}#sk-container-id-1 div.sk-toggleable {background-color: white;}#sk-container-id-1 label.sk-toggleable__label {cursor: pointer;display: block;width: 100%;margin-bottom: 0;padding: 0.3em;box-sizing: border-box;text-align: center;}#sk-container-id-1 label.sk-toggleable__label-arrow:before {content: \"▸\";float: left;margin-right: 0.25em;color: #696969;}#sk-container-id-1 label.sk-toggleable__label-arrow:hover:before {color: black;}#sk-container-id-1 div.sk-estimator:hover label.sk-toggleable__label-arrow:before {color: black;}#sk-container-id-1 div.sk-toggleable__content {max-height: 0;max-width: 0;overflow: hidden;text-align: left;background-color: #f0f8ff;}#sk-container-id-1 div.sk-toggleable__content pre {margin: 0.2em;color: black;border-radius: 0.25em;background-color: #f0f8ff;}#sk-container-id-1 input.sk-toggleable__control:checked~div.sk-toggleable__content {max-height: 200px;max-width: 100%;overflow: auto;}#sk-container-id-1 input.sk-toggleable__control:checked~label.sk-toggleable__label-arrow:before {content: \"▾\";}#sk-container-id-1 div.sk-estimator input.sk-toggleable__control:checked~label.sk-toggleable__label {background-color: #d4ebff;}#sk-container-id-1 div.sk-label input.sk-toggleable__control:checked~label.sk-toggleable__label {background-color: #d4ebff;}#sk-container-id-1 input.sk-hidden--visually {border: 0;clip: rect(1px 1px 1px 1px);clip: rect(1px, 1px, 1px, 1px);height: 1px;margin: -1px;overflow: hidden;padding: 0;position: absolute;width: 1px;}#sk-container-id-1 div.sk-estimator {font-family: monospace;background-color: #f0f8ff;border: 1px dotted black;border-radius: 0.25em;box-sizing: border-box;margin-bottom: 0.5em;}#sk-container-id-1 div.sk-estimator:hover {background-color: #d4ebff;}#sk-container-id-1 div.sk-parallel-item::after {content: \"\";width: 100%;border-bottom: 1px solid gray;flex-grow: 1;}#sk-container-id-1 div.sk-label:hover label.sk-toggleable__label {background-color: #d4ebff;}#sk-container-id-1 div.sk-serial::before {content: \"\";position: absolute;border-left: 1px solid gray;box-sizing: border-box;top: 0;bottom: 0;left: 50%;z-index: 0;}#sk-container-id-1 div.sk-serial {display: flex;flex-direction: column;align-items: center;background-color: white;padding-right: 0.2em;padding-left: 0.2em;position: relative;}#sk-container-id-1 div.sk-item {position: relative;z-index: 1;}#sk-container-id-1 div.sk-parallel {display: flex;align-items: stretch;justify-content: center;background-color: white;position: relative;}#sk-container-id-1 div.sk-item::before, #sk-container-id-1 div.sk-parallel-item::before {content: \"\";position: absolute;border-left: 1px solid gray;box-sizing: border-box;top: 0;bottom: 0;left: 50%;z-index: -1;}#sk-container-id-1 div.sk-parallel-item {display: flex;flex-direction: column;z-index: 1;position: relative;background-color: white;}#sk-container-id-1 div.sk-parallel-item:first-child::after {align-self: flex-end;width: 50%;}#sk-container-id-1 div.sk-parallel-item:last-child::after {align-self: flex-start;width: 50%;}#sk-container-id-1 div.sk-parallel-item:only-child::after {width: 0;}#sk-container-id-1 div.sk-dashed-wrapped {border: 1px dashed gray;margin: 0 0.4em 0.5em 0.4em;box-sizing: border-box;padding-bottom: 0.4em;background-color: white;}#sk-container-id-1 div.sk-label label {font-family: monospace;font-weight: bold;display: inline-block;line-height: 1.2em;}#sk-container-id-1 div.sk-label-container {text-align: center;}#sk-container-id-1 div.sk-container {/* jupyter's `normalize.less` sets `[hidden] { display: none; }` but bootstrap.min.css set `[hidden] { display: none !important; }` so we also need the `!important` here to be able to override the default hidden behavior on the sphinx rendered scikit-learn.org. See: https://github.com/scikit-learn/scikit-learn/issues/21755 */display: inline-block !important;position: relative;}#sk-container-id-1 div.sk-text-repr-fallback {display: none;}</style><div id=\"sk-container-id-1\" class=\"sk-top-container\"><div class=\"sk-text-repr-fallback\"><pre>StandardScaler()</pre><b>In a Jupyter environment, please rerun this cell to show the HTML representation or trust the notebook. <br />On GitHub, the HTML representation is unable to render, please try loading this page with nbviewer.org.</b></div><div class=\"sk-container\" hidden><div class=\"sk-item\"><div class=\"sk-estimator sk-toggleable\"><input class=\"sk-toggleable__control sk-hidden--visually\" id=\"sk-estimator-id-1\" type=\"checkbox\" checked><label for=\"sk-estimator-id-1\" class=\"sk-toggleable__label sk-toggleable__label-arrow\">StandardScaler</label><div class=\"sk-toggleable__content\"><pre>StandardScaler()</pre></div></div></div></div></div>"
      ],
      "text/plain": [
       "StandardScaler()"
      ]
     },
     "execution_count": 15,
     "metadata": {},
     "output_type": "execute_result"
    }
   ],
   "source": [
    "scaler = StandardScaler()\n",
    "scaler.fit(source_imp[cols])"
   ]
  },
  {
   "cell_type": "code",
   "execution_count": 16,
   "id": "af43c3b8-0a08-49ee-bd4b-de6135818f0d",
   "metadata": {
    "tags": []
   },
   "outputs": [],
   "source": [
    "X_source = scaler.transform(source_imp[cols])\n",
    "X_target = scaler.transform(target_imp[cols])"
   ]
  },
  {
   "cell_type": "markdown",
   "id": "96777686-9e41-478c-ac76-213c58e6a4d2",
   "metadata": {},
   "source": [
    "## Data distribution for protected attributes"
   ]
  },
  {
   "cell_type": "code",
   "execution_count": null,
   "id": "2b10826e-9faa-4b47-8bf8-28c132db61a1",
   "metadata": {
    "tags": []
   },
   "outputs": [],
   "source": [
    "# Female\n",
    "target_df.groupby('STDNT_FEMALE')[['y_ENROLLED_1_YEAR_LATER']].agg(['count', 'sum'])"
   ]
  },
  {
   "cell_type": "code",
   "execution_count": null,
   "id": "6881c650-34f4-4299-87fc-b2d78a64ac86",
   "metadata": {
    "tags": []
   },
   "outputs": [],
   "source": [
    "# International students\n",
    "target_df.groupby('STDNT_INTL_IND')[['y_ENROLLED_1_YEAR_LATER']].agg(['count', 'sum'])"
   ]
  },
  {
   "cell_type": "code",
   "execution_count": null,
   "id": "d7e6701f-0228-4b9a-a151-e07592f4c0d9",
   "metadata": {
    "tags": []
   },
   "outputs": [],
   "source": [
    "# Race\n",
    "dic = {1: 'White', 2: 'Black', 3: 'Hispanic', \n",
    "       4: 'Asian', 5: 'Native Amr', 6: 'Not Indic', \n",
    "       7: 'Hawaiian', 0: '2 or More'}\n",
    "target_df.groupby('STDNT_ETHNC_GRP_CD')[['y_ENROLLED_1_YEAR_LATER']].agg(['count', 'sum'])"
   ]
  },
  {
   "cell_type": "markdown",
   "id": "e9d8c83a-cb3b-4a61-85fe-ddeae809f91f",
   "metadata": {},
   "source": [
    "# Direct transfer"
   ]
  },
  {
   "cell_type": "markdown",
   "id": "c01712b8-fc45-4e17-bf02-a24417395dfe",
   "metadata": {},
   "source": [
    "## Fitting the source model"
   ]
  },
  {
   "cell_type": "code",
   "execution_count": 20,
   "id": "6bdc1c25-a05c-4c78-894d-aba4f7198448",
   "metadata": {
    "tags": []
   },
   "outputs": [
    {
     "data": {
      "text/plain": [
       "0.7976795508034636"
      ]
     },
     "execution_count": 20,
     "metadata": {},
     "output_type": "execute_result"
    }
   ],
   "source": [
    "clf_source = clone(clf)\n",
    "\n",
    "y = source_imp['y_ENROLLED_1_YEAR_LATER']\n",
    "\n",
    "clf_source.fit(X_source, y)\n",
    "\n",
    "y_pred = clf_source.predict_proba(X_source)\n",
    "auc_source_train = roc_auc_score(y, y_pred[:,1])\n",
    "auc_source_train"
   ]
  },
  {
   "cell_type": "markdown",
   "id": "7fe94fcf-71f0-44fd-ab44-d3eeff6419cb",
   "metadata": {},
   "source": [
    "## Direct source model transfer (without weighting)"
   ]
  },
  {
   "cell_type": "code",
   "execution_count": 21,
   "id": "dec82963-ae6e-47a5-8bfe-e007f5cb680b",
   "metadata": {
    "tags": []
   },
   "outputs": [],
   "source": [
    "y_pred = clf_source.predict_proba(X_target)"
   ]
  },
  {
   "cell_type": "code",
   "execution_count": 22,
   "id": "67797f9b-d52c-47a1-9df1-2749bd901268",
   "metadata": {
    "tags": []
   },
   "outputs": [],
   "source": [
    "# DataFrame containing true and predicted y\n",
    "df_true_predict = pd.DataFrame(data={'y': target_imp['y_ENROLLED_1_YEAR_LATER'], 'y_pred': y_pred[:,1]})"
   ]
  },
  {
   "cell_type": "markdown",
   "id": "38fd8be9-16c9-4d7d-b16b-42e231537cbf",
   "metadata": {},
   "source": [
    "## Classification accuracy"
   ]
  },
  {
   "cell_type": "markdown",
   "id": "d91899ab-db41-41d1-84eb-7f885e949e35",
   "metadata": {},
   "source": [
    "### AUC ROC"
   ]
  },
  {
   "cell_type": "code",
   "execution_count": 23,
   "id": "30ea27b4-8bb4-43b7-9a2d-339768bbed37",
   "metadata": {
    "tags": []
   },
   "outputs": [
    {
     "data": {
      "text/plain": [
       "0.7896762456434749"
      ]
     },
     "execution_count": 23,
     "metadata": {},
     "output_type": "execute_result"
    }
   ],
   "source": [
    "auc_direct = roc_auc_score(df_true_predict['y'], df_true_predict['y_pred'])\n",
    "auc_direct"
   ]
  },
  {
   "cell_type": "code",
   "execution_count": 24,
   "id": "231ba82c-a396-47d3-92d1-701540de461b",
   "metadata": {
    "tags": []
   },
   "outputs": [],
   "source": [
    "# ROC curve\n",
    "fpr, tpr, thresholds = roc_curve(df_true_predict['y'], df_true_predict['y_pred'], pos_label=1)"
   ]
  },
  {
   "cell_type": "markdown",
   "id": "fb45d874-024d-40be-9848-f0a67778e665",
   "metadata": {},
   "source": [
    "### Pietra Index and Kolmogorov-Smirnov test"
   ]
  },
  {
   "cell_type": "code",
   "execution_count": 25,
   "id": "e7d42ac7-53f7-4922-a665-533a7cbd9b50",
   "metadata": {
    "tags": []
   },
   "outputs": [
    {
     "data": {
      "text/plain": [
       "KstestResult(statistic=0.4807151155285917, pvalue=3.766399947659659e-27, statistic_location=0.018457018428913848, statistic_sign=1)"
      ]
     },
     "execution_count": 25,
     "metadata": {},
     "output_type": "execute_result"
    }
   ],
   "source": [
    "ks_test_direct = kstest(df_true_predict.loc[df_true_predict['y']==0, 'y_pred'], \n",
    "                        df_true_predict.loc[df_true_predict['y']==1, 'y_pred'])\n",
    "ks_test_direct"
   ]
  },
  {
   "cell_type": "markdown",
   "id": "bf77337c-16ac-49f3-ac17-2f291ca45d1e",
   "metadata": {},
   "source": [
    "### Realized probability of dropout"
   ]
  },
  {
   "cell_type": "code",
   "execution_count": 26,
   "id": "06a9845b-3e27-4fe1-828e-9734453e0828",
   "metadata": {
    "tags": []
   },
   "outputs": [],
   "source": [
    "percent_list = [0, 20, 40, 60, 80, 90, 95, 97, 99, 99.5, 100]\n",
    "names_list = ['0-\\n20', '20-\\n40', '40-\\n60', '60-\\n80', '80-\\n90', '90-\\n95', '95-\\n97', '97-\\n99', '99-\\n99.5', '99.5-\\n100']"
   ]
  },
  {
   "cell_type": "code",
   "execution_count": null,
   "id": "386fd069-34d8-4f54-8298-891e019ad3ff",
   "metadata": {
    "tags": []
   },
   "outputs": [],
   "source": [
    "plot_dropout_rate(\n",
    "    df_true_predict, percent_list, names_list,\n",
    "    'Observed probabilty of dropout for students grouped by\\ntheir predicted probability of dropout (Direct transfer)'\n",
    ")"
   ]
  },
  {
   "cell_type": "markdown",
   "id": "4dd5b201-5224-424b-a6a7-e91a0703ab09",
   "metadata": {
    "tags": []
   },
   "source": [
    "### AUC Confidence Interval"
   ]
  },
  {
   "cell_type": "code",
   "execution_count": 28,
   "id": "66145850-f7f8-46e5-9716-5ad0fb0421cb",
   "metadata": {
    "tags": []
   },
   "outputs": [],
   "source": [
    "def calc_auc(y, y_pred):\n",
    "    auc = roc_auc_score(y, y_pred)\n",
    "    return auc"
   ]
  },
  {
   "cell_type": "code",
   "execution_count": 29,
   "id": "cb67ebdd-f6a3-4df9-ad97-e17de4a50816",
   "metadata": {
    "tags": []
   },
   "outputs": [],
   "source": [
    "bootstrap_res = bootstrap((df_true_predict['y'], df_true_predict['y_pred']), \n",
    "                          calc_auc, paired=True, n_resamples=10000,\n",
    "                          method='BCa', confidence_level=0.95, random_state=random_state)"
   ]
  },
  {
   "cell_type": "code",
   "execution_count": 30,
   "id": "91b36011-3c9e-4381-95cb-0a756aa80500",
   "metadata": {
    "tags": []
   },
   "outputs": [
    {
     "data": {
      "image/png": "[encoded data removed]",
      "text/plain": [
       "<Figure size 640x480 with 1 Axes>"
      ]
     },
     "metadata": {},
     "output_type": "display_data"
    }
   ],
   "source": [
    "plt.hist(bootstrap_res.bootstrap_distribution, bins=25, density=True)\n",
    "plt.title('AUC Distribution for Transferred Source Model')\n",
    "plt.xlabel('AUC')\n",
    "plt.ylabel('pdf');"
   ]
  },
  {
   "cell_type": "code",
   "execution_count": 31,
   "id": "ec098b1f-e454-4784-93dc-a97d1af5cf7c",
   "metadata": {
    "tags": []
   },
   "outputs": [
    {
     "data": {
      "text/plain": [
       "ConfidenceInterval(low=0.7385958098917471, high=0.8355582440238453)"
      ]
     },
     "execution_count": 31,
     "metadata": {},
     "output_type": "execute_result"
    }
   ],
   "source": [
    "auc_conf_int = bootstrap_res.confidence_interval\n",
    "auc_conf_int"
   ]
  },
  {
   "cell_type": "code",
   "execution_count": 32,
   "id": "ea6debe6-be60-4c04-914b-a43af17038e1",
   "metadata": {
    "tags": []
   },
   "outputs": [
    {
     "data": {
      "text/plain": [
       "0.09696243413209815"
      ]
     },
     "execution_count": 32,
     "metadata": {},
     "output_type": "execute_result"
    }
   ],
   "source": [
    "# Length of confidence interval\n",
    "auc_conf_int[1] - auc_conf_int[0]"
   ]
  },
  {
   "cell_type": "markdown",
   "id": "6d0a94de-edd9-4504-b611-a1e9ce9caa99",
   "metadata": {},
   "source": [
    "## Fairness metrics"
   ]
  },
  {
   "cell_type": "markdown",
   "id": "9b17df05-5573-479e-935e-a7231980a19d",
   "metadata": {},
   "source": [
    "### Sliced AUCs"
   ]
  },
  {
   "cell_type": "code",
   "execution_count": 33,
   "id": "f14d5b88-a88f-47f5-8cb3-23b5e2ef3014",
   "metadata": {
    "tags": []
   },
   "outputs": [
    {
     "data": {
      "text/html": [
       "<div>\n",
       "<style scoped>\n",
       "    .dataframe tbody tr th:only-of-type {\n",
       "        vertical-align: middle;\n",
       "    }\n",
       "\n",
       "    .dataframe tbody tr th {\n",
       "        vertical-align: top;\n",
       "    }\n",
       "\n",
       "    .dataframe thead th {\n",
       "        text-align: right;\n",
       "    }\n",
       "</style>\n",
       "<table border=\"1\" class=\"dataframe\">\n",
       "  <thead>\n",
       "    <tr style=\"text-align: right;\">\n",
       "      <th></th>\n",
       "      <th>Attribute</th>\n",
       "      <th>Value</th>\n",
       "      <th>AUC</th>\n",
       "    </tr>\n",
       "  </thead>\n",
       "  <tbody>\n",
       "    <tr>\n",
       "      <th>0</th>\n",
       "      <td>STDNT_ETHNC_grouped</td>\n",
       "      <td>1</td>\n",
       "      <td>0.740862</td>\n",
       "    </tr>\n",
       "    <tr>\n",
       "      <th>1</th>\n",
       "      <td>STDNT_ETHNC_grouped</td>\n",
       "      <td>0</td>\n",
       "      <td>0.854464</td>\n",
       "    </tr>\n",
       "    <tr>\n",
       "      <th>2</th>\n",
       "      <td>STDNT_ETHNC_grouped</td>\n",
       "      <td>2</td>\n",
       "      <td>0.787652</td>\n",
       "    </tr>\n",
       "    <tr>\n",
       "      <th>3</th>\n",
       "      <td>STDNT_FEMALE</td>\n",
       "      <td>0</td>\n",
       "      <td>0.783214</td>\n",
       "    </tr>\n",
       "    <tr>\n",
       "      <th>4</th>\n",
       "      <td>STDNT_FEMALE</td>\n",
       "      <td>1</td>\n",
       "      <td>0.80577</td>\n",
       "    </tr>\n",
       "  </tbody>\n",
       "</table>\n",
       "</div>"
      ],
      "text/plain": [
       "             Attribute Value       AUC\n",
       "0  STDNT_ETHNC_grouped     1  0.740862\n",
       "1  STDNT_ETHNC_grouped     0  0.854464\n",
       "2  STDNT_ETHNC_grouped     2  0.787652\n",
       "3         STDNT_FEMALE     0  0.783214\n",
       "4         STDNT_FEMALE     1   0.80577"
      ]
     },
     "execution_count": 33,
     "metadata": {},
     "output_type": "execute_result"
    }
   ],
   "source": [
    "sliced_auc_direct = sliced_auc(df_true_predict['y'], \n",
    "                               df_true_predict['y_pred'],\n",
    "                               ['STDNT_ETHNC_grouped', 'STDNT_FEMALE'], \n",
    "                               target_df)\n",
    "sliced_auc_direct"
   ]
  },
  {
   "cell_type": "markdown",
   "id": "f776e267-4da4-426e-b420-8b14c5a839e3",
   "metadata": {},
   "source": [
    "### Equal opportunity difference"
   ]
  },
  {
   "cell_type": "code",
   "execution_count": 34,
   "id": "8cba6624-d595-4dec-8095-ccd462ea6e38",
   "metadata": {
    "tags": []
   },
   "outputs": [
    {
     "data": {
      "text/html": [
       "<div>\n",
       "<style scoped>\n",
       "    .dataframe tbody tr th:only-of-type {\n",
       "        vertical-align: middle;\n",
       "    }\n",
       "\n",
       "    .dataframe tbody tr th {\n",
       "        vertical-align: top;\n",
       "    }\n",
       "\n",
       "    .dataframe thead th {\n",
       "        text-align: right;\n",
       "    }\n",
       "</style>\n",
       "<table border=\"1\" class=\"dataframe\">\n",
       "  <thead>\n",
       "    <tr style=\"text-align: right;\">\n",
       "      <th></th>\n",
       "      <th>Attribute</th>\n",
       "      <th>Value</th>\n",
       "      <th>thresh_10%</th>\n",
       "    </tr>\n",
       "  </thead>\n",
       "  <tbody>\n",
       "    <tr>\n",
       "      <th>0</th>\n",
       "      <td>STDNT_ETHNC_grouped</td>\n",
       "      <td>1</td>\n",
       "      <td>-0.411017</td>\n",
       "    </tr>\n",
       "    <tr>\n",
       "      <th>1</th>\n",
       "      <td>STDNT_ETHNC_grouped</td>\n",
       "      <td>0</td>\n",
       "      <td>0</td>\n",
       "    </tr>\n",
       "    <tr>\n",
       "      <th>2</th>\n",
       "      <td>STDNT_ETHNC_grouped</td>\n",
       "      <td>2</td>\n",
       "      <td>0.033427</td>\n",
       "    </tr>\n",
       "    <tr>\n",
       "      <th>3</th>\n",
       "      <td>STDNT_FEMALE</td>\n",
       "      <td>0</td>\n",
       "      <td>0</td>\n",
       "    </tr>\n",
       "    <tr>\n",
       "      <th>4</th>\n",
       "      <td>STDNT_FEMALE</td>\n",
       "      <td>1</td>\n",
       "      <td>0.069669</td>\n",
       "    </tr>\n",
       "  </tbody>\n",
       "</table>\n",
       "</div>"
      ],
      "text/plain": [
       "             Attribute Value thresh_10%\n",
       "0  STDNT_ETHNC_grouped     1  -0.411017\n",
       "1  STDNT_ETHNC_grouped     0          0\n",
       "2  STDNT_ETHNC_grouped     2   0.033427\n",
       "3         STDNT_FEMALE     0          0\n",
       "4         STDNT_FEMALE     1   0.069669"
      ]
     },
     "execution_count": 34,
     "metadata": {},
     "output_type": "execute_result"
    }
   ],
   "source": [
    "equal_opport_direct = fairn_metrics(df_true_predict['y'], \n",
    "                                    df_true_predict['y_pred'],\n",
    "                                    attribites_dic, target_df, \n",
    "                                    threshold)\n",
    "\n",
    "equal_opport_direct"
   ]
  },
  {
   "cell_type": "markdown",
   "id": "2dfa4532-5d41-461e-9d2d-b4bdcba18f02",
   "metadata": {},
   "source": [
    "### Generalized entropy index"
   ]
  },
  {
   "cell_type": "code",
   "execution_count": 35,
   "id": "3a20d0f2-a262-4aba-b238-11063209ca21",
   "metadata": {
    "tags": []
   },
   "outputs": [
    {
     "data": {
      "text/plain": [
       "(0.3819444444444445, 0.05293962772604683)"
      ]
     },
     "execution_count": 35,
     "metadata": {},
     "output_type": "execute_result"
    }
   ],
   "source": [
    "gen_entropy_direct = gen_entropy_index(2, df_true_predict, \n",
    "                                       target_df['STDNT_ETHNC_grouped'], \n",
    "                                       calc_educ_benefits,\n",
    "                                       threshold[0])\n",
    "gen_entropy_direct"
   ]
  },
  {
   "cell_type": "markdown",
   "id": "6d159405-5296-45f2-8283-ad694781954a",
   "metadata": {},
   "source": [
    "### Generalized entropy index that takes into account the risk ranks of students"
   ]
  },
  {
   "cell_type": "code",
   "execution_count": 36,
   "id": "aa524a0c-3a97-4f69-902c-e41ab4c89949",
   "metadata": {
    "tags": []
   },
   "outputs": [
    {
     "data": {
      "text/plain": [
       "(0.5415880389025984, 0.0435358486905213)"
      ]
     },
     "execution_count": 36,
     "metadata": {},
     "output_type": "execute_result"
    }
   ],
   "source": [
    "gen_entropy_ranks_direct = gen_entropy_index(2, df_true_predict, \n",
    "                                             target_df['STDNT_ETHNC_grouped'], \n",
    "                                             calc_educ_rank_benefits, \n",
    "                                             rank_thresholds)\n",
    "gen_entropy_ranks_direct"
   ]
  },
  {
   "cell_type": "markdown",
   "id": "d03597bf-2ee2-433c-88fe-2447158ee66d",
   "metadata": {
    "tags": []
   },
   "source": [
    "# Instance weighting strategy"
   ]
  },
  {
   "cell_type": "markdown",
   "id": "b2d8f2c3-dd14-4b9c-ae20-d3192116f43a",
   "metadata": {},
   "source": [
    "## Selecting the value for the \"length_scale\" hyperparameter\n",
    "The choice of the RBF’s length scale value was made by analyzing kernel matrices across various length scale values, specifically [1, 1.5, 1.75, 2, 2.5, 3, 3.5, 4, 4.5, 5, 5.5, 6, 6.5, 7, 8, 10, 22]. \n",
    "\n",
    "The kernel function, when used to two points, applies a\n",
    "transformation to the distance between these two points. The length scale parameter defines the sensitivity of this kernel function. When the parameter is set too high, the kernel function transforms distances to values closer to 1. Conversely, when the\n",
    "parameter is set too low, the kernel function transforms distances towards 0. We should choose length scale that generates kernel matrices with values distinguishable from one another. The kernel matrices should encompass a variety of values, not just those very close to 0 or 1. It’s worth noting that the most distinct separation between distances occurs when the median distance corresponds to a kernel value of 0.5, positioning the median distance at the midpoint of the possible kernel range (0-1). \n",
    "\n",
    "For our task, this optimal condition corresponds to a length scale value of 4.5, as indicated by information obtained from the kernel matrices (see below)."
   ]
  },
  {
   "cell_type": "code",
   "execution_count": 37,
   "id": "867ebd3c-a935-4931-b9d7-8a53d6144100",
   "metadata": {
    "tags": []
   },
   "outputs": [],
   "source": [
    "length_scale_list = [1, 1.5, 1.75, 2, 2.5, 3, 3.5, 4, 4.5, 5, 5.5, 6, 6.5, 7, 8, 10, 22]\n",
    "quantiles = [0, 0.01, 0.05, 0.1, 0.25, 0.5, 0.75, 0.9, 0.95, 0.99, 1]"
   ]
  },
  {
   "cell_type": "code",
   "execution_count": 31,
   "id": "1fe0c402-4a99-420f-bdc6-664f5b25deb4",
   "metadata": {
    "tags": []
   },
   "outputs": [
    {
     "data": {
      "text/html": [
       "<div>\n",
       "<style scoped>\n",
       "    .dataframe tbody tr th:only-of-type {\n",
       "        vertical-align: middle;\n",
       "    }\n",
       "\n",
       "    .dataframe tbody tr th {\n",
       "        vertical-align: top;\n",
       "    }\n",
       "\n",
       "    .dataframe thead th {\n",
       "        text-align: right;\n",
       "    }\n",
       "</style>\n",
       "<table border=\"1\" class=\"dataframe\">\n",
       "  <thead>\n",
       "    <tr style=\"text-align: right;\">\n",
       "      <th></th>\n",
       "      <th>0.00</th>\n",
       "      <th>0.01</th>\n",
       "      <th>0.05</th>\n",
       "      <th>0.10</th>\n",
       "      <th>0.25</th>\n",
       "      <th>0.50</th>\n",
       "      <th>0.75</th>\n",
       "      <th>0.90</th>\n",
       "      <th>0.95</th>\n",
       "      <th>0.99</th>\n",
       "      <th>1.00</th>\n",
       "    </tr>\n",
       "  </thead>\n",
       "  <tbody>\n",
       "    <tr>\n",
       "      <th>1.0</th>\n",
       "      <td>0.0</td>\n",
       "      <td>0.0</td>\n",
       "      <td>0.0</td>\n",
       "      <td>0.0</td>\n",
       "      <td>0.0</td>\n",
       "      <td>0.000001</td>\n",
       "      <td>0.000792</td>\n",
       "      <td>0.024849</td>\n",
       "      <td>0.072147</td>\n",
       "      <td>0.567014</td>\n",
       "      <td>1.0</td>\n",
       "    </tr>\n",
       "    <tr>\n",
       "      <th>1.5</th>\n",
       "      <td>0.0</td>\n",
       "      <td>0.0</td>\n",
       "      <td>0.0</td>\n",
       "      <td>0.0</td>\n",
       "      <td>0.000048</td>\n",
       "      <td>0.002215</td>\n",
       "      <td>0.041845</td>\n",
       "      <td>0.193554</td>\n",
       "      <td>0.310844</td>\n",
       "      <td>0.777117</td>\n",
       "      <td>1.0</td>\n",
       "    </tr>\n",
       "    <tr>\n",
       "      <th>1.75</th>\n",
       "      <td>0.0</td>\n",
       "      <td>0.0</td>\n",
       "      <td>0.0</td>\n",
       "      <td>0.000008</td>\n",
       "      <td>0.00067</td>\n",
       "      <td>0.011212</td>\n",
       "      <td>0.097126</td>\n",
       "      <td>0.299239</td>\n",
       "      <td>0.423813</td>\n",
       "      <td>0.830885</td>\n",
       "      <td>1.0</td>\n",
       "    </tr>\n",
       "    <tr>\n",
       "      <th>2.0</th>\n",
       "      <td>0.0</td>\n",
       "      <td>0.0</td>\n",
       "      <td>0.000001</td>\n",
       "      <td>0.000125</td>\n",
       "      <td>0.003714</td>\n",
       "      <td>0.032122</td>\n",
       "      <td>0.167756</td>\n",
       "      <td>0.397033</td>\n",
       "      <td>0.518269</td>\n",
       "      <td>0.867758</td>\n",
       "      <td>1.0</td>\n",
       "    </tr>\n",
       "    <tr>\n",
       "      <th>2.5</th>\n",
       "      <td>0.0</td>\n",
       "      <td>0.0</td>\n",
       "      <td>0.000146</td>\n",
       "      <td>0.003181</td>\n",
       "      <td>0.02784</td>\n",
       "      <td>0.110753</td>\n",
       "      <td>0.319002</td>\n",
       "      <td>0.553668</td>\n",
       "      <td>0.656622</td>\n",
       "      <td>0.913219</td>\n",
       "      <td>1.0</td>\n",
       "    </tr>\n",
       "    <tr>\n",
       "      <th>3.0</th>\n",
       "      <td>0.0</td>\n",
       "      <td>0.0</td>\n",
       "      <td>0.002168</td>\n",
       "      <td>0.018437</td>\n",
       "      <td>0.08316</td>\n",
       "      <td>0.216949</td>\n",
       "      <td>0.452285</td>\n",
       "      <td>0.663286</td>\n",
       "      <td>0.746682</td>\n",
       "      <td>0.938905</td>\n",
       "      <td>1.0</td>\n",
       "    </tr>\n",
       "    <tr>\n",
       "      <th>3.5</th>\n",
       "      <td>0.0</td>\n",
       "      <td>0.0</td>\n",
       "      <td>0.011036</td>\n",
       "      <td>0.053187</td>\n",
       "      <td>0.160867</td>\n",
       "      <td>0.325406</td>\n",
       "      <td>0.558256</td>\n",
       "      <td>0.739613</td>\n",
       "      <td>0.806851</td>\n",
       "      <td>0.95474</td>\n",
       "      <td>1.0</td>\n",
       "    </tr>\n",
       "    <tr>\n",
       "      <th>4.0</th>\n",
       "      <td>0.0</td>\n",
       "      <td>0.000008</td>\n",
       "      <td>0.031734</td>\n",
       "      <td>0.105791</td>\n",
       "      <td>0.24686</td>\n",
       "      <td>0.423351</td>\n",
       "      <td>0.639984</td>\n",
       "      <td>0.793792</td>\n",
       "      <td>0.848474</td>\n",
       "      <td>0.965161</td>\n",
       "      <td>1.0</td>\n",
       "    </tr>\n",
       "    <tr>\n",
       "      <th>4.5</th>\n",
       "      <td>0.0</td>\n",
       "      <td>0.000091</td>\n",
       "      <td>0.065466</td>\n",
       "      <td>0.169509</td>\n",
       "      <td>0.331102</td>\n",
       "      <td>0.507046</td>\n",
       "      <td>0.702829</td>\n",
       "      <td>0.833213</td>\n",
       "      <td>0.878245</td>\n",
       "      <td>0.972371</td>\n",
       "      <td>1.0</td>\n",
       "    </tr>\n",
       "    <tr>\n",
       "      <th>5.0</th>\n",
       "      <td>0.0</td>\n",
       "      <td>0.000535</td>\n",
       "      <td>0.109894</td>\n",
       "      <td>0.237491</td>\n",
       "      <td>0.408478</td>\n",
       "      <td>0.576884</td>\n",
       "      <td>0.751534</td>\n",
       "      <td>0.862606</td>\n",
       "      <td>0.900179</td>\n",
       "      <td>0.977561</td>\n",
       "      <td>1.0</td>\n",
       "    </tr>\n",
       "    <tr>\n",
       "      <th>5.5</th>\n",
       "      <td>0.0</td>\n",
       "      <td>0.001978</td>\n",
       "      <td>0.161219</td>\n",
       "      <td>0.304793</td>\n",
       "      <td>0.477146</td>\n",
       "      <td>0.634677</td>\n",
       "      <td>0.789729</td>\n",
       "      <td>0.885018</td>\n",
       "      <td>0.916759</td>\n",
       "      <td>0.981419</td>\n",
       "      <td>1.0</td>\n",
       "    </tr>\n",
       "    <tr>\n",
       "      <th>6.0</th>\n",
       "      <td>0.0</td>\n",
       "      <td>0.005346</td>\n",
       "      <td>0.215779</td>\n",
       "      <td>0.368486</td>\n",
       "      <td>0.537005</td>\n",
       "      <td>0.682479</td>\n",
       "      <td>0.820074</td>\n",
       "      <td>0.902454</td>\n",
       "      <td>0.929574</td>\n",
       "      <td>0.984363</td>\n",
       "      <td>1.0</td>\n",
       "    </tr>\n",
       "    <tr>\n",
       "      <th>6.5</th>\n",
       "      <td>0.0</td>\n",
       "      <td>0.011591</td>\n",
       "      <td>0.270725</td>\n",
       "      <td>0.42713</td>\n",
       "      <td>0.588738</td>\n",
       "      <td>0.722158</td>\n",
       "      <td>0.844494</td>\n",
       "      <td>0.916261</td>\n",
       "      <td>0.939671</td>\n",
       "      <td>0.986661</td>\n",
       "      <td>1.0</td>\n",
       "    </tr>\n",
       "    <tr>\n",
       "      <th>7.0</th>\n",
       "      <td>0.0</td>\n",
       "      <td>0.021419</td>\n",
       "      <td>0.324116</td>\n",
       "      <td>0.480233</td>\n",
       "      <td>0.63331</td>\n",
       "      <td>0.755277</td>\n",
       "      <td>0.864387</td>\n",
       "      <td>0.927366</td>\n",
       "      <td>0.94776</td>\n",
       "      <td>0.988488</td>\n",
       "      <td>1.0</td>\n",
       "    </tr>\n",
       "    <tr>\n",
       "      <th>8.0</th>\n",
       "      <td>0.0</td>\n",
       "      <td>0.052725</td>\n",
       "      <td>0.422066</td>\n",
       "      <td>0.570311</td>\n",
       "      <td>0.704876</td>\n",
       "      <td>0.806632</td>\n",
       "      <td>0.894422</td>\n",
       "      <td>0.943901</td>\n",
       "      <td>0.959753</td>\n",
       "      <td>0.991174</td>\n",
       "      <td>1.0</td>\n",
       "    </tr>\n",
       "    <tr>\n",
       "      <th>10.0</th>\n",
       "      <td>0.000028</td>\n",
       "      <td>0.152086</td>\n",
       "      <td>0.575762</td>\n",
       "      <td>0.69809</td>\n",
       "      <td>0.799452</td>\n",
       "      <td>0.87151</td>\n",
       "      <td>0.93108</td>\n",
       "      <td>0.963725</td>\n",
       "      <td>0.974052</td>\n",
       "      <td>0.994342</td>\n",
       "      <td>1.0</td>\n",
       "    </tr>\n",
       "    <tr>\n",
       "      <th>22.0</th>\n",
       "      <td>0.115057</td>\n",
       "      <td>0.677657</td>\n",
       "      <td>0.892203</td>\n",
       "      <td>0.928432</td>\n",
       "      <td>0.954807</td>\n",
       "      <td>0.971985</td>\n",
       "      <td>0.985354</td>\n",
       "      <td>0.992395</td>\n",
       "      <td>0.994583</td>\n",
       "      <td>0.998828</td>\n",
       "      <td>1.0</td>\n",
       "    </tr>\n",
       "    <tr>\n",
       "      <th>dist</th>\n",
       "      <td>45.750739</td>\n",
       "      <td>19.407778</td>\n",
       "      <td>10.507715</td>\n",
       "      <td>8.478288</td>\n",
       "      <td>6.690731</td>\n",
       "      <td>5.244588</td>\n",
       "      <td>3.779149</td>\n",
       "      <td>2.718434</td>\n",
       "      <td>2.293053</td>\n",
       "      <td>1.065242</td>\n",
       "      <td>0.0</td>\n",
       "    </tr>\n",
       "  </tbody>\n",
       "</table>\n",
       "</div>"
      ],
      "text/plain": [
       "           0.00       0.01       0.05      0.10      0.25      0.50      0.75  \\\n",
       "1.0         0.0        0.0        0.0       0.0       0.0  0.000001  0.000792   \n",
       "1.5         0.0        0.0        0.0       0.0  0.000048  0.002215  0.041845   \n",
       "1.75        0.0        0.0        0.0  0.000008   0.00067  0.011212  0.097126   \n",
       "2.0         0.0        0.0   0.000001  0.000125  0.003714  0.032122  0.167756   \n",
       "2.5         0.0        0.0   0.000146  0.003181   0.02784  0.110753  0.319002   \n",
       "3.0         0.0        0.0   0.002168  0.018437   0.08316  0.216949  0.452285   \n",
       "3.5         0.0        0.0   0.011036  0.053187  0.160867  0.325406  0.558256   \n",
       "4.0         0.0   0.000008   0.031734  0.105791   0.24686  0.423351  0.639984   \n",
       "4.5         0.0   0.000091   0.065466  0.169509  0.331102  0.507046  0.702829   \n",
       "5.0         0.0   0.000535   0.109894  0.237491  0.408478  0.576884  0.751534   \n",
       "5.5         0.0   0.001978   0.161219  0.304793  0.477146  0.634677  0.789729   \n",
       "6.0         0.0   0.005346   0.215779  0.368486  0.537005  0.682479  0.820074   \n",
       "6.5         0.0   0.011591   0.270725   0.42713  0.588738  0.722158  0.844494   \n",
       "7.0         0.0   0.021419   0.324116  0.480233   0.63331  0.755277  0.864387   \n",
       "8.0         0.0   0.052725   0.422066  0.570311  0.704876  0.806632  0.894422   \n",
       "10.0   0.000028   0.152086   0.575762   0.69809  0.799452   0.87151   0.93108   \n",
       "22.0   0.115057   0.677657   0.892203  0.928432  0.954807  0.971985  0.985354   \n",
       "dist  45.750739  19.407778  10.507715  8.478288  6.690731  5.244588  3.779149   \n",
       "\n",
       "          0.90      0.95      0.99 1.00  \n",
       "1.0   0.024849  0.072147  0.567014  1.0  \n",
       "1.5   0.193554  0.310844  0.777117  1.0  \n",
       "1.75  0.299239  0.423813  0.830885  1.0  \n",
       "2.0   0.397033  0.518269  0.867758  1.0  \n",
       "2.5   0.553668  0.656622  0.913219  1.0  \n",
       "3.0   0.663286  0.746682  0.938905  1.0  \n",
       "3.5   0.739613  0.806851   0.95474  1.0  \n",
       "4.0   0.793792  0.848474  0.965161  1.0  \n",
       "4.5   0.833213  0.878245  0.972371  1.0  \n",
       "5.0   0.862606  0.900179  0.977561  1.0  \n",
       "5.5   0.885018  0.916759  0.981419  1.0  \n",
       "6.0   0.902454  0.929574  0.984363  1.0  \n",
       "6.5   0.916261  0.939671  0.986661  1.0  \n",
       "7.0   0.927366   0.94776  0.988488  1.0  \n",
       "8.0   0.943901  0.959753  0.991174  1.0  \n",
       "10.0  0.963725  0.974052  0.994342  1.0  \n",
       "22.0  0.992395  0.994583  0.998828  1.0  \n",
       "dist  2.718434  2.293053  1.065242  0.0  "
      ]
     },
     "execution_count": 31,
     "metadata": {},
     "output_type": "execute_result"
    }
   ],
   "source": [
    "calc_kernels_for_l(X_source, X_source,\n",
    "                   length_scale_list, quantiles)"
   ]
  },
  {
   "cell_type": "code",
   "execution_count": 32,
   "id": "6c3e047c-6071-4a58-a8e9-bdf6b9213bfb",
   "metadata": {
    "tags": []
   },
   "outputs": [
    {
     "data": {
      "text/html": [
       "<div>\n",
       "<style scoped>\n",
       "    .dataframe tbody tr th:only-of-type {\n",
       "        vertical-align: middle;\n",
       "    }\n",
       "\n",
       "    .dataframe tbody tr th {\n",
       "        vertical-align: top;\n",
       "    }\n",
       "\n",
       "    .dataframe thead th {\n",
       "        text-align: right;\n",
       "    }\n",
       "</style>\n",
       "<table border=\"1\" class=\"dataframe\">\n",
       "  <thead>\n",
       "    <tr style=\"text-align: right;\">\n",
       "      <th></th>\n",
       "      <th>0.00</th>\n",
       "      <th>0.01</th>\n",
       "      <th>0.05</th>\n",
       "      <th>0.10</th>\n",
       "      <th>0.25</th>\n",
       "      <th>0.50</th>\n",
       "      <th>0.75</th>\n",
       "      <th>0.90</th>\n",
       "      <th>0.95</th>\n",
       "      <th>0.99</th>\n",
       "      <th>1.00</th>\n",
       "    </tr>\n",
       "  </thead>\n",
       "  <tbody>\n",
       "    <tr>\n",
       "      <th>1.0</th>\n",
       "      <td>0.0</td>\n",
       "      <td>0.0</td>\n",
       "      <td>0.0</td>\n",
       "      <td>0.0</td>\n",
       "      <td>0.0</td>\n",
       "      <td>0.000002</td>\n",
       "      <td>0.001008</td>\n",
       "      <td>0.027145</td>\n",
       "      <td>0.077146</td>\n",
       "      <td>0.568721</td>\n",
       "      <td>1.0</td>\n",
       "    </tr>\n",
       "    <tr>\n",
       "      <th>1.5</th>\n",
       "      <td>0.0</td>\n",
       "      <td>0.0</td>\n",
       "      <td>0.0</td>\n",
       "      <td>0.0</td>\n",
       "      <td>0.000064</td>\n",
       "      <td>0.002649</td>\n",
       "      <td>0.046585</td>\n",
       "      <td>0.201309</td>\n",
       "      <td>0.320237</td>\n",
       "      <td>0.778156</td>\n",
       "      <td>1.0</td>\n",
       "    </tr>\n",
       "    <tr>\n",
       "      <th>1.75</th>\n",
       "      <td>0.0</td>\n",
       "      <td>0.0</td>\n",
       "      <td>0.0</td>\n",
       "      <td>0.000012</td>\n",
       "      <td>0.000829</td>\n",
       "      <td>0.012787</td>\n",
       "      <td>0.105092</td>\n",
       "      <td>0.308001</td>\n",
       "      <td>0.433185</td>\n",
       "      <td>0.831701</td>\n",
       "      <td>1.0</td>\n",
       "    </tr>\n",
       "    <tr>\n",
       "      <th>2.0</th>\n",
       "      <td>0.0</td>\n",
       "      <td>0.0</td>\n",
       "      <td>0.000001</td>\n",
       "      <td>0.000173</td>\n",
       "      <td>0.004372</td>\n",
       "      <td>0.035521</td>\n",
       "      <td>0.178192</td>\n",
       "      <td>0.405904</td>\n",
       "      <td>0.527021</td>\n",
       "      <td>0.86841</td>\n",
       "      <td>1.0</td>\n",
       "    </tr>\n",
       "    <tr>\n",
       "      <th>2.5</th>\n",
       "      <td>0.0</td>\n",
       "      <td>0.0</td>\n",
       "      <td>0.000161</td>\n",
       "      <td>0.003906</td>\n",
       "      <td>0.030906</td>\n",
       "      <td>0.118116</td>\n",
       "      <td>0.331565</td>\n",
       "      <td>0.561553</td>\n",
       "      <td>0.663697</td>\n",
       "      <td>0.913659</td>\n",
       "      <td>1.0</td>\n",
       "    </tr>\n",
       "    <tr>\n",
       "      <th>3.0</th>\n",
       "      <td>0.0</td>\n",
       "      <td>0.0</td>\n",
       "      <td>0.002324</td>\n",
       "      <td>0.021262</td>\n",
       "      <td>0.089416</td>\n",
       "      <td>0.226866</td>\n",
       "      <td>0.464581</td>\n",
       "      <td>0.669832</td>\n",
       "      <td>0.75226</td>\n",
       "      <td>0.939218</td>\n",
       "      <td>1.0</td>\n",
       "    </tr>\n",
       "    <tr>\n",
       "      <th>3.5</th>\n",
       "      <td>0.0</td>\n",
       "      <td>0.0</td>\n",
       "      <td>0.011615</td>\n",
       "      <td>0.059061</td>\n",
       "      <td>0.169672</td>\n",
       "      <td>0.33627</td>\n",
       "      <td>0.569367</td>\n",
       "      <td>0.744969</td>\n",
       "      <td>0.811275</td>\n",
       "      <td>0.954975</td>\n",
       "      <td>1.0</td>\n",
       "    </tr>\n",
       "    <tr>\n",
       "      <th>4.0</th>\n",
       "      <td>0.0</td>\n",
       "      <td>0.000006</td>\n",
       "      <td>0.033</td>\n",
       "      <td>0.114624</td>\n",
       "      <td>0.25714</td>\n",
       "      <td>0.434131</td>\n",
       "      <td>0.649714</td>\n",
       "      <td>0.798189</td>\n",
       "      <td>0.852034</td>\n",
       "      <td>0.965342</td>\n",
       "      <td>1.0</td>\n",
       "    </tr>\n",
       "    <tr>\n",
       "      <th>4.5</th>\n",
       "      <td>0.0</td>\n",
       "      <td>0.000075</td>\n",
       "      <td>0.067522</td>\n",
       "      <td>0.180598</td>\n",
       "      <td>0.341949</td>\n",
       "      <td>0.51722</td>\n",
       "      <td>0.711258</td>\n",
       "      <td>0.836857</td>\n",
       "      <td>0.881155</td>\n",
       "      <td>0.972515</td>\n",
       "      <td>1.0</td>\n",
       "    </tr>\n",
       "    <tr>\n",
       "      <th>5.0</th>\n",
       "      <td>0.0</td>\n",
       "      <td>0.000455</td>\n",
       "      <td>0.112681</td>\n",
       "      <td>0.249998</td>\n",
       "      <td>0.419285</td>\n",
       "      <td>0.586242</td>\n",
       "      <td>0.758826</td>\n",
       "      <td>0.865661</td>\n",
       "      <td>0.902594</td>\n",
       "      <td>0.977678</td>\n",
       "      <td>1.0</td>\n",
       "    </tr>\n",
       "    <tr>\n",
       "      <th>5.5</th>\n",
       "      <td>0.0</td>\n",
       "      <td>0.001729</td>\n",
       "      <td>0.164591</td>\n",
       "      <td>0.318</td>\n",
       "      <td>0.487555</td>\n",
       "      <td>0.643174</td>\n",
       "      <td>0.796057</td>\n",
       "      <td>0.887608</td>\n",
       "      <td>0.918791</td>\n",
       "      <td>0.981516</td>\n",
       "      <td>1.0</td>\n",
       "    </tr>\n",
       "    <tr>\n",
       "      <th>6.0</th>\n",
       "      <td>0.0</td>\n",
       "      <td>0.004776</td>\n",
       "      <td>0.219565</td>\n",
       "      <td>0.381857</td>\n",
       "      <td>0.546831</td>\n",
       "      <td>0.690148</td>\n",
       "      <td>0.825592</td>\n",
       "      <td>0.904673</td>\n",
       "      <td>0.931305</td>\n",
       "      <td>0.984445</td>\n",
       "      <td>1.0</td>\n",
       "    </tr>\n",
       "    <tr>\n",
       "      <th>6.5</th>\n",
       "      <td>0.0</td>\n",
       "      <td>0.010529</td>\n",
       "      <td>0.274767</td>\n",
       "      <td>0.440301</td>\n",
       "      <td>0.597906</td>\n",
       "      <td>0.729067</td>\n",
       "      <td>0.849333</td>\n",
       "      <td>0.91818</td>\n",
       "      <td>0.941162</td>\n",
       "      <td>0.986731</td>\n",
       "      <td>1.0</td>\n",
       "    </tr>\n",
       "    <tr>\n",
       "      <th>7.0</th>\n",
       "      <td>0.0</td>\n",
       "      <td>0.019716</td>\n",
       "      <td>0.328284</td>\n",
       "      <td>0.492975</td>\n",
       "      <td>0.641804</td>\n",
       "      <td>0.761504</td>\n",
       "      <td>0.868656</td>\n",
       "      <td>0.92904</td>\n",
       "      <td>0.949056</td>\n",
       "      <td>0.988548</td>\n",
       "      <td>1.0</td>\n",
       "    </tr>\n",
       "    <tr>\n",
       "      <th>8.0</th>\n",
       "      <td>0.0</td>\n",
       "      <td>0.049484</td>\n",
       "      <td>0.426215</td>\n",
       "      <td>0.581861</td>\n",
       "      <td>0.712103</td>\n",
       "      <td>0.811718</td>\n",
       "      <td>0.897802</td>\n",
       "      <td>0.945206</td>\n",
       "      <td>0.960758</td>\n",
       "      <td>0.991221</td>\n",
       "      <td>1.0</td>\n",
       "    </tr>\n",
       "    <tr>\n",
       "      <th>10.0</th>\n",
       "      <td>0.000035</td>\n",
       "      <td>0.146036</td>\n",
       "      <td>0.579379</td>\n",
       "      <td>0.707105</td>\n",
       "      <td>0.804688</td>\n",
       "      <td>0.875023</td>\n",
       "      <td>0.933331</td>\n",
       "      <td>0.964577</td>\n",
       "      <td>0.974705</td>\n",
       "      <td>0.994372</td>\n",
       "      <td>1.0</td>\n",
       "    </tr>\n",
       "    <tr>\n",
       "      <th>22.0</th>\n",
       "      <td>0.119994</td>\n",
       "      <td>0.671997</td>\n",
       "      <td>0.893358</td>\n",
       "      <td>0.930897</td>\n",
       "      <td>0.956096</td>\n",
       "      <td>0.972793</td>\n",
       "      <td>0.985846</td>\n",
       "      <td>0.992576</td>\n",
       "      <td>0.99472</td>\n",
       "      <td>0.998835</td>\n",
       "      <td>1.0</td>\n",
       "    </tr>\n",
       "    <tr>\n",
       "      <th>dist</th>\n",
       "      <td>45.304095</td>\n",
       "      <td>19.615828</td>\n",
       "      <td>10.447953</td>\n",
       "      <td>8.325568</td>\n",
       "      <td>6.592439</td>\n",
       "      <td>5.167311</td>\n",
       "      <td>3.71472</td>\n",
       "      <td>2.685724</td>\n",
       "      <td>2.263652</td>\n",
       "      <td>1.062417</td>\n",
       "      <td>0.0</td>\n",
       "    </tr>\n",
       "  </tbody>\n",
       "</table>\n",
       "</div>"
      ],
      "text/plain": [
       "           0.00       0.01       0.05      0.10      0.25      0.50      0.75  \\\n",
       "1.0         0.0        0.0        0.0       0.0       0.0  0.000002  0.001008   \n",
       "1.5         0.0        0.0        0.0       0.0  0.000064  0.002649  0.046585   \n",
       "1.75        0.0        0.0        0.0  0.000012  0.000829  0.012787  0.105092   \n",
       "2.0         0.0        0.0   0.000001  0.000173  0.004372  0.035521  0.178192   \n",
       "2.5         0.0        0.0   0.000161  0.003906  0.030906  0.118116  0.331565   \n",
       "3.0         0.0        0.0   0.002324  0.021262  0.089416  0.226866  0.464581   \n",
       "3.5         0.0        0.0   0.011615  0.059061  0.169672   0.33627  0.569367   \n",
       "4.0         0.0   0.000006      0.033  0.114624   0.25714  0.434131  0.649714   \n",
       "4.5         0.0   0.000075   0.067522  0.180598  0.341949   0.51722  0.711258   \n",
       "5.0         0.0   0.000455   0.112681  0.249998  0.419285  0.586242  0.758826   \n",
       "5.5         0.0   0.001729   0.164591     0.318  0.487555  0.643174  0.796057   \n",
       "6.0         0.0   0.004776   0.219565  0.381857  0.546831  0.690148  0.825592   \n",
       "6.5         0.0   0.010529   0.274767  0.440301  0.597906  0.729067  0.849333   \n",
       "7.0         0.0   0.019716   0.328284  0.492975  0.641804  0.761504  0.868656   \n",
       "8.0         0.0   0.049484   0.426215  0.581861  0.712103  0.811718  0.897802   \n",
       "10.0   0.000035   0.146036   0.579379  0.707105  0.804688  0.875023  0.933331   \n",
       "22.0   0.119994   0.671997   0.893358  0.930897  0.956096  0.972793  0.985846   \n",
       "dist  45.304095  19.615828  10.447953  8.325568  6.592439  5.167311   3.71472   \n",
       "\n",
       "          0.90      0.95      0.99 1.00  \n",
       "1.0   0.027145  0.077146  0.568721  1.0  \n",
       "1.5   0.201309  0.320237  0.778156  1.0  \n",
       "1.75  0.308001  0.433185  0.831701  1.0  \n",
       "2.0   0.405904  0.527021   0.86841  1.0  \n",
       "2.5   0.561553  0.663697  0.913659  1.0  \n",
       "3.0   0.669832   0.75226  0.939218  1.0  \n",
       "3.5   0.744969  0.811275  0.954975  1.0  \n",
       "4.0   0.798189  0.852034  0.965342  1.0  \n",
       "4.5   0.836857  0.881155  0.972515  1.0  \n",
       "5.0   0.865661  0.902594  0.977678  1.0  \n",
       "5.5   0.887608  0.918791  0.981516  1.0  \n",
       "6.0   0.904673  0.931305  0.984445  1.0  \n",
       "6.5    0.91818  0.941162  0.986731  1.0  \n",
       "7.0    0.92904  0.949056  0.988548  1.0  \n",
       "8.0   0.945206  0.960758  0.991221  1.0  \n",
       "10.0  0.964577  0.974705  0.994372  1.0  \n",
       "22.0  0.992576   0.99472  0.998835  1.0  \n",
       "dist  2.685724  2.263652  1.062417  0.0  "
      ]
     },
     "execution_count": 32,
     "metadata": {},
     "output_type": "execute_result"
    }
   ],
   "source": [
    "calc_kernels_for_l(X_source, X_target,\n",
    "                   length_scale_list, quantiles)"
   ]
  },
  {
   "cell_type": "markdown",
   "id": "0bff2c5d-916e-49b5-9809-3bfebe89e72c",
   "metadata": {},
   "source": [
    "## Estimation of the weighted model"
   ]
  },
  {
   "cell_type": "markdown",
   "id": "48ec83e1-4cf8-4336-902d-ca3eecfbdb12",
   "metadata": {},
   "source": [
    "### Estimating weights\n",
    "\n",
    "Estimating weights by solving the quadratic programming problem specified in Huang J., Smola A.J., Gretton A., Borgwardt K.M., and Scholkopf B. (2006). Correcting sample selection bias by unlabeled data. In Proceedings of the 19th International Conference on Neural Information Processing Systems (NIPS’06). MIT Press, Cambridge, MA, USA, 601–608."
   ]
  },
  {
   "cell_type": "code",
   "execution_count": 33,
   "id": "9bc525e9-f269-4423-87ef-c9e827b4ace8",
   "metadata": {
    "tags": []
   },
   "outputs": [],
   "source": [
    "length_scale = 4.5"
   ]
  },
  {
   "cell_type": "code",
   "execution_count": 34,
   "id": "3474502e-83ee-4728-8692-fc75a2de1283",
   "metadata": {
    "tags": []
   },
   "outputs": [],
   "source": [
    "# Get input for CVXOPT\n",
    "P, q, G, h = get_cvxopt_input(X_source, X_target, length_scale)"
   ]
  },
  {
   "cell_type": "code",
   "execution_count": 35,
   "id": "0bedd3fc-e5c4-447f-96d7-10a9341a4313",
   "metadata": {
    "tags": []
   },
   "outputs": [
    {
     "name": "stdout",
     "output_type": "stream",
     "text": [
      "     pcost       dcost       gap    pres   dres\n",
      " 1: -7.7548e+07 -8.4809e+11  9e+11  3e-03  2e-14\n",
      " 2: -7.1932e+07 -8.4733e+11  9e+11  3e-03  2e-14\n",
      " 4: -2.8565e+07 -9.5581e+09  1e+10  3e-05  3e-14\n",
      " 5: -1.1814e+08 -1.4427e+09  1e+09  5e-15  1e-13\n",
      " 7: -2.1773e+08 -4.7243e+08  3e+08  9e-15  2e-14\n",
      " 8: -2.2243e+08 -4.7024e+08  2e+08  9e-15  1e-14\n",
      "10: -2.4437e+08 -2.6272e+08  2e+07  4e-15  6e-16\n",
      "11: -2.4472e+08 -2.6057e+08  2e+07  3e-16  5e-16\n",
      "19: -2.4543e+08 -2.4546e+08  2e+04  9e-16  4e-16\n",
      "20: -2.4543e+08 -2.4544e+08  8e+03  3e-15  4e-16\n",
      "24: -2.4543e+08 -2.4543e+08  1e+02  2e-15  5e-16\n",
      "Optimal solution found.\n",
      "17403.62465786934 seconds\n"
     ]
    }
   ],
   "source": [
    "start_time = time.time()\n",
    "sol = solvers.qp(P,q,G,h)\n",
    "print(time.time() - start_time, \"seconds\")"
   ]
  },
  {
   "cell_type": "code",
   "execution_count": 36,
   "id": "5ce77685-35b0-4623-8b33-9d968c3b7e98",
   "metadata": {
    "tags": []
   },
   "outputs": [],
   "source": [
    "weights = np.array(sol['x']).flatten()"
   ]
  },
  {
   "cell_type": "markdown",
   "id": "3db1b5ec-142e-4596-ac5b-9367e4b42e28",
   "metadata": {},
   "source": [
    "## Fitting the weighted source model"
   ]
  },
  {
   "cell_type": "code",
   "execution_count": 95,
   "id": "1404ffc7-84bb-43e0-8805-b0e45825374f",
   "metadata": {
    "tags": []
   },
   "outputs": [
    {
     "data": {
      "text/html": [
       "<style>#sk-container-id-4 {color: black;background-color: white;}#sk-container-id-4 pre{padding: 0;}#sk-container-id-4 div.sk-toggleable {background-color: white;}#sk-container-id-4 label.sk-toggleable__label {cursor: pointer;display: block;width: 100%;margin-bottom: 0;padding: 0.3em;box-sizing: border-box;text-align: center;}#sk-container-id-4 label.sk-toggleable__label-arrow:before {content: \"▸\";float: left;margin-right: 0.25em;color: #696969;}#sk-container-id-4 label.sk-toggleable__label-arrow:hover:before {color: black;}#sk-container-id-4 div.sk-estimator:hover label.sk-toggleable__label-arrow:before {color: black;}#sk-container-id-4 div.sk-toggleable__content {max-height: 0;max-width: 0;overflow: hidden;text-align: left;background-color: #f0f8ff;}#sk-container-id-4 div.sk-toggleable__content pre {margin: 0.2em;color: black;border-radius: 0.25em;background-color: #f0f8ff;}#sk-container-id-4 input.sk-toggleable__control:checked~div.sk-toggleable__content {max-height: 200px;max-width: 100%;overflow: auto;}#sk-container-id-4 input.sk-toggleable__control:checked~label.sk-toggleable__label-arrow:before {content: \"▾\";}#sk-container-id-4 div.sk-estimator input.sk-toggleable__control:checked~label.sk-toggleable__label {background-color: #d4ebff;}#sk-container-id-4 div.sk-label input.sk-toggleable__control:checked~label.sk-toggleable__label {background-color: #d4ebff;}#sk-container-id-4 input.sk-hidden--visually {border: 0;clip: rect(1px 1px 1px 1px);clip: rect(1px, 1px, 1px, 1px);height: 1px;margin: -1px;overflow: hidden;padding: 0;position: absolute;width: 1px;}#sk-container-id-4 div.sk-estimator {font-family: monospace;background-color: #f0f8ff;border: 1px dotted black;border-radius: 0.25em;box-sizing: border-box;margin-bottom: 0.5em;}#sk-container-id-4 div.sk-estimator:hover {background-color: #d4ebff;}#sk-container-id-4 div.sk-parallel-item::after {content: \"\";width: 100%;border-bottom: 1px solid gray;flex-grow: 1;}#sk-container-id-4 div.sk-label:hover label.sk-toggleable__label {background-color: #d4ebff;}#sk-container-id-4 div.sk-serial::before {content: \"\";position: absolute;border-left: 1px solid gray;box-sizing: border-box;top: 0;bottom: 0;left: 50%;z-index: 0;}#sk-container-id-4 div.sk-serial {display: flex;flex-direction: column;align-items: center;background-color: white;padding-right: 0.2em;padding-left: 0.2em;position: relative;}#sk-container-id-4 div.sk-item {position: relative;z-index: 1;}#sk-container-id-4 div.sk-parallel {display: flex;align-items: stretch;justify-content: center;background-color: white;position: relative;}#sk-container-id-4 div.sk-item::before, #sk-container-id-4 div.sk-parallel-item::before {content: \"\";position: absolute;border-left: 1px solid gray;box-sizing: border-box;top: 0;bottom: 0;left: 50%;z-index: -1;}#sk-container-id-4 div.sk-parallel-item {display: flex;flex-direction: column;z-index: 1;position: relative;background-color: white;}#sk-container-id-4 div.sk-parallel-item:first-child::after {align-self: flex-end;width: 50%;}#sk-container-id-4 div.sk-parallel-item:last-child::after {align-self: flex-start;width: 50%;}#sk-container-id-4 div.sk-parallel-item:only-child::after {width: 0;}#sk-container-id-4 div.sk-dashed-wrapped {border: 1px dashed gray;margin: 0 0.4em 0.5em 0.4em;box-sizing: border-box;padding-bottom: 0.4em;background-color: white;}#sk-container-id-4 div.sk-label label {font-family: monospace;font-weight: bold;display: inline-block;line-height: 1.2em;}#sk-container-id-4 div.sk-label-container {text-align: center;}#sk-container-id-4 div.sk-container {/* jupyter's `normalize.less` sets `[hidden] { display: none; }` but bootstrap.min.css set `[hidden] { display: none !important; }` so we also need the `!important` here to be able to override the default hidden behavior on the sphinx rendered scikit-learn.org. See: https://github.com/scikit-learn/scikit-learn/issues/21755 */display: inline-block !important;position: relative;}#sk-container-id-4 div.sk-text-repr-fallback {display: none;}</style><div id=\"sk-container-id-4\" class=\"sk-top-container\"><div class=\"sk-text-repr-fallback\"><pre>LogisticRegression(max_iter=10000, penalty=None, random_state=1)</pre><b>In a Jupyter environment, please rerun this cell to show the HTML representation or trust the notebook. <br />On GitHub, the HTML representation is unable to render, please try loading this page with nbviewer.org.</b></div><div class=\"sk-container\" hidden><div class=\"sk-item\"><div class=\"sk-estimator sk-toggleable\"><input class=\"sk-toggleable__control sk-hidden--visually\" id=\"sk-estimator-id-4\" type=\"checkbox\" checked><label for=\"sk-estimator-id-4\" class=\"sk-toggleable__label sk-toggleable__label-arrow\">LogisticRegression</label><div class=\"sk-toggleable__content\"><pre>LogisticRegression(max_iter=10000, penalty=None, random_state=1)</pre></div></div></div></div></div>"
      ],
      "text/plain": [
       "LogisticRegression(max_iter=10000, penalty=None, random_state=1)"
      ]
     },
     "execution_count": 95,
     "metadata": {},
     "output_type": "execute_result"
    }
   ],
   "source": [
    "clf_weighted = clone(clf)\n",
    "clf_weighted.fit(X_source, y, weights)"
   ]
  },
  {
   "cell_type": "markdown",
   "id": "944cd54a-b339-48a2-a48b-f22fb4a61c02",
   "metadata": {},
   "source": [
    "## Weighted source model transfer"
   ]
  },
  {
   "cell_type": "code",
   "execution_count": 96,
   "id": "553863cd-34b7-4153-9cf6-56361dc165f9",
   "metadata": {
    "tags": []
   },
   "outputs": [],
   "source": [
    "y_pred = clf_weighted.predict_proba(X_target)"
   ]
  },
  {
   "cell_type": "code",
   "execution_count": 97,
   "id": "9e20631b-1591-48ed-afd1-664a4c331caf",
   "metadata": {
    "tags": []
   },
   "outputs": [],
   "source": [
    "# DataFrame containing true and predicted y\n",
    "df_true_predict_w = pd.DataFrame(data={'y': target_imp['y_ENROLLED_1_YEAR_LATER'], 'y_pred': y_pred[:,1]})"
   ]
  },
  {
   "cell_type": "code",
   "execution_count": 98,
   "id": "9b1dfd1f-5024-4c73-b61f-c1e598680ec9",
   "metadata": {
    "tags": []
   },
   "outputs": [],
   "source": [
    "df_true_predict_w.to_csv('df_true_predict_IWS_model_2.csv')"
   ]
  },
  {
   "cell_type": "code",
   "execution_count": 38,
   "id": "dcd2fde0-5ec7-405c-a917-05c5eb4c3dd8",
   "metadata": {
    "tags": []
   },
   "outputs": [],
   "source": [
    "df_true_predict_w = pd.read_csv('df_true_predict_IWS_model_2.csv', index_col=0)"
   ]
  },
  {
   "cell_type": "markdown",
   "id": "425abfe8-7194-449e-ac12-03b4283212a8",
   "metadata": {},
   "source": [
    "## Classification accuracy"
   ]
  },
  {
   "cell_type": "markdown",
   "id": "18ff0984-c7f2-4189-bf87-e60f16e3b8b2",
   "metadata": {},
   "source": [
    "### AUC"
   ]
  },
  {
   "cell_type": "code",
   "execution_count": 39,
   "id": "541cd291-b4c7-4ed4-8534-de6b2cff92a7",
   "metadata": {
    "tags": []
   },
   "outputs": [
    {
     "data": {
      "text/plain": [
       "0.8023077481605783"
      ]
     },
     "execution_count": 39,
     "metadata": {},
     "output_type": "execute_result"
    }
   ],
   "source": [
    "auc_IWS = roc_auc_score(df_true_predict_w['y'], df_true_predict_w['y_pred'])\n",
    "auc_IWS"
   ]
  },
  {
   "cell_type": "code",
   "execution_count": 40,
   "id": "681af4cc-e054-4bb6-86c6-c2d76f5d1fe4",
   "metadata": {
    "tags": []
   },
   "outputs": [
    {
     "name": "stdout",
     "output_type": "stream",
     "text": [
      "AUC direct transfer = 0.790, AUC instance weighting strategy = 0.802\n"
     ]
    }
   ],
   "source": [
    "print(f\"AUC direct transfer = {auc_direct:.3f}, AUC instance weighting strategy = {auc_IWS:.3f}\")"
   ]
  },
  {
   "cell_type": "markdown",
   "id": "b31cbbae-874f-4f7e-8ca8-0749ac2c29bd",
   "metadata": {
    "tags": []
   },
   "source": [
    "### Comparison of ROC curves"
   ]
  },
  {
   "cell_type": "code",
   "execution_count": 41,
   "id": "5670a23c-4ce2-4d77-8201-6d8bc5a1682a",
   "metadata": {
    "tags": []
   },
   "outputs": [
    {
     "data": {
      "image/png": "[encoded data removed]",
      "text/plain": [
       "<Figure size 640x480 with 1 Axes>"
      ]
     },
     "metadata": {},
     "output_type": "display_data"
    }
   ],
   "source": [
    "plot_roc_curves(df_true_predict, df_true_predict_w,\n",
    "                'Direct transfer', 'Instance weighting strategy', \n",
    "                'Comparison of ROC curves')"
   ]
  },
  {
   "cell_type": "markdown",
   "id": "17d9d43c-1dc5-46c8-b65b-0f57f8fb7a89",
   "metadata": {},
   "source": [
    "### Pietra Index and Kolmogorov-Smirnov test"
   ]
  },
  {
   "cell_type": "code",
   "execution_count": 42,
   "id": "04fca9d4-9795-4ce8-85a4-81fc55f3490d",
   "metadata": {
    "tags": []
   },
   "outputs": [
    {
     "data": {
      "text/html": [
       "<div>\n",
       "<style scoped>\n",
       "    .dataframe tbody tr th:only-of-type {\n",
       "        vertical-align: middle;\n",
       "    }\n",
       "\n",
       "    .dataframe tbody tr th {\n",
       "        vertical-align: top;\n",
       "    }\n",
       "\n",
       "    .dataframe thead th {\n",
       "        text-align: right;\n",
       "    }\n",
       "</style>\n",
       "<table border=\"1\" class=\"dataframe\">\n",
       "  <thead>\n",
       "    <tr style=\"text-align: right;\">\n",
       "      <th></th>\n",
       "      <th>Pietra index</th>\n",
       "      <th>KS p_val</th>\n",
       "    </tr>\n",
       "  </thead>\n",
       "  <tbody>\n",
       "    <tr>\n",
       "      <th>Direct tranfer</th>\n",
       "      <td>0.480715</td>\n",
       "      <td>3.766400e-27</td>\n",
       "    </tr>\n",
       "    <tr>\n",
       "      <th>Instance weighting strategy</th>\n",
       "      <td>0.486801</td>\n",
       "      <td>7.124061e-28</td>\n",
       "    </tr>\n",
       "  </tbody>\n",
       "</table>\n",
       "</div>"
      ],
      "text/plain": [
       "                            Pietra index      KS p_val\n",
       "Direct tranfer                  0.480715  3.766400e-27\n",
       "Instance weighting strategy     0.486801  7.124061e-28"
      ]
     },
     "execution_count": 42,
     "metadata": {},
     "output_type": "execute_result"
    }
   ],
   "source": [
    "ks_test_IWS = kstest(df_true_predict_w.loc[df_true_predict_w['y']==0, 'y_pred'], \n",
    "                     df_true_predict_w.loc[df_true_predict_w['y']==1, 'y_pred'])\n",
    "\n",
    "KS_test_comparison(ks_test_direct, ks_test_IWS)"
   ]
  },
  {
   "cell_type": "code",
   "execution_count": 43,
   "id": "6028c16d-e83a-4131-abf8-dc2d0f964662",
   "metadata": {
    "tags": []
   },
   "outputs": [
    {
     "data": {
      "image/png": "[encoded data removed]",
      "text/plain": [
       "<Figure size 640x480 with 1 Axes>"
      ]
     },
     "metadata": {},
     "output_type": "display_data"
    }
   ],
   "source": [
    "plot_KS_CDF(df_true_predict, df_true_predict_w)"
   ]
  },
  {
   "cell_type": "markdown",
   "id": "9905f7e4-ea8e-43d7-9f98-f34becdde8ec",
   "metadata": {},
   "source": [
    "### Realized probability of dropout"
   ]
  },
  {
   "cell_type": "code",
   "execution_count": null,
   "id": "ee2f3244-15d0-43e1-bc0a-1d1d48d5dfab",
   "metadata": {
    "tags": []
   },
   "outputs": [],
   "source": [
    "plot_dropout_rate(\n",
    "    df_true_predict_w, percent_list, names_list,\n",
    "    'Observed probabilty of dropout for students grouped by\\ntheir predicted probability of dropout (Direct transfer)'\n",
    ")"
   ]
  },
  {
   "cell_type": "code",
   "execution_count": null,
   "id": "4427ad42-f9c6-4334-9c71-1957e4327cd8",
   "metadata": {
    "tags": []
   },
   "outputs": [],
   "source": [
    "plot_dropout_rate_two_models(df_true_predict, df_true_predict_w,\n",
    "                             percent_list, names_list)"
   ]
  },
  {
   "cell_type": "markdown",
   "id": "304c8024-2b03-4523-b19e-8e4d45e57cdb",
   "metadata": {},
   "source": [
    "### AUC Confidence interval"
   ]
  },
  {
   "cell_type": "code",
   "execution_count": 46,
   "id": "08571b47-c22a-44ac-902c-765f207cc840",
   "metadata": {
    "tags": []
   },
   "outputs": [],
   "source": [
    "bootstrap_res = bootstrap((df_true_predict_w['y'], df_true_predict_w['y_pred']), \n",
    "                          calc_auc, paired=True, n_resamples=10000,\n",
    "                          method='BCa', confidence_level=0.95, random_state=random_state)"
   ]
  },
  {
   "cell_type": "code",
   "execution_count": 58,
   "id": "878e8684-1802-4ca0-aef7-44ee97cf0bb6",
   "metadata": {
    "tags": []
   },
   "outputs": [
    {
     "data": {
      "image/png": "[encoded data removed]",
      "text/plain": [
       "<Figure size 640x480 with 1 Axes>"
      ]
     },
     "metadata": {},
     "output_type": "display_data"
    }
   ],
   "source": [
    "plt.hist(bootstrap_res.bootstrap_distribution, bins=25, density=True)\n",
    "plt.title('AUC Distribution for Transferred Weighted Source Model')\n",
    "plt.xlabel('AUC')\n",
    "plt.ylabel('pdf');"
   ]
  },
  {
   "cell_type": "code",
   "execution_count": 59,
   "id": "88f4023f-344a-4b3a-b16b-91547a5a844b",
   "metadata": {
    "tags": []
   },
   "outputs": [
    {
     "data": {
      "text/plain": [
       "ConfidenceInterval(low=0.7527090684603299, high=0.8436705844337531)"
      ]
     },
     "execution_count": 59,
     "metadata": {},
     "output_type": "execute_result"
    }
   ],
   "source": [
    "auc_w_conf_int = bootstrap_res.confidence_interval\n",
    "auc_w_conf_int"
   ]
  },
  {
   "cell_type": "code",
   "execution_count": 60,
   "id": "abfa7988-abcb-4018-91f0-8c80cddef219",
   "metadata": {
    "tags": []
   },
   "outputs": [
    {
     "data": {
      "text/plain": [
       "0.09096151597342317"
      ]
     },
     "execution_count": 60,
     "metadata": {},
     "output_type": "execute_result"
    }
   ],
   "source": [
    "auc_w_conf_int[1] - auc_w_conf_int[0]"
   ]
  },
  {
   "cell_type": "markdown",
   "id": "08747931-715f-4b67-8e5d-bc946331dd48",
   "metadata": {},
   "source": [
    "## Fairness metrics"
   ]
  },
  {
   "cell_type": "markdown",
   "id": "fdb10914-845b-43a1-9b18-18bccba1ab3f",
   "metadata": {},
   "source": [
    "### Sliced AUCs"
   ]
  },
  {
   "cell_type": "code",
   "execution_count": 61,
   "id": "d550d430-2ebf-4eb4-a368-562b5f7b0497",
   "metadata": {
    "tags": []
   },
   "outputs": [],
   "source": [
    "sliced_auc_IWS = sliced_auc(df_true_predict_w['y'], \n",
    "                            df_true_predict_w['y_pred'],\n",
    "                            ['STDNT_ETHNC_grouped', 'STDNT_FEMALE'], \n",
    "                            target_df)"
   ]
  },
  {
   "cell_type": "code",
   "execution_count": 62,
   "id": "50aca6b0-3167-4a42-8574-f7681f96eaad",
   "metadata": {
    "tags": []
   },
   "outputs": [
    {
     "data": {
      "text/html": [
       "<div>\n",
       "<style scoped>\n",
       "    .dataframe tbody tr th:only-of-type {\n",
       "        vertical-align: middle;\n",
       "    }\n",
       "\n",
       "    .dataframe tbody tr th {\n",
       "        vertical-align: top;\n",
       "    }\n",
       "\n",
       "    .dataframe thead th {\n",
       "        text-align: right;\n",
       "    }\n",
       "</style>\n",
       "<table border=\"1\" class=\"dataframe\">\n",
       "  <thead>\n",
       "    <tr style=\"text-align: right;\">\n",
       "      <th></th>\n",
       "      <th>Attribute</th>\n",
       "      <th>Value</th>\n",
       "      <th>AUC_IWS</th>\n",
       "      <th>AUC_direct</th>\n",
       "    </tr>\n",
       "  </thead>\n",
       "  <tbody>\n",
       "    <tr>\n",
       "      <th>0</th>\n",
       "      <td>STDNT_ETHNC_grouped</td>\n",
       "      <td>1</td>\n",
       "      <td>0.722827</td>\n",
       "      <td>0.740862</td>\n",
       "    </tr>\n",
       "    <tr>\n",
       "      <th>1</th>\n",
       "      <td>STDNT_ETHNC_grouped</td>\n",
       "      <td>0</td>\n",
       "      <td>0.856564</td>\n",
       "      <td>0.854464</td>\n",
       "    </tr>\n",
       "    <tr>\n",
       "      <th>2</th>\n",
       "      <td>STDNT_ETHNC_grouped</td>\n",
       "      <td>2</td>\n",
       "      <td>0.810183</td>\n",
       "      <td>0.787652</td>\n",
       "    </tr>\n",
       "    <tr>\n",
       "      <th>3</th>\n",
       "      <td>STDNT_FEMALE</td>\n",
       "      <td>0</td>\n",
       "      <td>0.797214</td>\n",
       "      <td>0.783214</td>\n",
       "    </tr>\n",
       "    <tr>\n",
       "      <th>4</th>\n",
       "      <td>STDNT_FEMALE</td>\n",
       "      <td>1</td>\n",
       "      <td>0.80493</td>\n",
       "      <td>0.80577</td>\n",
       "    </tr>\n",
       "  </tbody>\n",
       "</table>\n",
       "</div>"
      ],
      "text/plain": [
       "             Attribute Value   AUC_IWS AUC_direct\n",
       "0  STDNT_ETHNC_grouped     1  0.722827   0.740862\n",
       "1  STDNT_ETHNC_grouped     0  0.856564   0.854464\n",
       "2  STDNT_ETHNC_grouped     2  0.810183   0.787652\n",
       "3         STDNT_FEMALE     0  0.797214   0.783214\n",
       "4         STDNT_FEMALE     1   0.80493    0.80577"
      ]
     },
     "execution_count": 62,
     "metadata": {},
     "output_type": "execute_result"
    }
   ],
   "source": [
    "sliced_auc_IWS.merge(sliced_auc_direct, on=['Attribute', 'Value'], suffixes=('_IWS', '_direct')) "
   ]
  },
  {
   "cell_type": "markdown",
   "id": "e7366307-4bbd-4095-a3e0-a29d6a266bbe",
   "metadata": {},
   "source": [
    "### Equal opportunity difference"
   ]
  },
  {
   "cell_type": "code",
   "execution_count": 63,
   "id": "6b723b57-d640-4fc8-a667-3a029b77d5a0",
   "metadata": {
    "tags": []
   },
   "outputs": [],
   "source": [
    "equal_opport_IWS = fairn_metrics(df_true_predict_w['y'], \n",
    "                                 df_true_predict_w['y_pred'], \n",
    "                                 attribites_dic, target_df, threshold)"
   ]
  },
  {
   "cell_type": "code",
   "execution_count": 64,
   "id": "2c633390-4112-4d56-9e41-48873605cb17",
   "metadata": {
    "tags": []
   },
   "outputs": [
    {
     "data": {
      "text/html": [
       "<div>\n",
       "<style scoped>\n",
       "    .dataframe tbody tr th:only-of-type {\n",
       "        vertical-align: middle;\n",
       "    }\n",
       "\n",
       "    .dataframe tbody tr th {\n",
       "        vertical-align: top;\n",
       "    }\n",
       "\n",
       "    .dataframe thead th {\n",
       "        text-align: right;\n",
       "    }\n",
       "</style>\n",
       "<table border=\"1\" class=\"dataframe\">\n",
       "  <thead>\n",
       "    <tr style=\"text-align: right;\">\n",
       "      <th></th>\n",
       "      <th>Attribute</th>\n",
       "      <th>Value</th>\n",
       "      <th>thresh_10%_IWS</th>\n",
       "      <th>thresh_10%_direct</th>\n",
       "    </tr>\n",
       "  </thead>\n",
       "  <tbody>\n",
       "    <tr>\n",
       "      <th>0</th>\n",
       "      <td>STDNT_ETHNC_grouped</td>\n",
       "      <td>1</td>\n",
       "      <td>-0.297669</td>\n",
       "      <td>-0.411017</td>\n",
       "    </tr>\n",
       "    <tr>\n",
       "      <th>1</th>\n",
       "      <td>STDNT_ETHNC_grouped</td>\n",
       "      <td>0</td>\n",
       "      <td>0</td>\n",
       "      <td>0</td>\n",
       "    </tr>\n",
       "    <tr>\n",
       "      <th>2</th>\n",
       "      <td>STDNT_ETHNC_grouped</td>\n",
       "      <td>2</td>\n",
       "      <td>0.056497</td>\n",
       "      <td>0.033427</td>\n",
       "    </tr>\n",
       "    <tr>\n",
       "      <th>3</th>\n",
       "      <td>STDNT_FEMALE</td>\n",
       "      <td>0</td>\n",
       "      <td>0</td>\n",
       "      <td>0</td>\n",
       "    </tr>\n",
       "    <tr>\n",
       "      <th>4</th>\n",
       "      <td>STDNT_FEMALE</td>\n",
       "      <td>1</td>\n",
       "      <td>0.000704</td>\n",
       "      <td>0.069669</td>\n",
       "    </tr>\n",
       "  </tbody>\n",
       "</table>\n",
       "</div>"
      ],
      "text/plain": [
       "             Attribute Value thresh_10%_IWS thresh_10%_direct\n",
       "0  STDNT_ETHNC_grouped     1      -0.297669         -0.411017\n",
       "1  STDNT_ETHNC_grouped     0              0                 0\n",
       "2  STDNT_ETHNC_grouped     2       0.056497          0.033427\n",
       "3         STDNT_FEMALE     0              0                 0\n",
       "4         STDNT_FEMALE     1       0.000704          0.069669"
      ]
     },
     "execution_count": 64,
     "metadata": {},
     "output_type": "execute_result"
    }
   ],
   "source": [
    "equal_opport_IWS.merge(equal_opport_direct, on=['Attribute', 'Value'], suffixes=('_IWS', '_direct'))   "
   ]
  },
  {
   "cell_type": "markdown",
   "id": "29be89b0-73d7-4996-8b20-068d94a77b60",
   "metadata": {},
   "source": [
    "### Generalized entropy index"
   ]
  },
  {
   "cell_type": "code",
   "execution_count": 65,
   "id": "c05827c8-14fb-4f27-833f-80ebbe9ede04",
   "metadata": {
    "tags": []
   },
   "outputs": [],
   "source": [
    "gen_entropy_IWS = gen_entropy_index(2, df_true_predict_w, \n",
    "                                    target_df['STDNT_ETHNC_grouped'], \n",
    "                                    calc_educ_benefits,\n",
    "                                    threshold[0])"
   ]
  },
  {
   "cell_type": "code",
   "execution_count": 66,
   "id": "f5d32528-72e0-4a4f-a7b4-5a75d6909e65",
   "metadata": {
    "tags": []
   },
   "outputs": [
    {
     "data": {
      "text/html": [
       "<div>\n",
       "<style scoped>\n",
       "    .dataframe tbody tr th:only-of-type {\n",
       "        vertical-align: middle;\n",
       "    }\n",
       "\n",
       "    .dataframe tbody tr th {\n",
       "        vertical-align: top;\n",
       "    }\n",
       "\n",
       "    .dataframe thead th {\n",
       "        text-align: right;\n",
       "    }\n",
       "</style>\n",
       "<table border=\"1\" class=\"dataframe\">\n",
       "  <thead>\n",
       "    <tr style=\"text-align: right;\">\n",
       "      <th></th>\n",
       "      <th>Generalized entropy</th>\n",
       "      <th>Between groups entropy</th>\n",
       "    </tr>\n",
       "  </thead>\n",
       "  <tbody>\n",
       "    <tr>\n",
       "      <th>Direct tranfer</th>\n",
       "      <td>0.381944</td>\n",
       "      <td>0.05294</td>\n",
       "    </tr>\n",
       "    <tr>\n",
       "      <th>Instance weighting strategy</th>\n",
       "      <td>0.407143</td>\n",
       "      <td>0.032507</td>\n",
       "    </tr>\n",
       "  </tbody>\n",
       "</table>\n",
       "</div>"
      ],
      "text/plain": [
       "                            Generalized entropy Between groups entropy\n",
       "Direct tranfer                         0.381944                0.05294\n",
       "Instance weighting strategy            0.407143               0.032507"
      ]
     },
     "execution_count": 66,
     "metadata": {},
     "output_type": "execute_result"
    }
   ],
   "source": [
    "gen_entropy_comparison(gen_entropy_direct, gen_entropy_IWS)"
   ]
  },
  {
   "cell_type": "markdown",
   "id": "8c9af5ef-0c7f-4e3e-9550-9f2c1fc2f196",
   "metadata": {},
   "source": [
    "### Generalized entropy index that takes into account the risk ranks of students"
   ]
  },
  {
   "cell_type": "code",
   "execution_count": 67,
   "id": "126d2d20-6ab6-4c3c-ab1a-11b95a4372ad",
   "metadata": {
    "tags": []
   },
   "outputs": [],
   "source": [
    "gen_entropy_ranks_IWS = gen_entropy_index(2, df_true_predict_w, \n",
    "                                          target_df['STDNT_ETHNC_grouped'], \n",
    "                                          calc_educ_rank_benefits, \n",
    "                                          rank_thresholds)"
   ]
  },
  {
   "cell_type": "code",
   "execution_count": 68,
   "id": "f77ba059-b7e5-48a4-b67a-46d407dc845f",
   "metadata": {
    "tags": []
   },
   "outputs": [
    {
     "data": {
      "text/html": [
       "<div>\n",
       "<style scoped>\n",
       "    .dataframe tbody tr th:only-of-type {\n",
       "        vertical-align: middle;\n",
       "    }\n",
       "\n",
       "    .dataframe tbody tr th {\n",
       "        vertical-align: top;\n",
       "    }\n",
       "\n",
       "    .dataframe thead th {\n",
       "        text-align: right;\n",
       "    }\n",
       "</style>\n",
       "<table border=\"1\" class=\"dataframe\">\n",
       "  <thead>\n",
       "    <tr style=\"text-align: right;\">\n",
       "      <th></th>\n",
       "      <th>Generalized entropy</th>\n",
       "      <th>Between groups entropy</th>\n",
       "    </tr>\n",
       "  </thead>\n",
       "  <tbody>\n",
       "    <tr>\n",
       "      <th>Direct tranfer</th>\n",
       "      <td>0.541588</td>\n",
       "      <td>0.043536</td>\n",
       "    </tr>\n",
       "    <tr>\n",
       "      <th>Instance weighting strategy</th>\n",
       "      <td>0.558049</td>\n",
       "      <td>0.033872</td>\n",
       "    </tr>\n",
       "  </tbody>\n",
       "</table>\n",
       "</div>"
      ],
      "text/plain": [
       "                            Generalized entropy Between groups entropy\n",
       "Direct tranfer                         0.541588               0.043536\n",
       "Instance weighting strategy            0.558049               0.033872"
      ]
     },
     "execution_count": 68,
     "metadata": {},
     "output_type": "execute_result"
    }
   ],
   "source": [
    "gen_entropy_comparison(gen_entropy_ranks_direct, gen_entropy_ranks_IWS)"
   ]
  }
 ],
 "metadata": {
  "kernelspec": {
   "display_name": "sklearn-env",
   "language": "python",
   "name": "sklearn-env"
  },
  "language_info": {
   "codemirror_mode": {
    "name": "ipython",
    "version": 3
   },
   "file_extension": ".py",
   "mimetype": "text/x-python",
   "name": "python",
   "nbconvert_exporter": "python",
   "pygments_lexer": "ipython3",
   "version": "3.11.0"
  }
 },
 "nbformat": 4,
 "nbformat_minor": 5
}

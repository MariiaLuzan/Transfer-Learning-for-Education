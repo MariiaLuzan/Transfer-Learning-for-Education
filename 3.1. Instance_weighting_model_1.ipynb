{
 "cells": [
  {
   "cell_type": "markdown",
   "id": "1dca047e-9cc0-4ebb-b62e-39e2dc3d9391",
   "metadata": {},
   "source": [
    "# Instance Weighting Transfer Learning ULSA -> UENG\n",
    "# Model 1"
   ]
  },
  {
   "cell_type": "code",
   "execution_count": 1,
   "id": "3f642cc3-6108-4f4f-925b-6aa3f7bc7830",
   "metadata": {
    "tags": []
   },
   "outputs": [],
   "source": [
    "import time\n",
    "import pandas as pd\n",
    "import numpy as np\n",
    "import matplotlib.pyplot as plt\n",
    "from sklearn.preprocessing import StandardScaler\n",
    "from sklearn.linear_model import LogisticRegression\n",
    "from sklearn.metrics import roc_auc_score\n",
    "from sklearn.metrics import roc_curve\n",
    "from sklearn.base import clone\n",
    "from scipy.stats import bootstrap\n",
    "from scipy.stats import kstest"
   ]
  },
  {
   "cell_type": "code",
   "execution_count": 2,
   "id": "07901337-1e7e-4ab0-b3a6-4f5d6f9d0a06",
   "metadata": {
    "tags": []
   },
   "outputs": [],
   "source": [
    "from cvxopt import matrix\n",
    "from cvxopt import solvers"
   ]
  },
  {
   "cell_type": "code",
   "execution_count": 3,
   "id": "1337a168-b811-461b-b09a-c316e0afaeb2",
   "metadata": {
    "tags": []
   },
   "outputs": [],
   "source": [
    "from transformers.features_missing_vals import imputation_pipeline\n",
    "from transformers.ethnic_groups import CombineEthnicGroups"
   ]
  },
  {
   "cell_type": "code",
   "execution_count": 4,
   "id": "613e76d1-aedc-41a3-9999-4026ccc5fd0b",
   "metadata": {
    "tags": []
   },
   "outputs": [],
   "source": [
    "# CVXOPT\n",
    "from transfer_learning.cvxopt_input import get_cvxopt_input\n",
    "from transfer_learning.transfer_learning import transfer_learning\n",
    "from transfer_learning.length_scale import calc_kernels_for_l"
   ]
  },
  {
   "cell_type": "code",
   "execution_count": 6,
   "id": "3cd61eb3-2530-4b0a-876b-2f697b1a2976",
   "metadata": {
    "tags": []
   },
   "outputs": [],
   "source": [
    "from model_evaluation.metrics import calc_y_mean\n",
    "from model_evaluation.metrics import plot_roc_curves\n",
    "from model_evaluation.metrics import KS_test_comparison, plot_KS_CDF\n",
    "from model_evaluation.metrics import plot_dropout_rate, plot_dropout_rate_two_models\n",
    "from model_evaluation.metrics import gen_entropy_comparison\n",
    "from fairness.fairness_metrics import sliced_auc, fairn_metrics\n",
    "from fairness.customized_entropy import calc_educ_benefits\n",
    "from fairness.customized_entropy import calc_educ_rank_benefits\n",
    "from fairness.customized_entropy import gen_entropy_index"
   ]
  },
  {
   "cell_type": "markdown",
   "id": "40ab10a9-2f64-4f36-877d-a361218804e3",
   "metadata": {},
   "source": [
    "# Params"
   ]
  },
  {
   "cell_type": "code",
   "execution_count": 7,
   "id": "51fee72b-d1f2-4ccf-a8f1-916b63038f3a",
   "metadata": {
    "tags": []
   },
   "outputs": [],
   "source": [
    "source_school = 'ULSA'\n",
    "target_school = 'UENG'"
   ]
  },
  {
   "cell_type": "code",
   "execution_count": 8,
   "id": "ab3970c3-4426-4670-b31d-c2dc576af188",
   "metadata": {
    "tags": []
   },
   "outputs": [],
   "source": [
    "# Model features\n",
    "cols = ['STDNT_FEMALE',\n",
    "        'HS_GPA_BIN',\n",
    "        'CURR_GPA',\n",
    "        'HS_CALC_IND',\n",
    "        'SNGL_PRNT_IND',\n",
    "        'STDNT_ASIAN_IND',\n",
    "        'STDNT_BLACK_IND',\n",
    "        'STDNT_HSPNC_IND',\n",
    "        'STDNT_NTV_AMRCN_HWIAN_IND',\n",
    "        'STDNT_MULTI_ETHNC_IND',\n",
    "        'STDNT_ETHNC_NAN',\n",
    "        'SAT_ACT_TOTAL_BIN',\n",
    "        'ACAD_LOAD',\n",
    "        'No_grades_at_all',\n",
    "        'Grade_Overall_I_for_1_and_more_courses',\n",
    "        'Grade_W_for_1_course',\n",
    "        'Grade_W_for_2_courses',\n",
    "        'Grade_W_for_3_and_more_courses',\n",
    "        'Grade_NR_for_1_and_more_courses']"
   ]
  },
  {
   "cell_type": "code",
   "execution_count": 9,
   "id": "0fc0801a-51ba-4fa9-ac32-1ffd0ee800ec",
   "metadata": {
    "tags": []
   },
   "outputs": [],
   "source": [
    "random_state = 1"
   ]
  },
  {
   "cell_type": "code",
   "execution_count": 10,
   "id": "82201ef8-ea87-4f2c-889e-8c62d309a588",
   "metadata": {
    "tags": []
   },
   "outputs": [],
   "source": [
    "clf = LogisticRegression(penalty=None, random_state=random_state, max_iter=10000)"
   ]
  },
  {
   "cell_type": "code",
   "execution_count": 11,
   "id": "053cf3a2-f62e-4e84-acf1-92f522df582f",
   "metadata": {
    "tags": []
   },
   "outputs": [],
   "source": [
    "# Parameters for fairness metrics\n",
    "\n",
    "# Priviledged values of attributes\n",
    "attribites_dic = {\n",
    "    'STDNT_ETHNC_grouped': 0, # white\n",
    "    'STDNT_FEMALE': 0 # male\n",
    "    }\n",
    "\n",
    "# The threshold for intervention is based on the percentile of predicted dropout probabilities, \n",
    "# specifically targeting the top 10% of students with the highest dropout probabilities\n",
    "threshold=[10]\n",
    "\n",
    "# Percentile values of predicted dropout probabilities that determine the risk ranking of a student\n",
    "rank_thresholds = [90, 95, 97, 99, 99.5]"
   ]
  },
  {
   "cell_type": "markdown",
   "id": "0c11bdde-29a4-4450-9887-d0c487b4de44",
   "metadata": {},
   "source": [
    "# Data"
   ]
  },
  {
   "cell_type": "code",
   "execution_count": 12,
   "id": "ddd36fdf-f143-4d4f-aab0-8f5f1516592e",
   "metadata": {
    "tags": []
   },
   "outputs": [],
   "source": [
    "features_df = pd.read_csv('features_df.csv', low_memory=False)\n",
    "source_df = features_df[features_df['PRMRY_CRER_CD']==source_school].copy()\n",
    "target_df = features_df[features_df['PRMRY_CRER_CD']==target_school].copy()"
   ]
  },
  {
   "cell_type": "code",
   "execution_count": null,
   "id": "932a917f-81ef-4026-99a4-3ba6baa7ceac",
   "metadata": {
    "tags": []
   },
   "outputs": [],
   "source": [
    "# Group together all ethnic groups, excluding white and asian populations, as they lack a sufficient \n",
    "# number of dropouts for a meaningful fairness analysis\n",
    "\n",
    "# Add new column 'STDNT_ETHNC_grouped' with the following values: 0 for white, 1 for asian, and 2 for other\n",
    "combine_transformer = CombineEthnicGroups()\n",
    "target_df = combine_transformer.fit_transform(target_df)\n",
    "\n",
    "target_df.groupby('STDNT_ETHNC_grouped')[['y_ENROLLED_1_YEAR_LATER']].agg(['count', 'sum'])"
   ]
  },
  {
   "cell_type": "code",
   "execution_count": 14,
   "id": "6c3d4aa7-720b-423c-97b6-4499531a551b",
   "metadata": {
    "tags": []
   },
   "outputs": [],
   "source": [
    "# Imputation of missing values and applying WoE transformation\n",
    "source_df = combine_transformer.fit_transform(source_df)\n",
    "source_imp = imputation_pipeline.fit_transform(source_df, source_df['y_ENROLLED_1_YEAR_LATER'])\n",
    "target_imp = imputation_pipeline.transform(target_df)"
   ]
  },
  {
   "cell_type": "code",
   "execution_count": 15,
   "id": "26c009ec-6cf5-4463-90c0-939bc7803173",
   "metadata": {
    "tags": []
   },
   "outputs": [
    {
     "data": {
      "text/html": [
       "<style>#sk-container-id-1 {color: black;background-color: white;}#sk-container-id-1 pre{padding: 0;}#sk-container-id-1 div.sk-toggleable {background-color: white;}#sk-container-id-1 label.sk-toggleable__label {cursor: pointer;display: block;width: 100%;margin-bottom: 0;padding: 0.3em;box-sizing: border-box;text-align: center;}#sk-container-id-1 label.sk-toggleable__label-arrow:before {content: \"▸\";float: left;margin-right: 0.25em;color: #696969;}#sk-container-id-1 label.sk-toggleable__label-arrow:hover:before {color: black;}#sk-container-id-1 div.sk-estimator:hover label.sk-toggleable__label-arrow:before {color: black;}#sk-container-id-1 div.sk-toggleable__content {max-height: 0;max-width: 0;overflow: hidden;text-align: left;background-color: #f0f8ff;}#sk-container-id-1 div.sk-toggleable__content pre {margin: 0.2em;color: black;border-radius: 0.25em;background-color: #f0f8ff;}#sk-container-id-1 input.sk-toggleable__control:checked~div.sk-toggleable__content {max-height: 200px;max-width: 100%;overflow: auto;}#sk-container-id-1 input.sk-toggleable__control:checked~label.sk-toggleable__label-arrow:before {content: \"▾\";}#sk-container-id-1 div.sk-estimator input.sk-toggleable__control:checked~label.sk-toggleable__label {background-color: #d4ebff;}#sk-container-id-1 div.sk-label input.sk-toggleable__control:checked~label.sk-toggleable__label {background-color: #d4ebff;}#sk-container-id-1 input.sk-hidden--visually {border: 0;clip: rect(1px 1px 1px 1px);clip: rect(1px, 1px, 1px, 1px);height: 1px;margin: -1px;overflow: hidden;padding: 0;position: absolute;width: 1px;}#sk-container-id-1 div.sk-estimator {font-family: monospace;background-color: #f0f8ff;border: 1px dotted black;border-radius: 0.25em;box-sizing: border-box;margin-bottom: 0.5em;}#sk-container-id-1 div.sk-estimator:hover {background-color: #d4ebff;}#sk-container-id-1 div.sk-parallel-item::after {content: \"\";width: 100%;border-bottom: 1px solid gray;flex-grow: 1;}#sk-container-id-1 div.sk-label:hover label.sk-toggleable__label {background-color: #d4ebff;}#sk-container-id-1 div.sk-serial::before {content: \"\";position: absolute;border-left: 1px solid gray;box-sizing: border-box;top: 0;bottom: 0;left: 50%;z-index: 0;}#sk-container-id-1 div.sk-serial {display: flex;flex-direction: column;align-items: center;background-color: white;padding-right: 0.2em;padding-left: 0.2em;position: relative;}#sk-container-id-1 div.sk-item {position: relative;z-index: 1;}#sk-container-id-1 div.sk-parallel {display: flex;align-items: stretch;justify-content: center;background-color: white;position: relative;}#sk-container-id-1 div.sk-item::before, #sk-container-id-1 div.sk-parallel-item::before {content: \"\";position: absolute;border-left: 1px solid gray;box-sizing: border-box;top: 0;bottom: 0;left: 50%;z-index: -1;}#sk-container-id-1 div.sk-parallel-item {display: flex;flex-direction: column;z-index: 1;position: relative;background-color: white;}#sk-container-id-1 div.sk-parallel-item:first-child::after {align-self: flex-end;width: 50%;}#sk-container-id-1 div.sk-parallel-item:last-child::after {align-self: flex-start;width: 50%;}#sk-container-id-1 div.sk-parallel-item:only-child::after {width: 0;}#sk-container-id-1 div.sk-dashed-wrapped {border: 1px dashed gray;margin: 0 0.4em 0.5em 0.4em;box-sizing: border-box;padding-bottom: 0.4em;background-color: white;}#sk-container-id-1 div.sk-label label {font-family: monospace;font-weight: bold;display: inline-block;line-height: 1.2em;}#sk-container-id-1 div.sk-label-container {text-align: center;}#sk-container-id-1 div.sk-container {/* jupyter's `normalize.less` sets `[hidden] { display: none; }` but bootstrap.min.css set `[hidden] { display: none !important; }` so we also need the `!important` here to be able to override the default hidden behavior on the sphinx rendered scikit-learn.org. See: https://github.com/scikit-learn/scikit-learn/issues/21755 */display: inline-block !important;position: relative;}#sk-container-id-1 div.sk-text-repr-fallback {display: none;}</style><div id=\"sk-container-id-1\" class=\"sk-top-container\"><div class=\"sk-text-repr-fallback\"><pre>StandardScaler()</pre><b>In a Jupyter environment, please rerun this cell to show the HTML representation or trust the notebook. <br />On GitHub, the HTML representation is unable to render, please try loading this page with nbviewer.org.</b></div><div class=\"sk-container\" hidden><div class=\"sk-item\"><div class=\"sk-estimator sk-toggleable\"><input class=\"sk-toggleable__control sk-hidden--visually\" id=\"sk-estimator-id-1\" type=\"checkbox\" checked><label for=\"sk-estimator-id-1\" class=\"sk-toggleable__label sk-toggleable__label-arrow\">StandardScaler</label><div class=\"sk-toggleable__content\"><pre>StandardScaler()</pre></div></div></div></div></div>"
      ],
      "text/plain": [
       "StandardScaler()"
      ]
     },
     "execution_count": 15,
     "metadata": {},
     "output_type": "execute_result"
    }
   ],
   "source": [
    "scaler = StandardScaler()\n",
    "scaler.fit(source_imp[cols])"
   ]
  },
  {
   "cell_type": "code",
   "execution_count": 16,
   "id": "af43c3b8-0a08-49ee-bd4b-de6135818f0d",
   "metadata": {
    "tags": []
   },
   "outputs": [],
   "source": [
    "X_source = scaler.transform(source_imp[cols])\n",
    "X_target = scaler.transform(target_imp[cols])"
   ]
  },
  {
   "cell_type": "markdown",
   "id": "96777686-9e41-478c-ac76-213c58e6a4d2",
   "metadata": {},
   "source": [
    "## Data distribution for protected attributes"
   ]
  },
  {
   "cell_type": "code",
   "execution_count": null,
   "id": "d7e6701f-0228-4b9a-a151-e07592f4c0d9",
   "metadata": {
    "tags": []
   },
   "outputs": [],
   "source": [
    "# Female\n",
    "target_df.groupby('STDNT_FEMALE')[['y_ENROLLED_1_YEAR_LATER']].agg(['count', 'sum'])"
   ]
  },
  {
   "cell_type": "code",
   "execution_count": null,
   "id": "91da00c9-38a3-4558-8782-9cdeba3339e7",
   "metadata": {
    "tags": []
   },
   "outputs": [],
   "source": [
    "# International students\n",
    "target_df.groupby('STDNT_INTL_IND')[['y_ENROLLED_1_YEAR_LATER']].agg(['count', 'sum'])"
   ]
  },
  {
   "cell_type": "code",
   "execution_count": null,
   "id": "265a2f81-4f3e-4594-9d55-03e6554bbe7c",
   "metadata": {
    "tags": []
   },
   "outputs": [],
   "source": [
    "# Race\n",
    "dic = {1: 'White', 2: 'Black', 3: 'Hispanic', \n",
    "       4: 'Asian', 5: 'Native Amr', 6: 'Not Indic', \n",
    "       7: 'Hawaiian', 0: '2 or More'}\n",
    "target_df.groupby('STDNT_ETHNC_GRP_CD')[['y_ENROLLED_1_YEAR_LATER']].agg(['count', 'sum'])"
   ]
  },
  {
   "cell_type": "markdown",
   "id": "e9d8c83a-cb3b-4a61-85fe-ddeae809f91f",
   "metadata": {},
   "source": [
    "# Direct transfer"
   ]
  },
  {
   "cell_type": "markdown",
   "id": "44ebef21-9b9a-4f92-a9db-207cef58832f",
   "metadata": {},
   "source": [
    "## Fitting the source model"
   ]
  },
  {
   "cell_type": "code",
   "execution_count": 20,
   "id": "6bdc1c25-a05c-4c78-894d-aba4f7198448",
   "metadata": {
    "tags": []
   },
   "outputs": [
    {
     "data": {
      "text/plain": [
       "0.7933412954905419"
      ]
     },
     "execution_count": 20,
     "metadata": {},
     "output_type": "execute_result"
    }
   ],
   "source": [
    "clf_source = clone(clf)\n",
    "\n",
    "y = source_imp['y_ENROLLED_1_YEAR_LATER']\n",
    "\n",
    "clf_source.fit(X_source, y)\n",
    "\n",
    "y_pred = clf_source.predict_proba(X_source)\n",
    "auc_source_train = roc_auc_score(y, y_pred[:,1])\n",
    "auc_source_train"
   ]
  },
  {
   "cell_type": "markdown",
   "id": "7fe94fcf-71f0-44fd-ab44-d3eeff6419cb",
   "metadata": {},
   "source": [
    "## Direct source model transfer (without weighting)"
   ]
  },
  {
   "cell_type": "code",
   "execution_count": 21,
   "id": "899d0c9f-2ba0-42e2-b173-24a926b7a116",
   "metadata": {
    "tags": []
   },
   "outputs": [],
   "source": [
    "y_pred = clf_source.predict_proba(X_target)"
   ]
  },
  {
   "cell_type": "code",
   "execution_count": 22,
   "id": "ea35713c-fbba-4208-a8ba-a7cc1f3162d9",
   "metadata": {
    "tags": []
   },
   "outputs": [],
   "source": [
    "# DataFrame containing true and predicted y\n",
    "df_true_predict = pd.DataFrame(data={'y': target_imp['y_ENROLLED_1_YEAR_LATER'], 'y_pred': y_pred[:,1]})"
   ]
  },
  {
   "cell_type": "markdown",
   "id": "d7428c6c-eaea-4c3b-b5cf-fe44eb7979ac",
   "metadata": {},
   "source": [
    "## Classification accuracy"
   ]
  },
  {
   "cell_type": "markdown",
   "id": "d91899ab-db41-41d1-84eb-7f885e949e35",
   "metadata": {},
   "source": [
    "### AUC ROC"
   ]
  },
  {
   "cell_type": "code",
   "execution_count": 23,
   "id": "30ea27b4-8bb4-43b7-9a2d-339768bbed37",
   "metadata": {
    "tags": []
   },
   "outputs": [
    {
     "data": {
      "text/plain": [
       "0.7808228185103911"
      ]
     },
     "execution_count": 23,
     "metadata": {},
     "output_type": "execute_result"
    }
   ],
   "source": [
    "auc_direct = roc_auc_score(df_true_predict['y'], df_true_predict['y_pred'])\n",
    "auc_direct"
   ]
  },
  {
   "cell_type": "code",
   "execution_count": 24,
   "id": "ea064832-3381-402c-bfaf-03120f50d04d",
   "metadata": {
    "tags": []
   },
   "outputs": [],
   "source": [
    "# ROC curve\n",
    "fpr, tpr, thresholds = roc_curve(df_true_predict['y'], df_true_predict['y_pred'], pos_label=1)"
   ]
  },
  {
   "cell_type": "markdown",
   "id": "fb45d874-024d-40be-9848-f0a67778e665",
   "metadata": {},
   "source": [
    "### Pietra Index and Kolmogorov-Smirnov test"
   ]
  },
  {
   "cell_type": "code",
   "execution_count": 25,
   "id": "6e636ddb-f516-4281-a887-397c4a244fd2",
   "metadata": {
    "tags": []
   },
   "outputs": [
    {
     "data": {
      "text/plain": [
       "KstestResult(statistic=0.47627388021169487, pvalue=1.249983399554659e-26, statistic_location=0.012838414990417582, statistic_sign=1)"
      ]
     },
     "execution_count": 25,
     "metadata": {},
     "output_type": "execute_result"
    }
   ],
   "source": [
    "ks_test_direct = kstest(df_true_predict.loc[df_true_predict['y']==0, 'y_pred'], \n",
    "                        df_true_predict.loc[df_true_predict['y']==1, 'y_pred'])\n",
    "ks_test_direct"
   ]
  },
  {
   "cell_type": "markdown",
   "id": "bf77337c-16ac-49f3-ac17-2f291ca45d1e",
   "metadata": {},
   "source": [
    "### Realized probability of dropout"
   ]
  },
  {
   "cell_type": "code",
   "execution_count": 26,
   "id": "06a9845b-3e27-4fe1-828e-9734453e0828",
   "metadata": {
    "tags": []
   },
   "outputs": [],
   "source": [
    "percent_list = [0, 20, 40, 60, 80, 90, 95, 97, 99, 99.5, 100]\n",
    "names_list = ['0-\\n20', '20-\\n40', '40-\\n60', '60-\\n80', '80-\\n90', '90-\\n95', '95-\\n97', '97-\\n99', '99-\\n99.5', '99.5-\\n100']"
   ]
  },
  {
   "cell_type": "code",
   "execution_count": null,
   "id": "d05adde3-0a19-4dd1-a1d0-42ddf326825c",
   "metadata": {
    "tags": []
   },
   "outputs": [],
   "source": [
    "plot_dropout_rate(\n",
    "    df_true_predict, percent_list, names_list,\n",
    "    'Observed probabilty of dropout for students grouped by\\ntheir predicted probability of dropout (Direct transfer)'\n",
    ")"
   ]
  },
  {
   "cell_type": "markdown",
   "id": "4dd5b201-5224-424b-a6a7-e91a0703ab09",
   "metadata": {
    "tags": []
   },
   "source": [
    "### AUC Confidence Interval"
   ]
  },
  {
   "cell_type": "code",
   "execution_count": 28,
   "id": "66145850-f7f8-46e5-9716-5ad0fb0421cb",
   "metadata": {
    "tags": []
   },
   "outputs": [],
   "source": [
    "def calc_auc(y, y_pred):\n",
    "    auc = roc_auc_score(y, y_pred)\n",
    "    return auc"
   ]
  },
  {
   "cell_type": "code",
   "execution_count": 29,
   "id": "5961ad39-1021-4086-92dc-64f779496fba",
   "metadata": {
    "tags": []
   },
   "outputs": [],
   "source": [
    "bootstrap_res = bootstrap((df_true_predict['y'], df_true_predict['y_pred']), \n",
    "                          calc_auc, paired=True, n_resamples=10000,\n",
    "                          method='BCa', confidence_level=0.95, random_state=random_state)"
   ]
  },
  {
   "cell_type": "code",
   "execution_count": 30,
   "id": "91b36011-3c9e-4381-95cb-0a756aa80500",
   "metadata": {
    "tags": []
   },
   "outputs": [
    {
     "data": {
      "image/png": "[encoded data removed]",
      "text/plain": [
       "<Figure size 640x480 with 1 Axes>"
      ]
     },
     "metadata": {},
     "output_type": "display_data"
    }
   ],
   "source": [
    "plt.hist(bootstrap_res.bootstrap_distribution, bins=25, density=True)\n",
    "plt.title('AUC Distribution for Direct Transfer')\n",
    "plt.xlabel('AUC')\n",
    "plt.ylabel('pdf');"
   ]
  },
  {
   "cell_type": "code",
   "execution_count": 31,
   "id": "ec098b1f-e454-4784-93dc-a97d1af5cf7c",
   "metadata": {
    "tags": []
   },
   "outputs": [
    {
     "data": {
      "text/plain": [
       "ConfidenceInterval(low=0.7288679358548573, high=0.8268808205429621)"
      ]
     },
     "execution_count": 31,
     "metadata": {},
     "output_type": "execute_result"
    }
   ],
   "source": [
    "auc_conf_int = bootstrap_res.confidence_interval\n",
    "auc_conf_int"
   ]
  },
  {
   "cell_type": "code",
   "execution_count": 32,
   "id": "ea6debe6-be60-4c04-914b-a43af17038e1",
   "metadata": {
    "tags": []
   },
   "outputs": [
    {
     "data": {
      "text/plain": [
       "0.09801288468810476"
      ]
     },
     "execution_count": 32,
     "metadata": {},
     "output_type": "execute_result"
    }
   ],
   "source": [
    "# Length of confidence interval\n",
    "auc_conf_int[1] - auc_conf_int[0]"
   ]
  },
  {
   "cell_type": "markdown",
   "id": "6d0a94de-edd9-4504-b611-a1e9ce9caa99",
   "metadata": {},
   "source": [
    "## Fairness"
   ]
  },
  {
   "cell_type": "markdown",
   "id": "c565cece-68a0-473e-956a-9125ee1487ef",
   "metadata": {},
   "source": [
    "### Sliced AUC"
   ]
  },
  {
   "cell_type": "code",
   "execution_count": 33,
   "id": "f14d5b88-a88f-47f5-8cb3-23b5e2ef3014",
   "metadata": {
    "tags": []
   },
   "outputs": [
    {
     "data": {
      "text/html": [
       "<div>\n",
       "<style scoped>\n",
       "    .dataframe tbody tr th:only-of-type {\n",
       "        vertical-align: middle;\n",
       "    }\n",
       "\n",
       "    .dataframe tbody tr th {\n",
       "        vertical-align: top;\n",
       "    }\n",
       "\n",
       "    .dataframe thead th {\n",
       "        text-align: right;\n",
       "    }\n",
       "</style>\n",
       "<table border=\"1\" class=\"dataframe\">\n",
       "  <thead>\n",
       "    <tr style=\"text-align: right;\">\n",
       "      <th></th>\n",
       "      <th>Attribute</th>\n",
       "      <th>Value</th>\n",
       "      <th>AUC</th>\n",
       "    </tr>\n",
       "  </thead>\n",
       "  <tbody>\n",
       "    <tr>\n",
       "      <th>0</th>\n",
       "      <td>STDNT_ETHNC_grouped</td>\n",
       "      <td>1</td>\n",
       "      <td>0.71599</td>\n",
       "    </tr>\n",
       "    <tr>\n",
       "      <th>1</th>\n",
       "      <td>STDNT_ETHNC_grouped</td>\n",
       "      <td>0</td>\n",
       "      <td>0.839475</td>\n",
       "    </tr>\n",
       "    <tr>\n",
       "      <th>2</th>\n",
       "      <td>STDNT_ETHNC_grouped</td>\n",
       "      <td>2</td>\n",
       "      <td>0.792427</td>\n",
       "    </tr>\n",
       "    <tr>\n",
       "      <th>3</th>\n",
       "      <td>STDNT_FEMALE</td>\n",
       "      <td>0</td>\n",
       "      <td>0.776758</td>\n",
       "    </tr>\n",
       "    <tr>\n",
       "      <th>4</th>\n",
       "      <td>STDNT_FEMALE</td>\n",
       "      <td>1</td>\n",
       "      <td>0.795667</td>\n",
       "    </tr>\n",
       "  </tbody>\n",
       "</table>\n",
       "</div>"
      ],
      "text/plain": [
       "             Attribute Value       AUC\n",
       "0  STDNT_ETHNC_grouped     1   0.71599\n",
       "1  STDNT_ETHNC_grouped     0  0.839475\n",
       "2  STDNT_ETHNC_grouped     2  0.792427\n",
       "3         STDNT_FEMALE     0  0.776758\n",
       "4         STDNT_FEMALE     1  0.795667"
      ]
     },
     "execution_count": 33,
     "metadata": {},
     "output_type": "execute_result"
    }
   ],
   "source": [
    "sliced_auc_direct = sliced_auc(df_true_predict['y'], \n",
    "                               df_true_predict['y_pred'],\n",
    "                               ['STDNT_ETHNC_grouped', 'STDNT_FEMALE'], \n",
    "                               target_df)\n",
    "sliced_auc_direct"
   ]
  },
  {
   "cell_type": "markdown",
   "id": "c132231b-d35b-4109-ac2f-90cbd1f31cda",
   "metadata": {},
   "source": [
    "### Equal opportunity difference"
   ]
  },
  {
   "cell_type": "code",
   "execution_count": 34,
   "id": "e15f0a09-571e-403b-b88a-995a6a8d3947",
   "metadata": {
    "tags": []
   },
   "outputs": [
    {
     "data": {
      "text/html": [
       "<div>\n",
       "<style scoped>\n",
       "    .dataframe tbody tr th:only-of-type {\n",
       "        vertical-align: middle;\n",
       "    }\n",
       "\n",
       "    .dataframe tbody tr th {\n",
       "        vertical-align: top;\n",
       "    }\n",
       "\n",
       "    .dataframe thead th {\n",
       "        text-align: right;\n",
       "    }\n",
       "</style>\n",
       "<table border=\"1\" class=\"dataframe\">\n",
       "  <thead>\n",
       "    <tr style=\"text-align: right;\">\n",
       "      <th></th>\n",
       "      <th>Attribute</th>\n",
       "      <th>Value</th>\n",
       "      <th>thresh_10%</th>\n",
       "    </tr>\n",
       "  </thead>\n",
       "  <tbody>\n",
       "    <tr>\n",
       "      <th>0</th>\n",
       "      <td>STDNT_ETHNC_grouped</td>\n",
       "      <td>1</td>\n",
       "      <td>-0.326271</td>\n",
       "    </tr>\n",
       "    <tr>\n",
       "      <th>1</th>\n",
       "      <td>STDNT_ETHNC_grouped</td>\n",
       "      <td>0</td>\n",
       "      <td>0</td>\n",
       "    </tr>\n",
       "    <tr>\n",
       "      <th>2</th>\n",
       "      <td>STDNT_ETHNC_grouped</td>\n",
       "      <td>2</td>\n",
       "      <td>0.118173</td>\n",
       "    </tr>\n",
       "    <tr>\n",
       "      <th>3</th>\n",
       "      <td>STDNT_FEMALE</td>\n",
       "      <td>0</td>\n",
       "      <td>0</td>\n",
       "    </tr>\n",
       "    <tr>\n",
       "      <th>4</th>\n",
       "      <td>STDNT_FEMALE</td>\n",
       "      <td>1</td>\n",
       "      <td>0.031316</td>\n",
       "    </tr>\n",
       "  </tbody>\n",
       "</table>\n",
       "</div>"
      ],
      "text/plain": [
       "             Attribute Value thresh_10%\n",
       "0  STDNT_ETHNC_grouped     1  -0.326271\n",
       "1  STDNT_ETHNC_grouped     0          0\n",
       "2  STDNT_ETHNC_grouped     2   0.118173\n",
       "3         STDNT_FEMALE     0          0\n",
       "4         STDNT_FEMALE     1   0.031316"
      ]
     },
     "execution_count": 34,
     "metadata": {},
     "output_type": "execute_result"
    }
   ],
   "source": [
    "equal_opport_direct = fairn_metrics(df_true_predict['y'], \n",
    "                                    df_true_predict['y_pred'],\n",
    "                                    attribites_dic, target_df, \n",
    "                                    threshold)\n",
    "\n",
    "equal_opport_direct"
   ]
  },
  {
   "cell_type": "markdown",
   "id": "2dfa4532-5d41-461e-9d2d-b4bdcba18f02",
   "metadata": {},
   "source": [
    "### Generalized entropy index"
   ]
  },
  {
   "cell_type": "code",
   "execution_count": 35,
   "id": "3b559c64-2736-4607-9752-8bf38345925a",
   "metadata": {
    "tags": []
   },
   "outputs": [
    {
     "data": {
      "text/plain": [
       "(0.4477611940298507, 0.05103587593695251)"
      ]
     },
     "execution_count": 35,
     "metadata": {},
     "output_type": "execute_result"
    }
   ],
   "source": [
    "gen_entropy_direct = gen_entropy_index(2, df_true_predict, \n",
    "                                       target_df['STDNT_ETHNC_grouped'], \n",
    "                                       calc_educ_benefits,\n",
    "                                       threshold[0])\n",
    "gen_entropy_direct"
   ]
  },
  {
   "cell_type": "markdown",
   "id": "89d5850e-8f7e-4d76-ba0e-2700c695987a",
   "metadata": {},
   "source": [
    "### Generalized entropy index that takes into account the risk ranks of students"
   ]
  },
  {
   "cell_type": "code",
   "execution_count": 36,
   "id": "259805b6-d8af-4be0-9d01-8c3bc6f447aa",
   "metadata": {
    "tags": []
   },
   "outputs": [
    {
     "data": {
      "text/plain": [
       "(0.5821152926712658, 0.046075968818731626)"
      ]
     },
     "execution_count": 36,
     "metadata": {},
     "output_type": "execute_result"
    }
   ],
   "source": [
    "gen_entropy_ranks_direct = gen_entropy_index(2, df_true_predict, \n",
    "                                             target_df['STDNT_ETHNC_grouped'], \n",
    "                                             calc_educ_rank_benefits, \n",
    "                                             rank_thresholds)\n",
    "gen_entropy_ranks_direct"
   ]
  },
  {
   "cell_type": "markdown",
   "id": "d03597bf-2ee2-433c-88fe-2447158ee66d",
   "metadata": {
    "tags": []
   },
   "source": [
    "# Instance weighting strategy"
   ]
  },
  {
   "cell_type": "markdown",
   "id": "b2d8f2c3-dd14-4b9c-ae20-d3192116f43a",
   "metadata": {},
   "source": [
    "## Selecting the value for the \"length_scale\" hyperparameter\n",
    "The choice of the RBF’s length scale value was made by analyzing kernel matrices across various length scale values, specifically [1, 1.5, 1.75, 2, 2.5, 3, 3.5, 4, 4.5, 5, 5.5, 6, 6.5, 7, 8, 10, 22]. \n",
    "\n",
    "The kernel function, when used to two points, applies a\n",
    "transformation to the distance between these two points. The length scale parameter defines the sensitivity of this kernel function. When the parameter is set too high, the kernel function transforms distances to values closer to 1. Conversely, when the\n",
    "parameter is set too low, the kernel function transforms distances towards 0. We should choose length scale that generates kernel matrices with values distinguishable from one another. The kernel matrices should encompass a variety of values, not just those very close to 0 or 1. It’s worth noting that the most distinct separation between distances occurs when the median distance corresponds to a kernel value of 0.5, positioning the median distance at the midpoint of the possible kernel range (0-1). \n",
    "\n",
    "For our task, this optimal condition corresponds to a length scale value of 4, as indicated by information obtained from the kernel matrices (see below)."
   ]
  },
  {
   "cell_type": "code",
   "execution_count": 37,
   "id": "867ebd3c-a935-4931-b9d7-8a53d6144100",
   "metadata": {
    "tags": []
   },
   "outputs": [],
   "source": [
    "length_scale_list = [1, 1.5, 1.75, 2, 2.5, 3, 3.5, 4, 4.5, 5, 5.5, 6, 6.5, 7, 8, 10, 22]\n",
    "quantiles = [0, 0.01, 0.05, 0.1, 0.25, 0.5, 0.75, 0.9, 0.95, 0.99, 1]"
   ]
  },
  {
   "cell_type": "code",
   "execution_count": 27,
   "id": "1fe0c402-4a99-420f-bdc6-664f5b25deb4",
   "metadata": {
    "tags": []
   },
   "outputs": [
    {
     "data": {
      "text/html": [
       "<div>\n",
       "<style scoped>\n",
       "    .dataframe tbody tr th:only-of-type {\n",
       "        vertical-align: middle;\n",
       "    }\n",
       "\n",
       "    .dataframe tbody tr th {\n",
       "        vertical-align: top;\n",
       "    }\n",
       "\n",
       "    .dataframe thead th {\n",
       "        text-align: right;\n",
       "    }\n",
       "</style>\n",
       "<table border=\"1\" class=\"dataframe\">\n",
       "  <thead>\n",
       "    <tr style=\"text-align: right;\">\n",
       "      <th></th>\n",
       "      <th>0.00</th>\n",
       "      <th>0.01</th>\n",
       "      <th>0.05</th>\n",
       "      <th>0.10</th>\n",
       "      <th>0.25</th>\n",
       "      <th>0.50</th>\n",
       "      <th>0.75</th>\n",
       "      <th>0.90</th>\n",
       "      <th>0.95</th>\n",
       "      <th>0.99</th>\n",
       "      <th>1.00</th>\n",
       "    </tr>\n",
       "  </thead>\n",
       "  <tbody>\n",
       "    <tr>\n",
       "      <th>1.0</th>\n",
       "      <td>0.0</td>\n",
       "      <td>0.0</td>\n",
       "      <td>0.0</td>\n",
       "      <td>0.0</td>\n",
       "      <td>0.0</td>\n",
       "      <td>0.000037</td>\n",
       "      <td>0.007153</td>\n",
       "      <td>0.086294</td>\n",
       "      <td>0.416154</td>\n",
       "      <td>0.94498</td>\n",
       "      <td>1.0</td>\n",
       "    </tr>\n",
       "    <tr>\n",
       "      <th>1.5</th>\n",
       "      <td>0.0</td>\n",
       "      <td>0.0</td>\n",
       "      <td>0.0</td>\n",
       "      <td>0.0</td>\n",
       "      <td>0.000237</td>\n",
       "      <td>0.010731</td>\n",
       "      <td>0.111287</td>\n",
       "      <td>0.336592</td>\n",
       "      <td>0.677298</td>\n",
       "      <td>0.975162</td>\n",
       "      <td>1.0</td>\n",
       "    </tr>\n",
       "    <tr>\n",
       "      <th>1.75</th>\n",
       "      <td>0.0</td>\n",
       "      <td>0.0</td>\n",
       "      <td>0.0</td>\n",
       "      <td>0.000019</td>\n",
       "      <td>0.002173</td>\n",
       "      <td>0.035738</td>\n",
       "      <td>0.199264</td>\n",
       "      <td>0.44933</td>\n",
       "      <td>0.751061</td>\n",
       "      <td>0.981691</td>\n",
       "      <td>1.0</td>\n",
       "    </tr>\n",
       "    <tr>\n",
       "      <th>2.0</th>\n",
       "      <td>0.0</td>\n",
       "      <td>0.0</td>\n",
       "      <td>0.000002</td>\n",
       "      <td>0.000245</td>\n",
       "      <td>0.009145</td>\n",
       "      <td>0.078027</td>\n",
       "      <td>0.290821</td>\n",
       "      <td>0.541996</td>\n",
       "      <td>0.803181</td>\n",
       "      <td>0.985952</td>\n",
       "      <td>1.0</td>\n",
       "    </tr>\n",
       "    <tr>\n",
       "      <th>2.5</th>\n",
       "      <td>0.0</td>\n",
       "      <td>0.0</td>\n",
       "      <td>0.000239</td>\n",
       "      <td>0.004891</td>\n",
       "      <td>0.049562</td>\n",
       "      <td>0.19545</td>\n",
       "      <td>0.453649</td>\n",
       "      <td>0.675705</td>\n",
       "      <td>0.869122</td>\n",
       "      <td>0.990986</td>\n",
       "      <td>1.0</td>\n",
       "    </tr>\n",
       "    <tr>\n",
       "      <th>3.0</th>\n",
       "      <td>0.0</td>\n",
       "      <td>0.0</td>\n",
       "      <td>0.003057</td>\n",
       "      <td>0.024856</td>\n",
       "      <td>0.124123</td>\n",
       "      <td>0.321857</td>\n",
       "      <td>0.577579</td>\n",
       "      <td>0.761686</td>\n",
       "      <td>0.907183</td>\n",
       "      <td>0.993732</td>\n",
       "      <td>1.0</td>\n",
       "    </tr>\n",
       "    <tr>\n",
       "      <th>3.5</th>\n",
       "      <td>0.0</td>\n",
       "      <td>0.0</td>\n",
       "      <td>0.014207</td>\n",
       "      <td>0.066242</td>\n",
       "      <td>0.215902</td>\n",
       "      <td>0.434794</td>\n",
       "      <td>0.668124</td>\n",
       "      <td>0.818731</td>\n",
       "      <td>0.930934</td>\n",
       "      <td>0.995391</td>\n",
       "      <td>1.0</td>\n",
       "    </tr>\n",
       "    <tr>\n",
       "      <th>4.0</th>\n",
       "      <td>0.0</td>\n",
       "      <td>0.000004</td>\n",
       "      <td>0.038505</td>\n",
       "      <td>0.12515</td>\n",
       "      <td>0.309237</td>\n",
       "      <td>0.528519</td>\n",
       "      <td>0.734355</td>\n",
       "      <td>0.858023</td>\n",
       "      <td>0.94668</td>\n",
       "      <td>0.996469</td>\n",
       "      <td>1.0</td>\n",
       "    </tr>\n",
       "    <tr>\n",
       "      <th>4.5</th>\n",
       "      <td>0.0</td>\n",
       "      <td>0.000052</td>\n",
       "      <td>0.076275</td>\n",
       "      <td>0.193579</td>\n",
       "      <td>0.39561</td>\n",
       "      <td>0.604204</td>\n",
       "      <td>0.783519</td>\n",
       "      <td>0.886045</td>\n",
       "      <td>0.95763</td>\n",
       "      <td>0.997209</td>\n",
       "      <td>1.0</td>\n",
       "    </tr>\n",
       "    <tr>\n",
       "      <th>5.0</th>\n",
       "      <td>0.0</td>\n",
       "      <td>0.000339</td>\n",
       "      <td>0.124374</td>\n",
       "      <td>0.264457</td>\n",
       "      <td>0.471831</td>\n",
       "      <td>0.664904</td>\n",
       "      <td>0.820692</td>\n",
       "      <td>0.906649</td>\n",
       "      <td>0.96554</td>\n",
       "      <td>0.997739</td>\n",
       "      <td>1.0</td>\n",
       "    </tr>\n",
       "    <tr>\n",
       "      <th>5.5</th>\n",
       "      <td>0.0</td>\n",
       "      <td>0.001358</td>\n",
       "      <td>0.178584</td>\n",
       "      <td>0.333125</td>\n",
       "      <td>0.537529</td>\n",
       "      <td>0.713707</td>\n",
       "      <td>0.849326</td>\n",
       "      <td>0.922202</td>\n",
       "      <td>0.971434</td>\n",
       "      <td>0.998131</td>\n",
       "      <td>1.0</td>\n",
       "    </tr>\n",
       "    <tr>\n",
       "      <th>6.0</th>\n",
       "      <td>0.0</td>\n",
       "      <td>0.003898</td>\n",
       "      <td>0.235147</td>\n",
       "      <td>0.397062</td>\n",
       "      <td>0.593557</td>\n",
       "      <td>0.75321</td>\n",
       "      <td>0.871772</td>\n",
       "      <td>0.934209</td>\n",
       "      <td>0.975941</td>\n",
       "      <td>0.998429</td>\n",
       "      <td>1.0</td>\n",
       "    </tr>\n",
       "    <tr>\n",
       "      <th>6.5</th>\n",
       "      <td>0.0</td>\n",
       "      <td>0.008856</td>\n",
       "      <td>0.291297</td>\n",
       "      <td>0.455196</td>\n",
       "      <td>0.641171</td>\n",
       "      <td>0.785459</td>\n",
       "      <td>0.88965</td>\n",
       "      <td>0.943661</td>\n",
       "      <td>0.979464</td>\n",
       "      <td>0.998661</td>\n",
       "      <td>1.0</td>\n",
       "    </tr>\n",
       "    <tr>\n",
       "      <th>7.0</th>\n",
       "      <td>0.0</td>\n",
       "      <td>0.016983</td>\n",
       "      <td>0.345244</td>\n",
       "      <td>0.507322</td>\n",
       "      <td>0.681655</td>\n",
       "      <td>0.812028</td>\n",
       "      <td>0.904095</td>\n",
       "      <td>0.95123</td>\n",
       "      <td>0.982267</td>\n",
       "      <td>0.998846</td>\n",
       "      <td>1.0</td>\n",
       "    </tr>\n",
       "    <tr>\n",
       "      <th>8.0</th>\n",
       "      <td>0.0</td>\n",
       "      <td>0.044142</td>\n",
       "      <td>0.442974</td>\n",
       "      <td>0.594782</td>\n",
       "      <td>0.745715</td>\n",
       "      <td>0.852639</td>\n",
       "      <td>0.925713</td>\n",
       "      <td>0.962442</td>\n",
       "      <td>0.986395</td>\n",
       "      <td>0.999116</td>\n",
       "      <td>1.0</td>\n",
       "    </tr>\n",
       "    <tr>\n",
       "      <th>10.0</th>\n",
       "      <td>0.000011</td>\n",
       "      <td>0.13574</td>\n",
       "      <td>0.593857</td>\n",
       "      <td>0.717115</td>\n",
       "      <td>0.828794</td>\n",
       "      <td>0.903004</td>\n",
       "      <td>0.951798</td>\n",
       "      <td>0.975798</td>\n",
       "      <td>0.991271</td>\n",
       "      <td>0.999434</td>\n",
       "      <td>1.0</td>\n",
       "    </tr>\n",
       "    <tr>\n",
       "      <th>22.0</th>\n",
       "      <td>0.093634</td>\n",
       "      <td>0.661923</td>\n",
       "      <td>0.897925</td>\n",
       "      <td>0.933605</td>\n",
       "      <td>0.961945</td>\n",
       "      <td>0.97914</td>\n",
       "      <td>0.989845</td>\n",
       "      <td>0.994951</td>\n",
       "      <td>0.99819</td>\n",
       "      <td>0.999883</td>\n",
       "      <td>1.0</td>\n",
       "    </tr>\n",
       "    <tr>\n",
       "      <th>dist</th>\n",
       "      <td>47.880843</td>\n",
       "      <td>19.985077</td>\n",
       "      <td>10.208981</td>\n",
       "      <td>8.154986</td>\n",
       "      <td>6.128356</td>\n",
       "      <td>4.517261</td>\n",
       "      <td>3.143308</td>\n",
       "      <td>2.21359</td>\n",
       "      <td>1.324159</td>\n",
       "      <td>0.336426</td>\n",
       "      <td>0.0</td>\n",
       "    </tr>\n",
       "  </tbody>\n",
       "</table>\n",
       "</div>"
      ],
      "text/plain": [
       "           0.00       0.01       0.05      0.10      0.25      0.50      0.75  \\\n",
       "1.0         0.0        0.0        0.0       0.0       0.0  0.000037  0.007153   \n",
       "1.5         0.0        0.0        0.0       0.0  0.000237  0.010731  0.111287   \n",
       "1.75        0.0        0.0        0.0  0.000019  0.002173  0.035738  0.199264   \n",
       "2.0         0.0        0.0   0.000002  0.000245  0.009145  0.078027  0.290821   \n",
       "2.5         0.0        0.0   0.000239  0.004891  0.049562   0.19545  0.453649   \n",
       "3.0         0.0        0.0   0.003057  0.024856  0.124123  0.321857  0.577579   \n",
       "3.5         0.0        0.0   0.014207  0.066242  0.215902  0.434794  0.668124   \n",
       "4.0         0.0   0.000004   0.038505   0.12515  0.309237  0.528519  0.734355   \n",
       "4.5         0.0   0.000052   0.076275  0.193579   0.39561  0.604204  0.783519   \n",
       "5.0         0.0   0.000339   0.124374  0.264457  0.471831  0.664904  0.820692   \n",
       "5.5         0.0   0.001358   0.178584  0.333125  0.537529  0.713707  0.849326   \n",
       "6.0         0.0   0.003898   0.235147  0.397062  0.593557   0.75321  0.871772   \n",
       "6.5         0.0   0.008856   0.291297  0.455196  0.641171  0.785459   0.88965   \n",
       "7.0         0.0   0.016983   0.345244  0.507322  0.681655  0.812028  0.904095   \n",
       "8.0         0.0   0.044142   0.442974  0.594782  0.745715  0.852639  0.925713   \n",
       "10.0   0.000011    0.13574   0.593857  0.717115  0.828794  0.903004  0.951798   \n",
       "22.0   0.093634   0.661923   0.897925  0.933605  0.961945   0.97914  0.989845   \n",
       "dist  47.880843  19.985077  10.208981  8.154986  6.128356  4.517261  3.143308   \n",
       "\n",
       "          0.90      0.95      0.99 1.00  \n",
       "1.0   0.086294  0.416154   0.94498  1.0  \n",
       "1.5   0.336592  0.677298  0.975162  1.0  \n",
       "1.75   0.44933  0.751061  0.981691  1.0  \n",
       "2.0   0.541996  0.803181  0.985952  1.0  \n",
       "2.5   0.675705  0.869122  0.990986  1.0  \n",
       "3.0   0.761686  0.907183  0.993732  1.0  \n",
       "3.5   0.818731  0.930934  0.995391  1.0  \n",
       "4.0   0.858023   0.94668  0.996469  1.0  \n",
       "4.5   0.886045   0.95763  0.997209  1.0  \n",
       "5.0   0.906649   0.96554  0.997739  1.0  \n",
       "5.5   0.922202  0.971434  0.998131  1.0  \n",
       "6.0   0.934209  0.975941  0.998429  1.0  \n",
       "6.5   0.943661  0.979464  0.998661  1.0  \n",
       "7.0    0.95123  0.982267  0.998846  1.0  \n",
       "8.0   0.962442  0.986395  0.999116  1.0  \n",
       "10.0  0.975798  0.991271  0.999434  1.0  \n",
       "22.0  0.994951   0.99819  0.999883  1.0  \n",
       "dist   2.21359  1.324159  0.336426  0.0  "
      ]
     },
     "execution_count": 27,
     "metadata": {},
     "output_type": "execute_result"
    }
   ],
   "source": [
    "calc_kernels_for_l(X_source, X_source,\n",
    "                   length_scale_list, quantiles)"
   ]
  },
  {
   "cell_type": "code",
   "execution_count": 28,
   "id": "6c3e047c-6071-4a58-a8e9-bdf6b9213bfb",
   "metadata": {
    "tags": []
   },
   "outputs": [
    {
     "data": {
      "text/html": [
       "<div>\n",
       "<style scoped>\n",
       "    .dataframe tbody tr th:only-of-type {\n",
       "        vertical-align: middle;\n",
       "    }\n",
       "\n",
       "    .dataframe tbody tr th {\n",
       "        vertical-align: top;\n",
       "    }\n",
       "\n",
       "    .dataframe thead th {\n",
       "        text-align: right;\n",
       "    }\n",
       "</style>\n",
       "<table border=\"1\" class=\"dataframe\">\n",
       "  <thead>\n",
       "    <tr style=\"text-align: right;\">\n",
       "      <th></th>\n",
       "      <th>0.00</th>\n",
       "      <th>0.01</th>\n",
       "      <th>0.05</th>\n",
       "      <th>0.10</th>\n",
       "      <th>0.25</th>\n",
       "      <th>0.50</th>\n",
       "      <th>0.75</th>\n",
       "      <th>0.90</th>\n",
       "      <th>0.95</th>\n",
       "      <th>0.99</th>\n",
       "      <th>1.00</th>\n",
       "    </tr>\n",
       "  </thead>\n",
       "  <tbody>\n",
       "    <tr>\n",
       "      <th>1.0</th>\n",
       "      <td>0.0</td>\n",
       "      <td>0.0</td>\n",
       "      <td>0.0</td>\n",
       "      <td>0.0</td>\n",
       "      <td>0.0</td>\n",
       "      <td>0.000066</td>\n",
       "      <td>0.008105</td>\n",
       "      <td>0.097345</td>\n",
       "      <td>0.476447</td>\n",
       "      <td>0.950286</td>\n",
       "      <td>1.0</td>\n",
       "    </tr>\n",
       "    <tr>\n",
       "      <th>1.5</th>\n",
       "      <td>0.0</td>\n",
       "      <td>0.0</td>\n",
       "      <td>0.0</td>\n",
       "      <td>0.000001</td>\n",
       "      <td>0.000299</td>\n",
       "      <td>0.013825</td>\n",
       "      <td>0.117643</td>\n",
       "      <td>0.355109</td>\n",
       "      <td>0.719275</td>\n",
       "      <td>0.977592</td>\n",
       "      <td>1.0</td>\n",
       "    </tr>\n",
       "    <tr>\n",
       "      <th>1.75</th>\n",
       "      <td>0.0</td>\n",
       "      <td>0.0</td>\n",
       "      <td>0.0</td>\n",
       "      <td>0.000036</td>\n",
       "      <td>0.002574</td>\n",
       "      <td>0.043049</td>\n",
       "      <td>0.207563</td>\n",
       "      <td>0.467362</td>\n",
       "      <td>0.784986</td>\n",
       "      <td>0.983487</td>\n",
       "      <td>1.0</td>\n",
       "    </tr>\n",
       "    <tr>\n",
       "      <th>2.0</th>\n",
       "      <td>0.0</td>\n",
       "      <td>0.0</td>\n",
       "      <td>0.000003</td>\n",
       "      <td>0.000399</td>\n",
       "      <td>0.010411</td>\n",
       "      <td>0.089977</td>\n",
       "      <td>0.300049</td>\n",
       "      <td>0.558571</td>\n",
       "      <td>0.830813</td>\n",
       "      <td>0.987333</td>\n",
       "      <td>1.0</td>\n",
       "    </tr>\n",
       "    <tr>\n",
       "      <th>2.5</th>\n",
       "      <td>0.0</td>\n",
       "      <td>0.0</td>\n",
       "      <td>0.000279</td>\n",
       "      <td>0.006673</td>\n",
       "      <td>0.05385</td>\n",
       "      <td>0.214113</td>\n",
       "      <td>0.462811</td>\n",
       "      <td>0.688858</td>\n",
       "      <td>0.888142</td>\n",
       "      <td>0.991874</td>\n",
       "      <td>1.0</td>\n",
       "    </tr>\n",
       "    <tr>\n",
       "      <th>3.0</th>\n",
       "      <td>0.0</td>\n",
       "      <td>0.0</td>\n",
       "      <td>0.003403</td>\n",
       "      <td>0.030841</td>\n",
       "      <td>0.131485</td>\n",
       "      <td>0.342901</td>\n",
       "      <td>0.585654</td>\n",
       "      <td>0.771952</td>\n",
       "      <td>0.920924</td>\n",
       "      <td>0.99435</td>\n",
       "      <td>1.0</td>\n",
       "    </tr>\n",
       "    <tr>\n",
       "      <th>3.5</th>\n",
       "      <td>0.0</td>\n",
       "      <td>0.0</td>\n",
       "      <td>0.01537</td>\n",
       "      <td>0.077619</td>\n",
       "      <td>0.225239</td>\n",
       "      <td>0.455503</td>\n",
       "      <td>0.674975</td>\n",
       "      <td>0.826824</td>\n",
       "      <td>0.941273</td>\n",
       "      <td>0.995846</td>\n",
       "      <td>1.0</td>\n",
       "    </tr>\n",
       "    <tr>\n",
       "      <th>4.0</th>\n",
       "      <td>0.0</td>\n",
       "      <td>0.000004</td>\n",
       "      <td>0.040895</td>\n",
       "      <td>0.141297</td>\n",
       "      <td>0.319424</td>\n",
       "      <td>0.547687</td>\n",
       "      <td>0.740113</td>\n",
       "      <td>0.864509</td>\n",
       "      <td>0.95472</td>\n",
       "      <td>0.996818</td>\n",
       "      <td>1.0</td>\n",
       "    </tr>\n",
       "    <tr>\n",
       "      <th>4.5</th>\n",
       "      <td>0.0</td>\n",
       "      <td>0.000053</td>\n",
       "      <td>0.079992</td>\n",
       "      <td>0.213059</td>\n",
       "      <td>0.405872</td>\n",
       "      <td>0.621453</td>\n",
       "      <td>0.788369</td>\n",
       "      <td>0.891333</td>\n",
       "      <td>0.96405</td>\n",
       "      <td>0.997485</td>\n",
       "      <td>1.0</td>\n",
       "    </tr>\n",
       "    <tr>\n",
       "      <th>5.0</th>\n",
       "      <td>0.0</td>\n",
       "      <td>0.000346</td>\n",
       "      <td>0.129261</td>\n",
       "      <td>0.285815</td>\n",
       "      <td>0.481721</td>\n",
       "      <td>0.680238</td>\n",
       "      <td>0.824804</td>\n",
       "      <td>0.91103</td>\n",
       "      <td>0.970779</td>\n",
       "      <td>0.997962</td>\n",
       "      <td>1.0</td>\n",
       "    </tr>\n",
       "    <tr>\n",
       "      <th>5.5</th>\n",
       "      <td>0.0</td>\n",
       "      <td>0.001379</td>\n",
       "      <td>0.184363</td>\n",
       "      <td>0.355209</td>\n",
       "      <td>0.546824</td>\n",
       "      <td>0.727282</td>\n",
       "      <td>0.852842</td>\n",
       "      <td>0.925882</td>\n",
       "      <td>0.975789</td>\n",
       "      <td>0.998316</td>\n",
       "      <td>1.0</td>\n",
       "    </tr>\n",
       "    <tr>\n",
       "      <th>6.0</th>\n",
       "      <td>0.0</td>\n",
       "      <td>0.003948</td>\n",
       "      <td>0.241525</td>\n",
       "      <td>0.419065</td>\n",
       "      <td>0.60217</td>\n",
       "      <td>0.76523</td>\n",
       "      <td>0.874803</td>\n",
       "      <td>0.937341</td>\n",
       "      <td>0.979616</td>\n",
       "      <td>0.998585</td>\n",
       "      <td>1.0</td>\n",
       "    </tr>\n",
       "    <tr>\n",
       "      <th>6.5</th>\n",
       "      <td>0.0</td>\n",
       "      <td>0.008953</td>\n",
       "      <td>0.298017</td>\n",
       "      <td>0.476603</td>\n",
       "      <td>0.64909</td>\n",
       "      <td>0.796128</td>\n",
       "      <td>0.892285</td>\n",
       "      <td>0.946356</td>\n",
       "      <td>0.982605</td>\n",
       "      <td>0.998794</td>\n",
       "      <td>1.0</td>\n",
       "    </tr>\n",
       "    <tr>\n",
       "      <th>7.0</th>\n",
       "      <td>0.0</td>\n",
       "      <td>0.017144</td>\n",
       "      <td>0.3521</td>\n",
       "      <td>0.527828</td>\n",
       "      <td>0.688908</td>\n",
       "      <td>0.821529</td>\n",
       "      <td>0.906404</td>\n",
       "      <td>0.953572</td>\n",
       "      <td>0.984983</td>\n",
       "      <td>0.99896</td>\n",
       "      <td>1.0</td>\n",
       "    </tr>\n",
       "    <tr>\n",
       "      <th>8.0</th>\n",
       "      <td>0.0</td>\n",
       "      <td>0.044462</td>\n",
       "      <td>0.449693</td>\n",
       "      <td>0.613103</td>\n",
       "      <td>0.751782</td>\n",
       "      <td>0.860267</td>\n",
       "      <td>0.927523</td>\n",
       "      <td>0.964256</td>\n",
       "      <td>0.988482</td>\n",
       "      <td>0.999204</td>\n",
       "      <td>1.0</td>\n",
       "    </tr>\n",
       "    <tr>\n",
       "      <th>10.0</th>\n",
       "      <td>0.000012</td>\n",
       "      <td>0.136368</td>\n",
       "      <td>0.599607</td>\n",
       "      <td>0.731175</td>\n",
       "      <td>0.833103</td>\n",
       "      <td>0.908166</td>\n",
       "      <td>0.952989</td>\n",
       "      <td>0.976974</td>\n",
       "      <td>0.992613</td>\n",
       "      <td>0.99949</td>\n",
       "      <td>1.0</td>\n",
       "    </tr>\n",
       "    <tr>\n",
       "      <th>22.0</th>\n",
       "      <td>0.096979</td>\n",
       "      <td>0.662555</td>\n",
       "      <td>0.899714</td>\n",
       "      <td>0.937357</td>\n",
       "      <td>0.962976</td>\n",
       "      <td>0.980294</td>\n",
       "      <td>0.9901</td>\n",
       "      <td>0.995199</td>\n",
       "      <td>0.998469</td>\n",
       "      <td>0.999895</td>\n",
       "      <td>1.0</td>\n",
       "    </tr>\n",
       "    <tr>\n",
       "      <th>dist</th>\n",
       "      <td>47.524719</td>\n",
       "      <td>19.961941</td>\n",
       "      <td>10.11416</td>\n",
       "      <td>7.913314</td>\n",
       "      <td>6.043138</td>\n",
       "      <td>4.389264</td>\n",
       "      <td>3.1033</td>\n",
       "      <td>2.15847</td>\n",
       "      <td>1.217703</td>\n",
       "      <td>0.319349</td>\n",
       "      <td>0.0</td>\n",
       "    </tr>\n",
       "  </tbody>\n",
       "</table>\n",
       "</div>"
      ],
      "text/plain": [
       "           0.00       0.01      0.05      0.10      0.25      0.50      0.75  \\\n",
       "1.0         0.0        0.0       0.0       0.0       0.0  0.000066  0.008105   \n",
       "1.5         0.0        0.0       0.0  0.000001  0.000299  0.013825  0.117643   \n",
       "1.75        0.0        0.0       0.0  0.000036  0.002574  0.043049  0.207563   \n",
       "2.0         0.0        0.0  0.000003  0.000399  0.010411  0.089977  0.300049   \n",
       "2.5         0.0        0.0  0.000279  0.006673   0.05385  0.214113  0.462811   \n",
       "3.0         0.0        0.0  0.003403  0.030841  0.131485  0.342901  0.585654   \n",
       "3.5         0.0        0.0   0.01537  0.077619  0.225239  0.455503  0.674975   \n",
       "4.0         0.0   0.000004  0.040895  0.141297  0.319424  0.547687  0.740113   \n",
       "4.5         0.0   0.000053  0.079992  0.213059  0.405872  0.621453  0.788369   \n",
       "5.0         0.0   0.000346  0.129261  0.285815  0.481721  0.680238  0.824804   \n",
       "5.5         0.0   0.001379  0.184363  0.355209  0.546824  0.727282  0.852842   \n",
       "6.0         0.0   0.003948  0.241525  0.419065   0.60217   0.76523  0.874803   \n",
       "6.5         0.0   0.008953  0.298017  0.476603   0.64909  0.796128  0.892285   \n",
       "7.0         0.0   0.017144    0.3521  0.527828  0.688908  0.821529  0.906404   \n",
       "8.0         0.0   0.044462  0.449693  0.613103  0.751782  0.860267  0.927523   \n",
       "10.0   0.000012   0.136368  0.599607  0.731175  0.833103  0.908166  0.952989   \n",
       "22.0   0.096979   0.662555  0.899714  0.937357  0.962976  0.980294    0.9901   \n",
       "dist  47.524719  19.961941  10.11416  7.913314  6.043138  4.389264    3.1033   \n",
       "\n",
       "          0.90      0.95      0.99 1.00  \n",
       "1.0   0.097345  0.476447  0.950286  1.0  \n",
       "1.5   0.355109  0.719275  0.977592  1.0  \n",
       "1.75  0.467362  0.784986  0.983487  1.0  \n",
       "2.0   0.558571  0.830813  0.987333  1.0  \n",
       "2.5   0.688858  0.888142  0.991874  1.0  \n",
       "3.0   0.771952  0.920924   0.99435  1.0  \n",
       "3.5   0.826824  0.941273  0.995846  1.0  \n",
       "4.0   0.864509   0.95472  0.996818  1.0  \n",
       "4.5   0.891333   0.96405  0.997485  1.0  \n",
       "5.0    0.91103  0.970779  0.997962  1.0  \n",
       "5.5   0.925882  0.975789  0.998316  1.0  \n",
       "6.0   0.937341  0.979616  0.998585  1.0  \n",
       "6.5   0.946356  0.982605  0.998794  1.0  \n",
       "7.0   0.953572  0.984983   0.99896  1.0  \n",
       "8.0   0.964256  0.988482  0.999204  1.0  \n",
       "10.0  0.976974  0.992613   0.99949  1.0  \n",
       "22.0  0.995199  0.998469  0.999895  1.0  \n",
       "dist   2.15847  1.217703  0.319349  0.0  "
      ]
     },
     "execution_count": 28,
     "metadata": {},
     "output_type": "execute_result"
    }
   ],
   "source": [
    "calc_kernels_for_l(X_source, X_target,\n",
    "                   length_scale_list, quantiles)"
   ]
  },
  {
   "cell_type": "markdown",
   "id": "0bff2c5d-916e-49b5-9809-3bfebe89e72c",
   "metadata": {},
   "source": [
    "## Estimation of the weighted model"
   ]
  },
  {
   "cell_type": "markdown",
   "id": "48ec83e1-4cf8-4336-902d-ca3eecfbdb12",
   "metadata": {},
   "source": [
    "### Estimating weights\n",
    "\n",
    "Estimating weights by solving the quadratic programming problem specified in Huang J., Smola A.J., Gretton A., Borgwardt K.M., and Scholkopf B. (2006). Correcting sample selection bias by unlabeled data. In Proceedings of the 19th International Conference on Neural Information Processing Systems (NIPS’06). MIT Press, Cambridge, MA, USA, 601–608."
   ]
  },
  {
   "cell_type": "code",
   "execution_count": 38,
   "id": "9bc525e9-f269-4423-87ef-c9e827b4ace8",
   "metadata": {
    "tags": []
   },
   "outputs": [],
   "source": [
    "length_scale = 4"
   ]
  },
  {
   "cell_type": "code",
   "execution_count": 23,
   "id": "3474502e-83ee-4728-8692-fc75a2de1283",
   "metadata": {
    "tags": []
   },
   "outputs": [],
   "source": [
    "# Get input for CVXOPT\n",
    "P, q, G, h = get_cvxopt_input(X_source, X_target, length_scale)"
   ]
  },
  {
   "cell_type": "code",
   "execution_count": 24,
   "id": "0bedd3fc-e5c4-447f-96d7-10a9341a4313",
   "metadata": {
    "tags": []
   },
   "outputs": [
    {
     "name": "stdout",
     "output_type": "stream",
     "text": [
      "     pcost       dcost       gap    pres   dres\n",
      " 0: -2.5321e+08 -8.8718e+11  9e+11  3e-03  8e-14\n",
      " 1: -8.9384e+07 -8.4734e+11  9e+11  3e-03  7e-14\n",
      " 2: -8.3614e+07 -8.4656e+11  9e+11  3e-03  8e-14\n",
      " 4: -3.6591e+07 -9.4707e+09  9e+09  3e-05  2e-14\n",
      " 5: -1.4424e+08 -1.5663e+09  1e+09  1e-14  6e-14\n",
      " 6: -2.0339e+08 -6.9518e+08  5e+08  3e-14  8e-14\n",
      " 7: -2.1101e+08 -6.9805e+08  5e+08  2e-14  8e-14\n",
      " 8: -2.4567e+08 -3.7210e+08  1e+08  7e-15  2e-15\n",
      " 9: -2.5108e+08 -2.7969e+08  3e+07  7e-15  1e-15\n",
      "10: -2.5191e+08 -2.7484e+08  2e+07  9e-16  1e-15\n",
      "11: -2.5294e+08 -2.5823e+08  5e+06  3e-16  1e-15\n",
      "12: -2.5308e+08 -2.5719e+08  4e+06  3e-15  1e-15\n",
      "13: -2.5317e+08 -2.5433e+08  1e+06  6e-15  9e-16\n",
      "14: -2.5319e+08 -2.5408e+08  9e+05  1e-15  8e-16\n",
      "15: -2.5320e+08 -2.5353e+08  3e+05  2e-15  7e-16\n",
      "16: -2.5320e+08 -2.5350e+08  3e+05  5e-15  6e-16\n",
      "17: -2.5321e+08 -2.5330e+08  9e+04  3e-15  6e-16\n",
      "18: -2.5321e+08 -2.5328e+08  8e+04  5e-16  5e-16\n",
      "19: -2.5321e+08 -2.5323e+08  2e+04  3e-16  5e-16\n",
      "20: -2.5321e+08 -2.5322e+08  7e+03  2e-15  6e-16\n",
      "21: -2.5321e+08 -2.5321e+08  3e+03  1e-15  6e-16\n",
      "22: -2.5321e+08 -2.5321e+08  1e+03  1e-15  6e-16\n",
      "23: -2.5321e+08 -2.5321e+08  4e+02  7e-16  5e-16\n",
      "24: -2.5321e+08 -2.5321e+08  1e+02  2e-15  5e-16\n",
      "Optimal solution found.\n",
      "17328.594907283783 seconds\n"
     ]
    }
   ],
   "source": [
    "start_time = time.time()\n",
    "sol = solvers.qp(P,q,G,h)\n",
    "print(time.time() - start_time, \"seconds\")"
   ]
  },
  {
   "cell_type": "code",
   "execution_count": 25,
   "id": "5ce77685-35b0-4623-8b33-9d968c3b7e98",
   "metadata": {
    "tags": []
   },
   "outputs": [],
   "source": [
    "weights = np.array(sol['x']).flatten()"
   ]
  },
  {
   "cell_type": "markdown",
   "id": "3db1b5ec-142e-4596-ac5b-9367e4b42e28",
   "metadata": {},
   "source": [
    "## Fitting the weighted source model"
   ]
  },
  {
   "cell_type": "code",
   "execution_count": 184,
   "id": "1404ffc7-84bb-43e0-8805-b0e45825374f",
   "metadata": {
    "tags": []
   },
   "outputs": [
    {
     "data": {
      "text/html": [
       "<style>#sk-container-id-7 {color: black;background-color: white;}#sk-container-id-7 pre{padding: 0;}#sk-container-id-7 div.sk-toggleable {background-color: white;}#sk-container-id-7 label.sk-toggleable__label {cursor: pointer;display: block;width: 100%;margin-bottom: 0;padding: 0.3em;box-sizing: border-box;text-align: center;}#sk-container-id-7 label.sk-toggleable__label-arrow:before {content: \"▸\";float: left;margin-right: 0.25em;color: #696969;}#sk-container-id-7 label.sk-toggleable__label-arrow:hover:before {color: black;}#sk-container-id-7 div.sk-estimator:hover label.sk-toggleable__label-arrow:before {color: black;}#sk-container-id-7 div.sk-toggleable__content {max-height: 0;max-width: 0;overflow: hidden;text-align: left;background-color: #f0f8ff;}#sk-container-id-7 div.sk-toggleable__content pre {margin: 0.2em;color: black;border-radius: 0.25em;background-color: #f0f8ff;}#sk-container-id-7 input.sk-toggleable__control:checked~div.sk-toggleable__content {max-height: 200px;max-width: 100%;overflow: auto;}#sk-container-id-7 input.sk-toggleable__control:checked~label.sk-toggleable__label-arrow:before {content: \"▾\";}#sk-container-id-7 div.sk-estimator input.sk-toggleable__control:checked~label.sk-toggleable__label {background-color: #d4ebff;}#sk-container-id-7 div.sk-label input.sk-toggleable__control:checked~label.sk-toggleable__label {background-color: #d4ebff;}#sk-container-id-7 input.sk-hidden--visually {border: 0;clip: rect(1px 1px 1px 1px);clip: rect(1px, 1px, 1px, 1px);height: 1px;margin: -1px;overflow: hidden;padding: 0;position: absolute;width: 1px;}#sk-container-id-7 div.sk-estimator {font-family: monospace;background-color: #f0f8ff;border: 1px dotted black;border-radius: 0.25em;box-sizing: border-box;margin-bottom: 0.5em;}#sk-container-id-7 div.sk-estimator:hover {background-color: #d4ebff;}#sk-container-id-7 div.sk-parallel-item::after {content: \"\";width: 100%;border-bottom: 1px solid gray;flex-grow: 1;}#sk-container-id-7 div.sk-label:hover label.sk-toggleable__label {background-color: #d4ebff;}#sk-container-id-7 div.sk-serial::before {content: \"\";position: absolute;border-left: 1px solid gray;box-sizing: border-box;top: 0;bottom: 0;left: 50%;z-index: 0;}#sk-container-id-7 div.sk-serial {display: flex;flex-direction: column;align-items: center;background-color: white;padding-right: 0.2em;padding-left: 0.2em;position: relative;}#sk-container-id-7 div.sk-item {position: relative;z-index: 1;}#sk-container-id-7 div.sk-parallel {display: flex;align-items: stretch;justify-content: center;background-color: white;position: relative;}#sk-container-id-7 div.sk-item::before, #sk-container-id-7 div.sk-parallel-item::before {content: \"\";position: absolute;border-left: 1px solid gray;box-sizing: border-box;top: 0;bottom: 0;left: 50%;z-index: -1;}#sk-container-id-7 div.sk-parallel-item {display: flex;flex-direction: column;z-index: 1;position: relative;background-color: white;}#sk-container-id-7 div.sk-parallel-item:first-child::after {align-self: flex-end;width: 50%;}#sk-container-id-7 div.sk-parallel-item:last-child::after {align-self: flex-start;width: 50%;}#sk-container-id-7 div.sk-parallel-item:only-child::after {width: 0;}#sk-container-id-7 div.sk-dashed-wrapped {border: 1px dashed gray;margin: 0 0.4em 0.5em 0.4em;box-sizing: border-box;padding-bottom: 0.4em;background-color: white;}#sk-container-id-7 div.sk-label label {font-family: monospace;font-weight: bold;display: inline-block;line-height: 1.2em;}#sk-container-id-7 div.sk-label-container {text-align: center;}#sk-container-id-7 div.sk-container {/* jupyter's `normalize.less` sets `[hidden] { display: none; }` but bootstrap.min.css set `[hidden] { display: none !important; }` so we also need the `!important` here to be able to override the default hidden behavior on the sphinx rendered scikit-learn.org. See: https://github.com/scikit-learn/scikit-learn/issues/21755 */display: inline-block !important;position: relative;}#sk-container-id-7 div.sk-text-repr-fallback {display: none;}</style><div id=\"sk-container-id-7\" class=\"sk-top-container\"><div class=\"sk-text-repr-fallback\"><pre>LogisticRegression(max_iter=10000, penalty=None, random_state=1)</pre><b>In a Jupyter environment, please rerun this cell to show the HTML representation or trust the notebook. <br />On GitHub, the HTML representation is unable to render, please try loading this page with nbviewer.org.</b></div><div class=\"sk-container\" hidden><div class=\"sk-item\"><div class=\"sk-estimator sk-toggleable\"><input class=\"sk-toggleable__control sk-hidden--visually\" id=\"sk-estimator-id-7\" type=\"checkbox\" checked><label for=\"sk-estimator-id-7\" class=\"sk-toggleable__label sk-toggleable__label-arrow\">LogisticRegression</label><div class=\"sk-toggleable__content\"><pre>LogisticRegression(max_iter=10000, penalty=None, random_state=1)</pre></div></div></div></div></div>"
      ],
      "text/plain": [
       "LogisticRegression(max_iter=10000, penalty=None, random_state=1)"
      ]
     },
     "execution_count": 184,
     "metadata": {},
     "output_type": "execute_result"
    }
   ],
   "source": [
    "clf_weighted = clone(clf)\n",
    "clf_weighted.fit(X_source, y, weights)"
   ]
  },
  {
   "cell_type": "markdown",
   "id": "944cd54a-b339-48a2-a48b-f22fb4a61c02",
   "metadata": {},
   "source": [
    "## Weighted source model transfer"
   ]
  },
  {
   "cell_type": "code",
   "execution_count": 248,
   "id": "f2af9d85-1179-48bf-a781-a78c657a9d84",
   "metadata": {
    "tags": []
   },
   "outputs": [],
   "source": [
    "y_pred = clf_weighted.predict_proba(X_target)"
   ]
  },
  {
   "cell_type": "code",
   "execution_count": 249,
   "id": "f3c64810-708a-4e52-b6ce-e69707312bfe",
   "metadata": {
    "tags": []
   },
   "outputs": [],
   "source": [
    "# DataFrame containing true and predicted y\n",
    "df_true_predict_w = pd.DataFrame(data={'y': target_imp['y_ENROLLED_1_YEAR_LATER'], 'y_pred': y_pred[:,1]})"
   ]
  },
  {
   "cell_type": "code",
   "execution_count": 250,
   "id": "0f6c0761-601f-4af0-86be-de1f721d92e0",
   "metadata": {
    "tags": []
   },
   "outputs": [],
   "source": [
    "df_true_predict_w.to_csv('df_true_predict_IWS_model_1.csv')"
   ]
  },
  {
   "cell_type": "code",
   "execution_count": 38,
   "id": "9a2caffb-d1e1-46b4-9c7d-29d4af4e1413",
   "metadata": {
    "tags": []
   },
   "outputs": [],
   "source": [
    "df_true_predict_w = pd.read_csv('df_true_predict_IWS_model_1.csv', index_col=0)"
   ]
  },
  {
   "cell_type": "markdown",
   "id": "ddbe7095-6850-46d3-8e40-60f85fc11eb6",
   "metadata": {},
   "source": [
    "## Classification accuracy"
   ]
  },
  {
   "cell_type": "markdown",
   "id": "18ff0984-c7f2-4189-bf87-e60f16e3b8b2",
   "metadata": {},
   "source": [
    "### AUC"
   ]
  },
  {
   "cell_type": "code",
   "execution_count": 39,
   "id": "541cd291-b4c7-4ed4-8534-de6b2cff92a7",
   "metadata": {
    "tags": []
   },
   "outputs": [
    {
     "data": {
      "text/plain": [
       "0.7858360494384924"
      ]
     },
     "execution_count": 39,
     "metadata": {},
     "output_type": "execute_result"
    }
   ],
   "source": [
    "auc_IWS = roc_auc_score(df_true_predict_w['y'], df_true_predict_w['y_pred'])\n",
    "auc_IWS"
   ]
  },
  {
   "cell_type": "code",
   "execution_count": 40,
   "id": "681af4cc-e054-4bb6-86c6-c2d76f5d1fe4",
   "metadata": {
    "tags": []
   },
   "outputs": [
    {
     "name": "stdout",
     "output_type": "stream",
     "text": [
      "AUC direct transfer = 0.781, AUC instance weighting strategy = 0.786\n"
     ]
    }
   ],
   "source": [
    "print(f\"AUC direct transfer = {auc_direct:.3f}, AUC instance weighting strategy = {auc_IWS:.3f}\")"
   ]
  },
  {
   "cell_type": "markdown",
   "id": "3956ebea-54dd-43b7-a80f-40cac493ebd1",
   "metadata": {},
   "source": [
    "### Comparison of ROC curves"
   ]
  },
  {
   "cell_type": "code",
   "execution_count": 41,
   "id": "e54411da-2fbd-4e6e-ac1d-d719ecfba8b9",
   "metadata": {
    "tags": []
   },
   "outputs": [
    {
     "data": {
      "image/png": "[encoded data removed]",
      "text/plain": [
       "<Figure size 640x480 with 1 Axes>"
      ]
     },
     "metadata": {},
     "output_type": "display_data"
    }
   ],
   "source": [
    "plot_roc_curves(df_true_predict, df_true_predict_w,\n",
    "                'Direct transfer', 'Instance weighting strategy', \n",
    "                'Comparison of ROC curves')"
   ]
  },
  {
   "cell_type": "markdown",
   "id": "17d9d43c-1dc5-46c8-b65b-0f57f8fb7a89",
   "metadata": {},
   "source": [
    "### Pietra Index and Kolmogorov-Smirnov test"
   ]
  },
  {
   "cell_type": "code",
   "execution_count": 42,
   "id": "04fca9d4-9795-4ce8-85a4-81fc55f3490d",
   "metadata": {
    "tags": []
   },
   "outputs": [
    {
     "data": {
      "text/html": [
       "<div>\n",
       "<style scoped>\n",
       "    .dataframe tbody tr th:only-of-type {\n",
       "        vertical-align: middle;\n",
       "    }\n",
       "\n",
       "    .dataframe tbody tr th {\n",
       "        vertical-align: top;\n",
       "    }\n",
       "\n",
       "    .dataframe thead th {\n",
       "        text-align: right;\n",
       "    }\n",
       "</style>\n",
       "<table border=\"1\" class=\"dataframe\">\n",
       "  <thead>\n",
       "    <tr style=\"text-align: right;\">\n",
       "      <th></th>\n",
       "      <th>Pietra index</th>\n",
       "      <th>KS p_val</th>\n",
       "    </tr>\n",
       "  </thead>\n",
       "  <tbody>\n",
       "    <tr>\n",
       "      <th>Direct tranfer</th>\n",
       "      <td>0.476274</td>\n",
       "      <td>1.249983e-26</td>\n",
       "    </tr>\n",
       "    <tr>\n",
       "      <th>Instance weighting strategy</th>\n",
       "      <td>0.465224</td>\n",
       "      <td>2.320641e-25</td>\n",
       "    </tr>\n",
       "  </tbody>\n",
       "</table>\n",
       "</div>"
      ],
      "text/plain": [
       "                            Pietra index      KS p_val\n",
       "Direct tranfer                  0.476274  1.249983e-26\n",
       "Instance weighting strategy     0.465224  2.320641e-25"
      ]
     },
     "execution_count": 42,
     "metadata": {},
     "output_type": "execute_result"
    }
   ],
   "source": [
    "ks_test_IWS = kstest(df_true_predict_w.loc[df_true_predict_w['y']==0, 'y_pred'], \n",
    "                     df_true_predict_w.loc[df_true_predict_w['y']==1, 'y_pred'])\n",
    "\n",
    "KS_test_comparison(ks_test_direct, ks_test_IWS)"
   ]
  },
  {
   "cell_type": "code",
   "execution_count": 43,
   "id": "9633599f-842a-4601-94b8-9f1353154e8a",
   "metadata": {
    "tags": []
   },
   "outputs": [
    {
     "data": {
      "image/png": "[encoded data removed]",
      "text/plain": [
       "<Figure size 640x480 with 1 Axes>"
      ]
     },
     "metadata": {},
     "output_type": "display_data"
    }
   ],
   "source": [
    "plot_KS_CDF(df_true_predict, df_true_predict_w)"
   ]
  },
  {
   "cell_type": "markdown",
   "id": "9905f7e4-ea8e-43d7-9f98-f34becdde8ec",
   "metadata": {},
   "source": [
    "### Realized probability of dropout"
   ]
  },
  {
   "cell_type": "code",
   "execution_count": null,
   "id": "ee2f3244-15d0-43e1-bc0a-1d1d48d5dfab",
   "metadata": {
    "tags": []
   },
   "outputs": [],
   "source": [
    "plot_dropout_rate(\n",
    "    df_true_predict_w, percent_list, names_list,\n",
    "    'Observed probabilty of dropout for students grouped by\\ntheir predicted probability of dropout (IWS)'\n",
    ")"
   ]
  },
  {
   "cell_type": "code",
   "execution_count": null,
   "id": "3eedbcb6-b1ea-4c3a-8bc3-4fd36983325f",
   "metadata": {
    "tags": []
   },
   "outputs": [],
   "source": [
    "plot_dropout_rate_two_models(df_true_predict, df_true_predict_w,\n",
    "                             percent_list, names_list)"
   ]
  },
  {
   "cell_type": "markdown",
   "id": "304c8024-2b03-4523-b19e-8e4d45e57cdb",
   "metadata": {},
   "source": [
    "### AUC Confidence interval"
   ]
  },
  {
   "cell_type": "code",
   "execution_count": 46,
   "id": "08571b47-c22a-44ac-902c-765f207cc840",
   "metadata": {
    "tags": []
   },
   "outputs": [],
   "source": [
    "bootstrap_res = bootstrap((df_true_predict_w['y'], df_true_predict_w['y_pred']), \n",
    "                          calc_auc, paired=True, n_resamples=10000,\n",
    "                          method='BCa', confidence_level=0.95, random_state=random_state)"
   ]
  },
  {
   "cell_type": "code",
   "execution_count": 47,
   "id": "878e8684-1802-4ca0-aef7-44ee97cf0bb6",
   "metadata": {
    "tags": []
   },
   "outputs": [
    {
     "data": {
      "image/png": "[encoded data removed]",
      "text/plain": [
       "<Figure size 640x480 with 1 Axes>"
      ]
     },
     "metadata": {},
     "output_type": "display_data"
    }
   ],
   "source": [
    "plt.hist(bootstrap_res.bootstrap_distribution, bins=25, density=True)\n",
    "plt.title('AUC Distribution for Transferred Weighted Source Model')\n",
    "plt.xlabel('AUC')\n",
    "plt.ylabel('pdf');"
   ]
  },
  {
   "cell_type": "code",
   "execution_count": 48,
   "id": "88f4023f-344a-4b3a-b16b-91547a5a844b",
   "metadata": {
    "tags": []
   },
   "outputs": [
    {
     "data": {
      "text/plain": [
       "ConfidenceInterval(low=0.7349694576464101, high=0.8301059471617143)"
      ]
     },
     "execution_count": 48,
     "metadata": {},
     "output_type": "execute_result"
    }
   ],
   "source": [
    "auc_w_conf_int = bootstrap_res.confidence_interval\n",
    "auc_w_conf_int"
   ]
  },
  {
   "cell_type": "code",
   "execution_count": 49,
   "id": "abfa7988-abcb-4018-91f0-8c80cddef219",
   "metadata": {
    "tags": []
   },
   "outputs": [
    {
     "data": {
      "text/plain": [
       "0.09513648951530418"
      ]
     },
     "execution_count": 49,
     "metadata": {},
     "output_type": "execute_result"
    }
   ],
   "source": [
    "auc_w_conf_int[1] - auc_w_conf_int[0]"
   ]
  },
  {
   "cell_type": "markdown",
   "id": "08747931-715f-4b67-8e5d-bc946331dd48",
   "metadata": {},
   "source": [
    "## Fairness metrics"
   ]
  },
  {
   "cell_type": "markdown",
   "id": "b6fc2ee3-86e9-4db5-9c11-73558e8d2ef0",
   "metadata": {},
   "source": [
    "### Sliced AUCs"
   ]
  },
  {
   "cell_type": "code",
   "execution_count": 50,
   "id": "d550d430-2ebf-4eb4-a368-562b5f7b0497",
   "metadata": {
    "tags": []
   },
   "outputs": [],
   "source": [
    "sliced_auc_IWS = sliced_auc(df_true_predict_w['y'], \n",
    "                            df_true_predict_w['y_pred'],\n",
    "                            ['STDNT_ETHNC_grouped', 'STDNT_FEMALE'], \n",
    "                            target_df)"
   ]
  },
  {
   "cell_type": "code",
   "execution_count": 51,
   "id": "b6b85562-1faa-40dc-bdbb-e205c204b17b",
   "metadata": {
    "tags": []
   },
   "outputs": [
    {
     "data": {
      "text/html": [
       "<div>\n",
       "<style scoped>\n",
       "    .dataframe tbody tr th:only-of-type {\n",
       "        vertical-align: middle;\n",
       "    }\n",
       "\n",
       "    .dataframe tbody tr th {\n",
       "        vertical-align: top;\n",
       "    }\n",
       "\n",
       "    .dataframe thead th {\n",
       "        text-align: right;\n",
       "    }\n",
       "</style>\n",
       "<table border=\"1\" class=\"dataframe\">\n",
       "  <thead>\n",
       "    <tr style=\"text-align: right;\">\n",
       "      <th></th>\n",
       "      <th>Attribute</th>\n",
       "      <th>Value</th>\n",
       "      <th>AUC_IWS</th>\n",
       "      <th>AUC_direct</th>\n",
       "    </tr>\n",
       "  </thead>\n",
       "  <tbody>\n",
       "    <tr>\n",
       "      <th>0</th>\n",
       "      <td>STDNT_ETHNC_grouped</td>\n",
       "      <td>1</td>\n",
       "      <td>0.728118</td>\n",
       "      <td>0.71599</td>\n",
       "    </tr>\n",
       "    <tr>\n",
       "      <th>1</th>\n",
       "      <td>STDNT_ETHNC_grouped</td>\n",
       "      <td>0</td>\n",
       "      <td>0.81206</td>\n",
       "      <td>0.839475</td>\n",
       "    </tr>\n",
       "    <tr>\n",
       "      <th>2</th>\n",
       "      <td>STDNT_ETHNC_grouped</td>\n",
       "      <td>2</td>\n",
       "      <td>0.811501</td>\n",
       "      <td>0.792427</td>\n",
       "    </tr>\n",
       "    <tr>\n",
       "      <th>3</th>\n",
       "      <td>STDNT_FEMALE</td>\n",
       "      <td>0</td>\n",
       "      <td>0.792446</td>\n",
       "      <td>0.776758</td>\n",
       "    </tr>\n",
       "    <tr>\n",
       "      <th>4</th>\n",
       "      <td>STDNT_FEMALE</td>\n",
       "      <td>1</td>\n",
       "      <td>0.754448</td>\n",
       "      <td>0.795667</td>\n",
       "    </tr>\n",
       "  </tbody>\n",
       "</table>\n",
       "</div>"
      ],
      "text/plain": [
       "             Attribute Value   AUC_IWS AUC_direct\n",
       "0  STDNT_ETHNC_grouped     1  0.728118    0.71599\n",
       "1  STDNT_ETHNC_grouped     0   0.81206   0.839475\n",
       "2  STDNT_ETHNC_grouped     2  0.811501   0.792427\n",
       "3         STDNT_FEMALE     0  0.792446   0.776758\n",
       "4         STDNT_FEMALE     1  0.754448   0.795667"
      ]
     },
     "execution_count": 51,
     "metadata": {},
     "output_type": "execute_result"
    }
   ],
   "source": [
    "sliced_auc_IWS.merge(sliced_auc_direct, on=['Attribute', 'Value'], suffixes=('_IWS', '_direct'))    "
   ]
  },
  {
   "cell_type": "markdown",
   "id": "40757ea5-9fe9-4859-b71e-8d7424e420ec",
   "metadata": {},
   "source": [
    "### Equal opportunity difference"
   ]
  },
  {
   "cell_type": "code",
   "execution_count": 52,
   "id": "6b723b57-d640-4fc8-a667-3a029b77d5a0",
   "metadata": {
    "tags": []
   },
   "outputs": [],
   "source": [
    "equal_opport_IWS = fairn_metrics(df_true_predict_w['y'], \n",
    "                                 df_true_predict_w['y_pred'], \n",
    "                                 attribites_dic, target_df, threshold)"
   ]
  },
  {
   "cell_type": "code",
   "execution_count": 53,
   "id": "2c633390-4112-4d56-9e41-48873605cb17",
   "metadata": {
    "tags": []
   },
   "outputs": [
    {
     "data": {
      "text/html": [
       "<div>\n",
       "<style scoped>\n",
       "    .dataframe tbody tr th:only-of-type {\n",
       "        vertical-align: middle;\n",
       "    }\n",
       "\n",
       "    .dataframe tbody tr th {\n",
       "        vertical-align: top;\n",
       "    }\n",
       "\n",
       "    .dataframe thead th {\n",
       "        text-align: right;\n",
       "    }\n",
       "</style>\n",
       "<table border=\"1\" class=\"dataframe\">\n",
       "  <thead>\n",
       "    <tr style=\"text-align: right;\">\n",
       "      <th></th>\n",
       "      <th>Attribute</th>\n",
       "      <th>Value</th>\n",
       "      <th>thresh_10%_IWS</th>\n",
       "      <th>thresh_10%_direct</th>\n",
       "    </tr>\n",
       "  </thead>\n",
       "  <tbody>\n",
       "    <tr>\n",
       "      <th>0</th>\n",
       "      <td>STDNT_ETHNC_grouped</td>\n",
       "      <td>1</td>\n",
       "      <td>-0.119174</td>\n",
       "      <td>-0.326271</td>\n",
       "    </tr>\n",
       "    <tr>\n",
       "      <th>1</th>\n",
       "      <td>STDNT_ETHNC_grouped</td>\n",
       "      <td>0</td>\n",
       "      <td>0</td>\n",
       "      <td>0</td>\n",
       "    </tr>\n",
       "    <tr>\n",
       "      <th>2</th>\n",
       "      <td>STDNT_ETHNC_grouped</td>\n",
       "      <td>2</td>\n",
       "      <td>0.141243</td>\n",
       "      <td>0.118173</td>\n",
       "    </tr>\n",
       "    <tr>\n",
       "      <th>3</th>\n",
       "      <td>STDNT_FEMALE</td>\n",
       "      <td>0</td>\n",
       "      <td>0</td>\n",
       "      <td>0</td>\n",
       "    </tr>\n",
       "    <tr>\n",
       "      <th>4</th>\n",
       "      <td>STDNT_FEMALE</td>\n",
       "      <td>1</td>\n",
       "      <td>-0.068262</td>\n",
       "      <td>0.031316</td>\n",
       "    </tr>\n",
       "  </tbody>\n",
       "</table>\n",
       "</div>"
      ],
      "text/plain": [
       "             Attribute Value thresh_10%_IWS thresh_10%_direct\n",
       "0  STDNT_ETHNC_grouped     1      -0.119174         -0.326271\n",
       "1  STDNT_ETHNC_grouped     0              0                 0\n",
       "2  STDNT_ETHNC_grouped     2       0.141243          0.118173\n",
       "3         STDNT_FEMALE     0              0                 0\n",
       "4         STDNT_FEMALE     1      -0.068262          0.031316"
      ]
     },
     "execution_count": 53,
     "metadata": {},
     "output_type": "execute_result"
    }
   ],
   "source": [
    "equal_opport_IWS.merge(equal_opport_direct, on=['Attribute', 'Value'], suffixes=('_IWS', '_direct'))    "
   ]
  },
  {
   "cell_type": "markdown",
   "id": "29be89b0-73d7-4996-8b20-068d94a77b60",
   "metadata": {},
   "source": [
    "### Generalized entropy index"
   ]
  },
  {
   "cell_type": "code",
   "execution_count": 54,
   "id": "c05827c8-14fb-4f27-833f-80ebbe9ede04",
   "metadata": {
    "tags": []
   },
   "outputs": [],
   "source": [
    "gen_entropy_IWS = gen_entropy_index(2, df_true_predict_w, \n",
    "                                    target_df['STDNT_ETHNC_grouped'], \n",
    "                                    calc_educ_benefits,\n",
    "                                    threshold[0])"
   ]
  },
  {
   "cell_type": "code",
   "execution_count": 55,
   "id": "57e18fe0-0c28-4918-b8d2-850daf4c436b",
   "metadata": {
    "tags": []
   },
   "outputs": [
    {
     "data": {
      "text/html": [
       "<div>\n",
       "<style scoped>\n",
       "    .dataframe tbody tr th:only-of-type {\n",
       "        vertical-align: middle;\n",
       "    }\n",
       "\n",
       "    .dataframe tbody tr th {\n",
       "        vertical-align: top;\n",
       "    }\n",
       "\n",
       "    .dataframe thead th {\n",
       "        text-align: right;\n",
       "    }\n",
       "</style>\n",
       "<table border=\"1\" class=\"dataframe\">\n",
       "  <thead>\n",
       "    <tr style=\"text-align: right;\">\n",
       "      <th></th>\n",
       "      <th>Generalized entropy</th>\n",
       "      <th>Between groups entropy</th>\n",
       "    </tr>\n",
       "  </thead>\n",
       "  <tbody>\n",
       "    <tr>\n",
       "      <th>Direct tranfer</th>\n",
       "      <td>0.447761</td>\n",
       "      <td>0.051036</td>\n",
       "    </tr>\n",
       "    <tr>\n",
       "      <th>Instance weighting strategy</th>\n",
       "      <td>0.433824</td>\n",
       "      <td>0.015929</td>\n",
       "    </tr>\n",
       "  </tbody>\n",
       "</table>\n",
       "</div>"
      ],
      "text/plain": [
       "                            Generalized entropy Between groups entropy\n",
       "Direct tranfer                         0.447761               0.051036\n",
       "Instance weighting strategy            0.433824               0.015929"
      ]
     },
     "execution_count": 55,
     "metadata": {},
     "output_type": "execute_result"
    }
   ],
   "source": [
    "gen_entropy_comparison(gen_entropy_direct, gen_entropy_IWS)"
   ]
  },
  {
   "cell_type": "markdown",
   "id": "ecdd0cda-63a6-4dc0-990b-bfc1df3087df",
   "metadata": {
    "tags": []
   },
   "source": [
    "### Generalized entropy index that takes into account the risk ranks of students"
   ]
  },
  {
   "cell_type": "code",
   "execution_count": 56,
   "id": "f5d32528-72e0-4a4f-a7b4-5a75d6909e65",
   "metadata": {
    "tags": []
   },
   "outputs": [],
   "source": [
    "gen_entropy_ranks_IWS = gen_entropy_index(2, df_true_predict_w, \n",
    "                                          target_df['STDNT_ETHNC_grouped'], \n",
    "                                          calc_educ_rank_benefits, \n",
    "                                          rank_thresholds)"
   ]
  },
  {
   "cell_type": "code",
   "execution_count": 57,
   "id": "b0419f7e-a5aa-4eb0-a551-0f18cc1e502c",
   "metadata": {
    "tags": []
   },
   "outputs": [
    {
     "data": {
      "text/html": [
       "<div>\n",
       "<style scoped>\n",
       "    .dataframe tbody tr th:only-of-type {\n",
       "        vertical-align: middle;\n",
       "    }\n",
       "\n",
       "    .dataframe tbody tr th {\n",
       "        vertical-align: top;\n",
       "    }\n",
       "\n",
       "    .dataframe thead th {\n",
       "        text-align: right;\n",
       "    }\n",
       "</style>\n",
       "<table border=\"1\" class=\"dataframe\">\n",
       "  <thead>\n",
       "    <tr style=\"text-align: right;\">\n",
       "      <th></th>\n",
       "      <th>Generalized entropy</th>\n",
       "      <th>Between groups entropy</th>\n",
       "    </tr>\n",
       "  </thead>\n",
       "  <tbody>\n",
       "    <tr>\n",
       "      <th>Direct tranfer</th>\n",
       "      <td>0.582115</td>\n",
       "      <td>0.046076</td>\n",
       "    </tr>\n",
       "    <tr>\n",
       "      <th>Instance weighting strategy</th>\n",
       "      <td>0.602698</td>\n",
       "      <td>0.036503</td>\n",
       "    </tr>\n",
       "  </tbody>\n",
       "</table>\n",
       "</div>"
      ],
      "text/plain": [
       "                            Generalized entropy Between groups entropy\n",
       "Direct tranfer                         0.582115               0.046076\n",
       "Instance weighting strategy            0.602698               0.036503"
      ]
     },
     "execution_count": 57,
     "metadata": {},
     "output_type": "execute_result"
    }
   ],
   "source": [
    "gen_entropy_comparison(gen_entropy_ranks_direct, gen_entropy_ranks_IWS)"
   ]
  }
 ],
 "metadata": {
  "kernelspec": {
   "display_name": "sklearn-env",
   "language": "python",
   "name": "sklearn-env"
  },
  "language_info": {
   "codemirror_mode": {
    "name": "ipython",
    "version": 3
   },
   "file_extension": ".py",
   "mimetype": "text/x-python",
   "name": "python",
   "nbconvert_exporter": "python",
   "pygments_lexer": "ipython3",
   "version": "3.11.0"
  }
 },
 "nbformat": 4,
 "nbformat_minor": 5
}

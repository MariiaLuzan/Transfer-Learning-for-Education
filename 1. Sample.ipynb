{
 "cells": [
  {
   "cell_type": "code",
   "execution_count": 1,
   "id": "3f642cc3-6108-4f4f-925b-6aa3f7bc7830",
   "metadata": {
    "tags": []
   },
   "outputs": [],
   "source": [
    "import pandas as pd\n",
    "import numpy as np\n",
    "from sklearn.pipeline import Pipeline"
   ]
  },
  {
   "cell_type": "code",
   "execution_count": 2,
   "id": "8020d9dc-8fc7-4ba6-a591-c2d52f6c2832",
   "metadata": {
    "tags": []
   },
   "outputs": [],
   "source": [
    "# Sample\n",
    "from transformers.response_var import EnrolledOneYearLater\n",
    "from transformers.filter_term_table import FilterTermRows\n",
    "from transformers.add_student_info import AddStudentInfo"
   ]
  },
  {
   "cell_type": "code",
   "execution_count": 3,
   "id": "1b605d98-9149-4049-91bc-d81ed20ee48c",
   "metadata": {
    "tags": []
   },
   "outputs": [],
   "source": [
    "# Features\n",
    "from transformers.features_gender import FeatureIsFemale\n",
    "from transformers.features_age import FeatureAge\n",
    "from transformers.features_gpa import FeatureGPA\n",
    "from transformers.features_ethnicity import FeatureEthnicGroupDummy\n",
    "from transformers.features_sat_act import FeatureSatAct\n",
    "from transformers.features_residency import FeatureStateResident\n",
    "from transformers.features_parent_education import FeatureParentEducation\n",
    "from transformers.features_warning_signals import FeatureCourseWarningSignals\n",
    "from transformers.features_acad_load import FeatureAcadLoad\n",
    "from transformers.features_family_income import FeatureFamilyIncome"
   ]
  },
  {
   "cell_type": "markdown",
   "id": "40ab10a9-2f64-4f36-877d-a361218804e3",
   "metadata": {},
   "source": [
    "# Params"
   ]
  },
  {
   "cell_type": "code",
   "execution_count": 4,
   "id": "ab3970c3-4426-4670-b31d-c2dc576af188",
   "metadata": {
    "tags": []
   },
   "outputs": [],
   "source": [
    "min_year = 2015"
   ]
  },
  {
   "cell_type": "markdown",
   "id": "0cdcc76e-d967-4f38-8d4e-dfc5dcb36784",
   "metadata": {},
   "source": [
    "# Data Loading"
   ]
  },
  {
   "cell_type": "code",
   "execution_count": 5,
   "id": "8170564e-8ca4-4775-b539-7a5e751bc0b5",
   "metadata": {
    "tags": []
   },
   "outputs": [],
   "source": [
    "files = ! ls /data0/larc/*.csv"
   ]
  },
  {
   "cell_type": "code",
   "execution_count": 6,
   "id": "602a7172-25b1-4a05-b299-8700b901f02b",
   "metadata": {
    "tags": []
   },
   "outputs": [
    {
     "name": "stdout",
     "output_type": "stream",
     "text": [
      "/data0/larc/LARC Student_LARC_20230125_STDNT_INFO.csv\n",
      "/data0/larc/LARC Student_LARC_20230125_STDNT_TERM_CLASS_INFO.csv\n",
      "/data0/larc/LARC Student_LARC_20230125_STDNT_TERM_INFO.csv\n",
      "/data0/larc/LARC Student_LARC_20230125_STDNT_TERM_TRNSFR_INFO.csv\n"
     ]
    }
   ],
   "source": [
    "for file in files:\n",
    "    print(file)"
   ]
  },
  {
   "cell_type": "code",
   "execution_count": 7,
   "id": "b2b86dc4-a33f-4db0-b2aa-afd27a56ca80",
   "metadata": {
    "tags": []
   },
   "outputs": [],
   "source": [
    "stdn_info = pd.read_csv(files[0], low_memory=False)"
   ]
  },
  {
   "cell_type": "code",
   "execution_count": 8,
   "id": "91ca64aa-6fd2-4060-b1cb-13eb274f2b7b",
   "metadata": {
    "tags": []
   },
   "outputs": [],
   "source": [
    "term  = pd.read_csv(files[2], low_memory=False)"
   ]
  },
  {
   "cell_type": "code",
   "execution_count": 9,
   "id": "c38b0dcc-ce95-4c19-bf2e-0c596a602f49",
   "metadata": {
    "tags": []
   },
   "outputs": [],
   "source": [
    "term_class = pd.read_csv(files[1], low_memory=False)"
   ]
  },
  {
   "cell_type": "code",
   "execution_count": 10,
   "id": "0ccf6baf-58ee-4ec7-bf7f-64a3991ebc6f",
   "metadata": {
    "tags": []
   },
   "outputs": [
    {
     "data": {
      "text/html": [
       "<div>\n",
       "<style scoped>\n",
       "    .dataframe tbody tr th:only-of-type {\n",
       "        vertical-align: middle;\n",
       "    }\n",
       "\n",
       "    .dataframe tbody tr th {\n",
       "        vertical-align: top;\n",
       "    }\n",
       "\n",
       "    .dataframe thead th {\n",
       "        text-align: right;\n",
       "    }\n",
       "</style>\n",
       "<table border=\"1\" class=\"dataframe\">\n",
       "  <thead>\n",
       "    <tr style=\"text-align: right;\">\n",
       "      <th></th>\n",
       "      <th>#SNPSHT_RPT_DT</th>\n",
       "      <th>STDNT_ID</th>\n",
       "      <th>TERM_CD</th>\n",
       "      <th>CLASS_NBR</th>\n",
       "      <th>TERM_SHORT_DES</th>\n",
       "      <th>GRD_BASIS_ENRL_CD</th>\n",
       "      <th>GRD_BASIS_ENRL_DES</th>\n",
       "      <th>CRSE_GRD_INPUT_CD</th>\n",
       "      <th>CRSE_GRD_OFFCL_CD</th>\n",
       "      <th>UNITS_TAKEN_NBR</th>\n",
       "      <th>...</th>\n",
       "      <th>CLASS_MTG_TUES_IND</th>\n",
       "      <th>CLASS_MTG_WED_IND</th>\n",
       "      <th>CLASS_MTG_THURS_IND</th>\n",
       "      <th>CLASS_MTG_FRI_IND</th>\n",
       "      <th>CLASS_MTG_SAT_IND</th>\n",
       "      <th>CLASS_MTG_SUN_IND</th>\n",
       "      <th>CLASS_SCTN_TOPIC_DES</th>\n",
       "      <th>CLASS_GPA</th>\n",
       "      <th>CRSE_GPA</th>\n",
       "      <th>CLASS_CSP_IND</th>\n",
       "    </tr>\n",
       "  </thead>\n",
       "  <tbody>\n",
       "    <tr>\n",
       "      <th>0</th>\n",
       "      <td>2023-01-25</td>\n",
       "      <td>2</td>\n",
       "      <td>2110</td>\n",
       "      <td>10411</td>\n",
       "      <td>FA 2016</td>\n",
       "      <td>GRD</td>\n",
       "      <td>Graded</td>\n",
       "      <td>A</td>\n",
       "      <td>A</td>\n",
       "      <td>4.0</td>\n",
       "      <td>...</td>\n",
       "      <td>1</td>\n",
       "      <td>0</td>\n",
       "      <td>1</td>\n",
       "      <td>0</td>\n",
       "      <td>0</td>\n",
       "      <td>0</td>\n",
       "      <td></td>\n",
       "      <td>3.253</td>\n",
       "      <td>3.253</td>\n",
       "      <td>0</td>\n",
       "    </tr>\n",
       "    <tr>\n",
       "      <th>1</th>\n",
       "      <td>2023-01-25</td>\n",
       "      <td>2</td>\n",
       "      <td>2160</td>\n",
       "      <td>25852</td>\n",
       "      <td>FA 2017</td>\n",
       "      <td>OPF</td>\n",
       "      <td>Optional Pass/Fail</td>\n",
       "      <td>B+</td>\n",
       "      <td>P</td>\n",
       "      <td>4.0</td>\n",
       "      <td>...</td>\n",
       "      <td>1</td>\n",
       "      <td>0</td>\n",
       "      <td>1</td>\n",
       "      <td>0</td>\n",
       "      <td>0</td>\n",
       "      <td>0</td>\n",
       "      <td></td>\n",
       "      <td>2.879</td>\n",
       "      <td>3.016</td>\n",
       "      <td>0</td>\n",
       "    </tr>\n",
       "    <tr>\n",
       "      <th>2</th>\n",
       "      <td>2023-01-25</td>\n",
       "      <td>131072</td>\n",
       "      <td>1260</td>\n",
       "      <td>13804</td>\n",
       "      <td>FA 1999</td>\n",
       "      <td>GRD</td>\n",
       "      <td>Graded</td>\n",
       "      <td>A-</td>\n",
       "      <td>A-</td>\n",
       "      <td>3.0</td>\n",
       "      <td>...</td>\n",
       "      <td>1</td>\n",
       "      <td>1</td>\n",
       "      <td>1</td>\n",
       "      <td>0</td>\n",
       "      <td>0</td>\n",
       "      <td>0</td>\n",
       "      <td></td>\n",
       "      <td>8.250</td>\n",
       "      <td>8.250</td>\n",
       "      <td>0</td>\n",
       "    </tr>\n",
       "    <tr>\n",
       "      <th>3</th>\n",
       "      <td>2023-01-25</td>\n",
       "      <td>131072</td>\n",
       "      <td>1270</td>\n",
       "      <td>13407</td>\n",
       "      <td>WN 2000</td>\n",
       "      <td>GRD</td>\n",
       "      <td>Graded</td>\n",
       "      <td>C-</td>\n",
       "      <td>C-</td>\n",
       "      <td>2.0</td>\n",
       "      <td>...</td>\n",
       "      <td>0</td>\n",
       "      <td>1</td>\n",
       "      <td>0</td>\n",
       "      <td>0</td>\n",
       "      <td>0</td>\n",
       "      <td>0</td>\n",
       "      <td></td>\n",
       "      <td>4.060</td>\n",
       "      <td>4.060</td>\n",
       "      <td>0</td>\n",
       "    </tr>\n",
       "    <tr>\n",
       "      <th>4</th>\n",
       "      <td>2023-01-25</td>\n",
       "      <td>139264</td>\n",
       "      <td>2020</td>\n",
       "      <td>21393</td>\n",
       "      <td>WN 2015</td>\n",
       "      <td>GRD</td>\n",
       "      <td>Graded</td>\n",
       "      <td>B-</td>\n",
       "      <td>B-</td>\n",
       "      <td>3.0</td>\n",
       "      <td>...</td>\n",
       "      <td>1</td>\n",
       "      <td>0</td>\n",
       "      <td>1</td>\n",
       "      <td>0</td>\n",
       "      <td>0</td>\n",
       "      <td>0</td>\n",
       "      <td></td>\n",
       "      <td>3.594</td>\n",
       "      <td>3.495</td>\n",
       "      <td>0</td>\n",
       "    </tr>\n",
       "  </tbody>\n",
       "</table>\n",
       "<p>5 rows × 85 columns</p>\n",
       "</div>"
      ],
      "text/plain": [
       "  #SNPSHT_RPT_DT  STDNT_ID  TERM_CD  CLASS_NBR TERM_SHORT_DES  \\\n",
       "0     2023-01-25         2     2110      10411        FA 2016   \n",
       "1     2023-01-25         2     2160      25852        FA 2017   \n",
       "2     2023-01-25    131072     1260      13804        FA 1999   \n",
       "3     2023-01-25    131072     1270      13407        WN 2000   \n",
       "4     2023-01-25    139264     2020      21393        WN 2015   \n",
       "\n",
       "  GRD_BASIS_ENRL_CD  GRD_BASIS_ENRL_DES CRSE_GRD_INPUT_CD CRSE_GRD_OFFCL_CD  \\\n",
       "0               GRD              Graded                 A                 A   \n",
       "1               OPF  Optional Pass/Fail                B+                 P   \n",
       "2               GRD              Graded                A-                A-   \n",
       "3               GRD              Graded                C-                C-   \n",
       "4               GRD              Graded                B-                B-   \n",
       "\n",
       "   UNITS_TAKEN_NBR  ...  CLASS_MTG_TUES_IND  CLASS_MTG_WED_IND  \\\n",
       "0              4.0  ...                   1                  0   \n",
       "1              4.0  ...                   1                  0   \n",
       "2              3.0  ...                   1                  1   \n",
       "3              2.0  ...                   0                  1   \n",
       "4              3.0  ...                   1                  0   \n",
       "\n",
       "   CLASS_MTG_THURS_IND  CLASS_MTG_FRI_IND  CLASS_MTG_SAT_IND  \\\n",
       "0                    1                  0                  0   \n",
       "1                    1                  0                  0   \n",
       "2                    1                  0                  0   \n",
       "3                    0                  0                  0   \n",
       "4                    1                  0                  0   \n",
       "\n",
       "   CLASS_MTG_SUN_IND CLASS_SCTN_TOPIC_DES CLASS_GPA CRSE_GPA CLASS_CSP_IND  \n",
       "0                  0                          3.253    3.253             0  \n",
       "1                  0                          2.879    3.016             0  \n",
       "2                  0                          8.250    8.250             0  \n",
       "3                  0                          4.060    4.060             0  \n",
       "4                  0                          3.594    3.495             0  \n",
       "\n",
       "[5 rows x 85 columns]"
      ]
     },
     "execution_count": 10,
     "metadata": {},
     "output_type": "execute_result"
    }
   ],
   "source": [
    "term_class.head()"
   ]
  },
  {
   "cell_type": "code",
   "execution_count": 11,
   "id": "0bce153d-43ce-40f4-8e4c-c8c7e6f5ee10",
   "metadata": {
    "tags": []
   },
   "outputs": [],
   "source": [
    "# Filter columns\n",
    "student_cols = [\n",
    "    'STDNT_ID', 'STDNT_BIRTH_YR', 'STDNT_BIRTH_MO',\n",
    "    # Student Sex Code (1 = Female; 2 = Male; 3 = Unknown)\n",
    "    'STDNT_SEX_CD',\n",
    "    # A code indicating whether a student has learned and used\n",
    "    # English from early childhood (1 = Yes; 0 = No)\n",
    "    'STDNT_NTV_ENG_SPKR_IND',\n",
    "    # A code representing a student's race as defined by the federal government's requirements\n",
    "    'STDNT_ETHNC_GRP_CD',\n",
    "    # A code indicating whether a student has self-identified as Hispanic or Latino using the\n",
    "    # federal standards. Students who have self-identified as Hispanic or Latino will be\n",
    "    # categorized as such even if they identify other races\n",
    "    'STDNT_HSPNC_LATINO_IND',\n",
    "    # A code indicating whether a student has self-identified as\n",
    "    # having Asian ethnicity (1 =Yes; 0 = No)\n",
    "    'STDNT_ASIAN_IND',\n",
    "    'STDNT_BLACK_IND',\n",
    "    'STDNT_HWIAN_IND',\n",
    "    'STDNT_HSPNC_IND',\n",
    "    'STDNT_NTV_AMRCN_IND',\n",
    "    'STDNT_WHITE_IND',\n",
    "    'STDNT_MULTI_ETHNC_IND',\n",
    "    # Student International Indicator (1 = Yes; 0 = No)\n",
    "    'STDNT_INTL_IND',\n",
    "    # Parent Maximum Education Level (Examples of Valid Values:\n",
    "    # Bachelor's degree; Master's degree; High School diploma)\n",
    "    'PRNT_MAX_ED_LVL_DES',\n",
    "    # Parent Dependent Number\n",
    "    'PRNT_DEP_NBR_CD',\n",
    "    # Estimated Gross Family Income (Examples of Valid Values:\n",
    "    # $25,000 - $49,999; $50,000 - $74,999; $75,000 - $99,999)\n",
    "    'EST_GROSS_FAM_INC_DES', \n",
    "    # Single Parent Indicator\n",
    "    'SNGL_PRNT_IND',\n",
    "    # SAT\n",
    "    'MAX_SATI_TOTAL_CALC_SCR', 'MAX_SATI_TOTAL_MSS_ERWS_SCR',\n",
    "    'MAX_SATI_TOTAL_MSS_ERWS_PCTL',\n",
    "    'MAX_SATI_MATH_SCR', 'MAX_SATI_MSS_SCR',\n",
    "    'MAX_SATI_MATH_PCTL', 'MAX_SATI_MSS_PCTL',\n",
    "    # ACT\n",
    "    'MAX_ACT_COMP_SCR', 'MAX_ACT_COMP_PCTL',\n",
    "    'MAX_ACT_MATH_PCTL', \n",
    "    # High school GPA\n",
    "    'HS_GPA',\n",
    "    # High School Calculus Indicator\n",
    "    'HS_CALC_IND'\n",
    "]"
   ]
  },
  {
   "cell_type": "code",
   "execution_count": 12,
   "id": "feb2c822-d3c1-447e-9901-a3e2d1dd17bd",
   "metadata": {
    "tags": []
   },
   "outputs": [],
   "source": [
    "term_cols = [\n",
    "    'STDNT_ID', \n",
    "    'TERM_CD', 'TERM_SHORT_DES',\n",
    "    # The number of academic careers a student is registered for within a term\n",
    "    'ACAD_CRER_CNT',\n",
    "    # Primary Career based on enrolment hours (e.g. Undergraduate L S & A; Undergraduate Engineering; Rackham)\n",
    "    'PRMRY_CRER_CD',\n",
    "    'PRMRY_CRER_DES',\n",
    "    # The level of a student's primary career. E.g: U = Undergraduate; G = Graduate; \n",
    "    # P = Graduate-Professional; A = Academic Outreach\n",
    "    'CRER_LVL_CD',\n",
    "    \n",
    "    # Examples of valid values: Lit, Science & Arts UG Degree; Biology Mas; Psychology Doc\n",
    "    'PGM_1_DES',\n",
    "    'PGM_1_MAJOR_1_CIP_DES',\n",
    "    'PGM_2_DES',\n",
    "    'PGM_2_MAJOR_1_CIP_DES',\n",
    "    'PGM_3_DES',\n",
    "    'PGM_3_MAJOR_1_CIP_DES',\n",
    "        \n",
    "    # Student's residency for fee assessment purposes (InState; Out-State)\n",
    "    'RES_SHORT_DES',\n",
    "    # Entry type (readmission can indicate higher risk of dropping out)\n",
    "    # Categorical (Continuing; Freshman; Readmit/Cr)\n",
    "    'ENTRY_TYP_SHORT_DES',\n",
    "    'CURR_GPA',\n",
    "    'CUM_GPA',\n",
    "    # A code indicating whether a student is enrolled in any honors\n",
    "    # program during the term (1 = Yes; 0 = No)\n",
    "    'HONORS_PGM_IND',\n",
    "    # Student's academic load based on units taken for the term\n",
    "    # (Full-Time; Half-Time; No Units)\n",
    "    'ACAD_LOAD_SHORT_DES',\n",
    "    # A code indicating whether a student is enrolled in any\n",
    "    # supplemental study plans\n",
    "    'SPPLMNT_STUDY_IND'\n",
    "]"
   ]
  },
  {
   "cell_type": "code",
   "execution_count": 13,
   "id": "eb1e2cad-4d2b-4747-850f-116bdc7c9d3a",
   "metadata": {
    "tags": []
   },
   "outputs": [],
   "source": [
    "stdn_info_df = stdn_info.copy()[student_cols]\n",
    "term_df = term.copy()[term_cols]"
   ]
  },
  {
   "cell_type": "markdown",
   "id": "f0eff722-7b74-4480-9bb4-385ba0989f29",
   "metadata": {},
   "source": [
    "# Sample"
   ]
  },
  {
   "cell_type": "code",
   "execution_count": 14,
   "id": "a6c0f035-9576-410f-b780-2ed0d70cbbdf",
   "metadata": {
    "tags": []
   },
   "outputs": [],
   "source": [
    "sample_pipeline = Pipeline([\n",
    "    ('compute_y_variable', EnrolledOneYearLater()),\n",
    "    ('filter_term_rows', FilterTermRows(min_year)),\n",
    "    ('add_student_info', AddStudentInfo(stdn_info_df)),\n",
    "])\n",
    "\n",
    "# Fit and transform your data using the pipeline\n",
    "sample_df = sample_pipeline.fit_transform(term_df)"
   ]
  },
  {
   "cell_type": "code",
   "execution_count": 15,
   "id": "a2fd7f78-74fa-4a24-b586-712ae6f812d9",
   "metadata": {
    "tags": []
   },
   "outputs": [
    {
     "data": {
      "text/html": [
       "<div>\n",
       "<style scoped>\n",
       "    .dataframe tbody tr th:only-of-type {\n",
       "        vertical-align: middle;\n",
       "    }\n",
       "\n",
       "    .dataframe tbody tr th {\n",
       "        vertical-align: top;\n",
       "    }\n",
       "\n",
       "    .dataframe thead th {\n",
       "        text-align: right;\n",
       "    }\n",
       "</style>\n",
       "<table border=\"1\" class=\"dataframe\">\n",
       "  <thead>\n",
       "    <tr style=\"text-align: right;\">\n",
       "      <th></th>\n",
       "      <th>TERM_CD</th>\n",
       "      <th>TERM_SHORT_DES</th>\n",
       "      <th>ACAD_CRER_CNT</th>\n",
       "      <th>PRMRY_CRER_CD</th>\n",
       "      <th>PRMRY_CRER_DES</th>\n",
       "      <th>CRER_LVL_CD</th>\n",
       "      <th>PGM_1_DES</th>\n",
       "      <th>PGM_1_MAJOR_1_CIP_DES</th>\n",
       "      <th>PGM_2_DES</th>\n",
       "      <th>PGM_2_MAJOR_1_CIP_DES</th>\n",
       "      <th>...</th>\n",
       "      <th>MAX_SATI_TOTAL_MSS_ERWS_PCTL</th>\n",
       "      <th>MAX_SATI_MATH_SCR</th>\n",
       "      <th>MAX_SATI_MSS_SCR</th>\n",
       "      <th>MAX_SATI_MATH_PCTL</th>\n",
       "      <th>MAX_SATI_MSS_PCTL</th>\n",
       "      <th>MAX_ACT_COMP_SCR</th>\n",
       "      <th>MAX_ACT_COMP_PCTL</th>\n",
       "      <th>MAX_ACT_MATH_PCTL</th>\n",
       "      <th>HS_GPA</th>\n",
       "      <th>HS_CALC_IND</th>\n",
       "    </tr>\n",
       "  </thead>\n",
       "  <tbody>\n",
       "    <tr>\n",
       "      <th>33128</th>\n",
       "      <td>2060</td>\n",
       "      <td>FA 2015</td>\n",
       "      <td>1</td>\n",
       "      <td>ULSA</td>\n",
       "      <td>Undergraduate L S &amp; A</td>\n",
       "      <td>U</td>\n",
       "      <td>Lit, Sci, and the Arts UG Deg</td>\n",
       "      <td>German Language and Literature</td>\n",
       "      <td>NaN</td>\n",
       "      <td>NaN</td>\n",
       "      <td>...</td>\n",
       "      <td>NaN</td>\n",
       "      <td>NaN</td>\n",
       "      <td>NaN</td>\n",
       "      <td>NaN</td>\n",
       "      <td>NaN</td>\n",
       "      <td>33.0</td>\n",
       "      <td>91.0</td>\n",
       "      <td>71.0</td>\n",
       "      <td>3.9</td>\n",
       "      <td>1</td>\n",
       "    </tr>\n",
       "    <tr>\n",
       "      <th>33129</th>\n",
       "      <td>2110</td>\n",
       "      <td>FA 2016</td>\n",
       "      <td>1</td>\n",
       "      <td>ULSA</td>\n",
       "      <td>Undergraduate L S &amp; A</td>\n",
       "      <td>U</td>\n",
       "      <td>Lit, Sci, and the Arts UG Deg</td>\n",
       "      <td>Liberal Arts and Sciences, General Studies and...</td>\n",
       "      <td>NaN</td>\n",
       "      <td>NaN</td>\n",
       "      <td>...</td>\n",
       "      <td>NaN</td>\n",
       "      <td>NaN</td>\n",
       "      <td>NaN</td>\n",
       "      <td>NaN</td>\n",
       "      <td>NaN</td>\n",
       "      <td>32.0</td>\n",
       "      <td>78.0</td>\n",
       "      <td>97.0</td>\n",
       "      <td>3.8</td>\n",
       "      <td>1</td>\n",
       "    </tr>\n",
       "    <tr>\n",
       "      <th>126498</th>\n",
       "      <td>2060</td>\n",
       "      <td>FA 2015</td>\n",
       "      <td>1</td>\n",
       "      <td>ULSA</td>\n",
       "      <td>Undergraduate L S &amp; A</td>\n",
       "      <td>U</td>\n",
       "      <td>Lit, Sci, and the Arts UG Deg</td>\n",
       "      <td>Liberal Arts and Sciences, General Studies and...</td>\n",
       "      <td>NaN</td>\n",
       "      <td>NaN</td>\n",
       "      <td>...</td>\n",
       "      <td>NaN</td>\n",
       "      <td>NaN</td>\n",
       "      <td>NaN</td>\n",
       "      <td>NaN</td>\n",
       "      <td>NaN</td>\n",
       "      <td>28.0</td>\n",
       "      <td>33.0</td>\n",
       "      <td>4.0</td>\n",
       "      <td>3.9</td>\n",
       "      <td>0</td>\n",
       "    </tr>\n",
       "  </tbody>\n",
       "</table>\n",
       "<p>3 rows × 53 columns</p>\n",
       "</div>"
      ],
      "text/plain": [
       "        TERM_CD TERM_SHORT_DES  ACAD_CRER_CNT PRMRY_CRER_CD  \\\n",
       "33128      2060        FA 2015              1          ULSA   \n",
       "33129      2110        FA 2016              1          ULSA   \n",
       "126498     2060        FA 2015              1          ULSA   \n",
       "\n",
       "               PRMRY_CRER_DES CRER_LVL_CD                      PGM_1_DES  \\\n",
       "33128   Undergraduate L S & A           U  Lit, Sci, and the Arts UG Deg   \n",
       "33129   Undergraduate L S & A           U  Lit, Sci, and the Arts UG Deg   \n",
       "126498  Undergraduate L S & A           U  Lit, Sci, and the Arts UG Deg   \n",
       "\n",
       "                                    PGM_1_MAJOR_1_CIP_DES PGM_2_DES  \\\n",
       "33128                      German Language and Literature       NaN   \n",
       "33129   Liberal Arts and Sciences, General Studies and...       NaN   \n",
       "126498  Liberal Arts and Sciences, General Studies and...       NaN   \n",
       "\n",
       "       PGM_2_MAJOR_1_CIP_DES  ... MAX_SATI_TOTAL_MSS_ERWS_PCTL  \\\n",
       "33128                    NaN  ...                          NaN   \n",
       "33129                    NaN  ...                          NaN   \n",
       "126498                   NaN  ...                          NaN   \n",
       "\n",
       "       MAX_SATI_MATH_SCR MAX_SATI_MSS_SCR MAX_SATI_MATH_PCTL  \\\n",
       "33128                NaN              NaN                NaN   \n",
       "33129                NaN              NaN                NaN   \n",
       "126498               NaN              NaN                NaN   \n",
       "\n",
       "        MAX_SATI_MSS_PCTL  MAX_ACT_COMP_SCR  MAX_ACT_COMP_PCTL  \\\n",
       "33128                 NaN              33.0               91.0   \n",
       "33129                 NaN              32.0               78.0   \n",
       "126498                NaN              28.0               33.0   \n",
       "\n",
       "       MAX_ACT_MATH_PCTL  HS_GPA HS_CALC_IND  \n",
       "33128               71.0     3.9           1  \n",
       "33129               97.0     3.8           1  \n",
       "126498               4.0     3.9           0  \n",
       "\n",
       "[3 rows x 53 columns]"
      ]
     },
     "execution_count": 15,
     "metadata": {},
     "output_type": "execute_result"
    }
   ],
   "source": [
    "sample_df.head(3)"
   ]
  },
  {
   "cell_type": "code",
   "execution_count": null,
   "id": "80403c51-2472-4605-81dc-c8c4eba1c102",
   "metadata": {
    "tags": []
   },
   "outputs": [],
   "source": [
    "sample_df.groupby('PRMRY_CRER_DES')[['PRMRY_CRER_DES']].count()"
   ]
  },
  {
   "cell_type": "markdown",
   "id": "af1e6d63-ce93-45e7-9615-d9c2264dab17",
   "metadata": {},
   "source": [
    "# Features"
   ]
  },
  {
   "cell_type": "markdown",
   "id": "c136d2e5-aaf6-43c4-9ae6-ce5aa6eb6af3",
   "metadata": {},
   "source": [
    "## Params"
   ]
  },
  {
   "cell_type": "code",
   "execution_count": 17,
   "id": "77256117-ccc0-45b8-97e9-ef8ce2fb275f",
   "metadata": {
    "tags": []
   },
   "outputs": [],
   "source": [
    "age_bins = pd.IntervalIndex.from_tuples([(0, 17.5), (17.5, 19), (19,100)])\n",
    "hs_gpa_bins = pd.IntervalIndex.from_tuples([(0, 2.7), (2.7, 3.3), (3.3, 3.6), (3.6, 3.8), (3.8, 3.9), (3.9, 5)])\n",
    "first_term_gpa_bins = pd.IntervalIndex.from_tuples([(-1, 0), (0, 2), (2, 2.7), (2.7, 3.3), (3.3, 3.7), (3.7, 5)])\n",
    "SAT_bins = pd.IntervalIndex.from_tuples([(0, 1000), (1000, 1200), (1200, 1300), (1300, 1400), (1400, 1600)])"
   ]
  },
  {
   "cell_type": "markdown",
   "id": "9e9ac6fe-c744-49fe-9f8f-b63cc8cfa0c2",
   "metadata": {},
   "source": [
    "## Features"
   ]
  },
  {
   "cell_type": "code",
   "execution_count": 18,
   "id": "1f7dc49e-3a90-41db-84e2-f023999bc582",
   "metadata": {
    "tags": []
   },
   "outputs": [],
   "source": [
    "features_pipeline = Pipeline([\n",
    "    ('feature_gender', FeatureIsFemale()),\n",
    "    ('feature_age', FeatureAge(age_bins)),\n",
    "    ('feature_gpa', FeatureGPA(hs_gpa_bins, first_term_gpa_bins)),\n",
    "    ('feature_ethnicity', FeatureEthnicGroupDummy()),\n",
    "    ('feature_sat_act', FeatureSatAct(SAT_bins)),\n",
    "    ('feature_residency', FeatureStateResident()),\n",
    "    ('feature_parent_education', FeatureParentEducation()),\n",
    "    ('feature_academic_load', FeatureAcadLoad()),\n",
    "    ('feature_family_income', FeatureFamilyIncome()),\n",
    "    ('courses_warning_signals', FeatureCourseWarningSignals(term_class[['STDNT_ID', 'TERM_CD', 'CRSE_GRD_INPUT_CD']])),\n",
    "   \n",
    "])\n",
    "\n",
    "# Fit and transform your data using the pipeline\n",
    "features_df = features_pipeline.fit_transform(sample_df)"
   ]
  },
  {
   "cell_type": "code",
   "execution_count": 19,
   "id": "eaa27ab5-40b5-40e5-bfa7-f49f59b07fee",
   "metadata": {
    "tags": []
   },
   "outputs": [
    {
     "data": {
      "text/plain": [
       "(47616, 134)"
      ]
     },
     "execution_count": 19,
     "metadata": {},
     "output_type": "execute_result"
    }
   ],
   "source": [
    "features_df.shape"
   ]
  },
  {
   "cell_type": "code",
   "execution_count": 20,
   "id": "a6b2fc57-b5de-42a7-96e3-d32b780518eb",
   "metadata": {
    "tags": []
   },
   "outputs": [],
   "source": [
    "features_df.to_csv('features_df.csv', index=False)"
   ]
  }
 ],
 "metadata": {
  "kernelspec": {
   "display_name": "sklearn-env",
   "language": "python",
   "name": "sklearn-env"
  },
  "language_info": {
   "codemirror_mode": {
    "name": "ipython",
    "version": 3
   },
   "file_extension": ".py",
   "mimetype": "text/x-python",
   "name": "python",
   "nbconvert_exporter": "python",
   "pygments_lexer": "ipython3",
   "version": "3.11.0"
  }
 },
 "nbformat": 4,
 "nbformat_minor": 5
}

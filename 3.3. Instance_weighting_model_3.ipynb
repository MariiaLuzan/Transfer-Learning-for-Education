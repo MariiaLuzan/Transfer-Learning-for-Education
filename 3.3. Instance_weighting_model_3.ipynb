{
 "cells": [
  {
   "cell_type": "markdown",
   "id": "1dca047e-9cc0-4ebb-b62e-39e2dc3d9391",
   "metadata": {},
   "source": [
    "# Instance Weighting Transfer Learning ULSA -> UENG\n",
    "# Model 3"
   ]
  },
  {
   "cell_type": "code",
   "execution_count": 1,
   "id": "3f642cc3-6108-4f4f-925b-6aa3f7bc7830",
   "metadata": {
    "tags": []
   },
   "outputs": [],
   "source": [
    "import time\n",
    "import pandas as pd\n",
    "import numpy as np\n",
    "import matplotlib.pyplot as plt\n",
    "from sklearn.preprocessing import StandardScaler\n",
    "from sklearn.linear_model import LogisticRegression\n",
    "from sklearn.metrics import roc_auc_score\n",
    "from sklearn.metrics import roc_curve\n",
    "from sklearn.base import clone\n",
    "from scipy.stats import bootstrap\n",
    "from scipy.stats import kstest"
   ]
  },
  {
   "cell_type": "code",
   "execution_count": 2,
   "id": "07901337-1e7e-4ab0-b3a6-4f5d6f9d0a06",
   "metadata": {
    "tags": []
   },
   "outputs": [],
   "source": [
    "from cvxopt import matrix\n",
    "from cvxopt import solvers"
   ]
  },
  {
   "cell_type": "code",
   "execution_count": 3,
   "id": "1337a168-b811-461b-b09a-c316e0afaeb2",
   "metadata": {
    "tags": []
   },
   "outputs": [],
   "source": [
    "from transformers.features_missing_vals import imputation_pipeline\n",
    "from transformers.ethnic_groups import CombineEthnicGroups"
   ]
  },
  {
   "cell_type": "code",
   "execution_count": 4,
   "id": "613e76d1-aedc-41a3-9999-4026ccc5fd0b",
   "metadata": {
    "tags": []
   },
   "outputs": [],
   "source": [
    "# CVXOPT\n",
    "from transfer_learning.cvxopt_input import get_cvxopt_input\n",
    "from transfer_learning.transfer_learning import transfer_learning\n",
    "from transfer_learning.length_scale import calc_kernels_for_l"
   ]
  },
  {
   "cell_type": "code",
   "execution_count": 6,
   "id": "310f3ea7-7c4c-49a6-b8df-7cb94428b6a1",
   "metadata": {
    "tags": []
   },
   "outputs": [],
   "source": [
    "from model_evaluation.metrics import calc_y_mean\n",
    "from model_evaluation.metrics import plot_roc_curves\n",
    "from model_evaluation.metrics import KS_test_comparison, plot_KS_CDF\n",
    "from model_evaluation.metrics import plot_dropout_rate, plot_dropout_rate_two_models\n",
    "from model_evaluation.metrics import gen_entropy_comparison\n",
    "from fairness.fairness_metrics import sliced_auc, fairn_metrics\n",
    "from fairness.customized_entropy import calc_educ_benefits\n",
    "from fairness.customized_entropy import calc_educ_rank_benefits\n",
    "from fairness.customized_entropy import gen_entropy_index"
   ]
  },
  {
   "cell_type": "markdown",
   "id": "40ab10a9-2f64-4f36-877d-a361218804e3",
   "metadata": {},
   "source": [
    "# Params"
   ]
  },
  {
   "cell_type": "code",
   "execution_count": 7,
   "id": "51fee72b-d1f2-4ccf-a8f1-916b63038f3a",
   "metadata": {
    "tags": []
   },
   "outputs": [],
   "source": [
    "source_school = 'ULSA'\n",
    "target_school = 'UENG'"
   ]
  },
  {
   "cell_type": "code",
   "execution_count": 8,
   "id": "fd1b946c-bc47-4ea4-8d81-016da3c20f76",
   "metadata": {
    "tags": []
   },
   "outputs": [],
   "source": [
    "# Model features\n",
    "cols = ['STDNT_FEMALE',\n",
    "        'STDNT_AGE_BIN',\n",
    "        'HS_GPA_Imp_Interp',\n",
    "        'CURR_GPA',\n",
    "        'HS_CALC_IND',\n",
    "        'GROSS_FAM_INC',\n",
    "        'SNGL_PRNT_IND',\n",
    "        'STDNT_ETHNC_GRP_CD',\n",
    "        'SAT_ACT_TOTAL_BIN',\n",
    "        'PRNT_ED_LVL',\n",
    "        'No_grades_at_all',\n",
    "        'Grade_Overall_I_for_1_and_more_courses',\n",
    "        'Grade_W_for_1_course',\n",
    "        'Grade_W_for_2_courses',\n",
    "        'Grade_W_for_3_and_more_courses',\n",
    "        'Grade_NR_for_1_and_more_courses']"
   ]
  },
  {
   "cell_type": "code",
   "execution_count": 9,
   "id": "8c54cbf0-81ca-43a3-8a26-e71533055051",
   "metadata": {
    "tags": []
   },
   "outputs": [],
   "source": [
    "random_state = 1"
   ]
  },
  {
   "cell_type": "code",
   "execution_count": 10,
   "id": "6cb0dd87-3423-43a2-939c-931eda6fa815",
   "metadata": {
    "tags": []
   },
   "outputs": [],
   "source": [
    "clf = LogisticRegression(penalty=None, random_state=random_state, max_iter=10000)"
   ]
  },
  {
   "cell_type": "code",
   "execution_count": 11,
   "id": "630ddda0-5dd8-497a-88ca-4d1c679090af",
   "metadata": {
    "tags": []
   },
   "outputs": [],
   "source": [
    "# Parameters for fairness metrics\n",
    "\n",
    "# Priviledged values of attributes\n",
    "attribites_dic = {\n",
    "    'STDNT_ETHNC_grouped': 0, # white\n",
    "    'STDNT_FEMALE': 0 # male\n",
    "    }\n",
    "\n",
    "# The threshold for intervention is based on the percentile of predicted dropout probabilities, \n",
    "# specifically targeting the top 10% of students with the highest dropout probabilities\n",
    "threshold=[10]\n",
    "\n",
    "# Percentile values of predicted dropout probabilities that determine the risk ranking of a student\n",
    "rank_thresholds = [90, 95, 97, 99, 99.5]"
   ]
  },
  {
   "cell_type": "markdown",
   "id": "0c11bdde-29a4-4450-9887-d0c487b4de44",
   "metadata": {},
   "source": [
    "## Data"
   ]
  },
  {
   "cell_type": "code",
   "execution_count": 12,
   "id": "ddd36fdf-f143-4d4f-aab0-8f5f1516592e",
   "metadata": {
    "tags": []
   },
   "outputs": [],
   "source": [
    "features_df = pd.read_csv('features_df.csv', low_memory=False)\n",
    "source_df = features_df[features_df['PRMRY_CRER_CD']==source_school].copy()\n",
    "target_df = features_df[features_df['PRMRY_CRER_CD']==target_school].copy()"
   ]
  },
  {
   "cell_type": "code",
   "execution_count": null,
   "id": "c03be603-f77c-405c-a830-480def8d220b",
   "metadata": {
    "tags": []
   },
   "outputs": [],
   "source": [
    "# Group together all ethnic groups, excluding white and asian populations, as they lack a sufficient \n",
    "# number of dropouts for a meaningful fairness analysis\n",
    "\n",
    "# Add new column 'STDNT_ETHNC_grouped' with the following values: 0 for white, 1 for asian, and 2 for other\n",
    "combine_transformer = CombineEthnicGroups()\n",
    "target_df = combine_transformer.fit_transform(target_df)\n",
    "\n",
    "target_df.groupby('STDNT_ETHNC_grouped')[['y_ENROLLED_1_YEAR_LATER']].agg(['count', 'sum'])"
   ]
  },
  {
   "cell_type": "code",
   "execution_count": 14,
   "id": "6c3d4aa7-720b-423c-97b6-4499531a551b",
   "metadata": {
    "tags": []
   },
   "outputs": [],
   "source": [
    "# Imputation of missing values and applying WoE transformation\n",
    "source_df = combine_transformer.fit_transform(source_df)\n",
    "source_imp = imputation_pipeline.fit_transform(source_df, source_df['y_ENROLLED_1_YEAR_LATER'])\n",
    "target_imp = imputation_pipeline.transform(target_df)"
   ]
  },
  {
   "cell_type": "code",
   "execution_count": 15,
   "id": "26c009ec-6cf5-4463-90c0-939bc7803173",
   "metadata": {
    "tags": []
   },
   "outputs": [
    {
     "data": {
      "text/html": [
       "<style>#sk-container-id-1 {color: black;background-color: white;}#sk-container-id-1 pre{padding: 0;}#sk-container-id-1 div.sk-toggleable {background-color: white;}#sk-container-id-1 label.sk-toggleable__label {cursor: pointer;display: block;width: 100%;margin-bottom: 0;padding: 0.3em;box-sizing: border-box;text-align: center;}#sk-container-id-1 label.sk-toggleable__label-arrow:before {content: \"▸\";float: left;margin-right: 0.25em;color: #696969;}#sk-container-id-1 label.sk-toggleable__label-arrow:hover:before {color: black;}#sk-container-id-1 div.sk-estimator:hover label.sk-toggleable__label-arrow:before {color: black;}#sk-container-id-1 div.sk-toggleable__content {max-height: 0;max-width: 0;overflow: hidden;text-align: left;background-color: #f0f8ff;}#sk-container-id-1 div.sk-toggleable__content pre {margin: 0.2em;color: black;border-radius: 0.25em;background-color: #f0f8ff;}#sk-container-id-1 input.sk-toggleable__control:checked~div.sk-toggleable__content {max-height: 200px;max-width: 100%;overflow: auto;}#sk-container-id-1 input.sk-toggleable__control:checked~label.sk-toggleable__label-arrow:before {content: \"▾\";}#sk-container-id-1 div.sk-estimator input.sk-toggleable__control:checked~label.sk-toggleable__label {background-color: #d4ebff;}#sk-container-id-1 div.sk-label input.sk-toggleable__control:checked~label.sk-toggleable__label {background-color: #d4ebff;}#sk-container-id-1 input.sk-hidden--visually {border: 0;clip: rect(1px 1px 1px 1px);clip: rect(1px, 1px, 1px, 1px);height: 1px;margin: -1px;overflow: hidden;padding: 0;position: absolute;width: 1px;}#sk-container-id-1 div.sk-estimator {font-family: monospace;background-color: #f0f8ff;border: 1px dotted black;border-radius: 0.25em;box-sizing: border-box;margin-bottom: 0.5em;}#sk-container-id-1 div.sk-estimator:hover {background-color: #d4ebff;}#sk-container-id-1 div.sk-parallel-item::after {content: \"\";width: 100%;border-bottom: 1px solid gray;flex-grow: 1;}#sk-container-id-1 div.sk-label:hover label.sk-toggleable__label {background-color: #d4ebff;}#sk-container-id-1 div.sk-serial::before {content: \"\";position: absolute;border-left: 1px solid gray;box-sizing: border-box;top: 0;bottom: 0;left: 50%;z-index: 0;}#sk-container-id-1 div.sk-serial {display: flex;flex-direction: column;align-items: center;background-color: white;padding-right: 0.2em;padding-left: 0.2em;position: relative;}#sk-container-id-1 div.sk-item {position: relative;z-index: 1;}#sk-container-id-1 div.sk-parallel {display: flex;align-items: stretch;justify-content: center;background-color: white;position: relative;}#sk-container-id-1 div.sk-item::before, #sk-container-id-1 div.sk-parallel-item::before {content: \"\";position: absolute;border-left: 1px solid gray;box-sizing: border-box;top: 0;bottom: 0;left: 50%;z-index: -1;}#sk-container-id-1 div.sk-parallel-item {display: flex;flex-direction: column;z-index: 1;position: relative;background-color: white;}#sk-container-id-1 div.sk-parallel-item:first-child::after {align-self: flex-end;width: 50%;}#sk-container-id-1 div.sk-parallel-item:last-child::after {align-self: flex-start;width: 50%;}#sk-container-id-1 div.sk-parallel-item:only-child::after {width: 0;}#sk-container-id-1 div.sk-dashed-wrapped {border: 1px dashed gray;margin: 0 0.4em 0.5em 0.4em;box-sizing: border-box;padding-bottom: 0.4em;background-color: white;}#sk-container-id-1 div.sk-label label {font-family: monospace;font-weight: bold;display: inline-block;line-height: 1.2em;}#sk-container-id-1 div.sk-label-container {text-align: center;}#sk-container-id-1 div.sk-container {/* jupyter's `normalize.less` sets `[hidden] { display: none; }` but bootstrap.min.css set `[hidden] { display: none !important; }` so we also need the `!important` here to be able to override the default hidden behavior on the sphinx rendered scikit-learn.org. See: https://github.com/scikit-learn/scikit-learn/issues/21755 */display: inline-block !important;position: relative;}#sk-container-id-1 div.sk-text-repr-fallback {display: none;}</style><div id=\"sk-container-id-1\" class=\"sk-top-container\"><div class=\"sk-text-repr-fallback\"><pre>StandardScaler()</pre><b>In a Jupyter environment, please rerun this cell to show the HTML representation or trust the notebook. <br />On GitHub, the HTML representation is unable to render, please try loading this page with nbviewer.org.</b></div><div class=\"sk-container\" hidden><div class=\"sk-item\"><div class=\"sk-estimator sk-toggleable\"><input class=\"sk-toggleable__control sk-hidden--visually\" id=\"sk-estimator-id-1\" type=\"checkbox\" checked><label for=\"sk-estimator-id-1\" class=\"sk-toggleable__label sk-toggleable__label-arrow\">StandardScaler</label><div class=\"sk-toggleable__content\"><pre>StandardScaler()</pre></div></div></div></div></div>"
      ],
      "text/plain": [
       "StandardScaler()"
      ]
     },
     "execution_count": 15,
     "metadata": {},
     "output_type": "execute_result"
    }
   ],
   "source": [
    "scaler = StandardScaler()\n",
    "scaler.fit(source_imp[cols])"
   ]
  },
  {
   "cell_type": "code",
   "execution_count": 16,
   "id": "af43c3b8-0a08-49ee-bd4b-de6135818f0d",
   "metadata": {
    "tags": []
   },
   "outputs": [],
   "source": [
    "X_source = scaler.transform(source_imp[cols])\n",
    "X_target = scaler.transform(target_imp[cols])"
   ]
  },
  {
   "cell_type": "markdown",
   "id": "5f5e5a40-f9a5-4878-a543-afbd1eaa4733",
   "metadata": {},
   "source": [
    "## Data distribution for protected attributes"
   ]
  },
  {
   "cell_type": "code",
   "execution_count": null,
   "id": "2b10826e-9faa-4b47-8bf8-28c132db61a1",
   "metadata": {
    "tags": []
   },
   "outputs": [],
   "source": [
    "# Female\n",
    "target_df.groupby('STDNT_FEMALE')[['y_ENROLLED_1_YEAR_LATER']].agg(['count', 'sum'])"
   ]
  },
  {
   "cell_type": "code",
   "execution_count": null,
   "id": "6881c650-34f4-4299-87fc-b2d78a64ac86",
   "metadata": {
    "tags": []
   },
   "outputs": [],
   "source": [
    "# International students\n",
    "target_df.groupby('STDNT_INTL_IND')[['y_ENROLLED_1_YEAR_LATER']].agg(['count', 'sum'])"
   ]
  },
  {
   "cell_type": "code",
   "execution_count": null,
   "id": "d7e6701f-0228-4b9a-a151-e07592f4c0d9",
   "metadata": {
    "tags": []
   },
   "outputs": [],
   "source": [
    "# Race\n",
    "dic = {1: 'White', 2: 'Black', 3: 'Hispanic', \n",
    "       4: 'Asian', 5: 'Native Amr', 6: 'Not Indic', \n",
    "       7: 'Hawaiian', 0: '2 or More'}\n",
    "target_df.groupby('STDNT_ETHNC_GRP_CD')[['y_ENROLLED_1_YEAR_LATER']].agg(['count', 'sum'])"
   ]
  },
  {
   "cell_type": "markdown",
   "id": "7530c912-32c8-4335-9aa1-cab46d321df1",
   "metadata": {},
   "source": [
    "# Direct transfer"
   ]
  },
  {
   "cell_type": "markdown",
   "id": "e9d8c83a-cb3b-4a61-85fe-ddeae809f91f",
   "metadata": {},
   "source": [
    "## Fitting the source model"
   ]
  },
  {
   "cell_type": "code",
   "execution_count": 20,
   "id": "6bdc1c25-a05c-4c78-894d-aba4f7198448",
   "metadata": {
    "tags": []
   },
   "outputs": [
    {
     "data": {
      "text/plain": [
       "0.7972844672430845"
      ]
     },
     "execution_count": 20,
     "metadata": {},
     "output_type": "execute_result"
    }
   ],
   "source": [
    "clf_source = clone(clf)\n",
    "\n",
    "y = source_imp['y_ENROLLED_1_YEAR_LATER']\n",
    "\n",
    "clf_source.fit(X_source, y)\n",
    "\n",
    "y_pred = clf_source.predict_proba(X_source)\n",
    "auc_source_train = roc_auc_score(y, y_pred[:,1])\n",
    "auc_source_train"
   ]
  },
  {
   "cell_type": "markdown",
   "id": "7fe94fcf-71f0-44fd-ab44-d3eeff6419cb",
   "metadata": {},
   "source": [
    "## Direct source model transfer (without weighting)"
   ]
  },
  {
   "cell_type": "code",
   "execution_count": 21,
   "id": "a08832eb-f69c-4d6c-a6d9-12aa9f1c55e8",
   "metadata": {
    "tags": []
   },
   "outputs": [],
   "source": [
    "y_pred = clf_source.predict_proba(X_target)"
   ]
  },
  {
   "cell_type": "code",
   "execution_count": 22,
   "id": "72436792-a46a-4950-8277-0ec5c2adb54e",
   "metadata": {
    "tags": []
   },
   "outputs": [],
   "source": [
    "# DataFrame containing true and predicted y\n",
    "df_true_predict = pd.DataFrame(data={'y': target_imp['y_ENROLLED_1_YEAR_LATER'], 'y_pred': y_pred[:,1]})"
   ]
  },
  {
   "cell_type": "markdown",
   "id": "6be6378e-5831-4bda-8b10-53edbfec2dec",
   "metadata": {},
   "source": [
    "## Classification accuracy"
   ]
  },
  {
   "cell_type": "markdown",
   "id": "d91899ab-db41-41d1-84eb-7f885e949e35",
   "metadata": {},
   "source": [
    "### AUC ROC"
   ]
  },
  {
   "cell_type": "code",
   "execution_count": 23,
   "id": "30ea27b4-8bb4-43b7-9a2d-339768bbed37",
   "metadata": {
    "tags": []
   },
   "outputs": [
    {
     "data": {
      "text/plain": [
       "0.7960222505485994"
      ]
     },
     "execution_count": 23,
     "metadata": {},
     "output_type": "execute_result"
    }
   ],
   "source": [
    "auc_direct = roc_auc_score(df_true_predict['y'], df_true_predict['y_pred'])\n",
    "auc_direct"
   ]
  },
  {
   "cell_type": "code",
   "execution_count": 24,
   "id": "818fd9d1-16b3-4489-8f08-cccbe2f894e2",
   "metadata": {
    "tags": []
   },
   "outputs": [],
   "source": [
    "# ROC curve\n",
    "fpr, tpr, thresholds = roc_curve(df_true_predict['y'], df_true_predict['y_pred'], pos_label=1)"
   ]
  },
  {
   "cell_type": "markdown",
   "id": "fb45d874-024d-40be-9848-f0a67778e665",
   "metadata": {},
   "source": [
    "### Pietra Index and Kolmogorov-Smirnov test"
   ]
  },
  {
   "cell_type": "code",
   "execution_count": 25,
   "id": "e7d42ac7-53f7-4922-a665-533a7cbd9b50",
   "metadata": {
    "tags": []
   },
   "outputs": [
    {
     "data": {
      "text/plain": [
       "KstestResult(statistic=0.48961372144055765, pvalue=3.2687524518527815e-28, statistic_location=0.018325545575021522, statistic_sign=1)"
      ]
     },
     "execution_count": 25,
     "metadata": {},
     "output_type": "execute_result"
    }
   ],
   "source": [
    "ks_test_direct = kstest(df_true_predict.loc[df_true_predict['y']==0, 'y_pred'], \n",
    "                        df_true_predict.loc[df_true_predict['y']==1, 'y_pred'])\n",
    "ks_test_direct"
   ]
  },
  {
   "cell_type": "markdown",
   "id": "bf77337c-16ac-49f3-ac17-2f291ca45d1e",
   "metadata": {},
   "source": [
    "### Realized probability of dropout"
   ]
  },
  {
   "cell_type": "code",
   "execution_count": 26,
   "id": "06a9845b-3e27-4fe1-828e-9734453e0828",
   "metadata": {
    "tags": []
   },
   "outputs": [],
   "source": [
    "percent_list = [0, 20, 40, 60, 80, 90, 95, 97, 99, 99.5, 100]\n",
    "names_list = ['0-\\n20', '20-\\n40', '40-\\n60', '60-\\n80', '80-\\n90', '90-\\n95', '95-\\n97', '97-\\n99', '99-\\n99.5', '99.5-\\n100']"
   ]
  },
  {
   "cell_type": "code",
   "execution_count": null,
   "id": "b9f0866b-937f-4306-8eec-a40dabde2f47",
   "metadata": {
    "tags": []
   },
   "outputs": [],
   "source": [
    "plot_dropout_rate(\n",
    "    df_true_predict, percent_list, names_list,\n",
    "    'Observed probabilty of dropout for students grouped by\\ntheir predicted probability of dropout (Direct transfer)'\n",
    ")"
   ]
  },
  {
   "cell_type": "markdown",
   "id": "4dd5b201-5224-424b-a6a7-e91a0703ab09",
   "metadata": {
    "tags": []
   },
   "source": [
    "### AUC Confidence Interval"
   ]
  },
  {
   "cell_type": "code",
   "execution_count": 28,
   "id": "66145850-f7f8-46e5-9716-5ad0fb0421cb",
   "metadata": {
    "tags": []
   },
   "outputs": [],
   "source": [
    "def calc_auc(y, y_pred):\n",
    "    auc = roc_auc_score(y, y_pred)\n",
    "    return auc"
   ]
  },
  {
   "cell_type": "code",
   "execution_count": 29,
   "id": "cb67ebdd-f6a3-4df9-ad97-e17de4a50816",
   "metadata": {
    "tags": []
   },
   "outputs": [],
   "source": [
    "bootstrap_res = bootstrap((df_true_predict['y'], df_true_predict['y_pred']), \n",
    "                          calc_auc, paired=True, n_resamples=10000,\n",
    "                          method='BCa', confidence_level=0.95, random_state=random_state)"
   ]
  },
  {
   "cell_type": "code",
   "execution_count": 30,
   "id": "91b36011-3c9e-4381-95cb-0a756aa80500",
   "metadata": {
    "tags": []
   },
   "outputs": [
    {
     "data": {
      "image/png": "[encoded data removed]",
      "text/plain": [
       "<Figure size 640x480 with 1 Axes>"
      ]
     },
     "metadata": {},
     "output_type": "display_data"
    }
   ],
   "source": [
    "plt.hist(bootstrap_res.bootstrap_distribution, bins=25, density=True)\n",
    "plt.title('AUC Distribution for Transferred Source Model')\n",
    "plt.xlabel('AUC')\n",
    "plt.ylabel('pdf');"
   ]
  },
  {
   "cell_type": "code",
   "execution_count": 31,
   "id": "ec098b1f-e454-4784-93dc-a97d1af5cf7c",
   "metadata": {
    "tags": []
   },
   "outputs": [
    {
     "data": {
      "text/plain": [
       "ConfidenceInterval(low=0.7452855093668748, high=0.8403076801049986)"
      ]
     },
     "execution_count": 31,
     "metadata": {},
     "output_type": "execute_result"
    }
   ],
   "source": [
    "auc_conf_int = bootstrap_res.confidence_interval\n",
    "auc_conf_int"
   ]
  },
  {
   "cell_type": "code",
   "execution_count": 32,
   "id": "ea6debe6-be60-4c04-914b-a43af17038e1",
   "metadata": {
    "tags": []
   },
   "outputs": [
    {
     "data": {
      "text/plain": [
       "0.0950221707381238"
      ]
     },
     "execution_count": 32,
     "metadata": {},
     "output_type": "execute_result"
    }
   ],
   "source": [
    "# Length of confidence interval\n",
    "auc_conf_int[1] - auc_conf_int[0]"
   ]
  },
  {
   "cell_type": "markdown",
   "id": "6d0a94de-edd9-4504-b611-a1e9ce9caa99",
   "metadata": {},
   "source": [
    "## Fairness metrics"
   ]
  },
  {
   "cell_type": "markdown",
   "id": "3a3f1536-d6b0-4efa-b656-f28a5ab43084",
   "metadata": {},
   "source": [
    "### Sliced AUC"
   ]
  },
  {
   "cell_type": "code",
   "execution_count": 33,
   "id": "3ae48138-e8fb-43b0-a768-19884b3a0c3d",
   "metadata": {
    "tags": []
   },
   "outputs": [
    {
     "data": {
      "text/html": [
       "<div>\n",
       "<style scoped>\n",
       "    .dataframe tbody tr th:only-of-type {\n",
       "        vertical-align: middle;\n",
       "    }\n",
       "\n",
       "    .dataframe tbody tr th {\n",
       "        vertical-align: top;\n",
       "    }\n",
       "\n",
       "    .dataframe thead th {\n",
       "        text-align: right;\n",
       "    }\n",
       "</style>\n",
       "<table border=\"1\" class=\"dataframe\">\n",
       "  <thead>\n",
       "    <tr style=\"text-align: right;\">\n",
       "      <th></th>\n",
       "      <th>Attribute</th>\n",
       "      <th>Value</th>\n",
       "      <th>AUC</th>\n",
       "    </tr>\n",
       "  </thead>\n",
       "  <tbody>\n",
       "    <tr>\n",
       "      <th>0</th>\n",
       "      <td>STDNT_ETHNC_grouped</td>\n",
       "      <td>1</td>\n",
       "      <td>0.739328</td>\n",
       "    </tr>\n",
       "    <tr>\n",
       "      <th>1</th>\n",
       "      <td>STDNT_ETHNC_grouped</td>\n",
       "      <td>0</td>\n",
       "      <td>0.8533</td>\n",
       "    </tr>\n",
       "    <tr>\n",
       "      <th>2</th>\n",
       "      <td>STDNT_ETHNC_grouped</td>\n",
       "      <td>2</td>\n",
       "      <td>0.779316</td>\n",
       "    </tr>\n",
       "    <tr>\n",
       "      <th>3</th>\n",
       "      <td>STDNT_FEMALE</td>\n",
       "      <td>0</td>\n",
       "      <td>0.792613</td>\n",
       "    </tr>\n",
       "    <tr>\n",
       "      <th>4</th>\n",
       "      <td>STDNT_FEMALE</td>\n",
       "      <td>1</td>\n",
       "      <td>0.802769</td>\n",
       "    </tr>\n",
       "  </tbody>\n",
       "</table>\n",
       "</div>"
      ],
      "text/plain": [
       "             Attribute Value       AUC\n",
       "0  STDNT_ETHNC_grouped     1  0.739328\n",
       "1  STDNT_ETHNC_grouped     0    0.8533\n",
       "2  STDNT_ETHNC_grouped     2  0.779316\n",
       "3         STDNT_FEMALE     0  0.792613\n",
       "4         STDNT_FEMALE     1  0.802769"
      ]
     },
     "execution_count": 33,
     "metadata": {},
     "output_type": "execute_result"
    }
   ],
   "source": [
    "sliced_auc_direct = sliced_auc(df_true_predict['y'], \n",
    "                               df_true_predict['y_pred'],\n",
    "                               ['STDNT_ETHNC_grouped', 'STDNT_FEMALE'], \n",
    "                               target_df)\n",
    "sliced_auc_direct"
   ]
  },
  {
   "cell_type": "markdown",
   "id": "f776e267-4da4-426e-b420-8b14c5a839e3",
   "metadata": {},
   "source": [
    "### Equal opportunity difference"
   ]
  },
  {
   "cell_type": "code",
   "execution_count": 34,
   "id": "a3308e4f-8586-498d-b686-653fb3bffe47",
   "metadata": {
    "tags": []
   },
   "outputs": [
    {
     "data": {
      "text/html": [
       "<div>\n",
       "<style scoped>\n",
       "    .dataframe tbody tr th:only-of-type {\n",
       "        vertical-align: middle;\n",
       "    }\n",
       "\n",
       "    .dataframe tbody tr th {\n",
       "        vertical-align: top;\n",
       "    }\n",
       "\n",
       "    .dataframe thead th {\n",
       "        text-align: right;\n",
       "    }\n",
       "</style>\n",
       "<table border=\"1\" class=\"dataframe\">\n",
       "  <thead>\n",
       "    <tr style=\"text-align: right;\">\n",
       "      <th></th>\n",
       "      <th>Attribute</th>\n",
       "      <th>Value</th>\n",
       "      <th>thresh_10%</th>\n",
       "    </tr>\n",
       "  </thead>\n",
       "  <tbody>\n",
       "    <tr>\n",
       "      <th>0</th>\n",
       "      <td>STDNT_ETHNC_grouped</td>\n",
       "      <td>1</td>\n",
       "      <td>-0.314619</td>\n",
       "    </tr>\n",
       "    <tr>\n",
       "      <th>1</th>\n",
       "      <td>STDNT_ETHNC_grouped</td>\n",
       "      <td>0</td>\n",
       "      <td>0</td>\n",
       "    </tr>\n",
       "    <tr>\n",
       "      <th>2</th>\n",
       "      <td>STDNT_ETHNC_grouped</td>\n",
       "      <td>2</td>\n",
       "      <td>0.039548</td>\n",
       "    </tr>\n",
       "    <tr>\n",
       "      <th>3</th>\n",
       "      <td>STDNT_FEMALE</td>\n",
       "      <td>0</td>\n",
       "      <td>0</td>\n",
       "    </tr>\n",
       "    <tr>\n",
       "      <th>4</th>\n",
       "      <td>STDNT_FEMALE</td>\n",
       "      <td>1</td>\n",
       "      <td>0.079873</td>\n",
       "    </tr>\n",
       "  </tbody>\n",
       "</table>\n",
       "</div>"
      ],
      "text/plain": [
       "             Attribute Value thresh_10%\n",
       "0  STDNT_ETHNC_grouped     1  -0.314619\n",
       "1  STDNT_ETHNC_grouped     0          0\n",
       "2  STDNT_ETHNC_grouped     2   0.039548\n",
       "3         STDNT_FEMALE     0          0\n",
       "4         STDNT_FEMALE     1   0.079873"
      ]
     },
     "execution_count": 34,
     "metadata": {},
     "output_type": "execute_result"
    }
   ],
   "source": [
    "equal_opport_direct = fairn_metrics(df_true_predict['y'], \n",
    "                                    df_true_predict['y_pred'],\n",
    "                                    attribites_dic, target_df, \n",
    "                                    threshold)\n",
    "\n",
    "equal_opport_direct"
   ]
  },
  {
   "cell_type": "markdown",
   "id": "2dfa4532-5d41-461e-9d2d-b4bdcba18f02",
   "metadata": {},
   "source": [
    "### Generalized entropy index"
   ]
  },
  {
   "cell_type": "code",
   "execution_count": 35,
   "id": "45fe4a90-2739-4b38-9d4a-e150f8c227ae",
   "metadata": {
    "tags": []
   },
   "outputs": [
    {
     "data": {
      "text/plain": [
       "(0.39436619718309873, 0.033198324585853575)"
      ]
     },
     "execution_count": 35,
     "metadata": {},
     "output_type": "execute_result"
    }
   ],
   "source": [
    "gen_entropy_direct = gen_entropy_index(2, df_true_predict, \n",
    "                                       target_df['STDNT_ETHNC_grouped'], \n",
    "                                       calc_educ_benefits,\n",
    "                                       threshold[0])\n",
    "gen_entropy_direct"
   ]
  },
  {
   "cell_type": "markdown",
   "id": "c90f84c7-93ba-466e-9b81-8efe701baf68",
   "metadata": {},
   "source": [
    "### Generalized entropy index that takes into account the risk ranks of students"
   ]
  },
  {
   "cell_type": "code",
   "execution_count": 36,
   "id": "54e64be8-cd56-445a-99bc-a51a01e3ee44",
   "metadata": {
    "tags": []
   },
   "outputs": [
    {
     "data": {
      "text/plain": [
       "(0.5395396848437927, 0.033556873349895204)"
      ]
     },
     "execution_count": 36,
     "metadata": {},
     "output_type": "execute_result"
    }
   ],
   "source": [
    "gen_entropy_ranks_direct = gen_entropy_index(2, df_true_predict, \n",
    "                                             target_df['STDNT_ETHNC_grouped'], \n",
    "                                             calc_educ_rank_benefits, \n",
    "                                             rank_thresholds)\n",
    "gen_entropy_ranks_direct"
   ]
  },
  {
   "cell_type": "markdown",
   "id": "d03597bf-2ee2-433c-88fe-2447158ee66d",
   "metadata": {
    "tags": []
   },
   "source": [
    "# Instance weighting strategy"
   ]
  },
  {
   "cell_type": "markdown",
   "id": "b2d8f2c3-dd14-4b9c-ae20-d3192116f43a",
   "metadata": {},
   "source": [
    "## Selecting the value for the \"length_scale\" hyperparameter\n",
    "The choice of the RBF’s length scale value was made by analyzing kernel matrices across various length scale values, specifically [1, 1.5, 1.75, 2, 2.5, 3, 3.5, 4, 4.5, 5, 5.5, 6, 6.5, 7, 8, 10, 22]. \n",
    "\n",
    "The kernel function, when used to two points, applies a\n",
    "transformation to the distance between these two points. The length scale parameter defines the sensitivity of this kernel function. When the parameter is set too high, the kernel function transforms distances to values closer to 1. Conversely, when the\n",
    "parameter is set too low, the kernel function transforms distances towards 0. We should choose length scale that generates kernel matrices with values distinguishable from one another. The kernel matrices should encompass a variety of values, not just those very close to 0 or 1. It’s worth noting that the most distinct separation between distances occurs when the median distance corresponds to a kernel value of 0.5, positioning the median distance at the midpoint of the possible kernel range (0-1). \n",
    "\n",
    "For our task, this optimal condition corresponds to a length scale value of 3.5, as indicated by information obtained from the kernel matrices (see below)."
   ]
  },
  {
   "cell_type": "code",
   "execution_count": 23,
   "id": "867ebd3c-a935-4931-b9d7-8a53d6144100",
   "metadata": {
    "tags": []
   },
   "outputs": [],
   "source": [
    "length_scale_list = [1, 1.5, 1.75, 2, 2.5, 3, 3.5, 4, 4.5, 5, 5.5, 6, 6.5, 7, 8, 10, 22]\n",
    "quantiles = [0, 0.01, 0.05, 0.1, 0.25, 0.5, 0.75, 0.9, 0.95, 0.99, 1]"
   ]
  },
  {
   "cell_type": "code",
   "execution_count": 24,
   "id": "1fe0c402-4a99-420f-bdc6-664f5b25deb4",
   "metadata": {
    "tags": []
   },
   "outputs": [
    {
     "data": {
      "text/html": [
       "<div>\n",
       "<style scoped>\n",
       "    .dataframe tbody tr th:only-of-type {\n",
       "        vertical-align: middle;\n",
       "    }\n",
       "\n",
       "    .dataframe tbody tr th {\n",
       "        vertical-align: top;\n",
       "    }\n",
       "\n",
       "    .dataframe thead th {\n",
       "        text-align: right;\n",
       "    }\n",
       "</style>\n",
       "<table border=\"1\" class=\"dataframe\">\n",
       "  <thead>\n",
       "    <tr style=\"text-align: right;\">\n",
       "      <th></th>\n",
       "      <th>0.00</th>\n",
       "      <th>0.01</th>\n",
       "      <th>0.05</th>\n",
       "      <th>0.10</th>\n",
       "      <th>0.25</th>\n",
       "      <th>0.50</th>\n",
       "      <th>0.75</th>\n",
       "      <th>0.90</th>\n",
       "      <th>0.95</th>\n",
       "      <th>0.99</th>\n",
       "      <th>1.00</th>\n",
       "    </tr>\n",
       "  </thead>\n",
       "  <tbody>\n",
       "    <tr>\n",
       "      <th>1.0</th>\n",
       "      <td>0.0</td>\n",
       "      <td>0.0</td>\n",
       "      <td>0.0</td>\n",
       "      <td>0.0</td>\n",
       "      <td>0.0</td>\n",
       "      <td>0.000079</td>\n",
       "      <td>0.005704</td>\n",
       "      <td>0.057356</td>\n",
       "      <td>0.194829</td>\n",
       "      <td>0.611706</td>\n",
       "      <td>1.0</td>\n",
       "    </tr>\n",
       "    <tr>\n",
       "      <th>1.5</th>\n",
       "      <td>0.0</td>\n",
       "      <td>0.0</td>\n",
       "      <td>0.0</td>\n",
       "      <td>0.000025</td>\n",
       "      <td>0.001003</td>\n",
       "      <td>0.01501</td>\n",
       "      <td>0.100635</td>\n",
       "      <td>0.280709</td>\n",
       "      <td>0.483382</td>\n",
       "      <td>0.803767</td>\n",
       "      <td>1.0</td>\n",
       "    </tr>\n",
       "    <tr>\n",
       "      <th>1.75</th>\n",
       "      <td>0.0</td>\n",
       "      <td>0.0</td>\n",
       "      <td>0.000005</td>\n",
       "      <td>0.000418</td>\n",
       "      <td>0.006264</td>\n",
       "      <td>0.045729</td>\n",
       "      <td>0.185066</td>\n",
       "      <td>0.393222</td>\n",
       "      <td>0.586206</td>\n",
       "      <td>0.851725</td>\n",
       "      <td>1.0</td>\n",
       "    </tr>\n",
       "    <tr>\n",
       "      <th>2.0</th>\n",
       "      <td>0.0</td>\n",
       "      <td>0.0</td>\n",
       "      <td>0.000082</td>\n",
       "      <td>0.00259</td>\n",
       "      <td>0.020568</td>\n",
       "      <td>0.094235</td>\n",
       "      <td>0.274819</td>\n",
       "      <td>0.489378</td>\n",
       "      <td>0.664375</td>\n",
       "      <td>0.884373</td>\n",
       "      <td>1.0</td>\n",
       "    </tr>\n",
       "    <tr>\n",
       "      <th>2.5</th>\n",
       "      <td>0.0</td>\n",
       "      <td>0.0</td>\n",
       "      <td>0.002417</td>\n",
       "      <td>0.022107</td>\n",
       "      <td>0.083261</td>\n",
       "      <td>0.220544</td>\n",
       "      <td>0.437512</td>\n",
       "      <td>0.632954</td>\n",
       "      <td>0.769741</td>\n",
       "      <td>0.924372</td>\n",
       "      <td>1.0</td>\n",
       "    </tr>\n",
       "    <tr>\n",
       "      <th>3.0</th>\n",
       "      <td>0.0</td>\n",
       "      <td>0.0</td>\n",
       "      <td>0.015236</td>\n",
       "      <td>0.070854</td>\n",
       "      <td>0.177954</td>\n",
       "      <td>0.350021</td>\n",
       "      <td>0.563232</td>\n",
       "      <td>0.727887</td>\n",
       "      <td>0.83382</td>\n",
       "      <td>0.946853</td>\n",
       "      <td>1.0</td>\n",
       "    </tr>\n",
       "    <tr>\n",
       "      <th>3.5</th>\n",
       "      <td>0.0</td>\n",
       "      <td>0.0</td>\n",
       "      <td>0.046234</td>\n",
       "      <td>0.143012</td>\n",
       "      <td>0.281324</td>\n",
       "      <td>0.462433</td>\n",
       "      <td>0.655891</td>\n",
       "      <td>0.79188</td>\n",
       "      <td>0.875009</td>\n",
       "      <td>0.960672</td>\n",
       "      <td>1.0</td>\n",
       "    </tr>\n",
       "    <tr>\n",
       "      <th>4.0</th>\n",
       "      <td>0.0</td>\n",
       "      <td>0.00001</td>\n",
       "      <td>0.09503</td>\n",
       "      <td>0.225596</td>\n",
       "      <td>0.378703</td>\n",
       "      <td>0.554055</td>\n",
       "      <td>0.724039</td>\n",
       "      <td>0.836394</td>\n",
       "      <td>0.902824</td>\n",
       "      <td>0.969748</td>\n",
       "      <td>1.0</td>\n",
       "    </tr>\n",
       "    <tr>\n",
       "      <th>4.5</th>\n",
       "      <td>0.0</td>\n",
       "      <td>0.000113</td>\n",
       "      <td>0.155734</td>\n",
       "      <td>0.308356</td>\n",
       "      <td>0.464305</td>\n",
       "      <td>0.627155</td>\n",
       "      <td>0.774809</td>\n",
       "      <td>0.868351</td>\n",
       "      <td>0.922404</td>\n",
       "      <td>0.97602</td>\n",
       "      <td>1.0</td>\n",
       "    </tr>\n",
       "    <tr>\n",
       "      <th>5.0</th>\n",
       "      <td>0.0</td>\n",
       "      <td>0.000635</td>\n",
       "      <td>0.221733</td>\n",
       "      <td>0.385596</td>\n",
       "      <td>0.537169</td>\n",
       "      <td>0.685289</td>\n",
       "      <td>0.813294</td>\n",
       "      <td>0.891955</td>\n",
       "      <td>0.936669</td>\n",
       "      <td>0.980532</td>\n",
       "      <td>1.0</td>\n",
       "    </tr>\n",
       "    <tr>\n",
       "      <th>5.5</th>\n",
       "      <td>0.0</td>\n",
       "      <td>0.00228</td>\n",
       "      <td>0.287981</td>\n",
       "      <td>0.454947</td>\n",
       "      <td>0.598344</td>\n",
       "      <td>0.731743</td>\n",
       "      <td>0.842994</td>\n",
       "      <td>0.909832</td>\n",
       "      <td>0.947365</td>\n",
       "      <td>0.983883</td>\n",
       "      <td>1.0</td>\n",
       "    </tr>\n",
       "    <tr>\n",
       "      <th>6.0</th>\n",
       "      <td>0.0</td>\n",
       "      <td>0.006024</td>\n",
       "      <td>0.35133</td>\n",
       "      <td>0.515931</td>\n",
       "      <td>0.649497</td>\n",
       "      <td>0.769172</td>\n",
       "      <td>0.866307</td>\n",
       "      <td>0.923668</td>\n",
       "      <td>0.955582</td>\n",
       "      <td>0.98644</td>\n",
       "      <td>1.0</td>\n",
       "    </tr>\n",
       "    <tr>\n",
       "      <th>6.5</th>\n",
       "      <td>0.0</td>\n",
       "      <td>0.012831</td>\n",
       "      <td>0.410126</td>\n",
       "      <td>0.568994</td>\n",
       "      <td>0.692313</td>\n",
       "      <td>0.799621</td>\n",
       "      <td>0.884896</td>\n",
       "      <td>0.934582</td>\n",
       "      <td>0.962027</td>\n",
       "      <td>0.988434</td>\n",
       "      <td>1.0</td>\n",
       "    </tr>\n",
       "    <tr>\n",
       "      <th>7.0</th>\n",
       "      <td>0.0</td>\n",
       "      <td>0.023381</td>\n",
       "      <td>0.463703</td>\n",
       "      <td>0.614954</td>\n",
       "      <td>0.728285</td>\n",
       "      <td>0.824636</td>\n",
       "      <td>0.899928</td>\n",
       "      <td>0.943333</td>\n",
       "      <td>0.967171</td>\n",
       "      <td>0.990019</td>\n",
       "      <td>1.0</td>\n",
       "    </tr>\n",
       "    <tr>\n",
       "      <th>8.0</th>\n",
       "      <td>0.0</td>\n",
       "      <td>0.056385</td>\n",
       "      <td>0.55522</td>\n",
       "      <td>0.68918</td>\n",
       "      <td>0.784467</td>\n",
       "      <td>0.862756</td>\n",
       "      <td>0.922445</td>\n",
       "      <td>0.956319</td>\n",
       "      <td>0.974767</td>\n",
       "      <td>0.99235</td>\n",
       "      <td>1.0</td>\n",
       "    </tr>\n",
       "    <tr>\n",
       "      <th>10.0</th>\n",
       "      <td>0.000039</td>\n",
       "      <td>0.158762</td>\n",
       "      <td>0.686211</td>\n",
       "      <td>0.788012</td>\n",
       "      <td>0.856106</td>\n",
       "      <td>0.909847</td>\n",
       "      <td>0.949646</td>\n",
       "      <td>0.97182</td>\n",
       "      <td>0.983777</td>\n",
       "      <td>0.995097</td>\n",
       "      <td>1.0</td>\n",
       "    </tr>\n",
       "    <tr>\n",
       "      <th>22.0</th>\n",
       "      <td>0.123062</td>\n",
       "      <td>0.683699</td>\n",
       "      <td>0.925146</td>\n",
       "      <td>0.951968</td>\n",
       "      <td>0.96841</td>\n",
       "      <td>0.980669</td>\n",
       "      <td>0.989382</td>\n",
       "      <td>0.994111</td>\n",
       "      <td>0.996626</td>\n",
       "      <td>0.998985</td>\n",
       "      <td>1.0</td>\n",
       "    </tr>\n",
       "    <tr>\n",
       "      <th>dist</th>\n",
       "      <td>45.03364</td>\n",
       "      <td>19.185142</td>\n",
       "      <td>8.678367</td>\n",
       "      <td>6.902775</td>\n",
       "      <td>5.574237</td>\n",
       "      <td>4.346921</td>\n",
       "      <td>3.214519</td>\n",
       "      <td>2.391017</td>\n",
       "      <td>1.808665</td>\n",
       "      <td>0.991467</td>\n",
       "      <td>0.0</td>\n",
       "    </tr>\n",
       "  </tbody>\n",
       "</table>\n",
       "</div>"
      ],
      "text/plain": [
       "          0.00       0.01      0.05      0.10      0.25      0.50      0.75  \\\n",
       "1.0        0.0        0.0       0.0       0.0       0.0  0.000079  0.005704   \n",
       "1.5        0.0        0.0       0.0  0.000025  0.001003   0.01501  0.100635   \n",
       "1.75       0.0        0.0  0.000005  0.000418  0.006264  0.045729  0.185066   \n",
       "2.0        0.0        0.0  0.000082   0.00259  0.020568  0.094235  0.274819   \n",
       "2.5        0.0        0.0  0.002417  0.022107  0.083261  0.220544  0.437512   \n",
       "3.0        0.0        0.0  0.015236  0.070854  0.177954  0.350021  0.563232   \n",
       "3.5        0.0        0.0  0.046234  0.143012  0.281324  0.462433  0.655891   \n",
       "4.0        0.0    0.00001   0.09503  0.225596  0.378703  0.554055  0.724039   \n",
       "4.5        0.0   0.000113  0.155734  0.308356  0.464305  0.627155  0.774809   \n",
       "5.0        0.0   0.000635  0.221733  0.385596  0.537169  0.685289  0.813294   \n",
       "5.5        0.0    0.00228  0.287981  0.454947  0.598344  0.731743  0.842994   \n",
       "6.0        0.0   0.006024   0.35133  0.515931  0.649497  0.769172  0.866307   \n",
       "6.5        0.0   0.012831  0.410126  0.568994  0.692313  0.799621  0.884896   \n",
       "7.0        0.0   0.023381  0.463703  0.614954  0.728285  0.824636  0.899928   \n",
       "8.0        0.0   0.056385   0.55522   0.68918  0.784467  0.862756  0.922445   \n",
       "10.0  0.000039   0.158762  0.686211  0.788012  0.856106  0.909847  0.949646   \n",
       "22.0  0.123062   0.683699  0.925146  0.951968   0.96841  0.980669  0.989382   \n",
       "dist  45.03364  19.185142  8.678367  6.902775  5.574237  4.346921  3.214519   \n",
       "\n",
       "          0.90      0.95      0.99 1.00  \n",
       "1.0   0.057356  0.194829  0.611706  1.0  \n",
       "1.5   0.280709  0.483382  0.803767  1.0  \n",
       "1.75  0.393222  0.586206  0.851725  1.0  \n",
       "2.0   0.489378  0.664375  0.884373  1.0  \n",
       "2.5   0.632954  0.769741  0.924372  1.0  \n",
       "3.0   0.727887   0.83382  0.946853  1.0  \n",
       "3.5    0.79188  0.875009  0.960672  1.0  \n",
       "4.0   0.836394  0.902824  0.969748  1.0  \n",
       "4.5   0.868351  0.922404   0.97602  1.0  \n",
       "5.0   0.891955  0.936669  0.980532  1.0  \n",
       "5.5   0.909832  0.947365  0.983883  1.0  \n",
       "6.0   0.923668  0.955582   0.98644  1.0  \n",
       "6.5   0.934582  0.962027  0.988434  1.0  \n",
       "7.0   0.943333  0.967171  0.990019  1.0  \n",
       "8.0   0.956319  0.974767   0.99235  1.0  \n",
       "10.0   0.97182  0.983777  0.995097  1.0  \n",
       "22.0  0.994111  0.996626  0.998985  1.0  \n",
       "dist  2.391017  1.808665  0.991467  0.0  "
      ]
     },
     "execution_count": 24,
     "metadata": {},
     "output_type": "execute_result"
    }
   ],
   "source": [
    "calc_kernels_for_l(X_source, X_source,\n",
    "                   length_scale_list, quantiles)"
   ]
  },
  {
   "cell_type": "code",
   "execution_count": 25,
   "id": "6c3e047c-6071-4a58-a8e9-bdf6b9213bfb",
   "metadata": {
    "tags": []
   },
   "outputs": [
    {
     "data": {
      "text/html": [
       "<div>\n",
       "<style scoped>\n",
       "    .dataframe tbody tr th:only-of-type {\n",
       "        vertical-align: middle;\n",
       "    }\n",
       "\n",
       "    .dataframe tbody tr th {\n",
       "        vertical-align: top;\n",
       "    }\n",
       "\n",
       "    .dataframe thead th {\n",
       "        text-align: right;\n",
       "    }\n",
       "</style>\n",
       "<table border=\"1\" class=\"dataframe\">\n",
       "  <thead>\n",
       "    <tr style=\"text-align: right;\">\n",
       "      <th></th>\n",
       "      <th>0.00</th>\n",
       "      <th>0.01</th>\n",
       "      <th>0.05</th>\n",
       "      <th>0.10</th>\n",
       "      <th>0.25</th>\n",
       "      <th>0.50</th>\n",
       "      <th>0.75</th>\n",
       "      <th>0.90</th>\n",
       "      <th>0.95</th>\n",
       "      <th>0.99</th>\n",
       "      <th>1.00</th>\n",
       "    </tr>\n",
       "  </thead>\n",
       "  <tbody>\n",
       "    <tr>\n",
       "      <th>1.0</th>\n",
       "      <td>0.0</td>\n",
       "      <td>0.0</td>\n",
       "      <td>0.0</td>\n",
       "      <td>0.0</td>\n",
       "      <td>0.000001</td>\n",
       "      <td>0.000163</td>\n",
       "      <td>0.008853</td>\n",
       "      <td>0.06929</td>\n",
       "      <td>0.218185</td>\n",
       "      <td>0.618653</td>\n",
       "      <td>1.0</td>\n",
       "    </tr>\n",
       "    <tr>\n",
       "      <th>1.5</th>\n",
       "      <td>0.0</td>\n",
       "      <td>0.0</td>\n",
       "      <td>0.0</td>\n",
       "      <td>0.000053</td>\n",
       "      <td>0.001621</td>\n",
       "      <td>0.020733</td>\n",
       "      <td>0.122351</td>\n",
       "      <td>0.30531</td>\n",
       "      <td>0.508329</td>\n",
       "      <td>0.807811</td>\n",
       "      <td>1.0</td>\n",
       "    </tr>\n",
       "    <tr>\n",
       "      <th>1.75</th>\n",
       "      <td>0.0</td>\n",
       "      <td>0.0</td>\n",
       "      <td>0.000017</td>\n",
       "      <td>0.000719</td>\n",
       "      <td>0.008913</td>\n",
       "      <td>0.057977</td>\n",
       "      <td>0.213634</td>\n",
       "      <td>0.418256</td>\n",
       "      <td>0.608284</td>\n",
       "      <td>0.854872</td>\n",
       "      <td>1.0</td>\n",
       "    </tr>\n",
       "    <tr>\n",
       "      <th>2.0</th>\n",
       "      <td>0.0</td>\n",
       "      <td>0.0</td>\n",
       "      <td>0.000227</td>\n",
       "      <td>0.003922</td>\n",
       "      <td>0.026946</td>\n",
       "      <td>0.113011</td>\n",
       "      <td>0.306746</td>\n",
       "      <td>0.513059</td>\n",
       "      <td>0.683449</td>\n",
       "      <td>0.886874</td>\n",
       "      <td>1.0</td>\n",
       "    </tr>\n",
       "    <tr>\n",
       "      <th>2.5</th>\n",
       "      <td>0.0</td>\n",
       "      <td>0.0</td>\n",
       "      <td>0.004648</td>\n",
       "      <td>0.028832</td>\n",
       "      <td>0.098974</td>\n",
       "      <td>0.24774</td>\n",
       "      <td>0.469395</td>\n",
       "      <td>0.652389</td>\n",
       "      <td>0.783812</td>\n",
       "      <td>0.926044</td>\n",
       "      <td>1.0</td>\n",
       "    </tr>\n",
       "    <tr>\n",
       "      <th>3.0</th>\n",
       "      <td>0.0</td>\n",
       "      <td>0.0</td>\n",
       "      <td>0.023992</td>\n",
       "      <td>0.085206</td>\n",
       "      <td>0.200652</td>\n",
       "      <td>0.379458</td>\n",
       "      <td>0.591428</td>\n",
       "      <td>0.743336</td>\n",
       "      <td>0.844377</td>\n",
       "      <td>0.948042</td>\n",
       "      <td>1.0</td>\n",
       "    </tr>\n",
       "    <tr>\n",
       "      <th>3.5</th>\n",
       "      <td>0.0</td>\n",
       "      <td>0.0</td>\n",
       "      <td>0.064541</td>\n",
       "      <td>0.163765</td>\n",
       "      <td>0.307263</td>\n",
       "      <td>0.490698</td>\n",
       "      <td>0.679857</td>\n",
       "      <td>0.804194</td>\n",
       "      <td>0.883134</td>\n",
       "      <td>0.961558</td>\n",
       "      <td>1.0</td>\n",
       "    </tr>\n",
       "    <tr>\n",
       "      <th>4.0</th>\n",
       "      <td>0.0</td>\n",
       "      <td>0.000009</td>\n",
       "      <td>0.122683</td>\n",
       "      <td>0.250259</td>\n",
       "      <td>0.405158</td>\n",
       "      <td>0.579802</td>\n",
       "      <td>0.744209</td>\n",
       "      <td>0.846334</td>\n",
       "      <td>0.909236</td>\n",
       "      <td>0.970433</td>\n",
       "      <td>1.0</td>\n",
       "    </tr>\n",
       "    <tr>\n",
       "      <th>4.5</th>\n",
       "      <td>0.0</td>\n",
       "      <td>0.000106</td>\n",
       "      <td>0.190557</td>\n",
       "      <td>0.334698</td>\n",
       "      <td>0.489751</td>\n",
       "      <td>0.650073</td>\n",
       "      <td>0.791814</td>\n",
       "      <td>0.876494</td>\n",
       "      <td>0.927576</td>\n",
       "      <td>0.976565</td>\n",
       "      <td>1.0</td>\n",
       "    </tr>\n",
       "    <tr>\n",
       "      <th>5.0</th>\n",
       "      <td>0.0</td>\n",
       "      <td>0.000602</td>\n",
       "      <td>0.261108</td>\n",
       "      <td>0.412068</td>\n",
       "      <td>0.560893</td>\n",
       "      <td>0.705503</td>\n",
       "      <td>0.827722</td>\n",
       "      <td>0.898725</td>\n",
       "      <td>0.940921</td>\n",
       "      <td>0.980975</td>\n",
       "      <td>1.0</td>\n",
       "    </tr>\n",
       "    <tr>\n",
       "      <th>5.5</th>\n",
       "      <td>0.0</td>\n",
       "      <td>0.002179</td>\n",
       "      <td>0.329635</td>\n",
       "      <td>0.48061</td>\n",
       "      <td>0.620101</td>\n",
       "      <td>0.749536</td>\n",
       "      <td>0.855335</td>\n",
       "      <td>0.915535</td>\n",
       "      <td>0.950918</td>\n",
       "      <td>0.984251</td>\n",
       "      <td>1.0</td>\n",
       "    </tr>\n",
       "    <tr>\n",
       "      <th>6.0</th>\n",
       "      <td>0.0</td>\n",
       "      <td>0.0058</td>\n",
       "      <td>0.393563</td>\n",
       "      <td>0.540278</td>\n",
       "      <td>0.669285</td>\n",
       "      <td>0.784858</td>\n",
       "      <td>0.876951</td>\n",
       "      <td>0.928531</td>\n",
       "      <td>0.958593</td>\n",
       "      <td>0.986749</td>\n",
       "      <td>1.0</td>\n",
       "    </tr>\n",
       "    <tr>\n",
       "      <th>6.5</th>\n",
       "      <td>0.0</td>\n",
       "      <td>0.012424</td>\n",
       "      <td>0.451776</td>\n",
       "      <td>0.591795</td>\n",
       "      <td>0.710245</td>\n",
       "      <td>0.813494</td>\n",
       "      <td>0.894151</td>\n",
       "      <td>0.938772</td>\n",
       "      <td>0.964608</td>\n",
       "      <td>0.988698</td>\n",
       "      <td>1.0</td>\n",
       "    </tr>\n",
       "    <tr>\n",
       "      <th>7.0</th>\n",
       "      <td>0.0</td>\n",
       "      <td>0.02274</td>\n",
       "      <td>0.504034</td>\n",
       "      <td>0.636144</td>\n",
       "      <td>0.744522</td>\n",
       "      <td>0.836958</td>\n",
       "      <td>0.908039</td>\n",
       "      <td>0.946979</td>\n",
       "      <td>0.969408</td>\n",
       "      <td>0.990248</td>\n",
       "      <td>1.0</td>\n",
       "    </tr>\n",
       "    <tr>\n",
       "      <th>8.0</th>\n",
       "      <td>0.0</td>\n",
       "      <td>0.055197</td>\n",
       "      <td>0.591828</td>\n",
       "      <td>0.70729</td>\n",
       "      <td>0.797822</td>\n",
       "      <td>0.87261</td>\n",
       "      <td>0.928803</td>\n",
       "      <td>0.959148</td>\n",
       "      <td>0.976493</td>\n",
       "      <td>0.992525</td>\n",
       "      <td>1.0</td>\n",
       "    </tr>\n",
       "    <tr>\n",
       "      <th>10.0</th>\n",
       "      <td>0.000037</td>\n",
       "      <td>0.156612</td>\n",
       "      <td>0.714834</td>\n",
       "      <td>0.801202</td>\n",
       "      <td>0.865406</td>\n",
       "      <td>0.916484</td>\n",
       "      <td>0.95383</td>\n",
       "      <td>0.973659</td>\n",
       "      <td>0.984891</td>\n",
       "      <td>0.995209</td>\n",
       "      <td>1.0</td>\n",
       "    </tr>\n",
       "    <tr>\n",
       "      <th>22.0</th>\n",
       "      <td>0.121577</td>\n",
       "      <td>0.681776</td>\n",
       "      <td>0.93299</td>\n",
       "      <td>0.955239</td>\n",
       "      <td>0.970575</td>\n",
       "      <td>0.982143</td>\n",
       "      <td>0.990281</td>\n",
       "      <td>0.9945</td>\n",
       "      <td>0.996859</td>\n",
       "      <td>0.999008</td>\n",
       "      <td>1.0</td>\n",
       "    </tr>\n",
       "    <tr>\n",
       "      <th>dist</th>\n",
       "      <td>45.163863</td>\n",
       "      <td>19.256086</td>\n",
       "      <td>8.193959</td>\n",
       "      <td>6.657954</td>\n",
       "      <td>5.376921</td>\n",
       "      <td>4.176384</td>\n",
       "      <td>3.074718</td>\n",
       "      <td>2.310611</td>\n",
       "      <td>1.744941</td>\n",
       "      <td>0.980011</td>\n",
       "      <td>0.0</td>\n",
       "    </tr>\n",
       "  </tbody>\n",
       "</table>\n",
       "</div>"
      ],
      "text/plain": [
       "           0.00       0.01      0.05      0.10      0.25      0.50      0.75  \\\n",
       "1.0         0.0        0.0       0.0       0.0  0.000001  0.000163  0.008853   \n",
       "1.5         0.0        0.0       0.0  0.000053  0.001621  0.020733  0.122351   \n",
       "1.75        0.0        0.0  0.000017  0.000719  0.008913  0.057977  0.213634   \n",
       "2.0         0.0        0.0  0.000227  0.003922  0.026946  0.113011  0.306746   \n",
       "2.5         0.0        0.0  0.004648  0.028832  0.098974   0.24774  0.469395   \n",
       "3.0         0.0        0.0  0.023992  0.085206  0.200652  0.379458  0.591428   \n",
       "3.5         0.0        0.0  0.064541  0.163765  0.307263  0.490698  0.679857   \n",
       "4.0         0.0   0.000009  0.122683  0.250259  0.405158  0.579802  0.744209   \n",
       "4.5         0.0   0.000106  0.190557  0.334698  0.489751  0.650073  0.791814   \n",
       "5.0         0.0   0.000602  0.261108  0.412068  0.560893  0.705503  0.827722   \n",
       "5.5         0.0   0.002179  0.329635   0.48061  0.620101  0.749536  0.855335   \n",
       "6.0         0.0     0.0058  0.393563  0.540278  0.669285  0.784858  0.876951   \n",
       "6.5         0.0   0.012424  0.451776  0.591795  0.710245  0.813494  0.894151   \n",
       "7.0         0.0    0.02274  0.504034  0.636144  0.744522  0.836958  0.908039   \n",
       "8.0         0.0   0.055197  0.591828   0.70729  0.797822   0.87261  0.928803   \n",
       "10.0   0.000037   0.156612  0.714834  0.801202  0.865406  0.916484   0.95383   \n",
       "22.0   0.121577   0.681776   0.93299  0.955239  0.970575  0.982143  0.990281   \n",
       "dist  45.163863  19.256086  8.193959  6.657954  5.376921  4.176384  3.074718   \n",
       "\n",
       "          0.90      0.95      0.99 1.00  \n",
       "1.0    0.06929  0.218185  0.618653  1.0  \n",
       "1.5    0.30531  0.508329  0.807811  1.0  \n",
       "1.75  0.418256  0.608284  0.854872  1.0  \n",
       "2.0   0.513059  0.683449  0.886874  1.0  \n",
       "2.5   0.652389  0.783812  0.926044  1.0  \n",
       "3.0   0.743336  0.844377  0.948042  1.0  \n",
       "3.5   0.804194  0.883134  0.961558  1.0  \n",
       "4.0   0.846334  0.909236  0.970433  1.0  \n",
       "4.5   0.876494  0.927576  0.976565  1.0  \n",
       "5.0   0.898725  0.940921  0.980975  1.0  \n",
       "5.5   0.915535  0.950918  0.984251  1.0  \n",
       "6.0   0.928531  0.958593  0.986749  1.0  \n",
       "6.5   0.938772  0.964608  0.988698  1.0  \n",
       "7.0   0.946979  0.969408  0.990248  1.0  \n",
       "8.0   0.959148  0.976493  0.992525  1.0  \n",
       "10.0  0.973659  0.984891  0.995209  1.0  \n",
       "22.0    0.9945  0.996859  0.999008  1.0  \n",
       "dist  2.310611  1.744941  0.980011  0.0  "
      ]
     },
     "execution_count": 25,
     "metadata": {},
     "output_type": "execute_result"
    }
   ],
   "source": [
    "calc_kernels_for_l(X_source, X_target,\n",
    "                   length_scale_list, quantiles)"
   ]
  },
  {
   "cell_type": "markdown",
   "id": "0bff2c5d-916e-49b5-9809-3bfebe89e72c",
   "metadata": {},
   "source": [
    "## Estimation of the weighted model"
   ]
  },
  {
   "cell_type": "markdown",
   "id": "48ec83e1-4cf8-4336-902d-ca3eecfbdb12",
   "metadata": {},
   "source": [
    "### Estimating weights\n",
    "\n",
    "Estimating weights by solving the quadratic programming problem specified in Huang J., Smola A.J., Gretton A., Borgwardt K.M., and Scholkopf B. (2006). Correcting sample selection bias by unlabeled data. In Proceedings of the 19th International Conference on Neural Information Processing Systems (NIPS’06). MIT Press, Cambridge, MA, USA, 601–608."
   ]
  },
  {
   "cell_type": "code",
   "execution_count": 29,
   "id": "9bc525e9-f269-4423-87ef-c9e827b4ace8",
   "metadata": {
    "tags": []
   },
   "outputs": [],
   "source": [
    "length_scale = 3.5"
   ]
  },
  {
   "cell_type": "code",
   "execution_count": 30,
   "id": "3474502e-83ee-4728-8692-fc75a2de1283",
   "metadata": {
    "tags": []
   },
   "outputs": [],
   "source": [
    "# Get input for CVXOPT\n",
    "P, q, G, h = get_cvxopt_input(X_source, X_target, length_scale)"
   ]
  },
  {
   "cell_type": "code",
   "execution_count": 31,
   "id": "0bedd3fc-e5c4-447f-96d7-10a9341a4313",
   "metadata": {
    "tags": []
   },
   "outputs": [
    {
     "name": "stdout",
     "output_type": "stream",
     "text": [
      "     pcost       dcost       gap    pres   dres\n",
      " 0: -2.4441e+08 -8.8716e+11  9e+11  3e-03  2e-14\n",
      " 1: -8.7873e+07 -8.5025e+11  9e+11  3e-03  2e-14\n",
      " 2: -8.3064e+07 -8.4951e+11  9e+11  3e-03  2e-14\n",
      " 3: -3.2741e+07 -8.0486e+11  8e+11  2e-03  1e-13\n",
      " 4: -5.1360e+07 -9.4748e+09  9e+09  2e-05  2e-14\n",
      " 5: -1.2838e+08 -1.3602e+09  1e+09  6e-16  3e-14\n",
      " 6: -2.0594e+08 -6.7165e+08  5e+08  2e-15  1e-14\n",
      " 7: -2.1770e+08 -4.5454e+08  2e+08  2e-15  6e-15\n",
      " 8: -2.2199e+08 -4.5378e+08  2e+08  5e-15  6e-15\n",
      " 9: -2.4033e+08 -3.0645e+08  7e+07  7e-16  7e-16\n",
      "10: -2.4336e+08 -2.6518e+08  2e+07  4e-15  6e-16\n",
      "11: -2.4408e+08 -2.5311e+08  9e+06  6e-16  6e-16\n",
      "12: -2.4431e+08 -2.4733e+08  3e+06  3e-15  5e-16\n",
      "13: -2.4434e+08 -2.4671e+08  2e+06  2e-15  5e-16\n",
      "14: -2.4439e+08 -2.4521e+08  8e+05  3e-16  5e-16\n",
      "15: -2.4440e+08 -2.4486e+08  5e+05  2e-15  5e-16\n",
      "16: -2.4441e+08 -2.4454e+08  1e+05  2e-15  5e-16\n",
      "17: -2.4441e+08 -2.4447e+08  6e+04  3e-16  5e-16\n",
      "18: -2.4441e+08 -2.4443e+08  2e+04  1e-15  5e-16\n",
      "19: -2.4441e+08 -2.4442e+08  9e+03  8e-16  5e-16\n",
      "20: -2.4441e+08 -2.4441e+08  3e+03  1e-15  4e-16\n",
      "21: -2.4441e+08 -2.4441e+08  2e+03  2e-15  5e-16\n",
      "22: -2.4441e+08 -2.4441e+08  5e+02  2e-16  4e-16\n",
      "23: -2.4441e+08 -2.4441e+08  2e+02  4e-16  5e-16\n",
      "Optimal solution found.\n",
      "16649.49546146393 seconds\n"
     ]
    }
   ],
   "source": [
    "start_time = time.time()\n",
    "sol = solvers.qp(P,q,G,h)\n",
    "print(time.time() - start_time, \"seconds\")"
   ]
  },
  {
   "cell_type": "code",
   "execution_count": 33,
   "id": "5ce77685-35b0-4623-8b33-9d968c3b7e98",
   "metadata": {
    "tags": []
   },
   "outputs": [],
   "source": [
    "weights = np.array(sol['x']).flatten()"
   ]
  },
  {
   "cell_type": "markdown",
   "id": "3db1b5ec-142e-4596-ac5b-9367e4b42e28",
   "metadata": {},
   "source": [
    "## Fitting the weighted source model"
   ]
  },
  {
   "cell_type": "code",
   "execution_count": 117,
   "id": "1404ffc7-84bb-43e0-8805-b0e45825374f",
   "metadata": {
    "tags": []
   },
   "outputs": [
    {
     "data": {
      "text/html": [
       "<style>#sk-container-id-5 {color: black;background-color: white;}#sk-container-id-5 pre{padding: 0;}#sk-container-id-5 div.sk-toggleable {background-color: white;}#sk-container-id-5 label.sk-toggleable__label {cursor: pointer;display: block;width: 100%;margin-bottom: 0;padding: 0.3em;box-sizing: border-box;text-align: center;}#sk-container-id-5 label.sk-toggleable__label-arrow:before {content: \"▸\";float: left;margin-right: 0.25em;color: #696969;}#sk-container-id-5 label.sk-toggleable__label-arrow:hover:before {color: black;}#sk-container-id-5 div.sk-estimator:hover label.sk-toggleable__label-arrow:before {color: black;}#sk-container-id-5 div.sk-toggleable__content {max-height: 0;max-width: 0;overflow: hidden;text-align: left;background-color: #f0f8ff;}#sk-container-id-5 div.sk-toggleable__content pre {margin: 0.2em;color: black;border-radius: 0.25em;background-color: #f0f8ff;}#sk-container-id-5 input.sk-toggleable__control:checked~div.sk-toggleable__content {max-height: 200px;max-width: 100%;overflow: auto;}#sk-container-id-5 input.sk-toggleable__control:checked~label.sk-toggleable__label-arrow:before {content: \"▾\";}#sk-container-id-5 div.sk-estimator input.sk-toggleable__control:checked~label.sk-toggleable__label {background-color: #d4ebff;}#sk-container-id-5 div.sk-label input.sk-toggleable__control:checked~label.sk-toggleable__label {background-color: #d4ebff;}#sk-container-id-5 input.sk-hidden--visually {border: 0;clip: rect(1px 1px 1px 1px);clip: rect(1px, 1px, 1px, 1px);height: 1px;margin: -1px;overflow: hidden;padding: 0;position: absolute;width: 1px;}#sk-container-id-5 div.sk-estimator {font-family: monospace;background-color: #f0f8ff;border: 1px dotted black;border-radius: 0.25em;box-sizing: border-box;margin-bottom: 0.5em;}#sk-container-id-5 div.sk-estimator:hover {background-color: #d4ebff;}#sk-container-id-5 div.sk-parallel-item::after {content: \"\";width: 100%;border-bottom: 1px solid gray;flex-grow: 1;}#sk-container-id-5 div.sk-label:hover label.sk-toggleable__label {background-color: #d4ebff;}#sk-container-id-5 div.sk-serial::before {content: \"\";position: absolute;border-left: 1px solid gray;box-sizing: border-box;top: 0;bottom: 0;left: 50%;z-index: 0;}#sk-container-id-5 div.sk-serial {display: flex;flex-direction: column;align-items: center;background-color: white;padding-right: 0.2em;padding-left: 0.2em;position: relative;}#sk-container-id-5 div.sk-item {position: relative;z-index: 1;}#sk-container-id-5 div.sk-parallel {display: flex;align-items: stretch;justify-content: center;background-color: white;position: relative;}#sk-container-id-5 div.sk-item::before, #sk-container-id-5 div.sk-parallel-item::before {content: \"\";position: absolute;border-left: 1px solid gray;box-sizing: border-box;top: 0;bottom: 0;left: 50%;z-index: -1;}#sk-container-id-5 div.sk-parallel-item {display: flex;flex-direction: column;z-index: 1;position: relative;background-color: white;}#sk-container-id-5 div.sk-parallel-item:first-child::after {align-self: flex-end;width: 50%;}#sk-container-id-5 div.sk-parallel-item:last-child::after {align-self: flex-start;width: 50%;}#sk-container-id-5 div.sk-parallel-item:only-child::after {width: 0;}#sk-container-id-5 div.sk-dashed-wrapped {border: 1px dashed gray;margin: 0 0.4em 0.5em 0.4em;box-sizing: border-box;padding-bottom: 0.4em;background-color: white;}#sk-container-id-5 div.sk-label label {font-family: monospace;font-weight: bold;display: inline-block;line-height: 1.2em;}#sk-container-id-5 div.sk-label-container {text-align: center;}#sk-container-id-5 div.sk-container {/* jupyter's `normalize.less` sets `[hidden] { display: none; }` but bootstrap.min.css set `[hidden] { display: none !important; }` so we also need the `!important` here to be able to override the default hidden behavior on the sphinx rendered scikit-learn.org. See: https://github.com/scikit-learn/scikit-learn/issues/21755 */display: inline-block !important;position: relative;}#sk-container-id-5 div.sk-text-repr-fallback {display: none;}</style><div id=\"sk-container-id-5\" class=\"sk-top-container\"><div class=\"sk-text-repr-fallback\"><pre>LogisticRegression(max_iter=10000, penalty=None, random_state=1)</pre><b>In a Jupyter environment, please rerun this cell to show the HTML representation or trust the notebook. <br />On GitHub, the HTML representation is unable to render, please try loading this page with nbviewer.org.</b></div><div class=\"sk-container\" hidden><div class=\"sk-item\"><div class=\"sk-estimator sk-toggleable\"><input class=\"sk-toggleable__control sk-hidden--visually\" id=\"sk-estimator-id-5\" type=\"checkbox\" checked><label for=\"sk-estimator-id-5\" class=\"sk-toggleable__label sk-toggleable__label-arrow\">LogisticRegression</label><div class=\"sk-toggleable__content\"><pre>LogisticRegression(max_iter=10000, penalty=None, random_state=1)</pre></div></div></div></div></div>"
      ],
      "text/plain": [
       "LogisticRegression(max_iter=10000, penalty=None, random_state=1)"
      ]
     },
     "execution_count": 117,
     "metadata": {},
     "output_type": "execute_result"
    }
   ],
   "source": [
    "clf_weighted = clone(clf)\n",
    "clf_weighted.fit(X_source, y, weights)"
   ]
  },
  {
   "cell_type": "markdown",
   "id": "944cd54a-b339-48a2-a48b-f22fb4a61c02",
   "metadata": {},
   "source": [
    "## Weighted source model transfer"
   ]
  },
  {
   "cell_type": "code",
   "execution_count": 118,
   "id": "00b59c9b-7e58-40a1-b43a-49de6a886cbb",
   "metadata": {
    "tags": []
   },
   "outputs": [],
   "source": [
    "y_pred = clf_weighted.predict_proba(X_target)"
   ]
  },
  {
   "cell_type": "code",
   "execution_count": 119,
   "id": "8564b0e7-84c2-4c2c-b9d9-961add75ea02",
   "metadata": {
    "tags": []
   },
   "outputs": [],
   "source": [
    "# DataFrame containing true and predicted y\n",
    "df_true_predict_w = pd.DataFrame(data={'y': target_imp['y_ENROLLED_1_YEAR_LATER'], 'y_pred': y_pred[:,1]})"
   ]
  },
  {
   "cell_type": "code",
   "execution_count": 120,
   "id": "9b68fef3-84bc-49e5-b3c9-e849279e5452",
   "metadata": {
    "tags": []
   },
   "outputs": [],
   "source": [
    "df_true_predict_w.to_csv('df_true_predict_IWS_model_3.csv')"
   ]
  },
  {
   "cell_type": "code",
   "execution_count": 37,
   "id": "56c870e4-0338-4f4b-93bd-55d0bd378827",
   "metadata": {
    "tags": []
   },
   "outputs": [],
   "source": [
    "df_true_predict_w = pd.read_csv('df_true_predict_IWS_model_3.csv', index_col=0)"
   ]
  },
  {
   "cell_type": "markdown",
   "id": "05c4014c-2719-4576-9548-d5634999ac97",
   "metadata": {},
   "source": [
    "## Classification accuracy"
   ]
  },
  {
   "cell_type": "markdown",
   "id": "18ff0984-c7f2-4189-bf87-e60f16e3b8b2",
   "metadata": {},
   "source": [
    "### AUC"
   ]
  },
  {
   "cell_type": "code",
   "execution_count": 38,
   "id": "541cd291-b4c7-4ed4-8534-de6b2cff92a7",
   "metadata": {
    "tags": []
   },
   "outputs": [
    {
     "data": {
      "text/plain": [
       "0.8018123951206919"
      ]
     },
     "execution_count": 38,
     "metadata": {},
     "output_type": "execute_result"
    }
   ],
   "source": [
    "auc_IWS = roc_auc_score(df_true_predict_w['y'], df_true_predict_w['y_pred'])\n",
    "auc_IWS"
   ]
  },
  {
   "cell_type": "code",
   "execution_count": 39,
   "id": "681af4cc-e054-4bb6-86c6-c2d76f5d1fe4",
   "metadata": {
    "tags": []
   },
   "outputs": [
    {
     "name": "stdout",
     "output_type": "stream",
     "text": [
      "AUC direct transfer = 0.796, AUC instance weighting strategy = 0.802\n"
     ]
    }
   ],
   "source": [
    "print(f\"AUC direct transfer = {auc_direct:.3f}, AUC instance weighting strategy = {auc_IWS:.3f}\")"
   ]
  },
  {
   "cell_type": "markdown",
   "id": "9b9d8033-52c5-44c3-82c8-5220cb70bf34",
   "metadata": {},
   "source": [
    "### Comparison of ROC curves"
   ]
  },
  {
   "cell_type": "code",
   "execution_count": 40,
   "id": "5670a23c-4ce2-4d77-8201-6d8bc5a1682a",
   "metadata": {
    "tags": []
   },
   "outputs": [
    {
     "data": {
      "image/png": "[encoded data removed]",
      "text/plain": [
       "<Figure size 640x480 with 1 Axes>"
      ]
     },
     "metadata": {},
     "output_type": "display_data"
    }
   ],
   "source": [
    "plot_roc_curves(df_true_predict, df_true_predict_w,\n",
    "                'Direct transfer', 'Instance weighting strategy', \n",
    "                'Comparison of ROC curves')"
   ]
  },
  {
   "cell_type": "markdown",
   "id": "17d9d43c-1dc5-46c8-b65b-0f57f8fb7a89",
   "metadata": {},
   "source": [
    "### Pietra Index and Kolmogorov-Smirnov test"
   ]
  },
  {
   "cell_type": "code",
   "execution_count": 41,
   "id": "04fca9d4-9795-4ce8-85a4-81fc55f3490d",
   "metadata": {
    "tags": []
   },
   "outputs": [
    {
     "data": {
      "text/html": [
       "<div>\n",
       "<style scoped>\n",
       "    .dataframe tbody tr th:only-of-type {\n",
       "        vertical-align: middle;\n",
       "    }\n",
       "\n",
       "    .dataframe tbody tr th {\n",
       "        vertical-align: top;\n",
       "    }\n",
       "\n",
       "    .dataframe thead th {\n",
       "        text-align: right;\n",
       "    }\n",
       "</style>\n",
       "<table border=\"1\" class=\"dataframe\">\n",
       "  <thead>\n",
       "    <tr style=\"text-align: right;\">\n",
       "      <th></th>\n",
       "      <th>Pietra index</th>\n",
       "      <th>KS p_val</th>\n",
       "    </tr>\n",
       "  </thead>\n",
       "  <tbody>\n",
       "    <tr>\n",
       "      <th>Direct tranfer</th>\n",
       "      <td>0.489614</td>\n",
       "      <td>3.268752e-28</td>\n",
       "    </tr>\n",
       "    <tr>\n",
       "      <th>Instance weighting strategy</th>\n",
       "      <td>0.504921</td>\n",
       "      <td>4.259948e-30</td>\n",
       "    </tr>\n",
       "  </tbody>\n",
       "</table>\n",
       "</div>"
      ],
      "text/plain": [
       "                            Pietra index      KS p_val\n",
       "Direct tranfer                  0.489614  3.268752e-28\n",
       "Instance weighting strategy     0.504921  4.259948e-30"
      ]
     },
     "execution_count": 41,
     "metadata": {},
     "output_type": "execute_result"
    }
   ],
   "source": [
    "ks_test_IWS = kstest(df_true_predict_w.loc[df_true_predict_w['y']==0, 'y_pred'], \n",
    "                     df_true_predict_w.loc[df_true_predict_w['y']==1, 'y_pred'])\n",
    "\n",
    "KS_test_comparison(ks_test_direct, ks_test_IWS)"
   ]
  },
  {
   "cell_type": "code",
   "execution_count": 42,
   "id": "6028c16d-e83a-4131-abf8-dc2d0f964662",
   "metadata": {
    "tags": []
   },
   "outputs": [
    {
     "data": {
      "image/png": "[encoded data removed]",
      "text/plain": [
       "<Figure size 640x480 with 1 Axes>"
      ]
     },
     "metadata": {},
     "output_type": "display_data"
    }
   ],
   "source": [
    "plot_KS_CDF(df_true_predict, df_true_predict_w)"
   ]
  },
  {
   "cell_type": "markdown",
   "id": "9905f7e4-ea8e-43d7-9f98-f34becdde8ec",
   "metadata": {},
   "source": [
    "### Realized probability of dropout"
   ]
  },
  {
   "cell_type": "code",
   "execution_count": null,
   "id": "ee2f3244-15d0-43e1-bc0a-1d1d48d5dfab",
   "metadata": {
    "tags": []
   },
   "outputs": [],
   "source": [
    "plot_dropout_rate(\n",
    "    df_true_predict_w, percent_list, names_list,\n",
    "    'Observed probabilty of dropout for students grouped by\\ntheir predicted probability of dropout (IWS)'\n",
    ")"
   ]
  },
  {
   "cell_type": "code",
   "execution_count": null,
   "id": "4427ad42-f9c6-4334-9c71-1957e4327cd8",
   "metadata": {
    "tags": []
   },
   "outputs": [],
   "source": [
    "plot_dropout_rate_two_models(df_true_predict, df_true_predict_w,\n",
    "                             percent_list, names_list)"
   ]
  },
  {
   "cell_type": "markdown",
   "id": "304c8024-2b03-4523-b19e-8e4d45e57cdb",
   "metadata": {},
   "source": [
    "### AUC Confidence interval"
   ]
  },
  {
   "cell_type": "code",
   "execution_count": 45,
   "id": "08571b47-c22a-44ac-902c-765f207cc840",
   "metadata": {
    "tags": []
   },
   "outputs": [],
   "source": [
    "bootstrap_res = bootstrap((df_true_predict_w['y'], df_true_predict_w['y_pred']), \n",
    "                          calc_auc, paired=True, n_resamples=10000,\n",
    "                          method='BCa', confidence_level=0.95, random_state=random_state)"
   ]
  },
  {
   "cell_type": "code",
   "execution_count": 46,
   "id": "878e8684-1802-4ca0-aef7-44ee97cf0bb6",
   "metadata": {
    "tags": []
   },
   "outputs": [
    {
     "data": {
      "image/png": "[encoded data removed]",
      "text/plain": [
       "<Figure size 640x480 with 1 Axes>"
      ]
     },
     "metadata": {},
     "output_type": "display_data"
    }
   ],
   "source": [
    "plt.hist(bootstrap_res.bootstrap_distribution, bins=25, density=True)\n",
    "plt.title('AUC Distribution for Transferred Weighted Source Model')\n",
    "plt.xlabel('AUC')\n",
    "plt.ylabel('pdf');"
   ]
  },
  {
   "cell_type": "code",
   "execution_count": 47,
   "id": "88f4023f-344a-4b3a-b16b-91547a5a844b",
   "metadata": {
    "tags": []
   },
   "outputs": [
    {
     "data": {
      "text/plain": [
       "ConfidenceInterval(low=0.7516943616177822, high=0.8443538817670938)"
      ]
     },
     "execution_count": 47,
     "metadata": {},
     "output_type": "execute_result"
    }
   ],
   "source": [
    "auc_w_conf_int = bootstrap_res.confidence_interval\n",
    "auc_w_conf_int"
   ]
  },
  {
   "cell_type": "code",
   "execution_count": 48,
   "id": "abfa7988-abcb-4018-91f0-8c80cddef219",
   "metadata": {
    "tags": []
   },
   "outputs": [
    {
     "data": {
      "text/plain": [
       "0.09265952014931156"
      ]
     },
     "execution_count": 48,
     "metadata": {},
     "output_type": "execute_result"
    }
   ],
   "source": [
    "auc_w_conf_int[1] - auc_w_conf_int[0]"
   ]
  },
  {
   "cell_type": "markdown",
   "id": "08747931-715f-4b67-8e5d-bc946331dd48",
   "metadata": {},
   "source": [
    "## Fairness metrics"
   ]
  },
  {
   "cell_type": "markdown",
   "id": "f8903e2a-8d07-4e71-82fd-cc829b776a2f",
   "metadata": {},
   "source": [
    "### Sliced AUCs"
   ]
  },
  {
   "cell_type": "code",
   "execution_count": 49,
   "id": "d550d430-2ebf-4eb4-a368-562b5f7b0497",
   "metadata": {
    "tags": []
   },
   "outputs": [],
   "source": [
    "sliced_auc_IWS = sliced_auc(df_true_predict_w['y'], \n",
    "                            df_true_predict_w['y_pred'],\n",
    "                            ['STDNT_ETHNC_grouped', 'STDNT_FEMALE'], \n",
    "                            target_df)"
   ]
  },
  {
   "cell_type": "code",
   "execution_count": 50,
   "id": "1721f560-73e5-4448-bbd1-e1bc56315514",
   "metadata": {
    "tags": []
   },
   "outputs": [
    {
     "data": {
      "text/html": [
       "<div>\n",
       "<style scoped>\n",
       "    .dataframe tbody tr th:only-of-type {\n",
       "        vertical-align: middle;\n",
       "    }\n",
       "\n",
       "    .dataframe tbody tr th {\n",
       "        vertical-align: top;\n",
       "    }\n",
       "\n",
       "    .dataframe thead th {\n",
       "        text-align: right;\n",
       "    }\n",
       "</style>\n",
       "<table border=\"1\" class=\"dataframe\">\n",
       "  <thead>\n",
       "    <tr style=\"text-align: right;\">\n",
       "      <th></th>\n",
       "      <th>Attribute</th>\n",
       "      <th>Value</th>\n",
       "      <th>AUC_IWS</th>\n",
       "      <th>AUC_direct</th>\n",
       "    </tr>\n",
       "  </thead>\n",
       "  <tbody>\n",
       "    <tr>\n",
       "      <th>0</th>\n",
       "      <td>STDNT_ETHNC_grouped</td>\n",
       "      <td>1</td>\n",
       "      <td>0.74265</td>\n",
       "      <td>0.739328</td>\n",
       "    </tr>\n",
       "    <tr>\n",
       "      <th>1</th>\n",
       "      <td>STDNT_ETHNC_grouped</td>\n",
       "      <td>0</td>\n",
       "      <td>0.860105</td>\n",
       "      <td>0.8533</td>\n",
       "    </tr>\n",
       "    <tr>\n",
       "      <th>2</th>\n",
       "      <td>STDNT_ETHNC_grouped</td>\n",
       "      <td>2</td>\n",
       "      <td>0.789736</td>\n",
       "      <td>0.779316</td>\n",
       "    </tr>\n",
       "    <tr>\n",
       "      <th>3</th>\n",
       "      <td>STDNT_FEMALE</td>\n",
       "      <td>0</td>\n",
       "      <td>0.794964</td>\n",
       "      <td>0.792613</td>\n",
       "    </tr>\n",
       "    <tr>\n",
       "      <th>4</th>\n",
       "      <td>STDNT_FEMALE</td>\n",
       "      <td>1</td>\n",
       "      <td>0.796069</td>\n",
       "      <td>0.802769</td>\n",
       "    </tr>\n",
       "  </tbody>\n",
       "</table>\n",
       "</div>"
      ],
      "text/plain": [
       "             Attribute Value   AUC_IWS AUC_direct\n",
       "0  STDNT_ETHNC_grouped     1   0.74265   0.739328\n",
       "1  STDNT_ETHNC_grouped     0  0.860105     0.8533\n",
       "2  STDNT_ETHNC_grouped     2  0.789736   0.779316\n",
       "3         STDNT_FEMALE     0  0.794964   0.792613\n",
       "4         STDNT_FEMALE     1  0.796069   0.802769"
      ]
     },
     "execution_count": 50,
     "metadata": {},
     "output_type": "execute_result"
    }
   ],
   "source": [
    "sliced_auc_IWS.merge(sliced_auc_direct, on=['Attribute', 'Value'], suffixes=('_IWS', '_direct'))"
   ]
  },
  {
   "cell_type": "markdown",
   "id": "7dc9c818-6e71-4463-9e7a-9c0d128c1a35",
   "metadata": {},
   "source": [
    "### Equal opportunity difference"
   ]
  },
  {
   "cell_type": "code",
   "execution_count": 51,
   "id": "6b723b57-d640-4fc8-a667-3a029b77d5a0",
   "metadata": {
    "tags": []
   },
   "outputs": [],
   "source": [
    "equal_opport_IWS = fairn_metrics(df_true_predict_w['y'], \n",
    "                                 df_true_predict_w['y_pred'], \n",
    "                                 attribites_dic, target_df, threshold)"
   ]
  },
  {
   "cell_type": "code",
   "execution_count": 52,
   "id": "2c633390-4112-4d56-9e41-48873605cb17",
   "metadata": {
    "tags": []
   },
   "outputs": [
    {
     "data": {
      "text/html": [
       "<div>\n",
       "<style scoped>\n",
       "    .dataframe tbody tr th:only-of-type {\n",
       "        vertical-align: middle;\n",
       "    }\n",
       "\n",
       "    .dataframe tbody tr th {\n",
       "        vertical-align: top;\n",
       "    }\n",
       "\n",
       "    .dataframe thead th {\n",
       "        text-align: right;\n",
       "    }\n",
       "</style>\n",
       "<table border=\"1\" class=\"dataframe\">\n",
       "  <thead>\n",
       "    <tr style=\"text-align: right;\">\n",
       "      <th></th>\n",
       "      <th>Attribute</th>\n",
       "      <th>Value</th>\n",
       "      <th>thresh_10%_IWS</th>\n",
       "      <th>thresh_10%_direct</th>\n",
       "    </tr>\n",
       "  </thead>\n",
       "  <tbody>\n",
       "    <tr>\n",
       "      <th>0</th>\n",
       "      <td>STDNT_ETHNC_grouped</td>\n",
       "      <td>1</td>\n",
       "      <td>-0.266419</td>\n",
       "      <td>-0.314619</td>\n",
       "    </tr>\n",
       "    <tr>\n",
       "      <th>1</th>\n",
       "      <td>STDNT_ETHNC_grouped</td>\n",
       "      <td>0</td>\n",
       "      <td>0</td>\n",
       "      <td>0</td>\n",
       "    </tr>\n",
       "    <tr>\n",
       "      <th>2</th>\n",
       "      <td>STDNT_ETHNC_grouped</td>\n",
       "      <td>2</td>\n",
       "      <td>0.056497</td>\n",
       "      <td>0.039548</td>\n",
       "    </tr>\n",
       "    <tr>\n",
       "      <th>3</th>\n",
       "      <td>STDNT_FEMALE</td>\n",
       "      <td>0</td>\n",
       "      <td>0</td>\n",
       "      <td>0</td>\n",
       "    </tr>\n",
       "    <tr>\n",
       "      <th>4</th>\n",
       "      <td>STDNT_FEMALE</td>\n",
       "      <td>1</td>\n",
       "      <td>-0.098874</td>\n",
       "      <td>0.079873</td>\n",
       "    </tr>\n",
       "  </tbody>\n",
       "</table>\n",
       "</div>"
      ],
      "text/plain": [
       "             Attribute Value thresh_10%_IWS thresh_10%_direct\n",
       "0  STDNT_ETHNC_grouped     1      -0.266419         -0.314619\n",
       "1  STDNT_ETHNC_grouped     0              0                 0\n",
       "2  STDNT_ETHNC_grouped     2       0.056497          0.039548\n",
       "3         STDNT_FEMALE     0              0                 0\n",
       "4         STDNT_FEMALE     1      -0.098874          0.079873"
      ]
     },
     "execution_count": 52,
     "metadata": {},
     "output_type": "execute_result"
    }
   ],
   "source": [
    "equal_opport_IWS.merge(equal_opport_direct, on=['Attribute', 'Value'], suffixes=('_IWS', '_direct'))"
   ]
  },
  {
   "cell_type": "markdown",
   "id": "29be89b0-73d7-4996-8b20-068d94a77b60",
   "metadata": {},
   "source": [
    "### Generalized entropy index"
   ]
  },
  {
   "cell_type": "code",
   "execution_count": 53,
   "id": "83a6c6f5-a820-4b05-ba90-1d9070b26dce",
   "metadata": {
    "tags": []
   },
   "outputs": [],
   "source": [
    "gen_entropy_IWS = gen_entropy_index(2, df_true_predict_w, \n",
    "                                    target_df['STDNT_ETHNC_grouped'], \n",
    "                                    calc_educ_benefits,\n",
    "                                    threshold[0])"
   ]
  },
  {
   "cell_type": "code",
   "execution_count": 54,
   "id": "94d8102e-f3a7-429b-bffa-23e092f8572a",
   "metadata": {
    "tags": []
   },
   "outputs": [
    {
     "data": {
      "text/html": [
       "<div>\n",
       "<style scoped>\n",
       "    .dataframe tbody tr th:only-of-type {\n",
       "        vertical-align: middle;\n",
       "    }\n",
       "\n",
       "    .dataframe tbody tr th {\n",
       "        vertical-align: top;\n",
       "    }\n",
       "\n",
       "    .dataframe thead th {\n",
       "        text-align: right;\n",
       "    }\n",
       "</style>\n",
       "<table border=\"1\" class=\"dataframe\">\n",
       "  <thead>\n",
       "    <tr style=\"text-align: right;\">\n",
       "      <th></th>\n",
       "      <th>Generalized entropy</th>\n",
       "      <th>Between groups entropy</th>\n",
       "    </tr>\n",
       "  </thead>\n",
       "  <tbody>\n",
       "    <tr>\n",
       "      <th>Direct tranfer</th>\n",
       "      <td>0.394366</td>\n",
       "      <td>0.033198</td>\n",
       "    </tr>\n",
       "    <tr>\n",
       "      <th>Instance weighting strategy</th>\n",
       "      <td>0.394366</td>\n",
       "      <td>0.025879</td>\n",
       "    </tr>\n",
       "  </tbody>\n",
       "</table>\n",
       "</div>"
      ],
      "text/plain": [
       "                            Generalized entropy Between groups entropy\n",
       "Direct tranfer                         0.394366               0.033198\n",
       "Instance weighting strategy            0.394366               0.025879"
      ]
     },
     "execution_count": 54,
     "metadata": {},
     "output_type": "execute_result"
    }
   ],
   "source": [
    "gen_entropy_comparison(gen_entropy_direct, gen_entropy_IWS)"
   ]
  },
  {
   "cell_type": "markdown",
   "id": "9b0c9dc4-9236-42ee-9400-4be6d5c11f11",
   "metadata": {},
   "source": [
    "### Generalized entropy index that takes into account the risk ranks of students"
   ]
  },
  {
   "cell_type": "code",
   "execution_count": 55,
   "id": "da8bcb75-04fe-4ffe-88bc-a404eb9ff471",
   "metadata": {
    "tags": []
   },
   "outputs": [],
   "source": [
    "gen_entropy_ranks_IWS = gen_entropy_index(2, df_true_predict_w, \n",
    "                                          target_df['STDNT_ETHNC_grouped'], \n",
    "                                          calc_educ_rank_benefits, \n",
    "                                          rank_thresholds)"
   ]
  },
  {
   "cell_type": "code",
   "execution_count": 56,
   "id": "0521bf91-dfaa-412f-81a7-03984a02ca26",
   "metadata": {
    "tags": []
   },
   "outputs": [
    {
     "data": {
      "text/html": [
       "<div>\n",
       "<style scoped>\n",
       "    .dataframe tbody tr th:only-of-type {\n",
       "        vertical-align: middle;\n",
       "    }\n",
       "\n",
       "    .dataframe tbody tr th {\n",
       "        vertical-align: top;\n",
       "    }\n",
       "\n",
       "    .dataframe thead th {\n",
       "        text-align: right;\n",
       "    }\n",
       "</style>\n",
       "<table border=\"1\" class=\"dataframe\">\n",
       "  <thead>\n",
       "    <tr style=\"text-align: right;\">\n",
       "      <th></th>\n",
       "      <th>Generalized entropy</th>\n",
       "      <th>Between groups entropy</th>\n",
       "    </tr>\n",
       "  </thead>\n",
       "  <tbody>\n",
       "    <tr>\n",
       "      <th>Direct tranfer</th>\n",
       "      <td>0.53954</td>\n",
       "      <td>0.033557</td>\n",
       "    </tr>\n",
       "    <tr>\n",
       "      <th>Instance weighting strategy</th>\n",
       "      <td>0.523193</td>\n",
       "      <td>0.032331</td>\n",
       "    </tr>\n",
       "  </tbody>\n",
       "</table>\n",
       "</div>"
      ],
      "text/plain": [
       "                            Generalized entropy Between groups entropy\n",
       "Direct tranfer                          0.53954               0.033557\n",
       "Instance weighting strategy            0.523193               0.032331"
      ]
     },
     "execution_count": 56,
     "metadata": {},
     "output_type": "execute_result"
    }
   ],
   "source": [
    "gen_entropy_comparison(gen_entropy_ranks_direct, gen_entropy_ranks_IWS)"
   ]
  }
 ],
 "metadata": {
  "kernelspec": {
   "display_name": "sklearn-env",
   "language": "python",
   "name": "sklearn-env"
  },
  "language_info": {
   "codemirror_mode": {
    "name": "ipython",
    "version": 3
   },
   "file_extension": ".py",
   "mimetype": "text/x-python",
   "name": "python",
   "nbconvert_exporter": "python",
   "pygments_lexer": "ipython3",
   "version": "3.11.0"
  }
 },
 "nbformat": 4,
 "nbformat_minor": 5
}

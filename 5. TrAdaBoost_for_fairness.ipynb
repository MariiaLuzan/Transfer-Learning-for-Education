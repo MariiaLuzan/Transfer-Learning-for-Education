{
 "cells": [
  {
   "cell_type": "markdown",
   "id": "24ff1bc5-ef7f-4051-9eb4-f99af7d60635",
   "metadata": {},
   "source": [
    "# Using TrAdaBoost for improving model fairness"
   ]
  },
  {
   "cell_type": "code",
   "execution_count": 1,
   "id": "f23aedb5-a95a-4503-b6a7-5f92989b49dc",
   "metadata": {
    "tags": []
   },
   "outputs": [],
   "source": [
    "import pandas as pd\n",
    "import numpy as np\n",
    "import matplotlib.pyplot as plt\n",
    "from sklearn.linear_model import LogisticRegression\n",
    "from sklearn.metrics import roc_auc_score\n",
    "from scipy.stats import kstest\n",
    "from statsmodels.distributions.empirical_distribution import ECDF\n",
    "from sklearn.model_selection import StratifiedKFold\n",
    "from sklearn.base import clone"
   ]
  },
  {
   "cell_type": "code",
   "execution_count": 2,
   "id": "bb5c11e6-43fa-4755-82d8-d44b4a2c6f63",
   "metadata": {
    "tags": []
   },
   "outputs": [],
   "source": [
    "from transformers.features_missing_vals import imputation_pipeline\n",
    "from transformers.ethnic_groups import CombineEthnicGroups"
   ]
  },
  {
   "cell_type": "code",
   "execution_count": 3,
   "id": "3a135db1-a4a2-4788-8da2-d58a6d144fa7",
   "metadata": {
    "tags": []
   },
   "outputs": [],
   "source": [
    "from transfer_learning.TrAdaBoost import TrAdaBoost\n",
    "from model_evaluation.metrics import plot_roc_curves\n",
    "from univariate.schools_comparison import plot_distribution\n",
    "from univariate.schools_comparison import plot_two_bars"
   ]
  },
  {
   "cell_type": "markdown",
   "id": "b7d63147-d694-4e34-872d-b3faa8ca164b",
   "metadata": {},
   "source": [
    "# Params"
   ]
  },
  {
   "cell_type": "code",
   "execution_count": 4,
   "id": "e5961a46-a9ab-43d2-bf23-bc7ba9f0e14d",
   "metadata": {
    "tags": []
   },
   "outputs": [],
   "source": [
    "source_school = 'ULSA'\n",
    "target_school = 'UENG'"
   ]
  },
  {
   "cell_type": "code",
   "execution_count": 5,
   "id": "4b717da7-6505-4010-b0a8-b8aebb2c6ce8",
   "metadata": {},
   "outputs": [],
   "source": [
    "# Model features for Asian students\n",
    "cols_asian = ['STDNT_FEMALE',\n",
    "              'STDNT_AGE_BIN',\n",
    "              'HS_GPA_Imp_Interp',\n",
    "              'CURR_GPA',\n",
    "              'HS_CALC_IND',\n",
    "              'GROSS_FAM_INC',\n",
    "              'SNGL_PRNT_IND',\n",
    "              #'STDNT_ETHNC_GRP_CD',\n",
    "              'SAT_ACT_TOTAL_BIN',\n",
    "              'PRNT_ED_LVL',\n",
    "              'No_grades_at_all',\n",
    "              'Grade_Overall_I_for_1_and_more_courses',\n",
    "              'Grade_W_for_1_course',\n",
    "              'Grade_W_for_2_courses',\n",
    "              'Grade_W_for_3_and_more_courses',\n",
    "              'Grade_NR_for_1_and_more_courses']"
   ]
  },
  {
   "cell_type": "code",
   "execution_count": 6,
   "id": "d8640a87-3091-4470-b30d-af7cca39e10e",
   "metadata": {
    "tags": []
   },
   "outputs": [],
   "source": [
    "# Model features for student groups other than White and Asian\n",
    "cols_other = ['STDNT_FEMALE',\n",
    "              'STDNT_AGE_BIN',\n",
    "              'HS_GPA_Imp_Interp',\n",
    "              'CURR_GPA',\n",
    "              'HS_CALC_IND',\n",
    "              'GROSS_FAM_INC',\n",
    "              'SNGL_PRNT_IND',\n",
    "              #'STDNT_ASIAN_IND',\n",
    "              'STDNT_BLACK_IND',\n",
    "              'STDNT_HSPNC_IND',\n",
    "              'STDNT_NTV_AMRCN_HWIAN_IND',\n",
    "              'STDNT_MULTI_ETHNC_IND',\n",
    "              'STDNT_ETHNC_NAN',\n",
    "              'SAT_ACT_TOTAL_BIN',\n",
    "              'PRNT_ED_LVL',\n",
    "              'No_grades_at_all',\n",
    "              'Grade_Overall_I_for_1_and_more_courses',\n",
    "              'Grade_W_for_1_course',\n",
    "              'Grade_W_for_2_courses',\n",
    "              'Grade_W_for_3_and_more_courses',\n",
    "              'Grade_NR_for_1_and_more_courses']"
   ]
  },
  {
   "cell_type": "code",
   "execution_count": 7,
   "id": "20102eb5-c3cc-4974-8602-99bc908c4130",
   "metadata": {
    "tags": []
   },
   "outputs": [],
   "source": [
    "random_state = 1"
   ]
  },
  {
   "cell_type": "code",
   "execution_count": 8,
   "id": "61247f0a-89ba-4113-b2ba-d6086dee3c7d",
   "metadata": {
    "tags": []
   },
   "outputs": [],
   "source": [
    "clf = LogisticRegression(penalty=None, random_state=random_state, max_iter=10000)"
   ]
  },
  {
   "cell_type": "markdown",
   "id": "f8fd56b4-cbe9-4b1c-9e77-ceb237538959",
   "metadata": {},
   "source": [
    "# Data"
   ]
  },
  {
   "cell_type": "code",
   "execution_count": 9,
   "id": "d07635e5-d3da-4118-b2ac-9c6300122479",
   "metadata": {
    "tags": []
   },
   "outputs": [],
   "source": [
    "features_df = pd.read_csv('features_df.csv', low_memory=False)\n",
    "source_df = features_df[features_df['PRMRY_CRER_CD']==source_school].copy()\n",
    "target_df = features_df[features_df['PRMRY_CRER_CD']==target_school].copy()\n",
    "\n",
    "# Reset target index to ensure that cross-validation indices will be accurately applied\n",
    "target_df.reset_index(drop=True, inplace=True)"
   ]
  },
  {
   "cell_type": "code",
   "execution_count": null,
   "id": "597a3aa2-3474-44e7-9415-2cd77261809c",
   "metadata": {},
   "outputs": [],
   "source": [
    "# Group together all ethnic groups, excluding white and asian populations, as they lack a sufficient \n",
    "# number of dropouts for a meaningful fairness analysis\n",
    "\n",
    "# Add new column 'STDNT_ETHNC_grouped' with the following values: 0 for white, 1 for asian, and 2 for other\n",
    "combine_transformer = CombineEthnicGroups()\n",
    "target_df = combine_transformer.fit_transform(target_df)\n",
    "\n",
    "target_df.groupby('STDNT_ETHNC_grouped')[['y_ENROLLED_1_YEAR_LATER']].agg(['count', 'sum'])"
   ]
  },
  {
   "cell_type": "code",
   "execution_count": 11,
   "id": "28455078-a021-43a5-ac95-c4f7c02e745b",
   "metadata": {
    "tags": []
   },
   "outputs": [],
   "source": [
    "# Impute missing values and apply WoE transformation for the direct transfer\n",
    "source_df = combine_transformer.fit_transform(source_df)\n",
    "source_imp = imputation_pipeline.fit_transform(source_df, source_df['y_ENROLLED_1_YEAR_LATER'])\n",
    "target_imp = imputation_pipeline.transform(target_df)"
   ]
  },
  {
   "cell_type": "markdown",
   "id": "40cea0cb-184f-4443-8714-17f56a3ab96d",
   "metadata": {},
   "source": [
    "# Model for Asian students\n",
    "The earlier analysis showed a significant difference in accuracy between the model's performance for Asian and White students, primarily due to the smaller sample size of Asian students. To address this inequality, a potential solution is to create a model specifically for Asian students. However, data limitations prevent the development of a separate model for Asian students (only 61 dropout cases in the source data for Asian students).\n",
    "\n",
    "An alternative is to apply a transfer learning approach, specifically TrAdaBoost. This method allows the usage of all data points in the source dataset, assigning lower weights to non-Asian students to better represent the characteristics of Asian students.\n",
    "\n",
    "Given the small number of Asian student dropouts in the source data (only 61 cases), testing TrAdaBoost on the source data is impractical. Instead, a possible strategy is to use a subset of Asian students from the target university data for testing.\n",
    "\n",
    "However, before proceeding, it is important to assess the similarity between Asian students in the source and target datasets. Only if they show sufficient similarity, Asian students from the target data can form a good testing sample for the TrAdaBoost model developed on the source data."
   ]
  },
  {
   "cell_type": "markdown",
   "id": "b80e4d3d-9def-4688-8851-0da61a7e0741",
   "metadata": {},
   "source": [
    "## Evaluating the similarity between Asian students in the source dataset and those in the target dataset"
   ]
  },
  {
   "cell_type": "markdown",
   "id": "954d996a-43a2-49de-9262-5ecf26982060",
   "metadata": {},
   "source": [
    "### Examining the similarity of dropout rates"
   ]
  },
  {
   "cell_type": "code",
   "execution_count": null,
   "id": "13d8b9ed-44fd-46a6-b243-7c3c0ab9c5a6",
   "metadata": {
    "tags": []
   },
   "outputs": [],
   "source": [
    "# Dropout rate for Asian students in the source dataset\n",
    "source_df.loc[source_df['STDNT_ETHNC_grouped']==1, 'y_ENROLLED_1_YEAR_LATER'].mean()"
   ]
  },
  {
   "cell_type": "code",
   "execution_count": null,
   "id": "9993a78d-9695-4209-a0df-02ddf14389ca",
   "metadata": {
    "tags": []
   },
   "outputs": [],
   "source": [
    "# Dropout rate for Asian students in the target dataset\n",
    "target_df.loc[target_df['STDNT_ETHNC_grouped']==1, 'y_ENROLLED_1_YEAR_LATER'].mean()"
   ]
  },
  {
   "cell_type": "markdown",
   "id": "5129367d-cb98-40a3-b691-04a4219bdab6",
   "metadata": {},
   "source": [
    "### Evaluating the similarity of factor distributions"
   ]
  },
  {
   "cell_type": "markdown",
   "id": "69862939-a01f-4036-97b7-ee7ee52caf39",
   "metadata": {},
   "source": [
    "#### Current GPA distribution"
   ]
  },
  {
   "cell_type": "code",
   "execution_count": null,
   "id": "ad69db07-7117-4a4b-8edd-551aedb970e9",
   "metadata": {
    "tags": []
   },
   "outputs": [],
   "source": [
    "plot_distribution(features_df[features_df['STDNT_ETHNC_GRP_CD']==4], \n",
    "                  source_school, target_school, 'CURR_GPA', 15, \n",
    "                  'Comparison of the current GPA distributions for Asian students')"
   ]
  },
  {
   "cell_type": "markdown",
   "id": "b4cf51d7-e9d8-497e-89a8-c7ddef042ac8",
   "metadata": {},
   "source": [
    "#### Parent education level"
   ]
  },
  {
   "cell_type": "code",
   "execution_count": null,
   "id": "792f85ca-725b-417e-9e9a-5cd182480984",
   "metadata": {
    "tags": []
   },
   "outputs": [],
   "source": [
    "plot_two_bars(features_df[features_df['STDNT_ETHNC_GRP_CD']==4], \n",
    "              source_school, target_school, 'PRNT_ED_LVL', \n",
    "              'Parent educational level for Asian students')"
   ]
  },
  {
   "cell_type": "markdown",
   "id": "c241acb1-00b6-49a5-852a-18d813d8b49d",
   "metadata": {},
   "source": [
    "#### Family income"
   ]
  },
  {
   "cell_type": "code",
   "execution_count": null,
   "id": "513f413f-eb40-4309-8cdc-b0b13a04826b",
   "metadata": {
    "tags": []
   },
   "outputs": [],
   "source": [
    "plot_two_bars(features_df[features_df['STDNT_ETHNC_GRP_CD']==4], \n",
    "              source_school, target_school, 'GROSS_FAM_INC', \n",
    "              'Gross family income for Asian students')"
   ]
  },
  {
   "cell_type": "markdown",
   "id": "9832c830-6f0c-4287-a523-20357798890a",
   "metadata": {},
   "source": [
    "The comparable dropout rates and similar distribution of factors make the subset of Asian students in the target set a suitable choice for testing a model developed for Asian students based on the source dataset."
   ]
  },
  {
   "cell_type": "markdown",
   "id": "33dedebf-5ddd-4d2e-9c00-01a5eebaba52",
   "metadata": {},
   "source": [
    "## Direct transfer"
   ]
  },
  {
   "cell_type": "code",
   "execution_count": 17,
   "id": "d2fe3e52-cf60-4e30-a187-67772e1c2d82",
   "metadata": {
    "tags": []
   },
   "outputs": [
    {
     "data": {
      "text/html": [
       "<style>#sk-container-id-1 {color: black;background-color: white;}#sk-container-id-1 pre{padding: 0;}#sk-container-id-1 div.sk-toggleable {background-color: white;}#sk-container-id-1 label.sk-toggleable__label {cursor: pointer;display: block;width: 100%;margin-bottom: 0;padding: 0.3em;box-sizing: border-box;text-align: center;}#sk-container-id-1 label.sk-toggleable__label-arrow:before {content: \"▸\";float: left;margin-right: 0.25em;color: #696969;}#sk-container-id-1 label.sk-toggleable__label-arrow:hover:before {color: black;}#sk-container-id-1 div.sk-estimator:hover label.sk-toggleable__label-arrow:before {color: black;}#sk-container-id-1 div.sk-toggleable__content {max-height: 0;max-width: 0;overflow: hidden;text-align: left;background-color: #f0f8ff;}#sk-container-id-1 div.sk-toggleable__content pre {margin: 0.2em;color: black;border-radius: 0.25em;background-color: #f0f8ff;}#sk-container-id-1 input.sk-toggleable__control:checked~div.sk-toggleable__content {max-height: 200px;max-width: 100%;overflow: auto;}#sk-container-id-1 input.sk-toggleable__control:checked~label.sk-toggleable__label-arrow:before {content: \"▾\";}#sk-container-id-1 div.sk-estimator input.sk-toggleable__control:checked~label.sk-toggleable__label {background-color: #d4ebff;}#sk-container-id-1 div.sk-label input.sk-toggleable__control:checked~label.sk-toggleable__label {background-color: #d4ebff;}#sk-container-id-1 input.sk-hidden--visually {border: 0;clip: rect(1px 1px 1px 1px);clip: rect(1px, 1px, 1px, 1px);height: 1px;margin: -1px;overflow: hidden;padding: 0;position: absolute;width: 1px;}#sk-container-id-1 div.sk-estimator {font-family: monospace;background-color: #f0f8ff;border: 1px dotted black;border-radius: 0.25em;box-sizing: border-box;margin-bottom: 0.5em;}#sk-container-id-1 div.sk-estimator:hover {background-color: #d4ebff;}#sk-container-id-1 div.sk-parallel-item::after {content: \"\";width: 100%;border-bottom: 1px solid gray;flex-grow: 1;}#sk-container-id-1 div.sk-label:hover label.sk-toggleable__label {background-color: #d4ebff;}#sk-container-id-1 div.sk-serial::before {content: \"\";position: absolute;border-left: 1px solid gray;box-sizing: border-box;top: 0;bottom: 0;left: 50%;z-index: 0;}#sk-container-id-1 div.sk-serial {display: flex;flex-direction: column;align-items: center;background-color: white;padding-right: 0.2em;padding-left: 0.2em;position: relative;}#sk-container-id-1 div.sk-item {position: relative;z-index: 1;}#sk-container-id-1 div.sk-parallel {display: flex;align-items: stretch;justify-content: center;background-color: white;position: relative;}#sk-container-id-1 div.sk-item::before, #sk-container-id-1 div.sk-parallel-item::before {content: \"\";position: absolute;border-left: 1px solid gray;box-sizing: border-box;top: 0;bottom: 0;left: 50%;z-index: -1;}#sk-container-id-1 div.sk-parallel-item {display: flex;flex-direction: column;z-index: 1;position: relative;background-color: white;}#sk-container-id-1 div.sk-parallel-item:first-child::after {align-self: flex-end;width: 50%;}#sk-container-id-1 div.sk-parallel-item:last-child::after {align-self: flex-start;width: 50%;}#sk-container-id-1 div.sk-parallel-item:only-child::after {width: 0;}#sk-container-id-1 div.sk-dashed-wrapped {border: 1px dashed gray;margin: 0 0.4em 0.5em 0.4em;box-sizing: border-box;padding-bottom: 0.4em;background-color: white;}#sk-container-id-1 div.sk-label label {font-family: monospace;font-weight: bold;display: inline-block;line-height: 1.2em;}#sk-container-id-1 div.sk-label-container {text-align: center;}#sk-container-id-1 div.sk-container {/* jupyter's `normalize.less` sets `[hidden] { display: none; }` but bootstrap.min.css set `[hidden] { display: none !important; }` so we also need the `!important` here to be able to override the default hidden behavior on the sphinx rendered scikit-learn.org. See: https://github.com/scikit-learn/scikit-learn/issues/21755 */display: inline-block !important;position: relative;}#sk-container-id-1 div.sk-text-repr-fallback {display: none;}</style><div id=\"sk-container-id-1\" class=\"sk-top-container\"><div class=\"sk-text-repr-fallback\"><pre>LogisticRegression(max_iter=10000, penalty=None, random_state=1)</pre><b>In a Jupyter environment, please rerun this cell to show the HTML representation or trust the notebook. <br />On GitHub, the HTML representation is unable to render, please try loading this page with nbviewer.org.</b></div><div class=\"sk-container\" hidden><div class=\"sk-item\"><div class=\"sk-estimator sk-toggleable\"><input class=\"sk-toggleable__control sk-hidden--visually\" id=\"sk-estimator-id-1\" type=\"checkbox\" checked><label for=\"sk-estimator-id-1\" class=\"sk-toggleable__label sk-toggleable__label-arrow\">LogisticRegression</label><div class=\"sk-toggleable__content\"><pre>LogisticRegression(max_iter=10000, penalty=None, random_state=1)</pre></div></div></div></div></div>"
      ],
      "text/plain": [
       "LogisticRegression(max_iter=10000, penalty=None, random_state=1)"
      ]
     },
     "execution_count": 17,
     "metadata": {},
     "output_type": "execute_result"
    }
   ],
   "source": [
    "# Fit the source model\n",
    "clf_source = clone(clf)\n",
    "clf_source.fit(source_imp[cols_asian], source_imp['y_ENROLLED_1_YEAR_LATER'])"
   ]
  },
  {
   "cell_type": "markdown",
   "id": "0be5ae93-3972-4ee1-9bf6-e27e379d5362",
   "metadata": {},
   "source": [
    "### Testing AUC on the target dataset for a subsample of Asian students"
   ]
  },
  {
   "cell_type": "code",
   "execution_count": 18,
   "id": "87d60bac-0cbe-4452-aaac-84ad38e99574",
   "metadata": {
    "tags": []
   },
   "outputs": [],
   "source": [
    "y_pred = clf_source.predict_proba(target_imp.loc[target_df['STDNT_ETHNC_grouped']==1, cols_asian])"
   ]
  },
  {
   "cell_type": "code",
   "execution_count": 19,
   "id": "628f3585-33af-42e1-839b-b3f427c7b509",
   "metadata": {
    "tags": []
   },
   "outputs": [],
   "source": [
    "# DataFrame containing true and predicted y\n",
    "df_true_predict_direct = pd.DataFrame(\n",
    "    data={'y': target_imp.loc[target_df['STDNT_ETHNC_grouped']==1, 'y_ENROLLED_1_YEAR_LATER'],\n",
    "          'y_pred': y_pred[:,1]}\n",
    ")"
   ]
  },
  {
   "cell_type": "code",
   "execution_count": 20,
   "id": "86af0bb0-32b2-4ffb-b044-640601a0e106",
   "metadata": {
    "tags": []
   },
   "outputs": [
    {
     "data": {
      "text/plain": [
       "0.7383975164282953"
      ]
     },
     "execution_count": 20,
     "metadata": {},
     "output_type": "execute_result"
    }
   ],
   "source": [
    "roc_auc_score(df_true_predict_direct['y'], df_true_predict_direct['y_pred'])"
   ]
  },
  {
   "cell_type": "markdown",
   "id": "07d688ff-3b86-4df0-87c2-1767782291d5",
   "metadata": {
    "tags": []
   },
   "source": [
    "## Using TrAdaBoost to create a model tailored specifically for Asian students\n",
    "The model for Asian students is builded using the source university dataset, with the Asian subsample serving as the target dataset and the remaining students forming the source dataset."
   ]
  },
  {
   "cell_type": "code",
   "execution_count": 21,
   "id": "10f3d566-2057-4916-84c5-ad1502100c36",
   "metadata": {
    "tags": []
   },
   "outputs": [],
   "source": [
    "clf_TrAdaBoost = clone(clf)\n",
    "TrAdaBoost_model = TrAdaBoost(estimator=clf_TrAdaBoost, max_num_iterations=10)"
   ]
  },
  {
   "cell_type": "code",
   "execution_count": 22,
   "id": "a26aab06-62b3-4c40-8737-e2f0b38835d1",
   "metadata": {
    "tags": []
   },
   "outputs": [
    {
     "data": {
      "text/html": [
       "<style>#sk-container-id-2 {color: black;background-color: white;}#sk-container-id-2 pre{padding: 0;}#sk-container-id-2 div.sk-toggleable {background-color: white;}#sk-container-id-2 label.sk-toggleable__label {cursor: pointer;display: block;width: 100%;margin-bottom: 0;padding: 0.3em;box-sizing: border-box;text-align: center;}#sk-container-id-2 label.sk-toggleable__label-arrow:before {content: \"▸\";float: left;margin-right: 0.25em;color: #696969;}#sk-container-id-2 label.sk-toggleable__label-arrow:hover:before {color: black;}#sk-container-id-2 div.sk-estimator:hover label.sk-toggleable__label-arrow:before {color: black;}#sk-container-id-2 div.sk-toggleable__content {max-height: 0;max-width: 0;overflow: hidden;text-align: left;background-color: #f0f8ff;}#sk-container-id-2 div.sk-toggleable__content pre {margin: 0.2em;color: black;border-radius: 0.25em;background-color: #f0f8ff;}#sk-container-id-2 input.sk-toggleable__control:checked~div.sk-toggleable__content {max-height: 200px;max-width: 100%;overflow: auto;}#sk-container-id-2 input.sk-toggleable__control:checked~label.sk-toggleable__label-arrow:before {content: \"▾\";}#sk-container-id-2 div.sk-estimator input.sk-toggleable__control:checked~label.sk-toggleable__label {background-color: #d4ebff;}#sk-container-id-2 div.sk-label input.sk-toggleable__control:checked~label.sk-toggleable__label {background-color: #d4ebff;}#sk-container-id-2 input.sk-hidden--visually {border: 0;clip: rect(1px 1px 1px 1px);clip: rect(1px, 1px, 1px, 1px);height: 1px;margin: -1px;overflow: hidden;padding: 0;position: absolute;width: 1px;}#sk-container-id-2 div.sk-estimator {font-family: monospace;background-color: #f0f8ff;border: 1px dotted black;border-radius: 0.25em;box-sizing: border-box;margin-bottom: 0.5em;}#sk-container-id-2 div.sk-estimator:hover {background-color: #d4ebff;}#sk-container-id-2 div.sk-parallel-item::after {content: \"\";width: 100%;border-bottom: 1px solid gray;flex-grow: 1;}#sk-container-id-2 div.sk-label:hover label.sk-toggleable__label {background-color: #d4ebff;}#sk-container-id-2 div.sk-serial::before {content: \"\";position: absolute;border-left: 1px solid gray;box-sizing: border-box;top: 0;bottom: 0;left: 50%;z-index: 0;}#sk-container-id-2 div.sk-serial {display: flex;flex-direction: column;align-items: center;background-color: white;padding-right: 0.2em;padding-left: 0.2em;position: relative;}#sk-container-id-2 div.sk-item {position: relative;z-index: 1;}#sk-container-id-2 div.sk-parallel {display: flex;align-items: stretch;justify-content: center;background-color: white;position: relative;}#sk-container-id-2 div.sk-item::before, #sk-container-id-2 div.sk-parallel-item::before {content: \"\";position: absolute;border-left: 1px solid gray;box-sizing: border-box;top: 0;bottom: 0;left: 50%;z-index: -1;}#sk-container-id-2 div.sk-parallel-item {display: flex;flex-direction: column;z-index: 1;position: relative;background-color: white;}#sk-container-id-2 div.sk-parallel-item:first-child::after {align-self: flex-end;width: 50%;}#sk-container-id-2 div.sk-parallel-item:last-child::after {align-self: flex-start;width: 50%;}#sk-container-id-2 div.sk-parallel-item:only-child::after {width: 0;}#sk-container-id-2 div.sk-dashed-wrapped {border: 1px dashed gray;margin: 0 0.4em 0.5em 0.4em;box-sizing: border-box;padding-bottom: 0.4em;background-color: white;}#sk-container-id-2 div.sk-label label {font-family: monospace;font-weight: bold;display: inline-block;line-height: 1.2em;}#sk-container-id-2 div.sk-label-container {text-align: center;}#sk-container-id-2 div.sk-container {/* jupyter's `normalize.less` sets `[hidden] { display: none; }` but bootstrap.min.css set `[hidden] { display: none !important; }` so we also need the `!important` here to be able to override the default hidden behavior on the sphinx rendered scikit-learn.org. See: https://github.com/scikit-learn/scikit-learn/issues/21755 */display: inline-block !important;position: relative;}#sk-container-id-2 div.sk-text-repr-fallback {display: none;}</style><div id=\"sk-container-id-2\" class=\"sk-top-container\"><div class=\"sk-text-repr-fallback\"><pre>TrAdaBoost(estimator=LogisticRegression(max_iter=10000, penalty=None,\n",
       "                                        random_state=1),\n",
       "           max_num_iterations=10)</pre><b>In a Jupyter environment, please rerun this cell to show the HTML representation or trust the notebook. <br />On GitHub, the HTML representation is unable to render, please try loading this page with nbviewer.org.</b></div><div class=\"sk-container\" hidden><div class=\"sk-item sk-dashed-wrapped\"><div class=\"sk-label-container\"><div class=\"sk-label sk-toggleable\"><input class=\"sk-toggleable__control sk-hidden--visually\" id=\"sk-estimator-id-2\" type=\"checkbox\" ><label for=\"sk-estimator-id-2\" class=\"sk-toggleable__label sk-toggleable__label-arrow\">TrAdaBoost</label><div class=\"sk-toggleable__content\"><pre>TrAdaBoost(estimator=LogisticRegression(max_iter=10000, penalty=None,\n",
       "                                        random_state=1),\n",
       "           max_num_iterations=10)</pre></div></div></div><div class=\"sk-parallel\"><div class=\"sk-parallel-item\"><div class=\"sk-item\"><div class=\"sk-label-container\"><div class=\"sk-label sk-toggleable\"><input class=\"sk-toggleable__control sk-hidden--visually\" id=\"sk-estimator-id-3\" type=\"checkbox\" ><label for=\"sk-estimator-id-3\" class=\"sk-toggleable__label sk-toggleable__label-arrow\">estimator: LogisticRegression</label><div class=\"sk-toggleable__content\"><pre>LogisticRegression(max_iter=10000, penalty=None, random_state=1)</pre></div></div></div><div class=\"sk-serial\"><div class=\"sk-item\"><div class=\"sk-estimator sk-toggleable\"><input class=\"sk-toggleable__control sk-hidden--visually\" id=\"sk-estimator-id-4\" type=\"checkbox\" ><label for=\"sk-estimator-id-4\" class=\"sk-toggleable__label sk-toggleable__label-arrow\">LogisticRegression</label><div class=\"sk-toggleable__content\"><pre>LogisticRegression(max_iter=10000, penalty=None, random_state=1)</pre></div></div></div></div></div></div></div></div></div></div>"
      ],
      "text/plain": [
       "TrAdaBoost(estimator=LogisticRegression(max_iter=10000, penalty=None,\n",
       "                                        random_state=1),\n",
       "           max_num_iterations=10)"
      ]
     },
     "execution_count": 22,
     "metadata": {},
     "output_type": "execute_result"
    }
   ],
   "source": [
    "TrAdaBoost_model.fit(source_imp[cols_asian], \n",
    "                     source_imp['y_ENROLLED_1_YEAR_LATER'], \n",
    "                     source_indices=source_df[source_df['STDNT_ETHNC_grouped']!=1].index) # Not Asian students indices"
   ]
  },
  {
   "cell_type": "markdown",
   "id": "4881da5a-7c64-4432-b7be-c9dad893a778",
   "metadata": {},
   "source": [
    "### Testing AUC on the target dataset for a subsample of Asian students"
   ]
  },
  {
   "cell_type": "code",
   "execution_count": 23,
   "id": "c71527f4-1560-46fe-9829-b5ec5e4a78d9",
   "metadata": {
    "tags": []
   },
   "outputs": [],
   "source": [
    "y_pred = TrAdaBoost_model.predict_proba(target_imp.loc[target_df['STDNT_ETHNC_grouped']==1, cols_asian])\n",
    "y_pred = y_pred.to_numpy()"
   ]
  },
  {
   "cell_type": "code",
   "execution_count": 24,
   "id": "29656b51-536a-4543-a3fb-569a61b6b466",
   "metadata": {
    "tags": []
   },
   "outputs": [],
   "source": [
    "# DataFrame containing true and predicted y\n",
    "df_true_predict_TrAdaBoost = pd.DataFrame(\n",
    "    data={'y': target_imp.loc[target_df['STDNT_ETHNC_grouped']==1, 'y_ENROLLED_1_YEAR_LATER'],\n",
    "          'y_pred': y_pred}\n",
    ")"
   ]
  },
  {
   "cell_type": "code",
   "execution_count": 25,
   "id": "dde96fc7-5dea-46f2-b083-d65794ddf587",
   "metadata": {
    "tags": []
   },
   "outputs": [
    {
     "data": {
      "text/plain": [
       "0.7902312040974102"
      ]
     },
     "execution_count": 25,
     "metadata": {},
     "output_type": "execute_result"
    }
   ],
   "source": [
    "roc_auc_score(df_true_predict_TrAdaBoost['y'], df_true_predict_TrAdaBoost['y_pred'])"
   ]
  },
  {
   "cell_type": "markdown",
   "id": "73c9d11c-3c9d-491a-bc2f-88692a05ce7c",
   "metadata": {},
   "source": [
    "## Comparison of ROC curves"
   ]
  },
  {
   "cell_type": "code",
   "execution_count": 26,
   "id": "6dec30b8-297b-49ea-8aff-6329c8c8f2c1",
   "metadata": {
    "tags": []
   },
   "outputs": [
    {
     "data": {
      "image/png": "[encoded data removed]",
      "text/plain": [
       "<Figure size 640x480 with 1 Axes>"
      ]
     },
     "metadata": {},
     "output_type": "display_data"
    }
   ],
   "source": [
    "plot_roc_curves(df_true_predict_direct, df_true_predict_TrAdaBoost,\n",
    "                'Model for all students\\n(developed on source data)', \n",
    "                'TrAdaBoost for Asian students\\n(developed on source data)', \n",
    "                'ROC curves estimated for Asian students in target data')"
   ]
  },
  {
   "cell_type": "markdown",
   "id": "581ec430-3d12-4ab8-b3bf-c1af69d5074d",
   "metadata": {},
   "source": [
    "# Model for other students (non-White and non-Asian students)"
   ]
  },
  {
   "cell_type": "markdown",
   "id": "c4f7ebb1-11cc-4c94-9d1c-b868ad3b58a9",
   "metadata": {},
   "source": [
    "## Evaluating the similarity between other students in the source dataset and those in the target dataset"
   ]
  },
  {
   "cell_type": "markdown",
   "id": "ade149d5-b7db-4a57-a295-12c8bf066eb8",
   "metadata": {},
   "source": [
    "### Dropout rate"
   ]
  },
  {
   "cell_type": "code",
   "execution_count": null,
   "id": "79a81e15-734b-4aae-82f9-89c89048cd17",
   "metadata": {
    "tags": []
   },
   "outputs": [],
   "source": [
    "# Dropout rate for other students in the source dataset\n",
    "source_df.loc[source_df['STDNT_ETHNC_grouped']==2, 'y_ENROLLED_1_YEAR_LATER'].mean()"
   ]
  },
  {
   "cell_type": "code",
   "execution_count": null,
   "id": "441c3e0c-e582-46f5-91d2-e2fae6660b03",
   "metadata": {
    "tags": []
   },
   "outputs": [],
   "source": [
    "# Dropout rate for other students in the target dataset\n",
    "target_df.loc[target_df['STDNT_ETHNC_grouped']==2, 'y_ENROLLED_1_YEAR_LATER'].mean()"
   ]
  },
  {
   "cell_type": "markdown",
   "id": "4677193d-eb01-48cd-be2b-9d5e6f02e1c6",
   "metadata": {},
   "source": [
    "### Distribution of ethnic groups"
   ]
  },
  {
   "cell_type": "code",
   "execution_count": 29,
   "id": "1a83ca89-e661-43c1-973d-67fddb9bf0a7",
   "metadata": {
    "tags": []
   },
   "outputs": [],
   "source": [
    "dic = {1: 'White', 2: 'Black', 3: 'Hispanic', \n",
    "       4: 'Asian', 5: 'Native Amr\\nHawaiian', 6: 'Not Indic', \n",
    "       7: 'Hawaiian', 0: '2 or More'}\n",
    "col = 'STDNT_ETHNC_GRP_CD'"
   ]
  },
  {
   "cell_type": "code",
   "execution_count": 30,
   "id": "5e019c60-6732-42a2-b6c5-a6cb7e53ddea",
   "metadata": {
    "tags": []
   },
   "outputs": [],
   "source": [
    "# Source disribution\n",
    "source_df[col] = source_df[col].map(dic)\n",
    "bar = source_df[source_df['STDNT_ETHNC_grouped']==2].groupby(col)[['y_ENROLLED_1_YEAR_LATER']].agg(['count'])\n",
    "bar.columns = bar.columns.droplevel()\n",
    "bar['count'] = bar['count'] / bar['count'].sum()\n",
    "bar=bar.loc[['Hispanic', 'Black', 'Not Indic', 'Native Amr\\nHawaiian', '2 or More']]"
   ]
  },
  {
   "cell_type": "code",
   "execution_count": 31,
   "id": "0e9c811b-be0f-40f3-b83f-c5983f8688aa",
   "metadata": {
    "tags": []
   },
   "outputs": [],
   "source": [
    "# Target distribution\n",
    "target_df[col] = target_df[col].map(dic)\n",
    "bar1 = target_df[target_df['STDNT_ETHNC_grouped']==2].groupby(col)[['y_ENROLLED_1_YEAR_LATER']].agg(['count'])\n",
    "bar1.columns = bar1.columns.droplevel()\n",
    "bar1['count'] = bar1['count'] / bar1['count'].sum()\n",
    "bar1=bar1.loc[['Hispanic', 'Black', 'Not Indic', 'Native Amr\\nHawaiian', '2 or More']]"
   ]
  },
  {
   "cell_type": "code",
   "execution_count": null,
   "id": "8d004785-7a4f-4d3f-bf10-f5a8bf5a4dc5",
   "metadata": {
    "tags": []
   },
   "outputs": [],
   "source": [
    "x_axis = np.arange(len(bar.index))\n",
    "plt.bar(x_axis-0.2, bar['count'], width=0.4, label='Source data - ULSA')\n",
    "plt.bar(x_axis+0.2, bar1['count'], width=0.4, label='Target data - UENG')\n",
    "\n",
    "plt.legend()\n",
    "plt.xticks(x_axis, bar.index)\n",
    "\n",
    "plt.title(\"Distribution of ethnic groups in student subset 'Other'\\n(non-White and non-Asian students)\", fontsize=14)\n",
    "plt.xlabel('Ethnic group', fontsize=12)\n",
    "plt.ylabel('Percent', fontsize=12);"
   ]
  },
  {
   "cell_type": "markdown",
   "id": "20ba3d4e-3ad1-4d8c-8874-d6d72d900be7",
   "metadata": {},
   "source": [
    "The difference in dropout rates and in ethnic composition of the 'other' student group between the target and source sets makes  the subset of other students in the target data unsuitable for testing the model developed for the other student group on the source dataset."
   ]
  },
  {
   "cell_type": "markdown",
   "id": "8e71281c-019a-4ba2-bdad-f62022cae37f",
   "metadata": {},
   "source": [
    "## Direct transfer"
   ]
  },
  {
   "cell_type": "code",
   "execution_count": 33,
   "id": "c7825dd4-7a51-4b4b-87a5-015578dc1a6f",
   "metadata": {
    "tags": []
   },
   "outputs": [
    {
     "data": {
      "text/html": [
       "<style>#sk-container-id-3 {color: black;background-color: white;}#sk-container-id-3 pre{padding: 0;}#sk-container-id-3 div.sk-toggleable {background-color: white;}#sk-container-id-3 label.sk-toggleable__label {cursor: pointer;display: block;width: 100%;margin-bottom: 0;padding: 0.3em;box-sizing: border-box;text-align: center;}#sk-container-id-3 label.sk-toggleable__label-arrow:before {content: \"▸\";float: left;margin-right: 0.25em;color: #696969;}#sk-container-id-3 label.sk-toggleable__label-arrow:hover:before {color: black;}#sk-container-id-3 div.sk-estimator:hover label.sk-toggleable__label-arrow:before {color: black;}#sk-container-id-3 div.sk-toggleable__content {max-height: 0;max-width: 0;overflow: hidden;text-align: left;background-color: #f0f8ff;}#sk-container-id-3 div.sk-toggleable__content pre {margin: 0.2em;color: black;border-radius: 0.25em;background-color: #f0f8ff;}#sk-container-id-3 input.sk-toggleable__control:checked~div.sk-toggleable__content {max-height: 200px;max-width: 100%;overflow: auto;}#sk-container-id-3 input.sk-toggleable__control:checked~label.sk-toggleable__label-arrow:before {content: \"▾\";}#sk-container-id-3 div.sk-estimator input.sk-toggleable__control:checked~label.sk-toggleable__label {background-color: #d4ebff;}#sk-container-id-3 div.sk-label input.sk-toggleable__control:checked~label.sk-toggleable__label {background-color: #d4ebff;}#sk-container-id-3 input.sk-hidden--visually {border: 0;clip: rect(1px 1px 1px 1px);clip: rect(1px, 1px, 1px, 1px);height: 1px;margin: -1px;overflow: hidden;padding: 0;position: absolute;width: 1px;}#sk-container-id-3 div.sk-estimator {font-family: monospace;background-color: #f0f8ff;border: 1px dotted black;border-radius: 0.25em;box-sizing: border-box;margin-bottom: 0.5em;}#sk-container-id-3 div.sk-estimator:hover {background-color: #d4ebff;}#sk-container-id-3 div.sk-parallel-item::after {content: \"\";width: 100%;border-bottom: 1px solid gray;flex-grow: 1;}#sk-container-id-3 div.sk-label:hover label.sk-toggleable__label {background-color: #d4ebff;}#sk-container-id-3 div.sk-serial::before {content: \"\";position: absolute;border-left: 1px solid gray;box-sizing: border-box;top: 0;bottom: 0;left: 50%;z-index: 0;}#sk-container-id-3 div.sk-serial {display: flex;flex-direction: column;align-items: center;background-color: white;padding-right: 0.2em;padding-left: 0.2em;position: relative;}#sk-container-id-3 div.sk-item {position: relative;z-index: 1;}#sk-container-id-3 div.sk-parallel {display: flex;align-items: stretch;justify-content: center;background-color: white;position: relative;}#sk-container-id-3 div.sk-item::before, #sk-container-id-3 div.sk-parallel-item::before {content: \"\";position: absolute;border-left: 1px solid gray;box-sizing: border-box;top: 0;bottom: 0;left: 50%;z-index: -1;}#sk-container-id-3 div.sk-parallel-item {display: flex;flex-direction: column;z-index: 1;position: relative;background-color: white;}#sk-container-id-3 div.sk-parallel-item:first-child::after {align-self: flex-end;width: 50%;}#sk-container-id-3 div.sk-parallel-item:last-child::after {align-self: flex-start;width: 50%;}#sk-container-id-3 div.sk-parallel-item:only-child::after {width: 0;}#sk-container-id-3 div.sk-dashed-wrapped {border: 1px dashed gray;margin: 0 0.4em 0.5em 0.4em;box-sizing: border-box;padding-bottom: 0.4em;background-color: white;}#sk-container-id-3 div.sk-label label {font-family: monospace;font-weight: bold;display: inline-block;line-height: 1.2em;}#sk-container-id-3 div.sk-label-container {text-align: center;}#sk-container-id-3 div.sk-container {/* jupyter's `normalize.less` sets `[hidden] { display: none; }` but bootstrap.min.css set `[hidden] { display: none !important; }` so we also need the `!important` here to be able to override the default hidden behavior on the sphinx rendered scikit-learn.org. See: https://github.com/scikit-learn/scikit-learn/issues/21755 */display: inline-block !important;position: relative;}#sk-container-id-3 div.sk-text-repr-fallback {display: none;}</style><div id=\"sk-container-id-3\" class=\"sk-top-container\"><div class=\"sk-text-repr-fallback\"><pre>LogisticRegression(max_iter=10000, penalty=None, random_state=1)</pre><b>In a Jupyter environment, please rerun this cell to show the HTML representation or trust the notebook. <br />On GitHub, the HTML representation is unable to render, please try loading this page with nbviewer.org.</b></div><div class=\"sk-container\" hidden><div class=\"sk-item\"><div class=\"sk-estimator sk-toggleable\"><input class=\"sk-toggleable__control sk-hidden--visually\" id=\"sk-estimator-id-5\" type=\"checkbox\" checked><label for=\"sk-estimator-id-5\" class=\"sk-toggleable__label sk-toggleable__label-arrow\">LogisticRegression</label><div class=\"sk-toggleable__content\"><pre>LogisticRegression(max_iter=10000, penalty=None, random_state=1)</pre></div></div></div></div></div>"
      ],
      "text/plain": [
       "LogisticRegression(max_iter=10000, penalty=None, random_state=1)"
      ]
     },
     "execution_count": 33,
     "metadata": {},
     "output_type": "execute_result"
    }
   ],
   "source": [
    "# Fit the source model\n",
    "clf_source = clone(clf)\n",
    "clf_source.fit(source_imp[cols_other], source_imp['y_ENROLLED_1_YEAR_LATER'])"
   ]
  },
  {
   "cell_type": "markdown",
   "id": "8b9ef78d-ae98-470f-9493-3050ed5d5d21",
   "metadata": {},
   "source": [
    "### Testing AUC on the target dataset for a subsample of other students"
   ]
  },
  {
   "cell_type": "code",
   "execution_count": 34,
   "id": "71955e76-0532-41ae-b387-8cb53d47c686",
   "metadata": {
    "tags": []
   },
   "outputs": [],
   "source": [
    "y_pred = clf_source.predict_proba(target_imp.loc[target_df['STDNT_ETHNC_grouped']==2, cols_other])"
   ]
  },
  {
   "cell_type": "code",
   "execution_count": 35,
   "id": "908f093f-4f58-49ba-81b3-660394074c14",
   "metadata": {
    "tags": []
   },
   "outputs": [],
   "source": [
    "# DataFrame containing true and predicted y\n",
    "df_true_predict_direct = pd.DataFrame(\n",
    "    data={'y': target_imp.loc[target_df['STDNT_ETHNC_grouped']==2, 'y_ENROLLED_1_YEAR_LATER'],\n",
    "          'y_pred': y_pred[:,1]}\n",
    ")"
   ]
  },
  {
   "cell_type": "code",
   "execution_count": 36,
   "id": "92b18724-638e-471f-b97e-bd222b85cd4d",
   "metadata": {
    "tags": []
   },
   "outputs": [
    {
     "data": {
      "text/plain": [
       "0.7857764538589782"
      ]
     },
     "execution_count": 36,
     "metadata": {},
     "output_type": "execute_result"
    }
   ],
   "source": [
    "roc_auc_score(df_true_predict_direct['y'], df_true_predict_direct['y_pred'])"
   ]
  },
  {
   "cell_type": "markdown",
   "id": "8967fd5a-3ff2-4246-a64f-20d0fd41e4d6",
   "metadata": {},
   "source": [
    "## Using TrAdaBoost to create a model tailored specifically for other students\n",
    "The model for other students is builded using the source university dataset, with the other students subsample serving as the target dataset and the remaining students forming the source dataset."
   ]
  },
  {
   "cell_type": "code",
   "execution_count": 37,
   "id": "df5369a9-e552-434a-81f8-14d4374fcb45",
   "metadata": {
    "tags": []
   },
   "outputs": [],
   "source": [
    "clf_TrAdaBoost = clone(clf)\n",
    "TrAdaBoost_model = TrAdaBoost(estimator=clf_TrAdaBoost, max_num_iterations=10)"
   ]
  },
  {
   "cell_type": "code",
   "execution_count": 38,
   "id": "d53aeefa-b59d-42e0-956f-7f5ea88350ac",
   "metadata": {
    "tags": []
   },
   "outputs": [
    {
     "data": {
      "text/html": [
       "<style>#sk-container-id-4 {color: black;background-color: white;}#sk-container-id-4 pre{padding: 0;}#sk-container-id-4 div.sk-toggleable {background-color: white;}#sk-container-id-4 label.sk-toggleable__label {cursor: pointer;display: block;width: 100%;margin-bottom: 0;padding: 0.3em;box-sizing: border-box;text-align: center;}#sk-container-id-4 label.sk-toggleable__label-arrow:before {content: \"▸\";float: left;margin-right: 0.25em;color: #696969;}#sk-container-id-4 label.sk-toggleable__label-arrow:hover:before {color: black;}#sk-container-id-4 div.sk-estimator:hover label.sk-toggleable__label-arrow:before {color: black;}#sk-container-id-4 div.sk-toggleable__content {max-height: 0;max-width: 0;overflow: hidden;text-align: left;background-color: #f0f8ff;}#sk-container-id-4 div.sk-toggleable__content pre {margin: 0.2em;color: black;border-radius: 0.25em;background-color: #f0f8ff;}#sk-container-id-4 input.sk-toggleable__control:checked~div.sk-toggleable__content {max-height: 200px;max-width: 100%;overflow: auto;}#sk-container-id-4 input.sk-toggleable__control:checked~label.sk-toggleable__label-arrow:before {content: \"▾\";}#sk-container-id-4 div.sk-estimator input.sk-toggleable__control:checked~label.sk-toggleable__label {background-color: #d4ebff;}#sk-container-id-4 div.sk-label input.sk-toggleable__control:checked~label.sk-toggleable__label {background-color: #d4ebff;}#sk-container-id-4 input.sk-hidden--visually {border: 0;clip: rect(1px 1px 1px 1px);clip: rect(1px, 1px, 1px, 1px);height: 1px;margin: -1px;overflow: hidden;padding: 0;position: absolute;width: 1px;}#sk-container-id-4 div.sk-estimator {font-family: monospace;background-color: #f0f8ff;border: 1px dotted black;border-radius: 0.25em;box-sizing: border-box;margin-bottom: 0.5em;}#sk-container-id-4 div.sk-estimator:hover {background-color: #d4ebff;}#sk-container-id-4 div.sk-parallel-item::after {content: \"\";width: 100%;border-bottom: 1px solid gray;flex-grow: 1;}#sk-container-id-4 div.sk-label:hover label.sk-toggleable__label {background-color: #d4ebff;}#sk-container-id-4 div.sk-serial::before {content: \"\";position: absolute;border-left: 1px solid gray;box-sizing: border-box;top: 0;bottom: 0;left: 50%;z-index: 0;}#sk-container-id-4 div.sk-serial {display: flex;flex-direction: column;align-items: center;background-color: white;padding-right: 0.2em;padding-left: 0.2em;position: relative;}#sk-container-id-4 div.sk-item {position: relative;z-index: 1;}#sk-container-id-4 div.sk-parallel {display: flex;align-items: stretch;justify-content: center;background-color: white;position: relative;}#sk-container-id-4 div.sk-item::before, #sk-container-id-4 div.sk-parallel-item::before {content: \"\";position: absolute;border-left: 1px solid gray;box-sizing: border-box;top: 0;bottom: 0;left: 50%;z-index: -1;}#sk-container-id-4 div.sk-parallel-item {display: flex;flex-direction: column;z-index: 1;position: relative;background-color: white;}#sk-container-id-4 div.sk-parallel-item:first-child::after {align-self: flex-end;width: 50%;}#sk-container-id-4 div.sk-parallel-item:last-child::after {align-self: flex-start;width: 50%;}#sk-container-id-4 div.sk-parallel-item:only-child::after {width: 0;}#sk-container-id-4 div.sk-dashed-wrapped {border: 1px dashed gray;margin: 0 0.4em 0.5em 0.4em;box-sizing: border-box;padding-bottom: 0.4em;background-color: white;}#sk-container-id-4 div.sk-label label {font-family: monospace;font-weight: bold;display: inline-block;line-height: 1.2em;}#sk-container-id-4 div.sk-label-container {text-align: center;}#sk-container-id-4 div.sk-container {/* jupyter's `normalize.less` sets `[hidden] { display: none; }` but bootstrap.min.css set `[hidden] { display: none !important; }` so we also need the `!important` here to be able to override the default hidden behavior on the sphinx rendered scikit-learn.org. See: https://github.com/scikit-learn/scikit-learn/issues/21755 */display: inline-block !important;position: relative;}#sk-container-id-4 div.sk-text-repr-fallback {display: none;}</style><div id=\"sk-container-id-4\" class=\"sk-top-container\"><div class=\"sk-text-repr-fallback\"><pre>TrAdaBoost(estimator=LogisticRegression(max_iter=10000, penalty=None,\n",
       "                                        random_state=1),\n",
       "           max_num_iterations=10)</pre><b>In a Jupyter environment, please rerun this cell to show the HTML representation or trust the notebook. <br />On GitHub, the HTML representation is unable to render, please try loading this page with nbviewer.org.</b></div><div class=\"sk-container\" hidden><div class=\"sk-item sk-dashed-wrapped\"><div class=\"sk-label-container\"><div class=\"sk-label sk-toggleable\"><input class=\"sk-toggleable__control sk-hidden--visually\" id=\"sk-estimator-id-6\" type=\"checkbox\" ><label for=\"sk-estimator-id-6\" class=\"sk-toggleable__label sk-toggleable__label-arrow\">TrAdaBoost</label><div class=\"sk-toggleable__content\"><pre>TrAdaBoost(estimator=LogisticRegression(max_iter=10000, penalty=None,\n",
       "                                        random_state=1),\n",
       "           max_num_iterations=10)</pre></div></div></div><div class=\"sk-parallel\"><div class=\"sk-parallel-item\"><div class=\"sk-item\"><div class=\"sk-label-container\"><div class=\"sk-label sk-toggleable\"><input class=\"sk-toggleable__control sk-hidden--visually\" id=\"sk-estimator-id-7\" type=\"checkbox\" ><label for=\"sk-estimator-id-7\" class=\"sk-toggleable__label sk-toggleable__label-arrow\">estimator: LogisticRegression</label><div class=\"sk-toggleable__content\"><pre>LogisticRegression(max_iter=10000, penalty=None, random_state=1)</pre></div></div></div><div class=\"sk-serial\"><div class=\"sk-item\"><div class=\"sk-estimator sk-toggleable\"><input class=\"sk-toggleable__control sk-hidden--visually\" id=\"sk-estimator-id-8\" type=\"checkbox\" ><label for=\"sk-estimator-id-8\" class=\"sk-toggleable__label sk-toggleable__label-arrow\">LogisticRegression</label><div class=\"sk-toggleable__content\"><pre>LogisticRegression(max_iter=10000, penalty=None, random_state=1)</pre></div></div></div></div></div></div></div></div></div></div>"
      ],
      "text/plain": [
       "TrAdaBoost(estimator=LogisticRegression(max_iter=10000, penalty=None,\n",
       "                                        random_state=1),\n",
       "           max_num_iterations=10)"
      ]
     },
     "execution_count": 38,
     "metadata": {},
     "output_type": "execute_result"
    }
   ],
   "source": [
    "TrAdaBoost_model.fit(source_imp[cols_other], \n",
    "                     source_imp['y_ENROLLED_1_YEAR_LATER'], \n",
    "                     source_indices=source_df[source_df['STDNT_ETHNC_grouped']!=2].index)"
   ]
  },
  {
   "cell_type": "markdown",
   "id": "655724eb-7337-417f-87aa-d6524922c9e8",
   "metadata": {},
   "source": [
    "### Testing AUC on the target dataset for a subsample of other students"
   ]
  },
  {
   "cell_type": "code",
   "execution_count": 39,
   "id": "4ca33473-b4c6-4b28-829e-f3883dad1239",
   "metadata": {
    "tags": []
   },
   "outputs": [],
   "source": [
    "y_pred = TrAdaBoost_model.predict_proba(target_imp.loc[target_df['STDNT_ETHNC_grouped']==2, cols_other])\n",
    "y_pred = y_pred.to_numpy()"
   ]
  },
  {
   "cell_type": "code",
   "execution_count": 40,
   "id": "dc8bfbb7-70cc-4253-b51d-fe99295456bb",
   "metadata": {
    "tags": []
   },
   "outputs": [],
   "source": [
    "# DataFrame containing true and predicted y\n",
    "df_true_predict_TrAdaBoost = pd.DataFrame(\n",
    "    data={'y': target_imp.loc[target_df['STDNT_ETHNC_grouped']==2, 'y_ENROLLED_1_YEAR_LATER'],\n",
    "          'y_pred': y_pred}\n",
    ")"
   ]
  },
  {
   "cell_type": "code",
   "execution_count": 41,
   "id": "d607600b-38fe-4ad1-b3f2-03533b5d68bc",
   "metadata": {
    "tags": []
   },
   "outputs": [
    {
     "data": {
      "text/plain": [
       "0.8115560949298813"
      ]
     },
     "execution_count": 41,
     "metadata": {},
     "output_type": "execute_result"
    }
   ],
   "source": [
    "roc_auc_score(df_true_predict_TrAdaBoost['y'], df_true_predict_TrAdaBoost['y_pred'])"
   ]
  },
  {
   "cell_type": "markdown",
   "id": "a866a84b-d686-4a98-920d-5194dad9c3e9",
   "metadata": {},
   "source": [
    "## Comparison of ROC curves"
   ]
  },
  {
   "cell_type": "code",
   "execution_count": 42,
   "id": "8f037b94-e2a6-4722-b199-ea553a7b8ce6",
   "metadata": {
    "tags": []
   },
   "outputs": [
    {
     "data": {
      "image/png": "[encoded data removed]",
      "text/plain": [
       "<Figure size 640x480 with 1 Axes>"
      ]
     },
     "metadata": {},
     "output_type": "display_data"
    }
   ],
   "source": [
    "plot_roc_curves(df_true_predict_direct, df_true_predict_TrAdaBoost,\n",
    "                'Model for all students\\n(developed on source data)', \n",
    "                \"TrAdaBoost for 'other' students\\n(developed on source data)\", \n",
    "                \"ROC curves estimated for 'other' students in target data\")"
   ]
  }
 ],
 "metadata": {
  "kernelspec": {
   "display_name": "sklearn-env",
   "language": "python",
   "name": "sklearn-env"
  },
  "language_info": {
   "codemirror_mode": {
    "name": "ipython",
    "version": 3
   },
   "file_extension": ".py",
   "mimetype": "text/x-python",
   "name": "python",
   "nbconvert_exporter": "python",
   "pygments_lexer": "ipython3",
   "version": "3.11.0"
  }
 },
 "nbformat": 4,
 "nbformat_minor": 5
}
